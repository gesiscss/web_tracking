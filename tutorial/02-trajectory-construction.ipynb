{
 "cells": [
  {
   "cell_type": "code",
   "execution_count": 5,
   "metadata": {
    "ExecuteTime": {
     "end_time": "2020-02-06T13:23:43.793381Z",
     "start_time": "2020-02-06T13:23:43.788184Z"
    }
   },
   "outputs": [],
   "source": [
    "import pandas as pd\n"
   ]
  },
  {
   "cell_type": "code",
   "execution_count": 6,
   "metadata": {
    "ExecuteTime": {
     "end_time": "2020-02-06T13:23:43.985163Z",
     "start_time": "2020-02-06T13:23:43.979513Z"
    }
   },
   "outputs": [],
   "source": [
    "from web_tracking.pre_processing.trajectories.binned_non_stationary_trajectory import BinnedNonStationaryTrajectory\n",
    "from web_tracking.pre_processing.trajectories.sequential_non_stationary_trajectory import SequentialNonStationaryTrajectory\n",
    "from web_tracking.pre_processing.trajectories.binned_stationary_trajectory import BinnedStationaryTrajectory"
   ]
  },
  {
   "cell_type": "markdown",
   "metadata": {},
   "source": [
    "# Import Pre-processed Data\n",
    "\n",
    "- Firstly, we import the pre-processed data.\n",
    "- Methods on this notebook require a pre-processed data.\n",
    "- We create three different trajectories by using these methods:\n",
    "  - Binned Non-stationary Trajectory\n",
    "  - Sequential Non-stationary Trajectory\n",
    "  - Binned Stationary Trajectory"
   ]
  },
  {
   "cell_type": "code",
   "execution_count": 7,
   "metadata": {
    "ExecuteTime": {
     "end_time": "2020-02-06T13:23:44.359175Z",
     "start_time": "2020-02-06T13:23:44.271191Z"
    }
   },
   "outputs": [
    {
     "data": {
      "text/html": [
       "<div>\n",
       "<style scoped>\n",
       "    .dataframe tbody tr th:only-of-type {\n",
       "        vertical-align: middle;\n",
       "    }\n",
       "\n",
       "    .dataframe tbody tr th {\n",
       "        vertical-align: top;\n",
       "    }\n",
       "\n",
       "    .dataframe thead th {\n",
       "        text-align: right;\n",
       "    }\n",
       "</style>\n",
       "<table border=\"1\" class=\"dataframe\">\n",
       "  <thead>\n",
       "    <tr style=\"text-align: right;\">\n",
       "      <th></th>\n",
       "      <th>uid</th>\n",
       "      <th>user</th>\n",
       "      <th>url</th>\n",
       "      <th>starts</th>\n",
       "      <th>active_seconds</th>\n",
       "      <th>domain</th>\n",
       "      <th>category</th>\n",
       "      <th>ends</th>\n",
       "      <th>gap_seconds</th>\n",
       "    </tr>\n",
       "  </thead>\n",
       "  <tbody>\n",
       "    <tr>\n",
       "      <th>0</th>\n",
       "      <td>2686</td>\n",
       "      <td>354471f893df6b8e</td>\n",
       "      <td>8f155e77c8af923f</td>\n",
       "      <td>2013-05-22 01:19:56</td>\n",
       "      <td>176</td>\n",
       "      <td>8f155e77c8af923f</td>\n",
       "      <td>05175ca42d439154</td>\n",
       "      <td>2013-05-22 01:22:52</td>\n",
       "      <td>0</td>\n",
       "    </tr>\n",
       "    <tr>\n",
       "      <th>1</th>\n",
       "      <td>2698</td>\n",
       "      <td>354471f893df6b8e</td>\n",
       "      <td>d54549e0cd7183c5</td>\n",
       "      <td>2013-05-22 01:22:52</td>\n",
       "      <td>6</td>\n",
       "      <td>8f155e77c8af923f</td>\n",
       "      <td>05175ca42d439154</td>\n",
       "      <td>2013-05-22 01:22:58</td>\n",
       "      <td>0</td>\n",
       "    </tr>\n",
       "  </tbody>\n",
       "</table>\n",
       "</div>"
      ],
      "text/plain": [
       "    uid              user               url              starts  \\\n",
       "0  2686  354471f893df6b8e  8f155e77c8af923f 2013-05-22 01:19:56   \n",
       "1  2698  354471f893df6b8e  d54549e0cd7183c5 2013-05-22 01:22:52   \n",
       "\n",
       "   active_seconds            domain          category                ends  \\\n",
       "0             176  8f155e77c8af923f  05175ca42d439154 2013-05-22 01:22:52   \n",
       "1               6  8f155e77c8af923f  05175ca42d439154 2013-05-22 01:22:58   \n",
       "\n",
       "   gap_seconds  \n",
       "0            0  \n",
       "1            0  "
      ]
     },
     "execution_count": 7,
     "metadata": {},
     "output_type": "execute_result"
    }
   ],
   "source": [
    "df_pre_processed = pd.read_csv('./data/[2]urls_pre_processed.csv', parse_dates=['starts', 'ends'])\n",
    "df_pre_processed.head(2)"
   ]
  },
  {
   "cell_type": "markdown",
   "metadata": {},
   "source": [
    "# Apply Non-stationarization\n",
    "\n",
    "- The first method helps us to create `Binned Non-stationary Trajectory`.\n",
    "- It is a trajectory with consecutively non-repeating domains.\n",
    "- To make it, we create an instance of `BinnedNonStationaryTrajectory` with pre-processed data.\n",
    "- Then we call the `create` method.\n",
    "- Finally, we would be able to see the constructed trajectory.\n",
    "- Then, we export the result."
   ]
  },
  {
   "cell_type": "code",
   "execution_count": 8,
   "metadata": {
    "ExecuteTime": {
     "end_time": "2020-02-06T13:23:45.135748Z",
     "start_time": "2020-02-06T13:23:45.131887Z"
    }
   },
   "outputs": [],
   "source": [
    "BNST = BinnedNonStationaryTrajectory(df_pre_processed)"
   ]
  },
  {
   "cell_type": "code",
   "execution_count": 13,
   "metadata": {
    "ExecuteTime": {
     "end_time": "2020-02-06T13:25:16.345202Z",
     "start_time": "2020-02-06T13:25:12.672064Z"
    }
   },
   "outputs": [],
   "source": [
    "BNST_domain, = BNST.create(features=['domain'], bin_size=60).values()"
   ]
  },
  {
   "cell_type": "code",
   "execution_count": 15,
   "metadata": {
    "ExecuteTime": {
     "end_time": "2020-02-06T13:32:47.999000Z",
     "start_time": "2020-02-06T13:32:47.972504Z"
    }
   },
   "outputs": [
    {
     "data": {
      "text/html": [
       "<div>\n",
       "<style scoped>\n",
       "    .dataframe tbody tr th:only-of-type {\n",
       "        vertical-align: middle;\n",
       "    }\n",
       "\n",
       "    .dataframe tbody tr th {\n",
       "        vertical-align: top;\n",
       "    }\n",
       "\n",
       "    .dataframe thead th {\n",
       "        text-align: right;\n",
       "    }\n",
       "</style>\n",
       "<table border=\"1\" class=\"dataframe\">\n",
       "  <thead>\n",
       "    <tr style=\"text-align: right;\">\n",
       "      <th></th>\n",
       "      <th>feat_group</th>\n",
       "      <th>uids</th>\n",
       "      <th>user</th>\n",
       "      <th>domain</th>\n",
       "    </tr>\n",
       "  </thead>\n",
       "  <tbody>\n",
       "    <tr>\n",
       "      <th>0</th>\n",
       "      <td>1</td>\n",
       "      <td>[2686, 2686, 2686, 2686, 2706, 2695, 2702, 270...</td>\n",
       "      <td>354471f893df6b8e</td>\n",
       "      <td>8f155e77c8af923f</td>\n",
       "    </tr>\n",
       "    <tr>\n",
       "      <th>1</th>\n",
       "      <td>2</td>\n",
       "      <td>[4118, 4120, 4120, 4120, 4120, 4113]</td>\n",
       "      <td>354471f893df6b8e</td>\n",
       "      <td>975af2aeb582ca21</td>\n",
       "    </tr>\n",
       "    <tr>\n",
       "      <th>2</th>\n",
       "      <td>3</td>\n",
       "      <td>[16117]</td>\n",
       "      <td>354471f893df6b8e</td>\n",
       "      <td>de005655d95fe208</td>\n",
       "    </tr>\n",
       "    <tr>\n",
       "      <th>3</th>\n",
       "      <td>4</td>\n",
       "      <td>[4115]</td>\n",
       "      <td>354471f893df6b8e</td>\n",
       "      <td>975af2aeb582ca21</td>\n",
       "    </tr>\n",
       "    <tr>\n",
       "      <th>4</th>\n",
       "      <td>5</td>\n",
       "      <td>[4579, 4579, 4579, 4579, 4580, 4580, 4580, 458...</td>\n",
       "      <td>354471f893df6b8e</td>\n",
       "      <td>3837f5e3ea677a7d</td>\n",
       "    </tr>\n",
       "    <tr>\n",
       "      <th>...</th>\n",
       "      <td>...</td>\n",
       "      <td>...</td>\n",
       "      <td>...</td>\n",
       "      <td>...</td>\n",
       "    </tr>\n",
       "    <tr>\n",
       "      <th>2121</th>\n",
       "      <td>2122</td>\n",
       "      <td>[10589, 10591]</td>\n",
       "      <td>dd3cbdd6641b85d9</td>\n",
       "      <td>29326257d3ff35ea</td>\n",
       "    </tr>\n",
       "    <tr>\n",
       "      <th>2122</th>\n",
       "      <td>2123</td>\n",
       "      <td>[11754, 11756, 11774, 11774, 11774, 11774, 117...</td>\n",
       "      <td>dd3cbdd6641b85d9</td>\n",
       "      <td>5ff45759b5f7a4ec</td>\n",
       "    </tr>\n",
       "    <tr>\n",
       "      <th>2123</th>\n",
       "      <td>2124</td>\n",
       "      <td>[10015, 10015, 10015, 10015, 10015]</td>\n",
       "      <td>dd3cbdd6641b85d9</td>\n",
       "      <td>9c5cd16538db7e31</td>\n",
       "    </tr>\n",
       "    <tr>\n",
       "      <th>2124</th>\n",
       "      <td>2125</td>\n",
       "      <td>[16645]</td>\n",
       "      <td>dd3cbdd6641b85d9</td>\n",
       "      <td>d369ec04f7e84097</td>\n",
       "    </tr>\n",
       "    <tr>\n",
       "      <th>2125</th>\n",
       "      <td>2126</td>\n",
       "      <td>[18865]</td>\n",
       "      <td>dd3cbdd6641b85d9</td>\n",
       "      <td>c289a69ff3dc9331</td>\n",
       "    </tr>\n",
       "  </tbody>\n",
       "</table>\n",
       "<p>2126 rows × 4 columns</p>\n",
       "</div>"
      ],
      "text/plain": [
       "      feat_group                                               uids  \\\n",
       "0              1  [2686, 2686, 2686, 2686, 2706, 2695, 2702, 270...   \n",
       "1              2               [4118, 4120, 4120, 4120, 4120, 4113]   \n",
       "2              3                                            [16117]   \n",
       "3              4                                             [4115]   \n",
       "4              5  [4579, 4579, 4579, 4579, 4580, 4580, 4580, 458...   \n",
       "...          ...                                                ...   \n",
       "2121        2122                                     [10589, 10591]   \n",
       "2122        2123  [11754, 11756, 11774, 11774, 11774, 11774, 117...   \n",
       "2123        2124                [10015, 10015, 10015, 10015, 10015]   \n",
       "2124        2125                                            [16645]   \n",
       "2125        2126                                            [18865]   \n",
       "\n",
       "                  user            domain  \n",
       "0     354471f893df6b8e  8f155e77c8af923f  \n",
       "1     354471f893df6b8e  975af2aeb582ca21  \n",
       "2     354471f893df6b8e  de005655d95fe208  \n",
       "3     354471f893df6b8e  975af2aeb582ca21  \n",
       "4     354471f893df6b8e  3837f5e3ea677a7d  \n",
       "...                ...               ...  \n",
       "2121  dd3cbdd6641b85d9  29326257d3ff35ea  \n",
       "2122  dd3cbdd6641b85d9  5ff45759b5f7a4ec  \n",
       "2123  dd3cbdd6641b85d9  9c5cd16538db7e31  \n",
       "2124  dd3cbdd6641b85d9  d369ec04f7e84097  \n",
       "2125  dd3cbdd6641b85d9  c289a69ff3dc9331  \n",
       "\n",
       "[2126 rows x 4 columns]"
      ]
     },
     "execution_count": 15,
     "metadata": {},
     "output_type": "execute_result"
    }
   ],
   "source": [
    "BNST_domain"
   ]
  },
  {
   "cell_type": "code",
   "execution_count": 17,
   "metadata": {
    "ExecuteTime": {
     "end_time": "2020-02-06T13:32:54.161842Z",
     "start_time": "2020-02-06T13:32:54.142690Z"
    }
   },
   "outputs": [],
   "source": [
    "BNST_domain.to_csv('./data/[3]trajectory_binned_non_stationary_domain.csv', index=False)\n",
    "# BNST_category.to_csv('./data/[3]trajectory_binned_non_stationary_category.csv', index=False)"
   ]
  },
  {
   "cell_type": "markdown",
   "metadata": {},
   "source": [
    "# Apply Sequential-Aggregation\n",
    "\n",
    "- The second method is for creating a `Sequential Non-Stationary` trajectory.\n",
    "- It is a consecutively aggregated domains based on certain conditions.\n",
    "- We create an instance of `SequentialNonStationaryTrajectory`.\n",
    "- Then, we call the `create` method with a `threshold` parameter.\n",
    "- After finishing processing, we export the result."
   ]
  },
  {
   "cell_type": "code",
   "execution_count": 18,
   "metadata": {
    "ExecuteTime": {
     "end_time": "2020-02-06T13:32:57.906808Z",
     "start_time": "2020-02-06T13:32:57.903994Z"
    }
   },
   "outputs": [],
   "source": [
    "SNST = SequentialNonStationaryTrajectory(df_pre_processed)"
   ]
  },
  {
   "cell_type": "code",
   "execution_count": 19,
   "metadata": {
    "ExecuteTime": {
     "end_time": "2020-02-06T13:33:00.883234Z",
     "start_time": "2020-02-06T13:32:58.672434Z"
    }
   },
   "outputs": [],
   "source": [
    "SNST_domain, SNST_category = SNST.create(threshold=180, features=['domain', 'category']).values()"
   ]
  },
  {
   "cell_type": "code",
   "execution_count": 20,
   "metadata": {
    "ExecuteTime": {
     "end_time": "2020-02-06T13:33:01.028802Z",
     "start_time": "2020-02-06T13:33:01.004679Z"
    }
   },
   "outputs": [
    {
     "data": {
      "text/html": [
       "<div>\n",
       "<style scoped>\n",
       "    .dataframe tbody tr th:only-of-type {\n",
       "        vertical-align: middle;\n",
       "    }\n",
       "\n",
       "    .dataframe tbody tr th {\n",
       "        vertical-align: top;\n",
       "    }\n",
       "\n",
       "    .dataframe thead th {\n",
       "        text-align: right;\n",
       "    }\n",
       "</style>\n",
       "<table border=\"1\" class=\"dataframe\">\n",
       "  <thead>\n",
       "    <tr style=\"text-align: right;\">\n",
       "      <th></th>\n",
       "      <th>feat_group</th>\n",
       "      <th>uids</th>\n",
       "      <th>user</th>\n",
       "      <th>domain</th>\n",
       "      <th>starts</th>\n",
       "      <th>ends</th>\n",
       "      <th>cumulative_active_seconds</th>\n",
       "      <th>gap_seconds</th>\n",
       "    </tr>\n",
       "  </thead>\n",
       "  <tbody>\n",
       "    <tr>\n",
       "      <th>0</th>\n",
       "      <td>1</td>\n",
       "      <td>[2686, 2698, 2700, 2704, 2706, 2684, 2695, 270...</td>\n",
       "      <td>354471f893df6b8e</td>\n",
       "      <td>8f155e77c8af923f</td>\n",
       "      <td>2013-05-22 01:19:56</td>\n",
       "      <td>2013-05-22 01:38:00</td>\n",
       "      <td>1084</td>\n",
       "      <td>0</td>\n",
       "    </tr>\n",
       "    <tr>\n",
       "      <th>1</th>\n",
       "      <td>2</td>\n",
       "      <td>[4118, 4114, 4120, 4117, 4121, 4113]</td>\n",
       "      <td>354471f893df6b8e</td>\n",
       "      <td>975af2aeb582ca21</td>\n",
       "      <td>2013-05-22 01:38:04</td>\n",
       "      <td>2013-05-22 01:45:06</td>\n",
       "      <td>422</td>\n",
       "      <td>0</td>\n",
       "    </tr>\n",
       "    <tr>\n",
       "      <th>2</th>\n",
       "      <td>3</td>\n",
       "      <td>[16117]</td>\n",
       "      <td>354471f893df6b8e</td>\n",
       "      <td>de005655d95fe208</td>\n",
       "      <td>2013-05-22 01:45:06</td>\n",
       "      <td>2013-05-22 01:45:32</td>\n",
       "      <td>26</td>\n",
       "      <td>0</td>\n",
       "    </tr>\n",
       "    <tr>\n",
       "      <th>3</th>\n",
       "      <td>4</td>\n",
       "      <td>[4116, 4115, 4119]</td>\n",
       "      <td>354471f893df6b8e</td>\n",
       "      <td>975af2aeb582ca21</td>\n",
       "      <td>2013-05-22 01:46:46</td>\n",
       "      <td>2013-05-22 01:47:32</td>\n",
       "      <td>46</td>\n",
       "      <td>0</td>\n",
       "    </tr>\n",
       "    <tr>\n",
       "      <th>4</th>\n",
       "      <td>5</td>\n",
       "      <td>[4579, 4580, 4577, 4578]</td>\n",
       "      <td>354471f893df6b8e</td>\n",
       "      <td>3837f5e3ea677a7d</td>\n",
       "      <td>2013-05-22 01:47:34</td>\n",
       "      <td>2013-05-22 02:19:23</td>\n",
       "      <td>1909</td>\n",
       "      <td>0</td>\n",
       "    </tr>\n",
       "  </tbody>\n",
       "</table>\n",
       "</div>"
      ],
      "text/plain": [
       "   feat_group                                               uids  \\\n",
       "0           1  [2686, 2698, 2700, 2704, 2706, 2684, 2695, 270...   \n",
       "1           2               [4118, 4114, 4120, 4117, 4121, 4113]   \n",
       "2           3                                            [16117]   \n",
       "3           4                                 [4116, 4115, 4119]   \n",
       "4           5                           [4579, 4580, 4577, 4578]   \n",
       "\n",
       "               user            domain              starts                ends  \\\n",
       "0  354471f893df6b8e  8f155e77c8af923f 2013-05-22 01:19:56 2013-05-22 01:38:00   \n",
       "1  354471f893df6b8e  975af2aeb582ca21 2013-05-22 01:38:04 2013-05-22 01:45:06   \n",
       "2  354471f893df6b8e  de005655d95fe208 2013-05-22 01:45:06 2013-05-22 01:45:32   \n",
       "3  354471f893df6b8e  975af2aeb582ca21 2013-05-22 01:46:46 2013-05-22 01:47:32   \n",
       "4  354471f893df6b8e  3837f5e3ea677a7d 2013-05-22 01:47:34 2013-05-22 02:19:23   \n",
       "\n",
       "   cumulative_active_seconds  gap_seconds  \n",
       "0                       1084            0  \n",
       "1                        422            0  \n",
       "2                         26            0  \n",
       "3                         46            0  \n",
       "4                       1909            0  "
      ]
     },
     "execution_count": 20,
     "metadata": {},
     "output_type": "execute_result"
    }
   ],
   "source": [
    "SNST_domain.head()"
   ]
  },
  {
   "cell_type": "code",
   "execution_count": 21,
   "metadata": {
    "ExecuteTime": {
     "end_time": "2020-02-06T13:33:01.305055Z",
     "start_time": "2020-02-06T13:33:01.127267Z"
    }
   },
   "outputs": [],
   "source": [
    "SNST_domain.to_csv('./data/[4]trajectory_sequential_non_stationary_domain.csv', index=False)\n",
    "SNST_category.to_csv('./data/[4]trajectory_sequential_non_stationary_category.csv', index=False)"
   ]
  },
  {
   "cell_type": "markdown",
   "metadata": {},
   "source": [
    "# Apply Binning\n",
    "\n",
    "- The last method provides us a `BinnedStationary` trajectory.\n",
    "- It is a trajectory where visits are equally divided into bins, so it is a kind of expansion of visit data.\n",
    "- The processing works in a similar way, creating an instance of `BinnedStationary`, and calling a method `create` with a `bin_size` parameter.\n",
    "- Lastly, we export the results for the next process."
   ]
  },
  {
   "cell_type": "code",
   "execution_count": 22,
   "metadata": {
    "ExecuteTime": {
     "end_time": "2020-02-06T13:33:01.535746Z",
     "start_time": "2020-02-06T13:33:01.530955Z"
    }
   },
   "outputs": [],
   "source": [
    "BST = BinnedStationaryTrajectory(df_pre_processed)"
   ]
  },
  {
   "cell_type": "code",
   "execution_count": 23,
   "metadata": {
    "ExecuteTime": {
     "end_time": "2020-02-06T13:33:08.237359Z",
     "start_time": "2020-02-06T13:33:04.176796Z"
    }
   },
   "outputs": [],
   "source": [
    "BST_traj = BST.create(bin_size=60)"
   ]
  },
  {
   "cell_type": "code",
   "execution_count": 14,
   "metadata": {
    "ExecuteTime": {
     "end_time": "2020-01-23T10:20:09.964819Z",
     "start_time": "2020-01-23T10:20:09.948606Z"
    }
   },
   "outputs": [
    {
     "data": {
      "text/html": [
       "<div>\n",
       "<style scoped>\n",
       "    .dataframe tbody tr th:only-of-type {\n",
       "        vertical-align: middle;\n",
       "    }\n",
       "\n",
       "    .dataframe tbody tr th {\n",
       "        vertical-align: top;\n",
       "    }\n",
       "\n",
       "    .dataframe thead th {\n",
       "        text-align: right;\n",
       "    }\n",
       "</style>\n",
       "<table border=\"1\" class=\"dataframe\">\n",
       "  <thead>\n",
       "    <tr style=\"text-align: right;\">\n",
       "      <th></th>\n",
       "      <th>user</th>\n",
       "      <th>uid</th>\n",
       "      <th>bin</th>\n",
       "      <th>seconds</th>\n",
       "      <th>share</th>\n",
       "      <th>domain</th>\n",
       "      <th>category</th>\n",
       "    </tr>\n",
       "  </thead>\n",
       "  <tbody>\n",
       "    <tr>\n",
       "      <th>0</th>\n",
       "      <td>354471f893df6b8e</td>\n",
       "      <td>2686</td>\n",
       "      <td>2959</td>\n",
       "      <td>10</td>\n",
       "      <td>0.166667</td>\n",
       "      <td>8f155e77c8af923f</td>\n",
       "      <td>05175ca42d439154</td>\n",
       "    </tr>\n",
       "    <tr>\n",
       "      <th>1</th>\n",
       "      <td>354471f893df6b8e</td>\n",
       "      <td>2686</td>\n",
       "      <td>2960</td>\n",
       "      <td>60</td>\n",
       "      <td>1.000000</td>\n",
       "      <td>8f155e77c8af923f</td>\n",
       "      <td>05175ca42d439154</td>\n",
       "    </tr>\n",
       "    <tr>\n",
       "      <th>2</th>\n",
       "      <td>354471f893df6b8e</td>\n",
       "      <td>2686</td>\n",
       "      <td>2961</td>\n",
       "      <td>60</td>\n",
       "      <td>1.000000</td>\n",
       "      <td>8f155e77c8af923f</td>\n",
       "      <td>05175ca42d439154</td>\n",
       "    </tr>\n",
       "    <tr>\n",
       "      <th>3</th>\n",
       "      <td>354471f893df6b8e</td>\n",
       "      <td>2686</td>\n",
       "      <td>2962</td>\n",
       "      <td>46</td>\n",
       "      <td>0.766667</td>\n",
       "      <td>8f155e77c8af923f</td>\n",
       "      <td>05175ca42d439154</td>\n",
       "    </tr>\n",
       "    <tr>\n",
       "      <th>4</th>\n",
       "      <td>354471f893df6b8e</td>\n",
       "      <td>2706</td>\n",
       "      <td>2963</td>\n",
       "      <td>34</td>\n",
       "      <td>0.566667</td>\n",
       "      <td>8f155e77c8af923f</td>\n",
       "      <td>05175ca42d439154</td>\n",
       "    </tr>\n",
       "  </tbody>\n",
       "</table>\n",
       "</div>"
      ],
      "text/plain": [
       "               user   uid   bin  seconds     share            domain  \\\n",
       "0  354471f893df6b8e  2686  2959       10  0.166667  8f155e77c8af923f   \n",
       "1  354471f893df6b8e  2686  2960       60  1.000000  8f155e77c8af923f   \n",
       "2  354471f893df6b8e  2686  2961       60  1.000000  8f155e77c8af923f   \n",
       "3  354471f893df6b8e  2686  2962       46  0.766667  8f155e77c8af923f   \n",
       "4  354471f893df6b8e  2706  2963       34  0.566667  8f155e77c8af923f   \n",
       "\n",
       "           category  \n",
       "0  05175ca42d439154  \n",
       "1  05175ca42d439154  \n",
       "2  05175ca42d439154  \n",
       "3  05175ca42d439154  \n",
       "4  05175ca42d439154  "
      ]
     },
     "execution_count": 14,
     "metadata": {},
     "output_type": "execute_result"
    }
   ],
   "source": [
    "BST.df.head()"
   ]
  },
  {
   "cell_type": "code",
   "execution_count": 15,
   "metadata": {
    "ExecuteTime": {
     "end_time": "2020-01-23T10:20:25.284168Z",
     "start_time": "2020-01-23T10:20:25.180460Z"
    }
   },
   "outputs": [],
   "source": [
    "BST_traj.to_csv('./data/[5]trajectory_binned_stationary.csv', index=False)"
   ]
  }
 ],
 "metadata": {
  "file_extension": ".py",
  "hide_input": false,
  "kernelspec": {
   "display_name": "Python 3",
   "language": "python",
   "name": "python3"
  },
  "language_info": {
   "codemirror_mode": {
    "name": "ipython",
    "version": 3
   },
   "file_extension": ".py",
   "mimetype": "text/x-python",
   "name": "python",
   "nbconvert_exporter": "python",
   "pygments_lexer": "ipython3",
   "version": "3.7.7"
  },
  "mimetype": "text/x-python",
  "name": "python",
  "npconvert_exporter": "python",
  "pygments_lexer": "ipython3",
  "toc": {
   "base_numbering": 1,
   "nav_menu": {},
   "number_sections": true,
   "sideBar": true,
   "skip_h1_title": false,
   "title_cell": "Table of Contents",
   "title_sidebar": "Contents",
   "toc_cell": false,
   "toc_position": {},
   "toc_section_display": true,
   "toc_window_display": true
  },
  "varInspector": {
   "cols": {
    "lenName": 16,
    "lenType": 16,
    "lenVar": 40
   },
   "kernels_config": {
    "python": {
     "delete_cmd_postfix": "",
     "delete_cmd_prefix": "del ",
     "library": "var_list.py",
     "varRefreshCmd": "print(var_dic_list())"
    },
    "r": {
     "delete_cmd_postfix": ") ",
     "delete_cmd_prefix": "rm(",
     "library": "var_list.r",
     "varRefreshCmd": "cat(var_dic_list()) "
    }
   },
   "types_to_exclude": [
    "module",
    "function",
    "builtin_function_or_method",
    "instance",
    "_Feature"
   ],
   "window_display": false
  },
  "version": 3
 },
 "nbformat": 4,
 "nbformat_minor": 2
}
