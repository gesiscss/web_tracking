{
 "cells": [
  {
   "cell_type": "code",
   "execution_count": 1,
   "metadata": {
    "ExecuteTime": {
     "end_time": "2019-11-28T10:05:58.414717Z",
     "start_time": "2019-11-28T10:05:58.052163Z"
    }
   },
   "outputs": [],
   "source": [
    "import pandas as pd\n",
    "import sys\n",
    "sys.path.append('../')"
   ]
  },
  {
   "cell_type": "code",
   "execution_count": 2,
   "metadata": {
    "ExecuteTime": {
     "end_time": "2019-11-28T10:05:58.480126Z",
     "start_time": "2019-11-28T10:05:58.446203Z"
    }
   },
   "outputs": [],
   "source": [
    "from web_tracking.pre_processing.raw_data_processor import RawDataProcessor"
   ]
  },
  {
   "cell_type": "markdown",
   "metadata": {},
   "source": [
    "# Raw Data\n",
    "\n",
    "- We have a raw data which imitates the web browsing data.\n",
    "- It has simply following columns."
   ]
  },
  {
   "cell_type": "code",
   "execution_count": 4,
   "metadata": {
    "ExecuteTime": {
     "end_time": "2019-11-28T10:15:42.499889Z",
     "start_time": "2019-11-28T10:15:42.423138Z"
    }
   },
   "outputs": [],
   "source": [
    "raw = pd.read_csv('./data/[1]urls_raw.csv', parse_dates=['used_at'])"
   ]
  },
  {
   "cell_type": "code",
   "execution_count": 5,
   "metadata": {
    "ExecuteTime": {
     "end_time": "2019-11-28T10:15:42.735592Z",
     "start_time": "2019-11-28T10:15:42.709289Z"
    }
   },
   "outputs": [
    {
     "data": {
      "text/html": [
       "<div>\n",
       "<style scoped>\n",
       "    .dataframe tbody tr th:only-of-type {\n",
       "        vertical-align: middle;\n",
       "    }\n",
       "\n",
       "    .dataframe tbody tr th {\n",
       "        vertical-align: top;\n",
       "    }\n",
       "\n",
       "    .dataframe thead th {\n",
       "        text-align: right;\n",
       "    }\n",
       "</style>\n",
       "<table border=\"1\" class=\"dataframe\">\n",
       "  <thead>\n",
       "    <tr style=\"text-align: right;\">\n",
       "      <th></th>\n",
       "      <th>id</th>\n",
       "      <th>panelist_id</th>\n",
       "      <th>url</th>\n",
       "      <th>used_at</th>\n",
       "      <th>active_seconds</th>\n",
       "      <th>domain</th>\n",
       "      <th>category</th>\n",
       "    </tr>\n",
       "  </thead>\n",
       "  <tbody>\n",
       "    <tr>\n",
       "      <th>0</th>\n",
       "      <td>1</td>\n",
       "      <td>b1dcb5d717657d39</td>\n",
       "      <td>445c11bdc8c03a86</td>\n",
       "      <td>2013-05-24 08:19:06</td>\n",
       "      <td>70</td>\n",
       "      <td>306bf00500f76b05</td>\n",
       "      <td>234f5b297d040799</td>\n",
       "    </tr>\n",
       "    <tr>\n",
       "      <th>1</th>\n",
       "      <td>2</td>\n",
       "      <td>b1dcb5d717657d39</td>\n",
       "      <td>445c11bdc8c03a86</td>\n",
       "      <td>2013-05-24 09:15:02</td>\n",
       "      <td>30</td>\n",
       "      <td>306bf00500f76b05</td>\n",
       "      <td>234f5b297d040799</td>\n",
       "    </tr>\n",
       "    <tr>\n",
       "      <th>2</th>\n",
       "      <td>3</td>\n",
       "      <td>b1dcb5d717657d39</td>\n",
       "      <td>445c11bdc8c03a86</td>\n",
       "      <td>2013-05-24 08:35:26</td>\n",
       "      <td>26</td>\n",
       "      <td>306bf00500f76b05</td>\n",
       "      <td>234f5b297d040799</td>\n",
       "    </tr>\n",
       "    <tr>\n",
       "      <th>3</th>\n",
       "      <td>4</td>\n",
       "      <td>b1dcb5d717657d39</td>\n",
       "      <td>445c11bdc8c03a86</td>\n",
       "      <td>2013-05-24 09:15:56</td>\n",
       "      <td>6</td>\n",
       "      <td>306bf00500f76b05</td>\n",
       "      <td>234f5b297d040799</td>\n",
       "    </tr>\n",
       "    <tr>\n",
       "      <th>4</th>\n",
       "      <td>5</td>\n",
       "      <td>b1dcb5d717657d39</td>\n",
       "      <td>445c11bdc8c03a86</td>\n",
       "      <td>2013-05-24 08:29:10</td>\n",
       "      <td>38</td>\n",
       "      <td>306bf00500f76b05</td>\n",
       "      <td>234f5b297d040799</td>\n",
       "    </tr>\n",
       "  </tbody>\n",
       "</table>\n",
       "</div>"
      ],
      "text/plain": [
       "   id       panelist_id               url             used_at  active_seconds  \\\n",
       "0   1  b1dcb5d717657d39  445c11bdc8c03a86 2013-05-24 08:19:06              70   \n",
       "1   2  b1dcb5d717657d39  445c11bdc8c03a86 2013-05-24 09:15:02              30   \n",
       "2   3  b1dcb5d717657d39  445c11bdc8c03a86 2013-05-24 08:35:26              26   \n",
       "3   4  b1dcb5d717657d39  445c11bdc8c03a86 2013-05-24 09:15:56               6   \n",
       "4   5  b1dcb5d717657d39  445c11bdc8c03a86 2013-05-24 08:29:10              38   \n",
       "\n",
       "             domain          category  \n",
       "0  306bf00500f76b05  234f5b297d040799  \n",
       "1  306bf00500f76b05  234f5b297d040799  \n",
       "2  306bf00500f76b05  234f5b297d040799  \n",
       "3  306bf00500f76b05  234f5b297d040799  \n",
       "4  306bf00500f76b05  234f5b297d040799  "
      ]
     },
     "execution_count": 5,
     "metadata": {},
     "output_type": "execute_result"
    }
   ],
   "source": [
    "raw.head()"
   ]
  },
  {
   "cell_type": "markdown",
   "metadata": {},
   "source": [
    "# Pre-Process\n",
    "\n",
    "- In order to start we create and an instance of `RawDataProcessor`, give the raw data as parameter.\n",
    "- Then, we call the `create_time_series` method, so it maps to existing columns to our data model."
   ]
  },
  {
   "cell_type": "code",
   "execution_count": 6,
   "metadata": {
    "ExecuteTime": {
     "end_time": "2019-11-28T10:15:43.244104Z",
     "start_time": "2019-11-28T10:15:43.238839Z"
    }
   },
   "outputs": [],
   "source": [
    "RDP = RawDataProcessor(raw)"
   ]
  },
  {
   "cell_type": "code",
   "execution_count": 7,
   "metadata": {
    "ExecuteTime": {
     "end_time": "2019-11-28T10:15:44.219828Z",
     "start_time": "2019-11-28T10:15:43.552949Z"
    }
   },
   "outputs": [],
   "source": [
    "RDP.create_time_series(uid='id', \n",
    "                       user='panelist_id', \n",
    "                       url='url', \n",
    "                       domain='domain', \n",
    "                       category='category', \n",
    "                       starts='used_at', \n",
    "                       active_seconds='active_seconds')"
   ]
  },
  {
   "cell_type": "code",
   "execution_count": 8,
   "metadata": {
    "ExecuteTime": {
     "end_time": "2019-11-28T10:15:44.719330Z",
     "start_time": "2019-11-28T10:15:44.694044Z"
    }
   },
   "outputs": [
    {
     "data": {
      "text/html": [
       "<div>\n",
       "<style scoped>\n",
       "    .dataframe tbody tr th:only-of-type {\n",
       "        vertical-align: middle;\n",
       "    }\n",
       "\n",
       "    .dataframe tbody tr th {\n",
       "        vertical-align: top;\n",
       "    }\n",
       "\n",
       "    .dataframe thead th {\n",
       "        text-align: right;\n",
       "    }\n",
       "</style>\n",
       "<table border=\"1\" class=\"dataframe\">\n",
       "  <thead>\n",
       "    <tr style=\"text-align: right;\">\n",
       "      <th></th>\n",
       "      <th>uid</th>\n",
       "      <th>user</th>\n",
       "      <th>url</th>\n",
       "      <th>starts</th>\n",
       "      <th>active_seconds</th>\n",
       "      <th>domain</th>\n",
       "      <th>category</th>\n",
       "      <th>ends</th>\n",
       "      <th>gap_seconds</th>\n",
       "    </tr>\n",
       "  </thead>\n",
       "  <tbody>\n",
       "    <tr>\n",
       "      <th>2685</th>\n",
       "      <td>2686</td>\n",
       "      <td>354471f893df6b8e</td>\n",
       "      <td>8f155e77c8af923f</td>\n",
       "      <td>2013-05-22 01:19:56</td>\n",
       "      <td>176</td>\n",
       "      <td>8f155e77c8af923f</td>\n",
       "      <td>05175ca42d439154</td>\n",
       "      <td>2013-05-22 01:22:52</td>\n",
       "      <td>0</td>\n",
       "    </tr>\n",
       "    <tr>\n",
       "      <th>2697</th>\n",
       "      <td>2698</td>\n",
       "      <td>354471f893df6b8e</td>\n",
       "      <td>d54549e0cd7183c5</td>\n",
       "      <td>2013-05-22 01:22:52</td>\n",
       "      <td>6</td>\n",
       "      <td>8f155e77c8af923f</td>\n",
       "      <td>05175ca42d439154</td>\n",
       "      <td>2013-05-22 01:22:58</td>\n",
       "      <td>0</td>\n",
       "    </tr>\n",
       "    <tr>\n",
       "      <th>2699</th>\n",
       "      <td>2700</td>\n",
       "      <td>354471f893df6b8e</td>\n",
       "      <td>8f155e77c8af923f</td>\n",
       "      <td>2013-05-22 01:22:58</td>\n",
       "      <td>28</td>\n",
       "      <td>8f155e77c8af923f</td>\n",
       "      <td>05175ca42d439154</td>\n",
       "      <td>2013-05-22 01:23:26</td>\n",
       "      <td>0</td>\n",
       "    </tr>\n",
       "    <tr>\n",
       "      <th>2703</th>\n",
       "      <td>2704</td>\n",
       "      <td>354471f893df6b8e</td>\n",
       "      <td>cc527ffdc8e74d14</td>\n",
       "      <td>2013-05-22 01:23:26</td>\n",
       "      <td>6</td>\n",
       "      <td>8f155e77c8af923f</td>\n",
       "      <td>05175ca42d439154</td>\n",
       "      <td>2013-05-22 01:23:32</td>\n",
       "      <td>0</td>\n",
       "    </tr>\n",
       "    <tr>\n",
       "      <th>2705</th>\n",
       "      <td>2706</td>\n",
       "      <td>354471f893df6b8e</td>\n",
       "      <td>8f155e77c8af923f</td>\n",
       "      <td>2013-05-22 01:23:32</td>\n",
       "      <td>38</td>\n",
       "      <td>8f155e77c8af923f</td>\n",
       "      <td>05175ca42d439154</td>\n",
       "      <td>2013-05-22 01:24:10</td>\n",
       "      <td>0</td>\n",
       "    </tr>\n",
       "  </tbody>\n",
       "</table>\n",
       "</div>"
      ],
      "text/plain": [
       "       uid              user               url              starts  \\\n",
       "2685  2686  354471f893df6b8e  8f155e77c8af923f 2013-05-22 01:19:56   \n",
       "2697  2698  354471f893df6b8e  d54549e0cd7183c5 2013-05-22 01:22:52   \n",
       "2699  2700  354471f893df6b8e  8f155e77c8af923f 2013-05-22 01:22:58   \n",
       "2703  2704  354471f893df6b8e  cc527ffdc8e74d14 2013-05-22 01:23:26   \n",
       "2705  2706  354471f893df6b8e  8f155e77c8af923f 2013-05-22 01:23:32   \n",
       "\n",
       "      active_seconds            domain          category                ends  \\\n",
       "2685             176  8f155e77c8af923f  05175ca42d439154 2013-05-22 01:22:52   \n",
       "2697               6  8f155e77c8af923f  05175ca42d439154 2013-05-22 01:22:58   \n",
       "2699              28  8f155e77c8af923f  05175ca42d439154 2013-05-22 01:23:26   \n",
       "2703               6  8f155e77c8af923f  05175ca42d439154 2013-05-22 01:23:32   \n",
       "2705              38  8f155e77c8af923f  05175ca42d439154 2013-05-22 01:24:10   \n",
       "\n",
       "      gap_seconds  \n",
       "2685            0  \n",
       "2697            0  \n",
       "2699            0  \n",
       "2703            0  \n",
       "2705            0  "
      ]
     },
     "execution_count": 8,
     "metadata": {},
     "output_type": "execute_result"
    }
   ],
   "source": [
    "RDP.df.head()"
   ]
  },
  {
   "cell_type": "markdown",
   "metadata": {},
   "source": [
    "# Export\n",
    "\n",
    "- Lastly, we export the processed data as csv for the further actions."
   ]
  },
  {
   "cell_type": "code",
   "execution_count": 1,
   "metadata": {
    "ExecuteTime": {
     "end_time": "2020-02-06T10:36:24.955860Z",
     "start_time": "2020-02-06T10:36:24.809583Z"
    }
   },
   "outputs": [
    {
     "ename": "NameError",
     "evalue": "name 'RDP' is not defined",
     "output_type": "error",
     "traceback": [
      "\u001b[0;31m---------------------------------------------------------------------------\u001b[0m",
      "\u001b[0;31mNameError\u001b[0m                                 Traceback (most recent call last)",
      "\u001b[0;32m<ipython-input-1-ede45d541c3a>\u001b[0m in \u001b[0;36m<module>\u001b[0;34m\u001b[0m\n\u001b[0;32m----> 1\u001b[0;31m \u001b[0mRDP\u001b[0m\u001b[0;34m.\u001b[0m\u001b[0mdf\u001b[0m\u001b[0;34m.\u001b[0m\u001b[0mto_csv\u001b[0m\u001b[0;34m(\u001b[0m\u001b[0;34m'/bigdata/web_tracking/web_tracking_multi_country/pre-processed/GER-all-pre-processed.csv'\u001b[0m\u001b[0;34m,\u001b[0m \u001b[0mindex\u001b[0m\u001b[0;34m=\u001b[0m\u001b[0;32mFalse\u001b[0m\u001b[0;34m)\u001b[0m\u001b[0;34m\u001b[0m\u001b[0;34m\u001b[0m\u001b[0m\n\u001b[0m",
      "\u001b[0;31mNameError\u001b[0m: name 'RDP' is not defined"
     ]
    }
   ],
   "source": [
    "RDP.df.to_csv('./data/[2]urls_pre_processed.csv', index=False)"
   ]
  }
 ],
 "metadata": {
  "file_extension": ".py",
  "hide_input": false,
  "kernelspec": {
   "display_name": "Python 3",
   "language": "python",
   "name": "python3"
  },
  "language_info": {
   "codemirror_mode": {
    "name": "ipython",
    "version": 3
   },
   "file_extension": ".py",
   "mimetype": "text/x-python",
   "name": "python",
   "nbconvert_exporter": "python",
   "pygments_lexer": "ipython3",
   "version": "3.6.9"
  },
  "mimetype": "text/x-python",
  "name": "python",
  "npconvert_exporter": "python",
  "pygments_lexer": "ipython3",
  "toc": {
   "base_numbering": 1,
   "nav_menu": {},
   "number_sections": true,
   "sideBar": true,
   "skip_h1_title": false,
   "title_cell": "Table of Contents",
   "title_sidebar": "Contents",
   "toc_cell": false,
   "toc_position": {},
   "toc_section_display": true,
   "toc_window_display": false
  },
  "varInspector": {
   "cols": {
    "lenName": 16,
    "lenType": 16,
    "lenVar": 40
   },
   "kernels_config": {
    "python": {
     "delete_cmd_postfix": "",
     "delete_cmd_prefix": "del ",
     "library": "var_list.py",
     "varRefreshCmd": "print(var_dic_list())"
    },
    "r": {
     "delete_cmd_postfix": ") ",
     "delete_cmd_prefix": "rm(",
     "library": "var_list.r",
     "varRefreshCmd": "cat(var_dic_list()) "
    }
   },
   "types_to_exclude": [
    "module",
    "function",
    "builtin_function_or_method",
    "instance",
    "_Feature"
   ],
   "window_display": false
  },
  "version": 3
 },
 "nbformat": 4,
 "nbformat_minor": 2
}
