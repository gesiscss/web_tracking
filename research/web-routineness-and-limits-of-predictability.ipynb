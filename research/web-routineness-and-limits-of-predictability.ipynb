{
 "cells": [
  {
   "cell_type": "markdown",
   "metadata": {},
   "source": [
    "# Import libraries"
   ]
  },
  {
   "cell_type": "code",
   "execution_count": 1,
   "metadata": {
    "ExecuteTime": {
     "end_time": "2020-05-27T10:58:24.440442Z",
     "start_time": "2020-05-27T10:58:19.418727Z"
    }
   },
   "outputs": [],
   "source": [
    "from datetime import timedelta\n",
    "from functools import partial, reduce\n",
    "from itertools import combinations, count, chain\n",
    "from math import ceil\n",
    "from multiprocessing import cpu_count\n",
    "\n",
    "import matplotlib as mpl\n",
    "import matplotlib.pyplot as plt\n",
    "import matplotlib.ticker as ticker\n",
    "import pandas as pd\n",
    "import scipy.stats as st\n",
    "from scipy.stats import ks_2samp\n",
    "\n",
    "from libs.web_tracking.facades.analysis import Analysis\n",
    "from libs.web_tracking.measures.entropy import Entropy\n",
    "from libs.web_tracking.measures.entropy_rate import EntropyRate\n",
    "from libs.web_tracking.measures.predictability import Predictability\n",
    "from libs.web_tracking.pre_processing.raw_data_processor import \\\n",
    "    RawDataProcessor\n",
    "from libs.web_tracking.pre_processing.trajectories.binned_non_stationary_trajectory import \\\n",
    "    BinnedNonStationaryTrajectory\n",
    "from libs.web_tracking.pre_processing.trajectories.binned_stationary_trajectory import \\\n",
    "    BinnedStationaryTrajectory\n",
    "from libs.web_tracking.pre_processing.trajectories.sequential_non_stationary_trajectory import \\\n",
    "    SequentialNonStationaryTrajectory\n",
    "from scripts.helpers import construct_subplot_axes"
   ]
  },
  {
   "cell_type": "markdown",
   "metadata": {},
   "source": [
    "# Constants"
   ]
  },
  {
   "cell_type": "code",
   "execution_count": 2,
   "metadata": {
    "ExecuteTime": {
     "end_time": "2020-05-27T10:58:25.228387Z",
     "start_time": "2020-05-27T10:58:25.203475Z"
    }
   },
   "outputs": [],
   "source": [
    "# mpl.style.use('v2.0')\n",
    "## line width frame\n",
    "mpl.rcParams['figure.figsize']=(3.3, 2)\n",
    "mpl.rcParams['axes.linewidth'] = 1.5\n",
    "mpl.rcParams['patch.linewidth'] = 2\n",
    "mpl.rcParams['grid.linewidth'] = 0.5\n",
    "mpl.rcParams['grid.linestyle'] = ':'\n",
    "mpl.rcParams['grid.color'] = 'black'\n",
    "# mpl.rcParams['text.fontsize'] = 10\n",
    "mpl.rcParams['legend.fontsize'] = 8\n",
    "mpl.rcParams['xtick.labelsize'] = 8\n",
    "mpl.rcParams['ytick.labelsize'] = 8\n",
    "# xticks\n",
    "mpl.rcParams['xtick.major.size'] = 4\n",
    "mpl.rcParams['xtick.minor.size'] = 2\n",
    "mpl.rcParams['ytick.major.size'] = 4\n",
    "mpl.rcParams['ytick.minor.size'] = 2\n",
    "mpl.rcParams['xtick.major.width'] = 1\n",
    "mpl.rcParams['ytick.major.width'] = 1\n",
    "mpl.rcParams['xtick.minor.width'] = 1\n",
    "mpl.rcParams['ytick.minor.width'] = 1\n",
    "mpl.rcParams['axes.labelsize'] = 10\n",
    "mpl.rcParams['axes.labelpad'] = 4\n",
    "mpl.rcParams['backend'] = 'ps'\n",
    "mpl.rcParams['xtick.major.pad'] = 4\n",
    "mpl.rcParams['ytick.major.pad'] = 4\n",
    "plt.rc('font', **{'family': 'sans-serif', 'sans-serif': ['Arial']})\n",
    "params = {'mathtext.default': 'sf'}\n",
    "plt.rc('figure', facecolor='w')\n",
    "plt.rcParams.update(params)"
   ]
  },
  {
   "cell_type": "code",
   "execution_count": 3,
   "metadata": {
    "ExecuteTime": {
     "end_time": "2020-05-27T10:58:27.189516Z",
     "start_time": "2020-05-27T10:58:27.183773Z"
    }
   },
   "outputs": [],
   "source": [
    "LINE_STYLES =['-',  ':', '-.', (0, (3, 1, 1, 1, 1, 1)), '--']"
   ]
  },
  {
   "cell_type": "markdown",
   "metadata": {},
   "source": [
    "# Variables"
   ]
  },
  {
   "cell_type": "code",
   "execution_count": 4,
   "metadata": {
    "ExecuteTime": {
     "end_time": "2020-05-27T10:58:29.130109Z",
     "start_time": "2020-05-27T10:58:29.125285Z"
    }
   },
   "outputs": [],
   "source": [
    "analysis = Analysis()"
   ]
  },
  {
   "cell_type": "code",
   "execution_count": 5,
   "metadata": {
    "ExecuteTime": {
     "end_time": "2020-05-27T11:09:00.566545Z",
     "start_time": "2020-05-27T10:58:31.741111Z"
    }
   },
   "outputs": [],
   "source": [
    "# processed data\n",
    "processed = pd \\\n",
    "        .read_csv(\n",
    "            '/bigdata/web_tracking/data/pre-processed/urls-v5.csv', \n",
    "            dtype={'id': int, 'panelist_id': int, 'prev_id': int}, \n",
    "            parse_dates=['used_at', 'left_at'],\n",
    "            converters={\n",
    "                'category_names'    : lambda text: None if pd.isnull(text) else tuple(text.split(',')),\n",
    "                'category_names_top': lambda text: None if pd.isnull(text) or text == '' else tuple(text.split(',')),\n",
    "                'category_names_sub': lambda text: None if pd.isnull(text) or text == '' else tuple(text.split(',')),\n",
    "            }\n",
    "        )\n",
    "\n",
    "\n",
    "RDP  = RawDataProcessor(processed)\n",
    "RDP.create_time_series(uid='id', \n",
    "                       user='panelist_id', \n",
    "                       url='url', \n",
    "                       domain='domain', \n",
    "                       category='category', \n",
    "                       starts='used_at', \n",
    "                       active_seconds='active_seconds')\n",
    "\n",
    "TRAJECTORY_PROCESSED = RDP.df.copy()\n",
    "\n",
    "USERS = pd.read_csv('/bigdata/web_tracking/data/original/users.csv').rename(columns={'panelist_id': 'user'})\n",
    "\n",
    "## The steps of getting the following data is shown in Section \"Entropy & Predictability Computation -> Binned-Non-Stationary\"\n",
    "SELECTED_USER_IDS = pd.read_csv('/bigdata/web_tracking/data/traj-non-stationary/selected_users.csv')"
   ]
  },
  {
   "cell_type": "code",
   "execution_count": 6,
   "metadata": {
    "ExecuteTime": {
     "end_time": "2020-05-27T11:09:00.903027Z",
     "start_time": "2020-05-27T11:09:00.746274Z"
    }
   },
   "outputs": [],
   "source": [
    "## -> The following datasets are imported simply, but the steps of creating those are displayed in \"Entropy & Predictability Computation\".\n",
    "BIN_NON_STAT_RES = SELECTED_USER_IDS.merge(pd.read_csv('/bigdata/web_tracking/data/traj-non-stationary/trajectory-non-stationery-predicatability.csv'), on='user')\n",
    "SEQ_NON_STAT_RES = SELECTED_USER_IDS.merge(pd.read_csv('/bigdata/web_tracking/data/traj-domain-aggregated/trajectory-domain-aggregated-predicatability.csv'), on='user')\n",
    "STAT_RES         = SELECTED_USER_IDS.merge(pd.read_csv('/bigdata/web_tracking/data/traj-binned/trajectory-binned-1-predictability.csv'), on='user')"
   ]
  },
  {
   "cell_type": "markdown",
   "metadata": {},
   "source": [
    "# Top Domains\n",
    "\n",
    "- According to Alexa: \"A website has a Reach score of 5,000, this means that 5,000 people out of a sample of 1 million\"[¹](https://www.klipfolio.com/metrics/marketing/reach-per-million-users#:~:text=Reach%20is%20an%20Alexa%20Web,installed%2C%20saw%20your%20site%20yesterday.), and they calculate it by using `Count Unique(People who saw your content per Day per Million Users)`\n",
    "- So, we computed number of unique visitors per domain to compare our dataset with Alexa.\n",
    "- Section 4 in the article."
   ]
  },
  {
   "cell_type": "code",
   "execution_count": 7,
   "metadata": {
    "ExecuteTime": {
     "end_time": "2020-05-27T11:09:01.239438Z",
     "start_time": "2020-05-27T11:09:01.206629Z"
    }
   },
   "outputs": [],
   "source": [
    "alexa_top_5K = pd.read_csv('./data/alexa_GER_top5000.csv').drop(columns=['X1.nrow.file.Results.Result.Alexa.TopSites.Country.Sites.Site.'])"
   ]
  },
  {
   "cell_type": "code",
   "execution_count": 8,
   "metadata": {
    "ExecuteTime": {
     "end_time": "2020-05-27T11:09:03.400193Z",
     "start_time": "2020-05-27T11:09:01.555867Z"
    }
   },
   "outputs": [],
   "source": [
    "top_domains = TRAJECTORY_PROCESSED.top_level_domain.value_counts(normalize=True).to_frame() \\\n",
    "                    .reset_index().rename(columns={'index': 'domain', 'top_level_domain': 'visits'}) \\\n",
    "                    .assign(rank = lambda df: range(1, len(df)+1))"
   ]
  },
  {
   "cell_type": "code",
   "execution_count": 9,
   "metadata": {
    "ExecuteTime": {
     "end_time": "2020-05-27T11:09:03.759030Z",
     "start_time": "2020-05-27T11:09:03.629677Z"
    }
   },
   "outputs": [],
   "source": [
    "top_domains_5K  = top_domains.merge(alexa_top_5K, left_on='domain', right_on='url')\n",
    "top_domains_1K  = top_domains.merge(alexa_top_5K.query(\"country_rank < 1001\"), left_on='domain', right_on='url')\n",
    "top_domains_500 = top_domains.merge(alexa_top_5K.query(\"country_rank < 501\"), left_on='domain', right_on='url')"
   ]
  },
  {
   "cell_type": "markdown",
   "metadata": {},
   "source": [
    "## Matching Domains between Alexa and Our Dataset"
   ]
  },
  {
   "cell_type": "code",
   "execution_count": 10,
   "metadata": {
    "ExecuteTime": {
     "end_time": "2020-05-27T11:09:04.212597Z",
     "start_time": "2020-05-27T11:09:04.202271Z"
    }
   },
   "outputs": [
    {
     "data": {
      "text/plain": [
       "('3484 / 5000', '847 / 1000', '444 / 500')"
      ]
     },
     "execution_count": 10,
     "metadata": {},
     "output_type": "execute_result"
    }
   ],
   "source": [
    "f'{len(top_domains_5K)} / 5000', f'{len(top_domains_1K)} / 1000', f'{len(top_domains_500)} / 500'"
   ]
  },
  {
   "cell_type": "markdown",
   "metadata": {},
   "source": [
    "## 5,000 Domains Correlation"
   ]
  },
  {
   "cell_type": "code",
   "execution_count": 11,
   "metadata": {
    "ExecuteTime": {
     "end_time": "2020-05-27T11:09:04.697309Z",
     "start_time": "2020-05-27T11:09:04.666510Z"
    }
   },
   "outputs": [
    {
     "data": {
      "text/plain": [
       "'Pearson Correlation Coefficient'"
      ]
     },
     "metadata": {},
     "output_type": "display_data"
    },
    {
     "data": {
      "text/html": [
       "<div>\n",
       "<style scoped>\n",
       "    .dataframe tbody tr th:only-of-type {\n",
       "        vertical-align: middle;\n",
       "    }\n",
       "\n",
       "    .dataframe tbody tr th {\n",
       "        vertical-align: top;\n",
       "    }\n",
       "\n",
       "    .dataframe thead th {\n",
       "        text-align: right;\n",
       "    }\n",
       "</style>\n",
       "<table border=\"1\" class=\"dataframe\">\n",
       "  <thead>\n",
       "    <tr style=\"text-align: right;\">\n",
       "      <th></th>\n",
       "      <th>visits</th>\n",
       "      <th>PageViews.PerMillion</th>\n",
       "    </tr>\n",
       "  </thead>\n",
       "  <tbody>\n",
       "    <tr>\n",
       "      <th>visits</th>\n",
       "      <td>1.000000</td>\n",
       "      <td>0.780473</td>\n",
       "    </tr>\n",
       "    <tr>\n",
       "      <th>PageViews.PerMillion</th>\n",
       "      <td>0.780473</td>\n",
       "      <td>1.000000</td>\n",
       "    </tr>\n",
       "  </tbody>\n",
       "</table>\n",
       "</div>"
      ],
      "text/plain": [
       "                        visits  PageViews.PerMillion\n",
       "visits                1.000000              0.780473\n",
       "PageViews.PerMillion  0.780473              1.000000"
      ]
     },
     "execution_count": 11,
     "metadata": {},
     "output_type": "execute_result"
    }
   ],
   "source": [
    "display('Pearson Correlation Coefficient')\n",
    "top_domains_5K[['visits', 'PageViews.PerMillion']].corr(method='pearson')"
   ]
  },
  {
   "cell_type": "code",
   "execution_count": 12,
   "metadata": {
    "ExecuteTime": {
     "end_time": "2020-05-27T11:09:05.189330Z",
     "start_time": "2020-05-27T11:09:05.156899Z"
    }
   },
   "outputs": [
    {
     "data": {
      "text/plain": [
       "'Spearman Correlation Coefficient'"
      ]
     },
     "metadata": {},
     "output_type": "display_data"
    },
    {
     "data": {
      "text/html": [
       "<div>\n",
       "<style scoped>\n",
       "    .dataframe tbody tr th:only-of-type {\n",
       "        vertical-align: middle;\n",
       "    }\n",
       "\n",
       "    .dataframe tbody tr th {\n",
       "        vertical-align: top;\n",
       "    }\n",
       "\n",
       "    .dataframe thead th {\n",
       "        text-align: right;\n",
       "    }\n",
       "</style>\n",
       "<table border=\"1\" class=\"dataframe\">\n",
       "  <thead>\n",
       "    <tr style=\"text-align: right;\">\n",
       "      <th></th>\n",
       "      <th>visits</th>\n",
       "      <th>PageViews.PerMillion</th>\n",
       "    </tr>\n",
       "  </thead>\n",
       "  <tbody>\n",
       "    <tr>\n",
       "      <th>visits</th>\n",
       "      <td>1.000000</td>\n",
       "      <td>0.477326</td>\n",
       "    </tr>\n",
       "    <tr>\n",
       "      <th>PageViews.PerMillion</th>\n",
       "      <td>0.477326</td>\n",
       "      <td>1.000000</td>\n",
       "    </tr>\n",
       "  </tbody>\n",
       "</table>\n",
       "</div>"
      ],
      "text/plain": [
       "                        visits  PageViews.PerMillion\n",
       "visits                1.000000              0.477326\n",
       "PageViews.PerMillion  0.477326              1.000000"
      ]
     },
     "execution_count": 12,
     "metadata": {},
     "output_type": "execute_result"
    }
   ],
   "source": [
    "display('Spearman Correlation Coefficient')\n",
    "top_domains_5K[['visits', 'PageViews.PerMillion']].corr(method='spearman')"
   ]
  },
  {
   "cell_type": "markdown",
   "metadata": {},
   "source": [
    "## 1,000 Domains Correlation"
   ]
  },
  {
   "cell_type": "code",
   "execution_count": 13,
   "metadata": {
    "ExecuteTime": {
     "end_time": "2020-05-27T11:09:05.667172Z",
     "start_time": "2020-05-27T11:09:05.648676Z"
    }
   },
   "outputs": [
    {
     "data": {
      "text/plain": [
       "'Pearson Correlation Coefficient'"
      ]
     },
     "metadata": {},
     "output_type": "display_data"
    },
    {
     "data": {
      "text/html": [
       "<div>\n",
       "<style scoped>\n",
       "    .dataframe tbody tr th:only-of-type {\n",
       "        vertical-align: middle;\n",
       "    }\n",
       "\n",
       "    .dataframe tbody tr th {\n",
       "        vertical-align: top;\n",
       "    }\n",
       "\n",
       "    .dataframe thead th {\n",
       "        text-align: right;\n",
       "    }\n",
       "</style>\n",
       "<table border=\"1\" class=\"dataframe\">\n",
       "  <thead>\n",
       "    <tr style=\"text-align: right;\">\n",
       "      <th></th>\n",
       "      <th>visits</th>\n",
       "      <th>PageViews.PerMillion</th>\n",
       "    </tr>\n",
       "  </thead>\n",
       "  <tbody>\n",
       "    <tr>\n",
       "      <th>visits</th>\n",
       "      <td>1.000000</td>\n",
       "      <td>0.777852</td>\n",
       "    </tr>\n",
       "    <tr>\n",
       "      <th>PageViews.PerMillion</th>\n",
       "      <td>0.777852</td>\n",
       "      <td>1.000000</td>\n",
       "    </tr>\n",
       "  </tbody>\n",
       "</table>\n",
       "</div>"
      ],
      "text/plain": [
       "                        visits  PageViews.PerMillion\n",
       "visits                1.000000              0.777852\n",
       "PageViews.PerMillion  0.777852              1.000000"
      ]
     },
     "execution_count": 13,
     "metadata": {},
     "output_type": "execute_result"
    }
   ],
   "source": [
    "display('Pearson Correlation Coefficient')\n",
    "top_domains_1K[['visits', 'PageViews.PerMillion']].corr(method='pearson')"
   ]
  },
  {
   "cell_type": "code",
   "execution_count": 14,
   "metadata": {
    "ExecuteTime": {
     "end_time": "2020-05-27T11:09:06.150240Z",
     "start_time": "2020-05-27T11:09:06.131139Z"
    }
   },
   "outputs": [
    {
     "data": {
      "text/plain": [
       "'Spearman Correlation Coefficient'"
      ]
     },
     "metadata": {},
     "output_type": "display_data"
    },
    {
     "data": {
      "text/html": [
       "<div>\n",
       "<style scoped>\n",
       "    .dataframe tbody tr th:only-of-type {\n",
       "        vertical-align: middle;\n",
       "    }\n",
       "\n",
       "    .dataframe tbody tr th {\n",
       "        vertical-align: top;\n",
       "    }\n",
       "\n",
       "    .dataframe thead th {\n",
       "        text-align: right;\n",
       "    }\n",
       "</style>\n",
       "<table border=\"1\" class=\"dataframe\">\n",
       "  <thead>\n",
       "    <tr style=\"text-align: right;\">\n",
       "      <th></th>\n",
       "      <th>visits</th>\n",
       "      <th>PageViews.PerMillion</th>\n",
       "    </tr>\n",
       "  </thead>\n",
       "  <tbody>\n",
       "    <tr>\n",
       "      <th>visits</th>\n",
       "      <td>1.000000</td>\n",
       "      <td>0.429352</td>\n",
       "    </tr>\n",
       "    <tr>\n",
       "      <th>PageViews.PerMillion</th>\n",
       "      <td>0.429352</td>\n",
       "      <td>1.000000</td>\n",
       "    </tr>\n",
       "  </tbody>\n",
       "</table>\n",
       "</div>"
      ],
      "text/plain": [
       "                        visits  PageViews.PerMillion\n",
       "visits                1.000000              0.429352\n",
       "PageViews.PerMillion  0.429352              1.000000"
      ]
     },
     "execution_count": 14,
     "metadata": {},
     "output_type": "execute_result"
    }
   ],
   "source": [
    "display('Spearman Correlation Coefficient')\n",
    "top_domains_1K[['visits', 'PageViews.PerMillion']].corr(method='spearman')"
   ]
  },
  {
   "cell_type": "markdown",
   "metadata": {},
   "source": [
    "## 500 Domains Correlation"
   ]
  },
  {
   "cell_type": "code",
   "execution_count": 15,
   "metadata": {
    "ExecuteTime": {
     "end_time": "2020-05-27T11:09:06.638566Z",
     "start_time": "2020-05-27T11:09:06.617380Z"
    }
   },
   "outputs": [
    {
     "data": {
      "text/plain": [
       "'Pearson Correlation Coefficient'"
      ]
     },
     "metadata": {},
     "output_type": "display_data"
    },
    {
     "data": {
      "text/html": [
       "<div>\n",
       "<style scoped>\n",
       "    .dataframe tbody tr th:only-of-type {\n",
       "        vertical-align: middle;\n",
       "    }\n",
       "\n",
       "    .dataframe tbody tr th {\n",
       "        vertical-align: top;\n",
       "    }\n",
       "\n",
       "    .dataframe thead th {\n",
       "        text-align: right;\n",
       "    }\n",
       "</style>\n",
       "<table border=\"1\" class=\"dataframe\">\n",
       "  <thead>\n",
       "    <tr style=\"text-align: right;\">\n",
       "      <th></th>\n",
       "      <th>visits</th>\n",
       "      <th>PageViews.PerMillion</th>\n",
       "    </tr>\n",
       "  </thead>\n",
       "  <tbody>\n",
       "    <tr>\n",
       "      <th>visits</th>\n",
       "      <td>1.000000</td>\n",
       "      <td>0.774992</td>\n",
       "    </tr>\n",
       "    <tr>\n",
       "      <th>PageViews.PerMillion</th>\n",
       "      <td>0.774992</td>\n",
       "      <td>1.000000</td>\n",
       "    </tr>\n",
       "  </tbody>\n",
       "</table>\n",
       "</div>"
      ],
      "text/plain": [
       "                        visits  PageViews.PerMillion\n",
       "visits                1.000000              0.774992\n",
       "PageViews.PerMillion  0.774992              1.000000"
      ]
     },
     "execution_count": 15,
     "metadata": {},
     "output_type": "execute_result"
    }
   ],
   "source": [
    "display('Pearson Correlation Coefficient')\n",
    "top_domains_500[['visits', 'PageViews.PerMillion']].corr(method='pearson')"
   ]
  },
  {
   "cell_type": "code",
   "execution_count": 16,
   "metadata": {
    "ExecuteTime": {
     "end_time": "2020-05-27T11:09:06.669814Z",
     "start_time": "2020-05-27T11:09:06.647340Z"
    }
   },
   "outputs": [
    {
     "data": {
      "text/plain": [
       "'Spearman Correlation Coefficient'"
      ]
     },
     "metadata": {},
     "output_type": "display_data"
    },
    {
     "data": {
      "text/html": [
       "<div>\n",
       "<style scoped>\n",
       "    .dataframe tbody tr th:only-of-type {\n",
       "        vertical-align: middle;\n",
       "    }\n",
       "\n",
       "    .dataframe tbody tr th {\n",
       "        vertical-align: top;\n",
       "    }\n",
       "\n",
       "    .dataframe thead th {\n",
       "        text-align: right;\n",
       "    }\n",
       "</style>\n",
       "<table border=\"1\" class=\"dataframe\">\n",
       "  <thead>\n",
       "    <tr style=\"text-align: right;\">\n",
       "      <th></th>\n",
       "      <th>visits</th>\n",
       "      <th>PageViews.PerMillion</th>\n",
       "    </tr>\n",
       "  </thead>\n",
       "  <tbody>\n",
       "    <tr>\n",
       "      <th>visits</th>\n",
       "      <td>1.000000</td>\n",
       "      <td>0.523886</td>\n",
       "    </tr>\n",
       "    <tr>\n",
       "      <th>PageViews.PerMillion</th>\n",
       "      <td>0.523886</td>\n",
       "      <td>1.000000</td>\n",
       "    </tr>\n",
       "  </tbody>\n",
       "</table>\n",
       "</div>"
      ],
      "text/plain": [
       "                        visits  PageViews.PerMillion\n",
       "visits                1.000000              0.523886\n",
       "PageViews.PerMillion  0.523886              1.000000"
      ]
     },
     "execution_count": 16,
     "metadata": {},
     "output_type": "execute_result"
    }
   ],
   "source": [
    "display('Spearman Correlation Coefficient')\n",
    "top_domains_500[['visits', 'PageViews.PerMillion']].corr(method='spearman')"
   ]
  },
  {
   "cell_type": "markdown",
   "metadata": {},
   "source": [
    "# $\\Pi^{max}$ Stats: Confidence Intervals\n",
    "\n",
    "- Section 5 in the Article."
   ]
  },
  {
   "cell_type": "code",
   "execution_count": 17,
   "metadata": {
    "ExecuteTime": {
     "end_time": "2020-05-27T11:09:07.566122Z",
     "start_time": "2020-05-27T11:09:07.556954Z"
    }
   },
   "outputs": [],
   "source": [
    "def get_conf_interval(arr, percentage=.9):\n",
    "    return st.t.interval(percentage, len(arr)-1, loc=np.mean(arr), scale=st.sem(arr))\n",
    "\n",
    "\n",
    "def get_mean_with_intervals(df, var, intervals):\n",
    "    return (\n",
    "        np.mean(df[var]),\n",
    "        *[ get_conf_interval(df[var], i) for i in intervals ]\n",
    "    )"
   ]
  },
  {
   "cell_type": "code",
   "execution_count": 18,
   "metadata": {
    "ExecuteTime": {
     "end_time": "2020-05-27T11:09:08.183186Z",
     "start_time": "2020-05-27T11:09:07.995787Z"
    }
   },
   "outputs": [],
   "source": [
    "data = [\n",
    "    get_mean_with_intervals(STAT_RES, 'domain_pi_max', [.90, .95]),\n",
    "    get_mean_with_intervals(BIN_NON_STAT_RES, 'domain_pi_max', [.90, .95]),\n",
    "    get_mean_with_intervals(SEQ_NON_STAT_RES, 'domain_pi_max', [.90, .95]),\n",
    "    get_mean_with_intervals(STAT_RES.merge(USERS, on='user').query(\"gender == 'female'\"), 'domain_pi_max', [.90, .95]),\n",
    "    get_mean_with_intervals(STAT_RES.merge(USERS, on='user').query(\"gender == 'male'\"), 'domain_pi_max', [.90, .95]),\n",
    "    get_mean_with_intervals(STAT_RES.merge(USERS, on='user').query(\"age_recode == '[18,24]'\"), 'domain_pi_max', [.90, .95]),\n",
    "    get_mean_with_intervals(STAT_RES.merge(USERS, on='user').query(\"age_recode == '(24,34]'\"), 'domain_pi_max', [.90, .95]),\n",
    "    get_mean_with_intervals(STAT_RES.merge(USERS, on='user').query(\"age_recode == '(34,44]'\"), 'domain_pi_max', [.90, .95]),\n",
    "    get_mean_with_intervals(STAT_RES.merge(USERS, on='user').query(\"age_recode == '(44,54]'\"), 'domain_pi_max', [.90, .95]),\n",
    "    get_mean_with_intervals(STAT_RES.merge(USERS, on='user').query(\"age_recode == '(54,64]'\"), 'domain_pi_max', [.90, .95]),\n",
    "    get_mean_with_intervals(STAT_RES.merge(USERS, on='user').query(\"age_recode == '(64,80]'\"), 'domain_pi_max', [.90, .95]),\n",
    "]\n",
    "\n",
    "indices = [\n",
    "    'stationary', 'non_stationary', 'seq_non_stationary',\n",
    "    'stationary_female', 'stationary_male',\n",
    "    'stationary_18_24', 'stationary_24_34', 'stationary_34_44', 'stationary_44_54', 'stationary_54_64', 'stationary_64_80',\n",
    "]\n",
    "\n",
    "CONF_INTERVALS = pd.DataFrame(index=indices[:len(data)], columns=['mean', '.90_conf', '.95_conf'], data=data)"
   ]
  },
  {
   "cell_type": "code",
   "execution_count": 19,
   "metadata": {
    "ExecuteTime": {
     "end_time": "2020-05-27T11:09:10.075046Z",
     "start_time": "2020-05-27T11:09:08.627793Z"
    }
   },
   "outputs": [
    {
     "data": {
      "text/html": [
       "<style  type=\"text/css\" >\n",
       "    #T_7d4ec924_a00a_11ea_a1fc_1b036a81acc6row0_col0 {\n",
       "            background-color:  #005622;\n",
       "            color:  #f1f1f1;\n",
       "        }    #T_7d4ec924_a00a_11ea_a1fc_1b036a81acc6row1_col0 {\n",
       "            background-color:  #f7fcf5;\n",
       "            color:  #000000;\n",
       "        }    #T_7d4ec924_a00a_11ea_a1fc_1b036a81acc6row2_col0 {\n",
       "            background-color:  #a7dba0;\n",
       "            color:  #000000;\n",
       "        }    #T_7d4ec924_a00a_11ea_a1fc_1b036a81acc6row3_col0 {\n",
       "            background-color:  #004e1f;\n",
       "            color:  #f1f1f1;\n",
       "        }    #T_7d4ec924_a00a_11ea_a1fc_1b036a81acc6row4_col0 {\n",
       "            background-color:  #005e26;\n",
       "            color:  #f1f1f1;\n",
       "        }    #T_7d4ec924_a00a_11ea_a1fc_1b036a81acc6row5_col0 {\n",
       "            background-color:  #00441b;\n",
       "            color:  #f1f1f1;\n",
       "        }    #T_7d4ec924_a00a_11ea_a1fc_1b036a81acc6row6_col0 {\n",
       "            background-color:  #006027;\n",
       "            color:  #f1f1f1;\n",
       "        }    #T_7d4ec924_a00a_11ea_a1fc_1b036a81acc6row7_col0 {\n",
       "            background-color:  #016e2d;\n",
       "            color:  #f1f1f1;\n",
       "        }    #T_7d4ec924_a00a_11ea_a1fc_1b036a81acc6row8_col0 {\n",
       "            background-color:  #005321;\n",
       "            color:  #f1f1f1;\n",
       "        }    #T_7d4ec924_a00a_11ea_a1fc_1b036a81acc6row9_col0 {\n",
       "            background-color:  #004c1e;\n",
       "            color:  #f1f1f1;\n",
       "        }    #T_7d4ec924_a00a_11ea_a1fc_1b036a81acc6row10_col0 {\n",
       "            background-color:  #004d1f;\n",
       "            color:  #f1f1f1;\n",
       "        }</style><table id=\"T_7d4ec924_a00a_11ea_a1fc_1b036a81acc6\" ><thead>    <tr>        <th class=\"blank level0\" ></th>        <th class=\"col_heading level0 col0\" >mean</th>        <th class=\"col_heading level0 col1\" >.90_conf</th>        <th class=\"col_heading level0 col2\" >.95_conf</th>    </tr></thead><tbody>\n",
       "                <tr>\n",
       "                        <th id=\"T_7d4ec924_a00a_11ea_a1fc_1b036a81acc6level0_row0\" class=\"row_heading level0 row0\" >stationary</th>\n",
       "                        <td id=\"T_7d4ec924_a00a_11ea_a1fc_1b036a81acc6row0_col0\" class=\"data row0 col0\" >0.851068</td>\n",
       "                        <td id=\"T_7d4ec924_a00a_11ea_a1fc_1b036a81acc6row0_col1\" class=\"data row0 col1\" >[0.848492, 0.853644]</td>\n",
       "                        <td id=\"T_7d4ec924_a00a_11ea_a1fc_1b036a81acc6row0_col2\" class=\"data row0 col2\" >[0.847997, 0.854138]</td>\n",
       "            </tr>\n",
       "            <tr>\n",
       "                        <th id=\"T_7d4ec924_a00a_11ea_a1fc_1b036a81acc6level0_row1\" class=\"row_heading level0 row1\" >non_stationary</th>\n",
       "                        <td id=\"T_7d4ec924_a00a_11ea_a1fc_1b036a81acc6row1_col0\" class=\"data row1 col0\" >0.587956</td>\n",
       "                        <td id=\"T_7d4ec924_a00a_11ea_a1fc_1b036a81acc6row1_col1\" class=\"data row1 col1\" >[0.584519, 0.591393]</td>\n",
       "                        <td id=\"T_7d4ec924_a00a_11ea_a1fc_1b036a81acc6row1_col2\" class=\"data row1 col2\" >[0.583860, 0.592052]</td>\n",
       "            </tr>\n",
       "            <tr>\n",
       "                        <th id=\"T_7d4ec924_a00a_11ea_a1fc_1b036a81acc6level0_row2\" class=\"row_heading level0 row2\" >seq_non_stationary</th>\n",
       "                        <td id=\"T_7d4ec924_a00a_11ea_a1fc_1b036a81acc6row2_col0\" class=\"data row2 col0\" >0.687751</td>\n",
       "                        <td id=\"T_7d4ec924_a00a_11ea_a1fc_1b036a81acc6row2_col1\" class=\"data row2 col1\" >[0.684635, 0.690868]</td>\n",
       "                        <td id=\"T_7d4ec924_a00a_11ea_a1fc_1b036a81acc6row2_col2\" class=\"data row2 col2\" >[0.684037, 0.691466]</td>\n",
       "            </tr>\n",
       "            <tr>\n",
       "                        <th id=\"T_7d4ec924_a00a_11ea_a1fc_1b036a81acc6level0_row3\" class=\"row_heading level0 row3\" >stationary_female</th>\n",
       "                        <td id=\"T_7d4ec924_a00a_11ea_a1fc_1b036a81acc6row3_col0\" class=\"data row3 col0\" >0.857304</td>\n",
       "                        <td id=\"T_7d4ec924_a00a_11ea_a1fc_1b036a81acc6row3_col1\" class=\"data row3 col1\" >[0.853684, 0.860924]</td>\n",
       "                        <td id=\"T_7d4ec924_a00a_11ea_a1fc_1b036a81acc6row3_col2\" class=\"data row3 col2\" >[0.852989, 0.861620]</td>\n",
       "            </tr>\n",
       "            <tr>\n",
       "                        <th id=\"T_7d4ec924_a00a_11ea_a1fc_1b036a81acc6level0_row4\" class=\"row_heading level0 row4\" >stationary_male</th>\n",
       "                        <td id=\"T_7d4ec924_a00a_11ea_a1fc_1b036a81acc6row4_col0\" class=\"data row4 col0\" >0.845189</td>\n",
       "                        <td id=\"T_7d4ec924_a00a_11ea_a1fc_1b036a81acc6row4_col1\" class=\"data row4 col1\" >[0.841557, 0.848822]</td>\n",
       "                        <td id=\"T_7d4ec924_a00a_11ea_a1fc_1b036a81acc6row4_col2\" class=\"data row4 col2\" >[0.840860, 0.849519]</td>\n",
       "            </tr>\n",
       "            <tr>\n",
       "                        <th id=\"T_7d4ec924_a00a_11ea_a1fc_1b036a81acc6level0_row5\" class=\"row_heading level0 row5\" >stationary_18_24</th>\n",
       "                        <td id=\"T_7d4ec924_a00a_11ea_a1fc_1b036a81acc6row5_col0\" class=\"data row5 col0\" >0.867007</td>\n",
       "                        <td id=\"T_7d4ec924_a00a_11ea_a1fc_1b036a81acc6row5_col1\" class=\"data row5 col1\" >[0.859924, 0.874090]</td>\n",
       "                        <td id=\"T_7d4ec924_a00a_11ea_a1fc_1b036a81acc6row5_col2\" class=\"data row5 col2\" >[0.858552, 0.875462]</td>\n",
       "            </tr>\n",
       "            <tr>\n",
       "                        <th id=\"T_7d4ec924_a00a_11ea_a1fc_1b036a81acc6level0_row6\" class=\"row_heading level0 row6\" >stationary_24_34</th>\n",
       "                        <td id=\"T_7d4ec924_a00a_11ea_a1fc_1b036a81acc6row6_col0\" class=\"data row6 col0\" >0.842590</td>\n",
       "                        <td id=\"T_7d4ec924_a00a_11ea_a1fc_1b036a81acc6row6_col1\" class=\"data row6 col1\" >[0.836917, 0.848264]</td>\n",
       "                        <td id=\"T_7d4ec924_a00a_11ea_a1fc_1b036a81acc6row6_col2\" class=\"data row6 col2\" >[0.835823, 0.849358]</td>\n",
       "            </tr>\n",
       "            <tr>\n",
       "                        <th id=\"T_7d4ec924_a00a_11ea_a1fc_1b036a81acc6level0_row7\" class=\"row_heading level0 row7\" >stationary_34_44</th>\n",
       "                        <td id=\"T_7d4ec924_a00a_11ea_a1fc_1b036a81acc6row7_col0\" class=\"data row7 col0\" >0.830752</td>\n",
       "                        <td id=\"T_7d4ec924_a00a_11ea_a1fc_1b036a81acc6row7_col1\" class=\"data row7 col1\" >[0.824022, 0.837483]</td>\n",
       "                        <td id=\"T_7d4ec924_a00a_11ea_a1fc_1b036a81acc6row7_col2\" class=\"data row7 col2\" >[0.822723, 0.838782]</td>\n",
       "            </tr>\n",
       "            <tr>\n",
       "                        <th id=\"T_7d4ec924_a00a_11ea_a1fc_1b036a81acc6level0_row8\" class=\"row_heading level0 row8\" >stationary_44_54</th>\n",
       "                        <td id=\"T_7d4ec924_a00a_11ea_a1fc_1b036a81acc6row8_col0\" class=\"data row8 col0\" >0.853048</td>\n",
       "                        <td id=\"T_7d4ec924_a00a_11ea_a1fc_1b036a81acc6row8_col1\" class=\"data row8 col1\" >[0.847638, 0.858458]</td>\n",
       "                        <td id=\"T_7d4ec924_a00a_11ea_a1fc_1b036a81acc6row8_col2\" class=\"data row8 col2\" >[0.846597, 0.859500]</td>\n",
       "            </tr>\n",
       "            <tr>\n",
       "                        <th id=\"T_7d4ec924_a00a_11ea_a1fc_1b036a81acc6level0_row9\" class=\"row_heading level0 row9\" >stationary_54_64</th>\n",
       "                        <td id=\"T_7d4ec924_a00a_11ea_a1fc_1b036a81acc6row9_col0\" class=\"data row9 col0\" >0.859433</td>\n",
       "                        <td id=\"T_7d4ec924_a00a_11ea_a1fc_1b036a81acc6row9_col1\" class=\"data row9 col1\" >[0.854254, 0.864612]</td>\n",
       "                        <td id=\"T_7d4ec924_a00a_11ea_a1fc_1b036a81acc6row9_col2\" class=\"data row9 col2\" >[0.853257, 0.865609]</td>\n",
       "            </tr>\n",
       "            <tr>\n",
       "                        <th id=\"T_7d4ec924_a00a_11ea_a1fc_1b036a81acc6level0_row10\" class=\"row_heading level0 row10\" >stationary_64_80</th>\n",
       "                        <td id=\"T_7d4ec924_a00a_11ea_a1fc_1b036a81acc6row10_col0\" class=\"data row10 col0\" >0.859088</td>\n",
       "                        <td id=\"T_7d4ec924_a00a_11ea_a1fc_1b036a81acc6row10_col1\" class=\"data row10 col1\" >[0.848883, 0.869293]</td>\n",
       "                        <td id=\"T_7d4ec924_a00a_11ea_a1fc_1b036a81acc6row10_col2\" class=\"data row10 col2\" >[0.846877, 0.871299]</td>\n",
       "            </tr>\n",
       "    </tbody></table>"
      ],
      "text/plain": [
       "<pandas.io.formats.style.Styler at 0x7f46b9dd0048>"
      ]
     },
     "execution_count": 19,
     "metadata": {},
     "output_type": "execute_result"
    }
   ],
   "source": [
    "CONF_INTERVALS.style \\\n",
    "    .background_gradient('Greens', subset=['mean']) \\\n",
    "    .format({\n",
    "        'mean': '{0:.6f}',\n",
    "        '.90_conf': lambda t: f'[{t[0]:.6f}, {t[1]:.6f}]',\n",
    "        '.95_conf': lambda t: f'[{t[0]:.6f}, {t[1]:.6f}]',\n",
    "    })"
   ]
  },
  {
   "cell_type": "code",
   "execution_count": 62,
   "metadata": {
    "ExecuteTime": {
     "end_time": "2020-05-27T11:50:37.850120Z",
     "start_time": "2020-05-27T11:50:37.738202Z"
    }
   },
   "outputs": [
    {
     "data": {
      "text/html": [
       "<style  type=\"text/css\" >\n",
       "    #T_481b055a_a010_11ea_a1fc_1b036a81acc6row0_col0 {\n",
       "            background-color:  #fff5eb;\n",
       "            color:  #000000;\n",
       "        }    #T_481b055a_a010_11ea_a1fc_1b036a81acc6row1_col0 {\n",
       "            background-color:  #f06712;\n",
       "            color:  #000000;\n",
       "        }    #T_481b055a_a010_11ea_a1fc_1b036a81acc6row2_col0 {\n",
       "            background-color:  #7f2704;\n",
       "            color:  #f1f1f1;\n",
       "        }</style><table id=\"T_481b055a_a010_11ea_a1fc_1b036a81acc6\" ><thead>    <tr>        <th class=\"blank level0\" ></th>        <th class=\"col_heading level0 col0\" >Mean</th>        <th class=\"col_heading level0 col1\" >.90 CI</th>        <th class=\"col_heading level0 col2\" >.95 CI</th>    </tr></thead><tbody>\n",
       "                <tr>\n",
       "                        <th id=\"T_481b055a_a010_11ea_a1fc_1b036a81acc6level0_row0\" class=\"row_heading level0 row0\" >$\\Pi^{rand}$</th>\n",
       "                        <td id=\"T_481b055a_a010_11ea_a1fc_1b036a81acc6row0_col0\" class=\"data row0 col0\" >0.0140</td>\n",
       "                        <td id=\"T_481b055a_a010_11ea_a1fc_1b036a81acc6row0_col1\" class=\"data row0 col1\" >[0.0135, 0.0144]</td>\n",
       "                        <td id=\"T_481b055a_a010_11ea_a1fc_1b036a81acc6row0_col2\" class=\"data row0 col2\" >[0.0135, 0.0145]</td>\n",
       "            </tr>\n",
       "            <tr>\n",
       "                        <th id=\"T_481b055a_a010_11ea_a1fc_1b036a81acc6level0_row1\" class=\"row_heading level0 row1\" >$\\Pi^{unc}$</th>\n",
       "                        <td id=\"T_481b055a_a010_11ea_a1fc_1b036a81acc6row1_col0\" class=\"data row1 col0\" >0.5432</td>\n",
       "                        <td id=\"T_481b055a_a010_11ea_a1fc_1b036a81acc6row1_col1\" class=\"data row1 col1\" >[0.5373, 0.5491]</td>\n",
       "                        <td id=\"T_481b055a_a010_11ea_a1fc_1b036a81acc6row1_col2\" class=\"data row1 col2\" >[0.5361, 0.5503]</td>\n",
       "            </tr>\n",
       "            <tr>\n",
       "                        <th id=\"T_481b055a_a010_11ea_a1fc_1b036a81acc6level0_row2\" class=\"row_heading level0 row2\" >$\\Pi^{max}$</th>\n",
       "                        <td id=\"T_481b055a_a010_11ea_a1fc_1b036a81acc6row2_col0\" class=\"data row2 col0\" >0.8511</td>\n",
       "                        <td id=\"T_481b055a_a010_11ea_a1fc_1b036a81acc6row2_col1\" class=\"data row2 col1\" >[0.8485, 0.8536]</td>\n",
       "                        <td id=\"T_481b055a_a010_11ea_a1fc_1b036a81acc6row2_col2\" class=\"data row2 col2\" >[0.8480, 0.8541]</td>\n",
       "            </tr>\n",
       "    </tbody></table>"
      ],
      "text/plain": [
       "<pandas.io.formats.style.Styler at 0x7f478f17e860>"
      ]
     },
     "metadata": {},
     "output_type": "display_data"
    },
    {
     "data": {
      "text/html": [
       "<style  type=\"text/css\" >\n",
       "    #T_481f142e_a010_11ea_a1fc_1b036a81acc6row0_col0 {\n",
       "            background-color:  #f7fbff;\n",
       "            color:  #000000;\n",
       "        }    #T_481f142e_a010_11ea_a1fc_1b036a81acc6row1_col0 {\n",
       "            background-color:  #3080bd;\n",
       "            color:  #000000;\n",
       "        }    #T_481f142e_a010_11ea_a1fc_1b036a81acc6row2_col0 {\n",
       "            background-color:  #08306b;\n",
       "            color:  #f1f1f1;\n",
       "        }</style><table id=\"T_481f142e_a010_11ea_a1fc_1b036a81acc6\" ><thead>    <tr>        <th class=\"blank level0\" ></th>        <th class=\"col_heading level0 col0\" >Mean</th>        <th class=\"col_heading level0 col1\" >.90 CI</th>        <th class=\"col_heading level0 col2\" >.95 CI</th>    </tr></thead><tbody>\n",
       "                <tr>\n",
       "                        <th id=\"T_481f142e_a010_11ea_a1fc_1b036a81acc6level0_row0\" class=\"row_heading level0 row0\" >$\\Pi^{rand}$</th>\n",
       "                        <td id=\"T_481f142e_a010_11ea_a1fc_1b036a81acc6row0_col0\" class=\"data row0 col0\" >0.0140</td>\n",
       "                        <td id=\"T_481f142e_a010_11ea_a1fc_1b036a81acc6row0_col1\" class=\"data row0 col1\" >[0.0135, 0.0144]</td>\n",
       "                        <td id=\"T_481f142e_a010_11ea_a1fc_1b036a81acc6row0_col2\" class=\"data row0 col2\" >[0.0135, 0.0145]</td>\n",
       "            </tr>\n",
       "            <tr>\n",
       "                        <th id=\"T_481f142e_a010_11ea_a1fc_1b036a81acc6level0_row1\" class=\"row_heading level0 row1\" >$\\Pi^{unc}$</th>\n",
       "                        <td id=\"T_481f142e_a010_11ea_a1fc_1b036a81acc6row1_col0\" class=\"data row1 col0\" >0.4123</td>\n",
       "                        <td id=\"T_481f142e_a010_11ea_a1fc_1b036a81acc6row1_col1\" class=\"data row1 col1\" >[0.4080, 0.4166]</td>\n",
       "                        <td id=\"T_481f142e_a010_11ea_a1fc_1b036a81acc6row1_col2\" class=\"data row1 col2\" >[0.4072, 0.4174]</td>\n",
       "            </tr>\n",
       "            <tr>\n",
       "                        <th id=\"T_481f142e_a010_11ea_a1fc_1b036a81acc6level0_row2\" class=\"row_heading level0 row2\" >$\\Pi^{max}$</th>\n",
       "                        <td id=\"T_481f142e_a010_11ea_a1fc_1b036a81acc6row2_col0\" class=\"data row2 col0\" >0.5880</td>\n",
       "                        <td id=\"T_481f142e_a010_11ea_a1fc_1b036a81acc6row2_col1\" class=\"data row2 col1\" >[0.5845, 0.5914]</td>\n",
       "                        <td id=\"T_481f142e_a010_11ea_a1fc_1b036a81acc6row2_col2\" class=\"data row2 col2\" >[0.5839, 0.5921]</td>\n",
       "            </tr>\n",
       "    </tbody></table>"
      ],
      "text/plain": [
       "<pandas.io.formats.style.Styler at 0x7f478f14cdd8>"
      ]
     },
     "metadata": {},
     "output_type": "display_data"
    },
    {
     "data": {
      "text/html": [
       "<style  type=\"text/css\" >\n",
       "    #T_4823a3d6_a010_11ea_a1fc_1b036a81acc6row0_col0 {\n",
       "            background-color:  #f7fcf5;\n",
       "            color:  #000000;\n",
       "        }    #T_4823a3d6_a010_11ea_a1fc_1b036a81acc6row1_col0 {\n",
       "            background-color:  #329b51;\n",
       "            color:  #000000;\n",
       "        }    #T_4823a3d6_a010_11ea_a1fc_1b036a81acc6row2_col0 {\n",
       "            background-color:  #00441b;\n",
       "            color:  #f1f1f1;\n",
       "        }</style><table id=\"T_4823a3d6_a010_11ea_a1fc_1b036a81acc6\" ><thead>    <tr>        <th class=\"blank level0\" ></th>        <th class=\"col_heading level0 col0\" >Mean</th>        <th class=\"col_heading level0 col1\" >.90 CI</th>        <th class=\"col_heading level0 col2\" >.95 CI</th>    </tr></thead><tbody>\n",
       "                <tr>\n",
       "                        <th id=\"T_4823a3d6_a010_11ea_a1fc_1b036a81acc6level0_row0\" class=\"row_heading level0 row0\" >$\\Pi^{rand}$</th>\n",
       "                        <td id=\"T_4823a3d6_a010_11ea_a1fc_1b036a81acc6row0_col0\" class=\"data row0 col0\" >0.0108</td>\n",
       "                        <td id=\"T_4823a3d6_a010_11ea_a1fc_1b036a81acc6row0_col1\" class=\"data row0 col1\" >[0.0104, 0.0111]</td>\n",
       "                        <td id=\"T_4823a3d6_a010_11ea_a1fc_1b036a81acc6row0_col2\" class=\"data row0 col2\" >[0.0103, 0.0112]</td>\n",
       "            </tr>\n",
       "            <tr>\n",
       "                        <th id=\"T_4823a3d6_a010_11ea_a1fc_1b036a81acc6level0_row1\" class=\"row_heading level0 row1\" >$\\Pi^{unc}$</th>\n",
       "                        <td id=\"T_4823a3d6_a010_11ea_a1fc_1b036a81acc6row1_col0\" class=\"data row1 col0\" >0.4760</td>\n",
       "                        <td id=\"T_4823a3d6_a010_11ea_a1fc_1b036a81acc6row1_col1\" class=\"data row1 col1\" >[0.4718, 0.4801]</td>\n",
       "                        <td id=\"T_4823a3d6_a010_11ea_a1fc_1b036a81acc6row1_col2\" class=\"data row1 col2\" >[0.4710, 0.4809]</td>\n",
       "            </tr>\n",
       "            <tr>\n",
       "                        <th id=\"T_4823a3d6_a010_11ea_a1fc_1b036a81acc6level0_row2\" class=\"row_heading level0 row2\" >$\\Pi^{max}$</th>\n",
       "                        <td id=\"T_4823a3d6_a010_11ea_a1fc_1b036a81acc6row2_col0\" class=\"data row2 col0\" >0.6878</td>\n",
       "                        <td id=\"T_4823a3d6_a010_11ea_a1fc_1b036a81acc6row2_col1\" class=\"data row2 col1\" >[0.6846, 0.6909]</td>\n",
       "                        <td id=\"T_4823a3d6_a010_11ea_a1fc_1b036a81acc6row2_col2\" class=\"data row2 col2\" >[0.6840, 0.6915]</td>\n",
       "            </tr>\n",
       "    </tbody></table>"
      ],
      "text/plain": [
       "<pandas.io.formats.style.Styler at 0x7f478f028048>"
      ]
     },
     "execution_count": 62,
     "metadata": {},
     "output_type": "execute_result"
    }
   ],
   "source": [
    "display(\n",
    "pd.DataFrame(\n",
    "    data = [\n",
    "        get_mean_with_intervals(STAT_RES, 'domain_pi_rand', [.90, .95]),\n",
    "        get_mean_with_intervals(STAT_RES, 'domain_pi_unc', [.90, .95]),\n",
    "        get_mean_with_intervals(STAT_RES, 'domain_pi_max', [.90, .95]),\n",
    "    ],\n",
    "    columns=['Mean', '.90 CI', '.95 CI'],\n",
    "    index = [\"$\\Pi^{rand}$\", \"$\\Pi^{unc}$\", \"$\\Pi^{max}$\", ]\n",
    "    \n",
    ") \\\n",
    ".style \\\n",
    "    .background_gradient('Oranges', subset=['Mean']) \\\n",
    "    .format({\n",
    "        'Mean': '{0:.4f}',\n",
    "        '.90 CI': lambda t: f'[{t[0]:.4f}, {t[1]:.4f}]',\n",
    "        '.95 CI': lambda t: f'[{t[0]:.4f}, {t[1]:.4f}]',\n",
    "    })\n",
    ")\n",
    "\n",
    "display(\n",
    "pd.DataFrame(\n",
    "    data = [\n",
    "        get_mean_with_intervals(BIN_NON_STAT_RES, 'domain_pi_rand', [.90, .95]),\n",
    "        get_mean_with_intervals(BIN_NON_STAT_RES, 'domain_pi_unc', [.90, .95]),\n",
    "        get_mean_with_intervals(BIN_NON_STAT_RES, 'domain_pi_max', [.90, .95]),\n",
    "    ],\n",
    "    columns=['Mean', '.90 CI', '.95 CI'],\n",
    "    index = [\"$\\Pi^{rand}$\", \"$\\Pi^{unc}$\", \"$\\Pi^{max}$\", ]\n",
    "    \n",
    ") \\\n",
    ".style \\\n",
    "    .background_gradient('Blues', subset=['Mean']) \\\n",
    "    .format({\n",
    "        'Mean': '{0:.4f}',\n",
    "        '.90 CI': lambda t: f'[{t[0]:.4f}, {t[1]:.4f}]',\n",
    "        '.95 CI': lambda t: f'[{t[0]:.4f}, {t[1]:.4f}]',\n",
    "    })\n",
    ")\n",
    "\n",
    "pd.DataFrame(\n",
    "    data = [\n",
    "        get_mean_with_intervals(SEQ_NON_STAT_RES, 'domain_pi_rand', [.90, .95]),\n",
    "        get_mean_with_intervals(SEQ_NON_STAT_RES, 'domain_pi_unc', [.90, .95]),\n",
    "        get_mean_with_intervals(SEQ_NON_STAT_RES, 'domain_pi_max', [.90, .95]),\n",
    "    ],\n",
    "    columns=['Mean', '.90 CI', '.95 CI'],\n",
    "    index = [\"$\\Pi^{rand}$\", \"$\\Pi^{unc}$\", \"$\\Pi^{max}$\", ]\n",
    "    \n",
    ") \\\n",
    ".style \\\n",
    "    .background_gradient('Greens', subset=['Mean']) \\\n",
    "    .format({\n",
    "        'Mean': '{0:.4f}',\n",
    "        '.90 CI': lambda t: f'[{t[0]:.4f}, {t[1]:.4f}]',\n",
    "        '.95 CI': lambda t: f'[{t[0]:.4f}, {t[1]:.4f}]',\n",
    "    })"
   ]
  },
  {
   "cell_type": "code",
   "execution_count": 60,
   "metadata": {
    "ExecuteTime": {
     "end_time": "2020-05-27T11:45:53.120253Z",
     "start_time": "2020-05-27T11:45:53.039372Z"
    }
   },
   "outputs": [
    {
     "data": {
      "text/html": [
       "<style  type=\"text/css\" >\n",
       "    #T_9e685a44_a00f_11ea_a1fc_1b036a81acc6row0_col0 {\n",
       "            background-color:  #ffffe5;\n",
       "            color:  #000000;\n",
       "        }    #T_9e685a44_a00f_11ea_a1fc_1b036a81acc6row1_col0 {\n",
       "            background-color:  #ea6e13;\n",
       "            color:  #000000;\n",
       "        }    #T_9e685a44_a00f_11ea_a1fc_1b036a81acc6row2_col0 {\n",
       "            background-color:  #662506;\n",
       "            color:  #f1f1f1;\n",
       "        }</style><table id=\"T_9e685a44_a00f_11ea_a1fc_1b036a81acc6\" ><thead>    <tr>        <th class=\"blank level0\" ></th>        <th class=\"col_heading level0 col0\" >mean</th>        <th class=\"col_heading level0 col1\" >.90_conf</th>        <th class=\"col_heading level0 col2\" >.95_conf</th>    </tr></thead><tbody>\n",
       "                <tr>\n",
       "                        <th id=\"T_9e685a44_a00f_11ea_a1fc_1b036a81acc6level0_row0\" class=\"row_heading level0 row0\" >$\\Pi^{rand}_{domain}$</th>\n",
       "                        <td id=\"T_9e685a44_a00f_11ea_a1fc_1b036a81acc6row0_col0\" class=\"data row0 col0\" >0.0140</td>\n",
       "                        <td id=\"T_9e685a44_a00f_11ea_a1fc_1b036a81acc6row0_col1\" class=\"data row0 col1\" >[0.0135, 0.0144]</td>\n",
       "                        <td id=\"T_9e685a44_a00f_11ea_a1fc_1b036a81acc6row0_col2\" class=\"data row0 col2\" >[0.0135, 0.0145]</td>\n",
       "            </tr>\n",
       "            <tr>\n",
       "                        <th id=\"T_9e685a44_a00f_11ea_a1fc_1b036a81acc6level0_row1\" class=\"row_heading level0 row1\" >$\\Pi^{unc}_{domain}$</th>\n",
       "                        <td id=\"T_9e685a44_a00f_11ea_a1fc_1b036a81acc6row1_col0\" class=\"data row1 col0\" >0.5432</td>\n",
       "                        <td id=\"T_9e685a44_a00f_11ea_a1fc_1b036a81acc6row1_col1\" class=\"data row1 col1\" >[0.5373, 0.5491]</td>\n",
       "                        <td id=\"T_9e685a44_a00f_11ea_a1fc_1b036a81acc6row1_col2\" class=\"data row1 col2\" >[0.5361, 0.5503]</td>\n",
       "            </tr>\n",
       "            <tr>\n",
       "                        <th id=\"T_9e685a44_a00f_11ea_a1fc_1b036a81acc6level0_row2\" class=\"row_heading level0 row2\" >$\\Pi^{max}_{domain}$</th>\n",
       "                        <td id=\"T_9e685a44_a00f_11ea_a1fc_1b036a81acc6row2_col0\" class=\"data row2 col0\" >0.8511</td>\n",
       "                        <td id=\"T_9e685a44_a00f_11ea_a1fc_1b036a81acc6row2_col1\" class=\"data row2 col1\" >[0.8485, 0.8536]</td>\n",
       "                        <td id=\"T_9e685a44_a00f_11ea_a1fc_1b036a81acc6row2_col2\" class=\"data row2 col2\" >[0.8480, 0.8541]</td>\n",
       "            </tr>\n",
       "    </tbody></table>"
      ],
      "text/plain": [
       "<pandas.io.formats.style.Styler at 0x7f478f0b7d30>"
      ]
     },
     "metadata": {},
     "output_type": "display_data"
    },
    {
     "data": {
      "text/html": [
       "<style  type=\"text/css\" >\n",
       "    #T_9e6d31ea_a00f_11ea_a1fc_1b036a81acc6row0_col0 {\n",
       "            background-color:  #fff7fb;\n",
       "            color:  #000000;\n",
       "        }    #T_9e6d31ea_a00f_11ea_a1fc_1b036a81acc6row1_col0 {\n",
       "            background-color:  #2987bc;\n",
       "            color:  #000000;\n",
       "        }    #T_9e6d31ea_a00f_11ea_a1fc_1b036a81acc6row2_col0 {\n",
       "            background-color:  #023858;\n",
       "            color:  #f1f1f1;\n",
       "        }</style><table id=\"T_9e6d31ea_a00f_11ea_a1fc_1b036a81acc6\" ><thead>    <tr>        <th class=\"blank level0\" ></th>        <th class=\"col_heading level0 col0\" >Mean</th>        <th class=\"col_heading level0 col1\" >.90 CI</th>        <th class=\"col_heading level0 col2\" >.95 CI</th>    </tr></thead><tbody>\n",
       "                <tr>\n",
       "                        <th id=\"T_9e6d31ea_a00f_11ea_a1fc_1b036a81acc6level0_row0\" class=\"row_heading level0 row0\" >$\\Pi^{rand}_{category}$</th>\n",
       "                        <td id=\"T_9e6d31ea_a00f_11ea_a1fc_1b036a81acc6row0_col0\" class=\"data row0 col0\" >0.0378</td>\n",
       "                        <td id=\"T_9e6d31ea_a00f_11ea_a1fc_1b036a81acc6row0_col1\" class=\"data row0 col1\" >[0.0371, 0.0385]</td>\n",
       "                        <td id=\"T_9e6d31ea_a00f_11ea_a1fc_1b036a81acc6row0_col2\" class=\"data row0 col2\" >[0.0369, 0.0386]</td>\n",
       "            </tr>\n",
       "            <tr>\n",
       "                        <th id=\"T_9e6d31ea_a00f_11ea_a1fc_1b036a81acc6level0_row1\" class=\"row_heading level0 row1\" >$\\Pi^{unc}_{category}$</th>\n",
       "                        <td id=\"T_9e6d31ea_a00f_11ea_a1fc_1b036a81acc6row1_col0\" class=\"data row1 col0\" >0.5811</td>\n",
       "                        <td id=\"T_9e6d31ea_a00f_11ea_a1fc_1b036a81acc6row1_col1\" class=\"data row1 col1\" >[0.5759, 0.5862]</td>\n",
       "                        <td id=\"T_9e6d31ea_a00f_11ea_a1fc_1b036a81acc6row1_col2\" class=\"data row1 col2\" >[0.5749, 0.5872]</td>\n",
       "            </tr>\n",
       "            <tr>\n",
       "                        <th id=\"T_9e6d31ea_a00f_11ea_a1fc_1b036a81acc6level0_row2\" class=\"row_heading level0 row2\" >$\\Pi^{max}_{category}$</th>\n",
       "                        <td id=\"T_9e6d31ea_a00f_11ea_a1fc_1b036a81acc6row2_col0\" class=\"data row2 col0\" >0.8612</td>\n",
       "                        <td id=\"T_9e6d31ea_a00f_11ea_a1fc_1b036a81acc6row2_col1\" class=\"data row2 col1\" >[0.8588, 0.8636]</td>\n",
       "                        <td id=\"T_9e6d31ea_a00f_11ea_a1fc_1b036a81acc6row2_col2\" class=\"data row2 col2\" >[0.8583, 0.8640]</td>\n",
       "            </tr>\n",
       "    </tbody></table>"
      ],
      "text/plain": [
       "<pandas.io.formats.style.Styler at 0x7f478f0b01d0>"
      ]
     },
     "execution_count": 60,
     "metadata": {},
     "output_type": "execute_result"
    }
   ],
   "source": [
    "display(\n",
    "pd.DataFrame(\n",
    "    data = [\n",
    "        get_mean_with_intervals(STAT_RES, 'domain_pi_rand', [.90, .95]),\n",
    "        get_mean_with_intervals(STAT_RES, 'domain_pi_unc', [.90, .95]),\n",
    "        get_mean_with_intervals(STAT_RES, 'domain_pi_max', [.90, .95]),\n",
    "    ],\n",
    "    columns=['mean', '.90_conf', '.95_conf'],\n",
    "    index = [\"$\\Pi^{rand}_{domain}$\", \"$\\Pi^{unc}_{domain}$\", \"$\\Pi^{max}_{domain}$\", ]\n",
    "    \n",
    ") \\\n",
    ".style \\\n",
    "    .background_gradient('YlOrBr', subset=['mean']) \\\n",
    "    .format({\n",
    "        'mean': '{0:.4f}',\n",
    "        '.90_conf': lambda t: f'[{t[0]:.4f}, {t[1]:.4f}]',\n",
    "        '.95_conf': lambda t: f'[{t[0]:.4f}, {t[1]:.4f}]',\n",
    "    })\n",
    ")\n",
    "\n",
    "pd.DataFrame(\n",
    "    data = [\n",
    "        get_mean_with_intervals(STAT_RES, 'category_pi_rand', [.90, .95]),\n",
    "        get_mean_with_intervals(STAT_RES, 'category_pi_unc', [.90, .95]),\n",
    "        get_mean_with_intervals(STAT_RES, 'category_pi_max', [.90, .95])\n",
    "    ],\n",
    "    columns=['Mean', '.90 CI', '.95 CI'],\n",
    "    index = [\"$\\Pi^{rand}_{category}$\", \"$\\Pi^{unc}_{category}$\", \"$\\Pi^{max}_{category}$\", ]\n",
    "    \n",
    ") \\\n",
    ".style \\\n",
    "    .background_gradient('PuBu', subset=['Mean']) \\\n",
    "    .format({\n",
    "        'Mean': '{0:.4f}',\n",
    "        '.90 CI': lambda t: f'[{t[0]:.4f}, {t[1]:.4f}]',\n",
    "        '.95 CI': lambda t: f'[{t[0]:.4f}, {t[1]:.4f}]',\n",
    "    })"
   ]
  },
  {
   "cell_type": "markdown",
   "metadata": {},
   "source": [
    "# Browsing Behavior Stats: Confidence Intervals\n",
    "\n",
    "- Section 5.2 Impact of temporal resolution in the Article."
   ]
  },
  {
   "cell_type": "code",
   "execution_count": 19,
   "metadata": {
    "ExecuteTime": {
     "end_time": "2020-05-18T14:47:17.948007Z",
     "start_time": "2020-05-18T14:47:10.086221Z"
    }
   },
   "outputs": [],
   "source": [
    "stats_per_ind_raw = TRAJECTORY_PROCESSED \\\n",
    "                    .groupby('user', as_index=False) \\\n",
    "                    .agg({'domain': 'nunique', 'active_seconds': 'mean'})"
   ]
  },
  {
   "cell_type": "code",
   "execution_count": 20,
   "metadata": {
    "ExecuteTime": {
     "end_time": "2020-05-18T14:47:26.312540Z",
     "start_time": "2020-05-18T14:47:18.489412Z"
    }
   },
   "outputs": [],
   "source": [
    "stats_per_ind_raw_selected = SELECTED_USER_IDS \\\n",
    "    .merge(TRAJECTORY_PROCESSED\n",
    "           .groupby('user', as_index=False)\n",
    "           .agg({'domain': 'nunique', 'active_seconds': 'mean'}), on='user')"
   ]
  },
  {
   "cell_type": "markdown",
   "metadata": {},
   "source": [
    "## Comparison between Raw and Filtered Trajectory"
   ]
  },
  {
   "cell_type": "code",
   "execution_count": 21,
   "metadata": {
    "ExecuteTime": {
     "end_time": "2020-05-18T14:47:26.915051Z",
     "start_time": "2020-05-18T14:47:26.896322Z"
    },
    "scrolled": true
   },
   "outputs": [
    {
     "data": {
      "text/html": [
       "<style  type=\"text/css\" >\n",
       "</style><table id=\"T_7deb2fc6_9916_11ea_9d8b_95413e2a1f37\" ><thead>    <tr>        <th class=\"blank level0\" ></th>        <th class=\"col_heading level0 col0\" >domain</th>        <th class=\"col_heading level0 col1\" >domain_conf_90</th>        <th class=\"col_heading level0 col2\" >domain_conf_95</th>        <th class=\"col_heading level0 col3\" >active_seconds</th>        <th class=\"col_heading level0 col4\" >active_seconds_conf_90</th>        <th class=\"col_heading level0 col5\" >active_seconds_conf_95</th>    </tr></thead><tbody>\n",
       "                <tr>\n",
       "                        <th id=\"T_7deb2fc6_9916_11ea_9d8b_95413e2a1f37level0_row0\" class=\"row_heading level0 row0\" >raw</th>\n",
       "                        <td id=\"T_7deb2fc6_9916_11ea_9d8b_95413e2a1f37row0_col0\" class=\"data row0 col0\" >108.33</td>\n",
       "                        <td id=\"T_7deb2fc6_9916_11ea_9d8b_95413e2a1f37row0_col1\" class=\"data row0 col1\" >[104.10, 112.56]</td>\n",
       "                        <td id=\"T_7deb2fc6_9916_11ea_9d8b_95413e2a1f37row0_col2\" class=\"data row0 col2\" >[103.28, 113.38]</td>\n",
       "                        <td id=\"T_7deb2fc6_9916_11ea_9d8b_95413e2a1f37row0_col3\" class=\"data row0 col3\" >36.91</td>\n",
       "                        <td id=\"T_7deb2fc6_9916_11ea_9d8b_95413e2a1f37row0_col4\" class=\"data row0 col4\" >[35.75, 38.07]</td>\n",
       "                        <td id=\"T_7deb2fc6_9916_11ea_9d8b_95413e2a1f37row0_col5\" class=\"data row0 col5\" >[35.53, 38.29]</td>\n",
       "            </tr>\n",
       "            <tr>\n",
       "                        <th id=\"T_7deb2fc6_9916_11ea_9d8b_95413e2a1f37level0_row1\" class=\"row_heading level0 row1\" >filtered</th>\n",
       "                        <td id=\"T_7deb2fc6_9916_11ea_9d8b_95413e2a1f37row1_col0\" class=\"data row1 col0\" >151.16</td>\n",
       "                        <td id=\"T_7deb2fc6_9916_11ea_9d8b_95413e2a1f37row1_col1\" class=\"data row1 col1\" >[145.84, 156.48]</td>\n",
       "                        <td id=\"T_7deb2fc6_9916_11ea_9d8b_95413e2a1f37row1_col2\" class=\"data row1 col2\" >[144.81, 157.50]</td>\n",
       "                        <td id=\"T_7deb2fc6_9916_11ea_9d8b_95413e2a1f37row1_col3\" class=\"data row1 col3\" >35.18</td>\n",
       "                        <td id=\"T_7deb2fc6_9916_11ea_9d8b_95413e2a1f37row1_col4\" class=\"data row1 col4\" >[34.15, 36.21]</td>\n",
       "                        <td id=\"T_7deb2fc6_9916_11ea_9d8b_95413e2a1f37row1_col5\" class=\"data row1 col5\" >[33.95, 36.41]</td>\n",
       "            </tr>\n",
       "    </tbody></table>"
      ],
      "text/plain": [
       "<pandas.io.formats.style.Styler at 0x7f992c461cf8>"
      ]
     },
     "execution_count": 21,
     "metadata": {},
     "output_type": "execute_result"
    }
   ],
   "source": [
    "data = [\n",
    "    (*get_mean_with_intervals(stats_per_ind_raw, 'domain', [.90, .95]), *get_mean_with_intervals(stats_per_ind_raw, 'active_seconds', [.90, .95])),\n",
    "    (*get_mean_with_intervals(stats_per_ind_raw_selected, 'domain', [.90, .95]), *get_mean_with_intervals(stats_per_ind_raw_selected, 'active_seconds', [.90, .95])),\n",
    "]\n",
    "\n",
    "indices = ['raw', 'filtered',]\n",
    "\n",
    "\n",
    "pd.DataFrame(index=indices[:len(data)], columns=['domain', 'domain_conf_90', 'domain_conf_95', 'active_seconds', 'active_seconds_conf_90', 'active_seconds_conf_95'], data=data) \\\n",
    "    .style \\\n",
    "            .format({\n",
    "                'domain'                : '{0:.2f}',\n",
    "                'active_seconds'        : '{0:.2f}',\n",
    "                'domain_conf_90'        : lambda t: f'[{t[0]:.2f}, {t[1]:.2f}]',\n",
    "                'active_seconds_conf_90': lambda t: f'[{t[0]:.2f}, {t[1]:.2f}]',\n",
    "                'domain_conf_95'        : lambda t: f'[{t[0]:.2f}, {t[1]:.2f}]',\n",
    "                'active_seconds_conf_95': lambda t: f'[{t[0]:.2f}, {t[1]:.2f}]',\n",
    "            })"
   ]
  },
  {
   "cell_type": "markdown",
   "metadata": {},
   "source": [
    "## Raw Trajectory"
   ]
  },
  {
   "cell_type": "markdown",
   "metadata": {},
   "source": [
    "### per Gender"
   ]
  },
  {
   "cell_type": "code",
   "execution_count": 22,
   "metadata": {
    "ExecuteTime": {
     "end_time": "2020-05-18T14:47:27.522277Z",
     "start_time": "2020-05-18T14:47:27.479534Z"
    }
   },
   "outputs": [
    {
     "data": {
      "text/html": [
       "<style  type=\"text/css\" >\n",
       "</style><table id=\"T_7e47dca8_9916_11ea_9d8b_95413e2a1f37\" ><thead>    <tr>        <th class=\"blank level0\" ></th>        <th class=\"col_heading level0 col0\" >domain</th>        <th class=\"col_heading level0 col1\" >active_seconds</th>        <th class=\"col_heading level0 col2\" >domain_conf_90</th>        <th class=\"col_heading level0 col3\" >domain_conf_95</th>        <th class=\"col_heading level0 col4\" >active_seconds_conf_90</th>        <th class=\"col_heading level0 col5\" >active_seconds_conf_95</th>    </tr>    <tr>        <th class=\"index_name level0\" >gender</th>        <th class=\"blank\" ></th>        <th class=\"blank\" ></th>        <th class=\"blank\" ></th>        <th class=\"blank\" ></th>        <th class=\"blank\" ></th>        <th class=\"blank\" ></th>    </tr></thead><tbody>\n",
       "                <tr>\n",
       "                        <th id=\"T_7e47dca8_9916_11ea_9d8b_95413e2a1f37level0_row0\" class=\"row_heading level0 row0\" >female</th>\n",
       "                        <td id=\"T_7e47dca8_9916_11ea_9d8b_95413e2a1f37row0_col0\" class=\"data row0 col0\" >96.53</td>\n",
       "                        <td id=\"T_7e47dca8_9916_11ea_9d8b_95413e2a1f37row0_col1\" class=\"data row0 col1\" >40.25</td>\n",
       "                        <td id=\"T_7e47dca8_9916_11ea_9d8b_95413e2a1f37row0_col2\" class=\"data row0 col2\" >[91.28, 101.79]</td>\n",
       "                        <td id=\"T_7e47dca8_9916_11ea_9d8b_95413e2a1f37row0_col3\" class=\"data row0 col3\" >[90.27, 102.80]</td>\n",
       "                        <td id=\"T_7e47dca8_9916_11ea_9d8b_95413e2a1f37row0_col4\" class=\"data row0 col4\" >[38.32, 42.18]</td>\n",
       "                        <td id=\"T_7e47dca8_9916_11ea_9d8b_95413e2a1f37row0_col5\" class=\"data row0 col5\" >[37.95, 42.55]</td>\n",
       "            </tr>\n",
       "            <tr>\n",
       "                        <th id=\"T_7e47dca8_9916_11ea_9d8b_95413e2a1f37level0_row1\" class=\"row_heading level0 row1\" >male</th>\n",
       "                        <td id=\"T_7e47dca8_9916_11ea_9d8b_95413e2a1f37row1_col0\" class=\"data row1 col0\" >120.85</td>\n",
       "                        <td id=\"T_7e47dca8_9916_11ea_9d8b_95413e2a1f37row1_col1\" class=\"data row1 col1\" >33.44</td>\n",
       "                        <td id=\"T_7e47dca8_9916_11ea_9d8b_95413e2a1f37row1_col2\" class=\"data row1 col2\" >[114.19, 127.50]</td>\n",
       "                        <td id=\"T_7e47dca8_9916_11ea_9d8b_95413e2a1f37row1_col3\" class=\"data row1 col3\" >[112.92, 128.78]</td>\n",
       "                        <td id=\"T_7e47dca8_9916_11ea_9d8b_95413e2a1f37row1_col4\" class=\"data row1 col4\" >[32.22, 34.67]</td>\n",
       "                        <td id=\"T_7e47dca8_9916_11ea_9d8b_95413e2a1f37row1_col5\" class=\"data row1 col5\" >[31.98, 34.91]</td>\n",
       "            </tr>\n",
       "    </tbody></table>"
      ],
      "text/plain": [
       "<pandas.io.formats.style.Styler at 0x7f992c4618d0>"
      ]
     },
     "execution_count": 22,
     "metadata": {},
     "output_type": "execute_result"
    }
   ],
   "source": [
    "USERS.merge(stats_per_ind_raw, on='user') \\\n",
    "    .groupby('gender') \\\n",
    "    .agg({'domain': 'mean', 'active_seconds': 'mean'}) \\\n",
    "    .merge(\n",
    "        USERS \\\n",
    "            .merge(stats_per_ind_raw, on='user') \\\n",
    "            .groupby('gender') \\\n",
    "            .agg({'domain': list, 'active_seconds': list}) \\\n",
    "            .rename(columns={'domain': 'un_domain_list', 'active_seconds': 'mean_active_seconds_list'}),\n",
    "        left_index=True, right_index=True,\n",
    "    ) \\\n",
    "    .assign(\n",
    "        domain_conf_90         = lambda df: df['un_domain_list'].apply(partial(get_conf_interval, percentage=.90)),\n",
    "        domain_conf_95         = lambda df: df['un_domain_list'].apply(partial(get_conf_interval, percentage=.95)),\n",
    "        active_seconds_conf_90 = lambda df: df['mean_active_seconds_list'].apply(partial(get_conf_interval, percentage=.90)),\n",
    "        active_seconds_conf_95 = lambda df: df['mean_active_seconds_list'].apply(partial(get_conf_interval, percentage=.95)),\n",
    "    ) \\\n",
    "    .drop(columns=['un_domain_list', 'mean_active_seconds_list']) \\\n",
    "    .style \\\n",
    "        .format({\n",
    "            'domain'                : '{0:.2f}',\n",
    "            'active_seconds'        : '{0:.2f}',\n",
    "            'domain_conf_90'        : lambda t: f'[{t[0]:.2f}, {t[1]:.2f}]',\n",
    "            'active_seconds_conf_90': lambda t: f'[{t[0]:.2f}, {t[1]:.2f}]',\n",
    "            'domain_conf_95'        : lambda t: f'[{t[0]:.2f}, {t[1]:.2f}]',\n",
    "            'active_seconds_conf_95': lambda t: f'[{t[0]:.2f}, {t[1]:.2f}]',\n",
    "        })"
   ]
  },
  {
   "cell_type": "markdown",
   "metadata": {},
   "source": [
    "### per Age"
   ]
  },
  {
   "cell_type": "code",
   "execution_count": 23,
   "metadata": {
    "ExecuteTime": {
     "end_time": "2020-05-18T14:47:28.138230Z",
     "start_time": "2020-05-18T14:47:28.086510Z"
    }
   },
   "outputs": [
    {
     "data": {
      "text/html": [
       "<style  type=\"text/css\" >\n",
       "</style><table id=\"T_7ea5a982_9916_11ea_9d8b_95413e2a1f37\" ><thead>    <tr>        <th class=\"blank level0\" ></th>        <th class=\"col_heading level0 col0\" >domain</th>        <th class=\"col_heading level0 col1\" >active_seconds</th>        <th class=\"col_heading level0 col2\" >domain_conf_90</th>        <th class=\"col_heading level0 col3\" >domain_conf_95</th>        <th class=\"col_heading level0 col4\" >active_seconds_conf_90</th>        <th class=\"col_heading level0 col5\" >active_seconds_conf_95</th>    </tr>    <tr>        <th class=\"index_name level0\" >age_recode</th>        <th class=\"blank\" ></th>        <th class=\"blank\" ></th>        <th class=\"blank\" ></th>        <th class=\"blank\" ></th>        <th class=\"blank\" ></th>        <th class=\"blank\" ></th>    </tr></thead><tbody>\n",
       "                <tr>\n",
       "                        <th id=\"T_7ea5a982_9916_11ea_9d8b_95413e2a1f37level0_row0\" class=\"row_heading level0 row0\" >(24,34]</th>\n",
       "                        <td id=\"T_7ea5a982_9916_11ea_9d8b_95413e2a1f37row0_col0\" class=\"data row0 col0\" >96.67</td>\n",
       "                        <td id=\"T_7ea5a982_9916_11ea_9d8b_95413e2a1f37row0_col1\" class=\"data row0 col1\" >32.80</td>\n",
       "                        <td id=\"T_7ea5a982_9916_11ea_9d8b_95413e2a1f37row0_col2\" class=\"data row0 col2\" >[88.03, 105.30]</td>\n",
       "                        <td id=\"T_7ea5a982_9916_11ea_9d8b_95413e2a1f37row0_col3\" class=\"data row0 col3\" >[86.37, 106.97]</td>\n",
       "                        <td id=\"T_7ea5a982_9916_11ea_9d8b_95413e2a1f37row0_col4\" class=\"data row0 col4\" >[30.27, 35.32]</td>\n",
       "                        <td id=\"T_7ea5a982_9916_11ea_9d8b_95413e2a1f37row0_col5\" class=\"data row0 col5\" >[29.78, 35.81]</td>\n",
       "            </tr>\n",
       "            <tr>\n",
       "                        <th id=\"T_7ea5a982_9916_11ea_9d8b_95413e2a1f37level0_row1\" class=\"row_heading level0 row1\" >(34,44]</th>\n",
       "                        <td id=\"T_7ea5a982_9916_11ea_9d8b_95413e2a1f37row1_col0\" class=\"data row1 col0\" >99.30</td>\n",
       "                        <td id=\"T_7ea5a982_9916_11ea_9d8b_95413e2a1f37row1_col1\" class=\"data row1 col1\" >33.89</td>\n",
       "                        <td id=\"T_7ea5a982_9916_11ea_9d8b_95413e2a1f37row1_col2\" class=\"data row1 col2\" >[89.11, 109.50]</td>\n",
       "                        <td id=\"T_7ea5a982_9916_11ea_9d8b_95413e2a1f37row1_col3\" class=\"data row1 col3\" >[87.15, 111.46]</td>\n",
       "                        <td id=\"T_7ea5a982_9916_11ea_9d8b_95413e2a1f37row1_col4\" class=\"data row1 col4\" >[31.47, 36.32]</td>\n",
       "                        <td id=\"T_7ea5a982_9916_11ea_9d8b_95413e2a1f37row1_col5\" class=\"data row1 col5\" >[31.00, 36.79]</td>\n",
       "            </tr>\n",
       "            <tr>\n",
       "                        <th id=\"T_7ea5a982_9916_11ea_9d8b_95413e2a1f37level0_row2\" class=\"row_heading level0 row2\" >(44,54]</th>\n",
       "                        <td id=\"T_7ea5a982_9916_11ea_9d8b_95413e2a1f37row2_col0\" class=\"data row2 col0\" >122.06</td>\n",
       "                        <td id=\"T_7ea5a982_9916_11ea_9d8b_95413e2a1f37row2_col1\" class=\"data row2 col1\" >37.23</td>\n",
       "                        <td id=\"T_7ea5a982_9916_11ea_9d8b_95413e2a1f37row2_col2\" class=\"data row2 col2\" >[113.08, 131.05]</td>\n",
       "                        <td id=\"T_7ea5a982_9916_11ea_9d8b_95413e2a1f37row2_col3\" class=\"data row2 col3\" >[111.35, 132.78]</td>\n",
       "                        <td id=\"T_7ea5a982_9916_11ea_9d8b_95413e2a1f37row2_col4\" class=\"data row2 col4\" >[35.30, 39.15]</td>\n",
       "                        <td id=\"T_7ea5a982_9916_11ea_9d8b_95413e2a1f37row2_col5\" class=\"data row2 col5\" >[34.93, 39.52]</td>\n",
       "            </tr>\n",
       "            <tr>\n",
       "                        <th id=\"T_7ea5a982_9916_11ea_9d8b_95413e2a1f37level0_row3\" class=\"row_heading level0 row3\" >(54,64]</th>\n",
       "                        <td id=\"T_7ea5a982_9916_11ea_9d8b_95413e2a1f37row3_col0\" class=\"data row3 col0\" >130.03</td>\n",
       "                        <td id=\"T_7ea5a982_9916_11ea_9d8b_95413e2a1f37row3_col1\" class=\"data row3 col1\" >40.65</td>\n",
       "                        <td id=\"T_7ea5a982_9916_11ea_9d8b_95413e2a1f37row3_col2\" class=\"data row3 col2\" >[119.35, 140.71]</td>\n",
       "                        <td id=\"T_7ea5a982_9916_11ea_9d8b_95413e2a1f37row3_col3\" class=\"data row3 col3\" >[117.30, 142.76]</td>\n",
       "                        <td id=\"T_7ea5a982_9916_11ea_9d8b_95413e2a1f37row3_col4\" class=\"data row3 col4\" >[38.19, 43.10]</td>\n",
       "                        <td id=\"T_7ea5a982_9916_11ea_9d8b_95413e2a1f37row3_col5\" class=\"data row3 col5\" >[37.71, 43.58]</td>\n",
       "            </tr>\n",
       "            <tr>\n",
       "                        <th id=\"T_7ea5a982_9916_11ea_9d8b_95413e2a1f37level0_row4\" class=\"row_heading level0 row4\" >(64,80]</th>\n",
       "                        <td id=\"T_7ea5a982_9916_11ea_9d8b_95413e2a1f37row4_col0\" class=\"data row4 col0\" >109.76</td>\n",
       "                        <td id=\"T_7ea5a982_9916_11ea_9d8b_95413e2a1f37row4_col1\" class=\"data row4 col1\" >50.27</td>\n",
       "                        <td id=\"T_7ea5a982_9916_11ea_9d8b_95413e2a1f37row4_col2\" class=\"data row4 col2\" >[89.32, 130.19]</td>\n",
       "                        <td id=\"T_7ea5a982_9916_11ea_9d8b_95413e2a1f37row4_col3\" class=\"data row4 col3\" >[85.33, 134.18]</td>\n",
       "                        <td id=\"T_7ea5a982_9916_11ea_9d8b_95413e2a1f37row4_col4\" class=\"data row4 col4\" >[37.53, 63.02]</td>\n",
       "                        <td id=\"T_7ea5a982_9916_11ea_9d8b_95413e2a1f37row4_col5\" class=\"data row4 col5\" >[35.04, 65.51]</td>\n",
       "            </tr>\n",
       "            <tr>\n",
       "                        <th id=\"T_7ea5a982_9916_11ea_9d8b_95413e2a1f37level0_row5\" class=\"row_heading level0 row5\" >[18,24]</th>\n",
       "                        <td id=\"T_7ea5a982_9916_11ea_9d8b_95413e2a1f37row5_col0\" class=\"data row5 col0\" >81.11</td>\n",
       "                        <td id=\"T_7ea5a982_9916_11ea_9d8b_95413e2a1f37row5_col1\" class=\"data row5 col1\" >36.85</td>\n",
       "                        <td id=\"T_7ea5a982_9916_11ea_9d8b_95413e2a1f37row5_col2\" class=\"data row5 col2\" >[72.40, 89.81]</td>\n",
       "                        <td id=\"T_7ea5a982_9916_11ea_9d8b_95413e2a1f37row5_col3\" class=\"data row5 col3\" >[70.72, 91.49]</td>\n",
       "                        <td id=\"T_7ea5a982_9916_11ea_9d8b_95413e2a1f37row5_col4\" class=\"data row5 col4\" >[34.07, 39.64]</td>\n",
       "                        <td id=\"T_7ea5a982_9916_11ea_9d8b_95413e2a1f37row5_col5\" class=\"data row5 col5\" >[33.53, 40.17]</td>\n",
       "            </tr>\n",
       "    </tbody></table>"
      ],
      "text/plain": [
       "<pandas.io.formats.style.Styler at 0x7f9998d487f0>"
      ]
     },
     "execution_count": 23,
     "metadata": {},
     "output_type": "execute_result"
    }
   ],
   "source": [
    "USERS.merge(stats_per_ind_raw, on='user') \\\n",
    "    .groupby('age_recode') \\\n",
    "    .agg({'domain': 'mean', 'active_seconds': 'mean'}) \\\n",
    "    .merge(\n",
    "        USERS \\\n",
    "            .merge(stats_per_ind_raw, on='user') \\\n",
    "            .groupby('age_recode') \\\n",
    "            .agg({'domain': list, 'active_seconds': list}) \\\n",
    "            .rename(columns={'domain': 'un_domain_list', 'active_seconds': 'mean_active_seconds_list'}),\n",
    "        left_index=True, right_index=True,\n",
    "    ) \\\n",
    "    .assign(\n",
    "        domain_conf_90         = lambda df: df['un_domain_list'].apply(partial(get_conf_interval, percentage=.90)),\n",
    "        domain_conf_95         = lambda df: df['un_domain_list'].apply(partial(get_conf_interval, percentage=.95)),\n",
    "        active_seconds_conf_90 = lambda df: df['mean_active_seconds_list'].apply(partial(get_conf_interval, percentage=.90)),\n",
    "        active_seconds_conf_95 = lambda df: df['mean_active_seconds_list'].apply(partial(get_conf_interval, percentage=.95)),\n",
    "    ) \\\n",
    "    .drop(columns=['un_domain_list', 'mean_active_seconds_list']) \\\n",
    "    .style \\\n",
    "        .format({\n",
    "            'domain'                : '{0:.2f}',\n",
    "            'active_seconds'        : '{0:.2f}',\n",
    "            'domain_conf_90'        : lambda t: f'[{t[0]:.2f}, {t[1]:.2f}]',\n",
    "            'active_seconds_conf_90': lambda t: f'[{t[0]:.2f}, {t[1]:.2f}]',\n",
    "            'domain_conf_95'        : lambda t: f'[{t[0]:.2f}, {t[1]:.2f}]',\n",
    "            'active_seconds_conf_95': lambda t: f'[{t[0]:.2f}, {t[1]:.2f}]',\n",
    "        })"
   ]
  },
  {
   "cell_type": "markdown",
   "metadata": {},
   "source": [
    "## Filtered Trajectory"
   ]
  },
  {
   "cell_type": "markdown",
   "metadata": {},
   "source": [
    "### per Gender"
   ]
  },
  {
   "cell_type": "code",
   "execution_count": 24,
   "metadata": {
    "ExecuteTime": {
     "end_time": "2020-05-18T14:47:28.741922Z",
     "start_time": "2020-05-18T14:47:28.700721Z"
    }
   },
   "outputs": [
    {
     "data": {
      "text/html": [
       "<style  type=\"text/css\" >\n",
       "</style><table id=\"T_7f01f0a2_9916_11ea_9d8b_95413e2a1f37\" ><thead>    <tr>        <th class=\"blank level0\" ></th>        <th class=\"col_heading level0 col0\" >domain</th>        <th class=\"col_heading level0 col1\" >active_seconds</th>        <th class=\"col_heading level0 col2\" >domain_conf_90</th>        <th class=\"col_heading level0 col3\" >domain_conf_95</th>        <th class=\"col_heading level0 col4\" >active_seconds_conf_90</th>        <th class=\"col_heading level0 col5\" >active_seconds_conf_95</th>    </tr>    <tr>        <th class=\"index_name level0\" >gender</th>        <th class=\"blank\" ></th>        <th class=\"blank\" ></th>        <th class=\"blank\" ></th>        <th class=\"blank\" ></th>        <th class=\"blank\" ></th>        <th class=\"blank\" ></th>    </tr></thead><tbody>\n",
       "                <tr>\n",
       "                        <th id=\"T_7f01f0a2_9916_11ea_9d8b_95413e2a1f37level0_row0\" class=\"row_heading level0 row0\" >female</th>\n",
       "                        <td id=\"T_7f01f0a2_9916_11ea_9d8b_95413e2a1f37row0_col0\" class=\"data row0 col0\" >140.22</td>\n",
       "                        <td id=\"T_7f01f0a2_9916_11ea_9d8b_95413e2a1f37row0_col1\" class=\"data row0 col1\" >37.34</td>\n",
       "                        <td id=\"T_7f01f0a2_9916_11ea_9d8b_95413e2a1f37row0_col2\" class=\"data row0 col2\" >[133.46, 146.99]</td>\n",
       "                        <td id=\"T_7f01f0a2_9916_11ea_9d8b_95413e2a1f37row0_col3\" class=\"data row0 col3\" >[132.16, 148.29]</td>\n",
       "                        <td id=\"T_7f01f0a2_9916_11ea_9d8b_95413e2a1f37row0_col4\" class=\"data row0 col4\" >[35.83, 38.85]</td>\n",
       "                        <td id=\"T_7f01f0a2_9916_11ea_9d8b_95413e2a1f37row0_col5\" class=\"data row0 col5\" >[35.54, 39.14]</td>\n",
       "            </tr>\n",
       "            <tr>\n",
       "                        <th id=\"T_7f01f0a2_9916_11ea_9d8b_95413e2a1f37level0_row1\" class=\"row_heading level0 row1\" >male</th>\n",
       "                        <td id=\"T_7f01f0a2_9916_11ea_9d8b_95413e2a1f37row1_col0\" class=\"data row1 col0\" >161.47</td>\n",
       "                        <td id=\"T_7f01f0a2_9916_11ea_9d8b_95413e2a1f37row1_col1\" class=\"data row1 col1\" >33.15</td>\n",
       "                        <td id=\"T_7f01f0a2_9916_11ea_9d8b_95413e2a1f37row1_col2\" class=\"data row1 col2\" >[153.36, 169.57]</td>\n",
       "                        <td id=\"T_7f01f0a2_9916_11ea_9d8b_95413e2a1f37row1_col3\" class=\"data row1 col3\" >[151.81, 171.13]</td>\n",
       "                        <td id=\"T_7f01f0a2_9916_11ea_9d8b_95413e2a1f37row1_col4\" class=\"data row1 col4\" >[31.74, 34.56]</td>\n",
       "                        <td id=\"T_7f01f0a2_9916_11ea_9d8b_95413e2a1f37row1_col5\" class=\"data row1 col5\" >[31.47, 34.83]</td>\n",
       "            </tr>\n",
       "    </tbody></table>"
      ],
      "text/plain": [
       "<pandas.io.formats.style.Styler at 0x7f992c461160>"
      ]
     },
     "execution_count": 24,
     "metadata": {},
     "output_type": "execute_result"
    }
   ],
   "source": [
    "USERS.merge(stats_per_ind_raw_selected, on='user') \\\n",
    "    .groupby('gender') \\\n",
    "    .agg({'domain': 'mean', 'active_seconds': 'mean'}) \\\n",
    "    .merge(\n",
    "        USERS \\\n",
    "            .merge(stats_per_ind_raw_selected, on='user') \\\n",
    "            .groupby('gender') \\\n",
    "            .agg({'domain': list, 'active_seconds': list}) \\\n",
    "            .rename(columns={'domain': 'un_domain_list', 'active_seconds': 'mean_active_seconds_list'}),\n",
    "        left_index=True, right_index=True,\n",
    "    ) \\\n",
    "    .assign(\n",
    "        domain_conf_90         = lambda df: df['un_domain_list'].apply(partial(get_conf_interval, percentage=.90)),\n",
    "        domain_conf_95         = lambda df: df['un_domain_list'].apply(partial(get_conf_interval, percentage=.95)),\n",
    "        active_seconds_conf_90 = lambda df: df['mean_active_seconds_list'].apply(partial(get_conf_interval, percentage=.90)),\n",
    "        active_seconds_conf_95 = lambda df: df['mean_active_seconds_list'].apply(partial(get_conf_interval, percentage=.95)),\n",
    "    ) \\\n",
    "    .drop(columns=['un_domain_list', 'mean_active_seconds_list']) \\\n",
    "    .style \\\n",
    "        .format({\n",
    "            'domain'                : '{0:.2f}',\n",
    "            'active_seconds'        : '{0:.2f}',\n",
    "            'domain_conf_90'        : lambda t: f'[{t[0]:.2f}, {t[1]:.2f}]',\n",
    "            'active_seconds_conf_90': lambda t: f'[{t[0]:.2f}, {t[1]:.2f}]',\n",
    "            'domain_conf_95'        : lambda t: f'[{t[0]:.2f}, {t[1]:.2f}]',\n",
    "            'active_seconds_conf_95': lambda t: f'[{t[0]:.2f}, {t[1]:.2f}]',\n",
    "        })"
   ]
  },
  {
   "cell_type": "markdown",
   "metadata": {},
   "source": [
    "### per Age"
   ]
  },
  {
   "cell_type": "code",
   "execution_count": 25,
   "metadata": {
    "ExecuteTime": {
     "end_time": "2020-05-18T14:47:29.364205Z",
     "start_time": "2020-05-18T14:47:29.312453Z"
    }
   },
   "outputs": [
    {
     "data": {
      "text/html": [
       "<style  type=\"text/css\" >\n",
       "</style><table id=\"T_7f60b718_9916_11ea_9d8b_95413e2a1f37\" ><thead>    <tr>        <th class=\"blank level0\" ></th>        <th class=\"col_heading level0 col0\" >domain</th>        <th class=\"col_heading level0 col1\" >active_seconds</th>        <th class=\"col_heading level0 col2\" >domain_conf_90</th>        <th class=\"col_heading level0 col3\" >domain_conf_95</th>        <th class=\"col_heading level0 col4\" >active_seconds_conf_90</th>        <th class=\"col_heading level0 col5\" >active_seconds_conf_95</th>    </tr>    <tr>        <th class=\"index_name level0\" >age_recode</th>        <th class=\"blank\" ></th>        <th class=\"blank\" ></th>        <th class=\"blank\" ></th>        <th class=\"blank\" ></th>        <th class=\"blank\" ></th>        <th class=\"blank\" ></th>    </tr></thead><tbody>\n",
       "                <tr>\n",
       "                        <th id=\"T_7f60b718_9916_11ea_9d8b_95413e2a1f37level0_row0\" class=\"row_heading level0 row0\" >(24,34]</th>\n",
       "                        <td id=\"T_7f60b718_9916_11ea_9d8b_95413e2a1f37row0_col0\" class=\"data row0 col0\" >143.15</td>\n",
       "                        <td id=\"T_7f60b718_9916_11ea_9d8b_95413e2a1f37row0_col1\" class=\"data row0 col1\" >29.36</td>\n",
       "                        <td id=\"T_7f60b718_9916_11ea_9d8b_95413e2a1f37row0_col2\" class=\"data row0 col2\" >[131.75, 154.56]</td>\n",
       "                        <td id=\"T_7f60b718_9916_11ea_9d8b_95413e2a1f37row0_col3\" class=\"data row0 col3\" >[129.55, 156.75]</td>\n",
       "                        <td id=\"T_7f60b718_9916_11ea_9d8b_95413e2a1f37row0_col4\" class=\"data row0 col4\" >[28.00, 30.71]</td>\n",
       "                        <td id=\"T_7f60b718_9916_11ea_9d8b_95413e2a1f37row0_col5\" class=\"data row0 col5\" >[27.74, 30.97]</td>\n",
       "            </tr>\n",
       "            <tr>\n",
       "                        <th id=\"T_7f60b718_9916_11ea_9d8b_95413e2a1f37level0_row1\" class=\"row_heading level0 row1\" >(34,44]</th>\n",
       "                        <td id=\"T_7f60b718_9916_11ea_9d8b_95413e2a1f37row1_col0\" class=\"data row1 col0\" >155.58</td>\n",
       "                        <td id=\"T_7f60b718_9916_11ea_9d8b_95413e2a1f37row1_col1\" class=\"data row1 col1\" >29.32</td>\n",
       "                        <td id=\"T_7f60b718_9916_11ea_9d8b_95413e2a1f37row1_col2\" class=\"data row1 col2\" >[141.43, 169.73]</td>\n",
       "                        <td id=\"T_7f60b718_9916_11ea_9d8b_95413e2a1f37row1_col3\" class=\"data row1 col3\" >[138.69, 172.47]</td>\n",
       "                        <td id=\"T_7f60b718_9916_11ea_9d8b_95413e2a1f37row1_col4\" class=\"data row1 col4\" >[27.55, 31.08]</td>\n",
       "                        <td id=\"T_7f60b718_9916_11ea_9d8b_95413e2a1f37row1_col5\" class=\"data row1 col5\" >[27.21, 31.42]</td>\n",
       "            </tr>\n",
       "            <tr>\n",
       "                        <th id=\"T_7f60b718_9916_11ea_9d8b_95413e2a1f37level0_row2\" class=\"row_heading level0 row2\" >(44,54]</th>\n",
       "                        <td id=\"T_7f60b718_9916_11ea_9d8b_95413e2a1f37row2_col0\" class=\"data row2 col0\" >157.41</td>\n",
       "                        <td id=\"T_7f60b718_9916_11ea_9d8b_95413e2a1f37row2_col1\" class=\"data row2 col1\" >36.59</td>\n",
       "                        <td id=\"T_7f60b718_9916_11ea_9d8b_95413e2a1f37row2_col2\" class=\"data row2 col2\" >[146.96, 167.86]</td>\n",
       "                        <td id=\"T_7f60b718_9916_11ea_9d8b_95413e2a1f37row2_col3\" class=\"data row2 col3\" >[144.95, 169.88]</td>\n",
       "                        <td id=\"T_7f60b718_9916_11ea_9d8b_95413e2a1f37row2_col4\" class=\"data row2 col4\" >[34.52, 38.66]</td>\n",
       "                        <td id=\"T_7f60b718_9916_11ea_9d8b_95413e2a1f37row2_col5\" class=\"data row2 col5\" >[34.13, 39.06]</td>\n",
       "            </tr>\n",
       "            <tr>\n",
       "                        <th id=\"T_7f60b718_9916_11ea_9d8b_95413e2a1f37level0_row3\" class=\"row_heading level0 row3\" >(54,64]</th>\n",
       "                        <td id=\"T_7f60b718_9916_11ea_9d8b_95413e2a1f37row3_col0\" class=\"data row3 col0\" >164.48</td>\n",
       "                        <td id=\"T_7f60b718_9916_11ea_9d8b_95413e2a1f37row3_col1\" class=\"data row3 col1\" >41.61</td>\n",
       "                        <td id=\"T_7f60b718_9916_11ea_9d8b_95413e2a1f37row3_col2\" class=\"data row3 col2\" >[151.92, 177.04]</td>\n",
       "                        <td id=\"T_7f60b718_9916_11ea_9d8b_95413e2a1f37row3_col3\" class=\"data row3 col3\" >[149.50, 179.46]</td>\n",
       "                        <td id=\"T_7f60b718_9916_11ea_9d8b_95413e2a1f37row3_col4\" class=\"data row3 col4\" >[38.66, 44.56]</td>\n",
       "                        <td id=\"T_7f60b718_9916_11ea_9d8b_95413e2a1f37row3_col5\" class=\"data row3 col5\" >[38.09, 45.13]</td>\n",
       "            </tr>\n",
       "            <tr>\n",
       "                        <th id=\"T_7f60b718_9916_11ea_9d8b_95413e2a1f37level0_row4\" class=\"row_heading level0 row4\" >(64,80]</th>\n",
       "                        <td id=\"T_7f60b718_9916_11ea_9d8b_95413e2a1f37row4_col0\" class=\"data row4 col0\" >142.94</td>\n",
       "                        <td id=\"T_7f60b718_9916_11ea_9d8b_95413e2a1f37row4_col1\" class=\"data row4 col1\" >40.17</td>\n",
       "                        <td id=\"T_7f60b718_9916_11ea_9d8b_95413e2a1f37row4_col2\" class=\"data row4 col2\" >[118.74, 167.14]</td>\n",
       "                        <td id=\"T_7f60b718_9916_11ea_9d8b_95413e2a1f37row4_col3\" class=\"data row4 col3\" >[113.99, 171.90]</td>\n",
       "                        <td id=\"T_7f60b718_9916_11ea_9d8b_95413e2a1f37row4_col4\" class=\"data row4 col4\" >[35.89, 44.44]</td>\n",
       "                        <td id=\"T_7f60b718_9916_11ea_9d8b_95413e2a1f37row4_col5\" class=\"data row4 col5\" >[35.05, 45.29]</td>\n",
       "            </tr>\n",
       "            <tr>\n",
       "                        <th id=\"T_7f60b718_9916_11ea_9d8b_95413e2a1f37level0_row5\" class=\"row_heading level0 row5\" >[18,24]</th>\n",
       "                        <td id=\"T_7f60b718_9916_11ea_9d8b_95413e2a1f37row5_col0\" class=\"data row5 col0\" >123.77</td>\n",
       "                        <td id=\"T_7f60b718_9916_11ea_9d8b_95413e2a1f37row5_col1\" class=\"data row5 col1\" >34.44</td>\n",
       "                        <td id=\"T_7f60b718_9916_11ea_9d8b_95413e2a1f37row5_col2\" class=\"data row5 col2\" >[112.21, 135.33]</td>\n",
       "                        <td id=\"T_7f60b718_9916_11ea_9d8b_95413e2a1f37row5_col3\" class=\"data row5 col3\" >[109.97, 137.58]</td>\n",
       "                        <td id=\"T_7f60b718_9916_11ea_9d8b_95413e2a1f37row5_col4\" class=\"data row5 col4\" >[31.70, 37.18]</td>\n",
       "                        <td id=\"T_7f60b718_9916_11ea_9d8b_95413e2a1f37row5_col5\" class=\"data row5 col5\" >[31.17, 37.72]</td>\n",
       "            </tr>\n",
       "    </tbody></table>"
      ],
      "text/plain": [
       "<pandas.io.formats.style.Styler at 0x7f992c46e588>"
      ]
     },
     "execution_count": 25,
     "metadata": {},
     "output_type": "execute_result"
    }
   ],
   "source": [
    "USERS.merge(stats_per_ind_raw_selected, on='user') \\\n",
    "    .groupby('age_recode') \\\n",
    "    .agg({'domain': 'mean', 'active_seconds': 'mean'}) \\\n",
    "    .merge(\n",
    "        USERS \\\n",
    "            .merge(stats_per_ind_raw_selected, on='user') \\\n",
    "            .groupby('age_recode') \\\n",
    "            .agg({'domain': list, 'active_seconds': list}) \\\n",
    "            .rename(columns={'domain': 'un_domain_list', 'active_seconds': 'mean_active_seconds_list'}),\n",
    "        left_index=True, right_index=True,\n",
    "    ) \\\n",
    "    .assign(\n",
    "        domain_conf_90         = lambda df: df['un_domain_list'].apply(partial(get_conf_interval, percentage=.90)),\n",
    "        domain_conf_95         = lambda df: df['un_domain_list'].apply(partial(get_conf_interval, percentage=.95)),\n",
    "        active_seconds_conf_90 = lambda df: df['mean_active_seconds_list'].apply(partial(get_conf_interval, percentage=.90)),\n",
    "        active_seconds_conf_95 = lambda df: df['mean_active_seconds_list'].apply(partial(get_conf_interval, percentage=.95)),\n",
    "    ) \\\n",
    "    .drop(columns=['un_domain_list', 'mean_active_seconds_list']) \\\n",
    "    .style \\\n",
    "        .format({\n",
    "            'domain'                : '{0:.2f}',\n",
    "            'active_seconds'        : '{0:.2f}',\n",
    "            'domain_conf_90'        : lambda t: f'[{t[0]:.2f}, {t[1]:.2f}]',\n",
    "            'active_seconds_conf_90': lambda t: f'[{t[0]:.2f}, {t[1]:.2f}]',\n",
    "            'domain_conf_95'        : lambda t: f'[{t[0]:.2f}, {t[1]:.2f}]',\n",
    "            'active_seconds_conf_95': lambda t: f'[{t[0]:.2f}, {t[1]:.2f}]',\n",
    "        })"
   ]
  },
  {
   "cell_type": "markdown",
   "metadata": {},
   "source": [
    "# Distribution of Number of Visited Domains by Users (Fig.3)"
   ]
  },
  {
   "cell_type": "code",
   "execution_count": 26,
   "metadata": {
    "ExecuteTime": {
     "end_time": "2020-05-18T14:47:49.147336Z",
     "start_time": "2020-05-18T14:47:29.920450Z"
    }
   },
   "outputs": [],
   "source": [
    "d1 = SELECTED_USER_IDS.merge(TRAJECTORY_PROCESSED[TRAJECTORY_PROCESSED['starts'] < TRAJECTORY_PROCESSED['starts'].min() + timedelta(days=1)], on='user') \\\n",
    "        .groupby('user') \\\n",
    "        .agg({'top_level_domain': 'count'}).top_level_domain \\\n",
    "        .value_counts(normalize=True).to_frame() \\\n",
    "        .rename(columns={'top_level_domain': '$P(N)_{1D}$'}).sort_index()\n",
    "\n",
    "w1 = SELECTED_USER_IDS.merge(TRAJECTORY_PROCESSED[TRAJECTORY_PROCESSED['starts'] < TRAJECTORY_PROCESSED['starts'].min() + timedelta(weeks=1)], on='user') \\\n",
    "        .groupby('user') \\\n",
    "        .agg({'top_level_domain': 'count'}).top_level_domain \\\n",
    "        .value_counts(normalize=True).to_frame() \\\n",
    "        .rename(columns={'top_level_domain': '$P(N)_{1W}$'}).sort_index()\n",
    "\n",
    "w2 = SELECTED_USER_IDS.merge(TRAJECTORY_PROCESSED[TRAJECTORY_PROCESSED['starts'] < TRAJECTORY_PROCESSED['starts'].min() + timedelta(weeks=2)], on='user') \\\n",
    "        .groupby('user') \\\n",
    "        .agg({'top_level_domain': 'count'}).top_level_domain \\\n",
    "        .value_counts(normalize=True).to_frame() \\\n",
    "        .rename(columns={'top_level_domain': '$P(N)_{2W}$'}).sort_index()\n",
    "\n",
    "w3 = SELECTED_USER_IDS.merge(TRAJECTORY_PROCESSED[TRAJECTORY_PROCESSED['starts'] < TRAJECTORY_PROCESSED['starts'].min() + timedelta(weeks=3)], on='user') \\\n",
    "        .groupby('user') \\\n",
    "        .agg({'top_level_domain': 'count'}).top_level_domain \\\n",
    "        .value_counts(normalize=True).to_frame() \\\n",
    "        .rename(columns={'top_level_domain': '$P(N)_{3W}$'}).sort_index()\n",
    "\n",
    "w4 = SELECTED_USER_IDS.merge(TRAJECTORY_PROCESSED[TRAJECTORY_PROCESSED['starts'] < TRAJECTORY_PROCESSED['starts'].min() + timedelta(weeks=4)], on='user') \\\n",
    "        .groupby('user') \\\n",
    "        .agg({'top_level_domain': 'count'}).top_level_domain \\\n",
    "        .value_counts(normalize=True).to_frame() \\\n",
    "        .rename(columns={'top_level_domain': '$P(N)_{4W}$'}).sort_index()\n",
    "\n",
    "df_cdf = d1 \\\n",
    "            .merge(w1, left_index=True, right_index=True, how='outer') \\\n",
    "            .merge(w2, left_index=True, right_index=True, how='outer') \\\n",
    "            .merge(w3, left_index=True, right_index=True, how='outer') \\\n",
    "            .merge(w4, left_index=True, right_index=True, how='outer') \\\n",
    "            .fillna(0).cumsum()"
   ]
  },
  {
   "cell_type": "code",
   "execution_count": 27,
   "metadata": {
    "ExecuteTime": {
     "end_time": "2020-05-18T14:47:50.529286Z",
     "start_time": "2020-05-18T14:47:49.801108Z"
    }
   },
   "outputs": [
    {
     "data": {
      "text/plain": [
       "<matplotlib.legend.Legend at 0x7f98d2529940>"
      ]
     },
     "execution_count": 27,
     "metadata": {},
     "output_type": "execute_result"
    },
    {
     "data": {
      "image/png": "[encoded data removed]",
      "text/plain": [
       "<Figure size 237.6x144 with 1 Axes>"
      ]
     },
     "metadata": {},
     "output_type": "display_data"
    }
   ],
   "source": [
    "TITLE = 'The Distribution of Number of Locations $N$ for Various Time Periods'\n",
    "ARGS  = dict(grid=True, logx=True)\n",
    "\n",
    "ax = df_cdf.plot(**ARGS)\n",
    "\n",
    "ax.set_xlabel('N')\n",
    "ax.set_ylabel('CDF')\n",
    "\n",
    "styles = LINE_STYLES[:len(ax.get_lines())]\n",
    "\n",
    "for line, style in zip(ax.get_lines(), styles):\n",
    "    line.set_linestyle(style)\n",
    "\n",
    "ax.legend(ax.get_lines(), ['1-Day', '1-Week', '2-Week', '3-Week', '4-Week'], loc='best')"
   ]
  },
  {
   "cell_type": "markdown",
   "metadata": {},
   "source": [
    "# Absolute Change in $\\Pi^{max}$ with Increasing Trajectory Length for 100 Users \n",
    "\n",
    "- Section 5.2 Impact of stationarity in trajectories in the article.\n",
    "- Figure 3 in the article."
   ]
  },
  {
   "cell_type": "code",
   "execution_count": 258,
   "metadata": {
    "ExecuteTime": {
     "end_time": "2020-05-07T15:05:09.613204Z",
     "start_time": "2020-05-07T15:05:09.608475Z"
    }
   },
   "outputs": [],
   "source": [
    "def quantile(n):\n",
    "    def quantile_(x):\n",
    "        return np.quantile(x, n)\n",
    "    quantile_.__name__ = 'quantile_%s' % n\n",
    "    return quantile_\n",
    "\n",
    "\n",
    "def execute_incremental_predictability(df, min_len, max_len, points):\n",
    "    \n",
    "    increment = (max_len-min_len)//points\n",
    "\n",
    "    for s in range(min_len, max_len+increment, increment):\n",
    "        df[f'domain_{s}'] = df['domain'].apply(lambda l: l[:s])\n",
    "        df[f'domain_{s}_unique'] = df[f'domain_{s}'].apply(set).apply(len)\n",
    "        df[f'domain_{s}_entropy_lz'] = df[f'domain_{s}'].apply(EntropyRate.__lempel_ziv_estimate__)\n",
    "        df[f'domain_{s}_predictability'] = df.apply(lambda r: Predictability.__pi__(r[f'domain_{s}_unique'], r[f'domain_{s}_entropy_lz']),axis=1)\n",
    "\n",
    "    return df\n",
    "\n",
    "\n",
    "MIN = 10\n",
    "MAX = 1855\n",
    "POINTS = 1000\n",
    "INC = (MAX-MIN)//POINTS"
   ]
  },
  {
   "cell_type": "code",
   "execution_count": 119,
   "metadata": {
    "ExecuteTime": {
     "end_time": "2020-05-07T11:52:01.091486Z",
     "start_time": "2020-05-07T11:52:01.087922Z"
    },
    "deletable": false,
    "editable": false,
    "run_control": {
     "frozen": true
    }
   },
   "outputs": [],
   "source": [
    "BNST = BinnedNonStationaryTrajectory(TRAJECTORY_PROCESSED)\n",
    "BNST_domain, = BNST.create(features=['domain'], bin_size=60).values()\n",
    "BNST_domain.to_csv('/bigdata/web_tracking/data/traj-non-stationary/trajectory-non-stationery.csv', index=False)\n",
    "\n",
    "BNST_domain = pd.read_csv('/bigdata/web_tracking/data/traj-non-stationary/trajectory-non-stationery.csv')\n",
    "BNST_domain_sample = BNST_domain \\\n",
    "                        .groupby('user', as_index=False) \\\n",
    "                        .agg({\n",
    "                            'non_stationary_group': 'count',\n",
    "                            'domain': list\n",
    "                        }) \\\n",
    "                        .nlargest(100, 'non_stationary_group') \\\n",
    "                        .tail(100)\n",
    "   \n",
    "BNST_domain_sample_split = np.array_split(BNST_domain_sample.copy(), cpu_count())\n",
    "with mp.Pool(cpu_count()) as pool:\n",
    "    DF_INC_PREDICTABILITY = pd.concat(pool.map(partial(execute_incremental_predictability, min_len=MIN, max_len=MAX, points=POINTS), BNST_domain_sample_split))\n",
    "DF_INC_PREDICTABILITY.to_csv('/bigdata/web_tracking/data/traj-non-stationary/trajectory-non-stationary-100-nlargest-100-tail.csv', index=False)"
   ]
  },
  {
   "cell_type": "code",
   "execution_count": 120,
   "metadata": {
    "ExecuteTime": {
     "end_time": "2020-05-07T11:52:25.247897Z",
     "start_time": "2020-05-07T11:52:01.206039Z"
    }
   },
   "outputs": [],
   "source": [
    "DF_INC_PREDICTABILITY = pd.read_csv('/bigdata/web_tracking/data/traj-non-stationary/trajectory-non-stationary-100-nlargest-100-tail.csv')\n",
    "\n",
    "COLS_PRED = [f'domain_{s}_predictability'for s in range(MIN, MAX+INC, INC)]\n",
    "\n",
    "DF_INC_PREDICTABILITY_view = DF_INC_PREDICTABILITY[['user', *COLS_PRED]].set_index('user').stack().to_frame() \\\n",
    "                                .reset_index() \\\n",
    "                                .assign(level_1 = lambda df: df['level_1'].apply(lambda text: int(text.split('_')[1]))) \\\n",
    "                                .rename(columns={'level_1': 'length', 0: 'pi_max'}) \\\n",
    "                                .assign(\n",
    "                                    is_user_same = lambda df: (df['user'] == df['user'].shift()),\n",
    "                                    pi_max_diff = lambda df: df['is_user_same'] * (df['pi_max'] - df['pi_max'].shift())\n",
    "                                )\n",
    "\n",
    "DF_INC_PREDICTABILITY_view_absolute = DF_INC_PREDICTABILITY[['user', *COLS_PRED]].set_index('user').stack().to_frame() \\\n",
    "                                        .reset_index() \\\n",
    "                                        .assign(level_1 = lambda df: df['level_1'].apply(lambda text: int(text.split('_')[1]))) \\\n",
    "                                        .rename(columns={'level_1': 'length', 0: 'pi_max'}) \\\n",
    "                                        .assign(\n",
    "                                            is_user_same = lambda df: (df['user'] == df['user'].shift()),\n",
    "                                            pi_max_diff = lambda df: (df['is_user_same'] * (df['pi_max'] - df['pi_max'].shift())).apply(abs)\n",
    "                                        ).drop(columns=['is_user_same'])\n",
    "\n",
    "DF_INC_PREDICTABILITY_view_absolute_mean = DF_INC_PREDICTABILITY_view_abs \\\n",
    "                                                .groupby('length', as_index=False) \\\n",
    "                                                .agg({'pi_max': 'mean', 'pi_max_diff': 'mean'})"
   ]
  },
  {
   "cell_type": "code",
   "execution_count": 300,
   "metadata": {
    "ExecuteTime": {
     "end_time": "2020-05-11T12:29:25.915516Z",
     "start_time": "2020-05-11T12:29:24.790663Z"
    }
   },
   "outputs": [
    {
     "name": "stderr",
     "output_type": "stream",
     "text": [
      "/home/karacaliko/anaconda3/lib/python3.6/site-packages/numpy/lib/function_base.py:3652: RuntimeWarning: Invalid value encountered in percentile\n",
      "  interpolation=interpolation)\n"
     ]
    }
   ],
   "source": [
    "DF_INC_PREDICTABILITY_view_absolute_lines = DF_INC_PREDICTABILITY_view_absolute \\\n",
    "                                                .groupby('length') \\\n",
    "                                                .agg({\n",
    "                                                    'pi_max_diff': ['min', 'max', quantile(.05), quantile(.95)]\n",
    "                                                })\n",
    "\n",
    "DF_INC_PREDICTABILITY_view_absolute_lines.columns = ['min', 'max', 'quantile_.05', 'quantile_.95']\n",
    "\n",
    "DF_INC_PREDICTABILITY_view_absolute_lines = DF_INC_PREDICTABILITY_view_absolute_lines \\\n",
    "                                                .reset_index() \\\n",
    "                                                .rename(columns={'index': 'length'}) \\\n",
    "                                                .query('length > 10')\n"
   ]
  },
  {
   "cell_type": "code",
   "execution_count": 302,
   "metadata": {
    "ExecuteTime": {
     "end_time": "2020-05-11T12:29:26.959846Z",
     "start_time": "2020-05-11T12:29:26.952895Z"
    }
   },
   "outputs": [],
   "source": [
    "DF_INC_PREDICTABILITY_view_absolute_mean = DF_INC_PREDICTABILITY_view_absolute_mean.query('length > 10')"
   ]
  },
  {
   "cell_type": "code",
   "execution_count": 337,
   "metadata": {
    "ExecuteTime": {
     "end_time": "2020-05-11T15:41:04.511076Z",
     "start_time": "2020-05-11T15:41:03.860276Z"
    }
   },
   "outputs": [
    {
     "data": {
      "image/png": "[encoded data removed]",
      "text/plain": [
       "<Figure size 237.6x144 with 1 Axes>"
      ]
     },
     "metadata": {},
     "output_type": "display_data"
    }
   ],
   "source": [
    "ARGS = dict(grid=True, xlim=(0, 1000), ylim=(0, .1), color='darkcyan', legend=None,)\n",
    "\n",
    "ax = DF_INC_PREDICTABILITY_view_absolute_mean \\\n",
    "        .plot(x='length', y='pi_max_diff', **ARGS)\n",
    "\n",
    "DF_INC_PREDICTABILITY_view_absolute_lines \\\n",
    "    .plot(x='length', y=['quantile_.05', 'quantile_.95'], ax=ax, linewidth=0.5, linestyle=':', **ARGS)\n",
    "\n",
    "ax \\\n",
    "    .fill_between(DF_INC_PREDICTABILITY_view_absolute_lines['length'],\n",
    "                  DF_INC_PREDICTABILITY_view_absolute_lines['quantile_.05'],\n",
    "                  DF_INC_PREDICTABILITY_view_absolute_lines['quantile_.95'],\n",
    "                  color='aquamarine')\n",
    "\n",
    "# ax.legend([\"Mean: $\\Delta \\Pi^{max}(\\ell')$\"])\n",
    "ax.set_xlabel('Length of Trajectory')\n",
    "ax.set_ylabel(\"$\\Delta \\Pi^{max}(\\ell')$\", )\n",
    "# ax.get_figure().savefig(f'./figures/results/pi-max-diff-quantiles-over-length.pdf', bbox_inches='tight')"
   ]
  },
  {
   "cell_type": "markdown",
   "metadata": {},
   "source": [
    "# Impact of Stationarity in the Trajectories\n",
    "\n",
    "- Section 5.2 Impact of stationarity in trajectories in the article.\n",
    "- Figure 4 in the article."
   ]
  },
  {
   "cell_type": "code",
   "execution_count": 66,
   "metadata": {
    "ExecuteTime": {
     "end_time": "2020-05-27T12:01:53.544600Z",
     "start_time": "2020-05-27T12:01:52.576923Z"
    }
   },
   "outputs": [
    {
     "data": {
      "text/plain": [
       "['0.5811', '0.6767', '0.8308']"
      ]
     },
     "execution_count": 66,
     "metadata": {},
     "output_type": "execute_result"
    },
    {
     "data": {
      "image/png": "[encoded data removed]",
      "text/plain": [
       "<Figure size 237.6x144 with 1 Axes>"
      ]
     },
     "metadata": {},
     "output_type": "display_data"
    }
   ],
   "source": [
    "# AX_COLORS = ['deepskyblue', 'forestgreen', 'coral']\n",
    "AX_COLORS = ['#1f77b4', '#2ca02c', '#ff7f0e']\n",
    "ARGS = dict(xlim=(0, 1), ylim=(0, 8.2), grid=True)\n",
    "\n",
    "\n",
    "ax = BIN_NON_STAT_RES['domain_pi_max'] \\\n",
    "        .plot.kde(**ARGS, color=AX_COLORS[0])\n",
    "\n",
    "SEQ_NON_STAT_RES['domain_pi_max'] \\\n",
    "    .plot.kde(**ARGS, color=AX_COLORS[1], ax=ax)\n",
    "\n",
    "STAT_RES['domain_pi_max'] \\\n",
    "    .plot.kde(**ARGS, color=AX_COLORS[2], ax=ax)\n",
    "\n",
    "ax.set_xlabel('Predictability')\n",
    "\n",
    "maxes = []\n",
    "styles = LINE_STYLES[:len(ax.get_lines())]\n",
    "\n",
    "for line, style, color in zip(ax.get_lines(), styles, AX_COLORS):\n",
    "    x = line.get_xydata()[:, 0]\n",
    "    y = line.get_xydata()[:, 1]\n",
    "    ax.fill_between(x, y, color=color, alpha=0.15)\n",
    "    maxes.append(x[np.where(y == max(y))][0])\n",
    "    line.set_linestyle(style)\n",
    "\n",
    "ax.legend(ax.get_lines(), ['$\\Pi^{max}$: $T^{binNonStat}$', '$\\Pi^{max}$: $T^{seqNonStat}$', '$\\Pi^{max}$: $T^{stat}$',], loc='best')\n",
    "FILE_NAME = 'impact-of-stationarity-in-trajectories.pdf'\n",
    "# ax.get_figure().savefig(f'./figures/results/{FILE_NAME}', bbox_inches='tight')\n",
    "[ f'{m:.4f}' for m in maxes ]"
   ]
  },
  {
   "cell_type": "code",
   "execution_count": 79,
   "metadata": {
    "ExecuteTime": {
     "end_time": "2020-05-27T12:21:50.173716Z",
     "start_time": "2020-05-27T12:21:50.134064Z"
    }
   },
   "outputs": [
    {
     "data": {
      "text/html": [
       "<style  type=\"text/css\" >\n",
       "    #T_a4210b66_a014_11ea_a1fc_1b036a81acc6row0_col0 {\n",
       "            background-color:  #f7fcf0;\n",
       "            color:  #000000;\n",
       "        }    #T_a4210b66_a014_11ea_a1fc_1b036a81acc6row1_col0 {\n",
       "            background-color:  #a6dcb6;\n",
       "            color:  #000000;\n",
       "        }    #T_a4210b66_a014_11ea_a1fc_1b036a81acc6row2_col0 {\n",
       "            background-color:  #084081;\n",
       "            color:  #f1f1f1;\n",
       "        }</style><table id=\"T_a4210b66_a014_11ea_a1fc_1b036a81acc6\" ><thead>    <tr>        <th class=\"blank level0\" ></th>        <th class=\"col_heading level0 col0\" >Mean</th>        <th class=\"col_heading level0 col1\" >.90 CI</th>        <th class=\"col_heading level0 col2\" >.95 CI</th>    </tr></thead><tbody>\n",
       "                <tr>\n",
       "                        <th id=\"T_a4210b66_a014_11ea_a1fc_1b036a81acc6level0_row0\" class=\"row_heading level0 row0\" >$\\Pi^{max}$: $T^{binNonStat}$</th>\n",
       "                        <td id=\"T_a4210b66_a014_11ea_a1fc_1b036a81acc6row0_col0\" class=\"data row0 col0\" >0.5880</td>\n",
       "                        <td id=\"T_a4210b66_a014_11ea_a1fc_1b036a81acc6row0_col1\" class=\"data row0 col1\" >[0.5845, 0.5914]</td>\n",
       "                        <td id=\"T_a4210b66_a014_11ea_a1fc_1b036a81acc6row0_col2\" class=\"data row0 col2\" >[0.5839, 0.5921]</td>\n",
       "            </tr>\n",
       "            <tr>\n",
       "                        <th id=\"T_a4210b66_a014_11ea_a1fc_1b036a81acc6level0_row1\" class=\"row_heading level0 row1\" >$\\Pi^{max}$: $T^{seqNonStat}$</th>\n",
       "                        <td id=\"T_a4210b66_a014_11ea_a1fc_1b036a81acc6row1_col0\" class=\"data row1 col0\" >0.6878</td>\n",
       "                        <td id=\"T_a4210b66_a014_11ea_a1fc_1b036a81acc6row1_col1\" class=\"data row1 col1\" >[0.6846, 0.6909]</td>\n",
       "                        <td id=\"T_a4210b66_a014_11ea_a1fc_1b036a81acc6row1_col2\" class=\"data row1 col2\" >[0.6840, 0.6915]</td>\n",
       "            </tr>\n",
       "            <tr>\n",
       "                        <th id=\"T_a4210b66_a014_11ea_a1fc_1b036a81acc6level0_row2\" class=\"row_heading level0 row2\" >$\\Pi^{max}$: $T^{stat}$</th>\n",
       "                        <td id=\"T_a4210b66_a014_11ea_a1fc_1b036a81acc6row2_col0\" class=\"data row2 col0\" >0.8511</td>\n",
       "                        <td id=\"T_a4210b66_a014_11ea_a1fc_1b036a81acc6row2_col1\" class=\"data row2 col1\" >[0.8485, 0.8536]</td>\n",
       "                        <td id=\"T_a4210b66_a014_11ea_a1fc_1b036a81acc6row2_col2\" class=\"data row2 col2\" >[0.8480, 0.8541]</td>\n",
       "            </tr>\n",
       "    </tbody></table>"
      ],
      "text/plain": [
       "<pandas.io.formats.style.Styler at 0x7f4782288710>"
      ]
     },
     "execution_count": 79,
     "metadata": {},
     "output_type": "execute_result"
    }
   ],
   "source": [
    "pd.DataFrame(\n",
    "    data = [\n",
    "        get_mean_with_intervals(BIN_NON_STAT_RES, 'domain_pi_max', [.90, .95]),\n",
    "        get_mean_with_intervals(SEQ_NON_STAT_RES, 'domain_pi_max', [.90, .95]),\n",
    "        get_mean_with_intervals(STAT_RES, 'domain_pi_max', [.90, .95])\n",
    "    ],\n",
    "    columns=['Mean', '.90 CI', '.95 CI'],\n",
    "    index = [\"$\\Pi^{max}$: $T^{binNonStat}$\", \"$\\Pi^{max}$: $T^{seqNonStat}$\", \"$\\Pi^{max}$: $T^{stat}$\", ]\n",
    "    \n",
    ") \\\n",
    ".style \\\n",
    "    .background_gradient('GnBu', subset=['Mean']) \\\n",
    "    .format({\n",
    "        'Mean': '{0:.4f}',\n",
    "        '.90 CI': lambda t: f'[{t[0]:.4f}, {t[1]:.4f}]',\n",
    "        '.95 CI': lambda t: f'[{t[0]:.4f}, {t[1]:.4f}]',\n",
    "    })"
   ]
  },
  {
   "cell_type": "markdown",
   "metadata": {},
   "source": [
    "# Impact of Temporal Resolution on the Predictability\n",
    "\n",
    "- Section 5.2 Impact of temporal resolution in trajectories in the article.\n",
    "- Figure 5 in the article."
   ]
  },
  {
   "cell_type": "code",
   "execution_count": 97,
   "metadata": {
    "ExecuteTime": {
     "end_time": "2020-05-19T08:35:07.415676Z",
     "start_time": "2020-05-19T08:35:07.411523Z"
    }
   },
   "outputs": [],
   "source": [
    "def generate_binned_trajectory(df, bin_size):\n",
    "    BST = BinnedStationaryTrajectory(df)\n",
    "    return BST.create(bin_size=bin_size)"
   ]
  },
  {
   "cell_type": "code",
   "execution_count": 98,
   "metadata": {
    "ExecuteTime": {
     "end_time": "2020-05-19T08:35:15.521061Z",
     "start_time": "2020-05-19T08:35:08.343692Z"
    }
   },
   "outputs": [
    {
     "name": "stderr",
     "output_type": "stream",
     "text": [
      "/home/karacaliko/anaconda3/lib/python3.6/site-packages/scipy/optimize/minpack.py:163: RuntimeWarning: The iteration is not making good progress, as measured by the \n",
      "  improvement from the last ten iterations.\n",
      "  warnings.warn(msg, RuntimeWarning)\n",
      "/home/karacaliko/anaconda3/lib/python3.6/site-packages/scipy/optimize/minpack.py:163: RuntimeWarning: xtol=0.000000 is too small, no further improvement in the approximate\n",
      "  solution is possible.\n",
      "  warnings.warn(msg, RuntimeWarning)\n"
     ]
    }
   ],
   "source": [
    "TRAJECTORY_PROCESSED_sample = TRAJECTORY_PROCESSED.query(\"user == 477537641\")\n",
    "TRAJECTORY_PROCESSED_temporal = pd.concat([\n",
    "    generate_binned_trajectory(TRAJECTORY_PROCESSED_sample, i).groupby('user', as_index=False).agg({'domain': list}).assign(bin=i)\n",
    "    for i in [15, 30, 45, *range(60, 16*60, 60)]\n",
    "]).reset_index(drop=True)\n",
    "df_impact_temporal = TRAJECTORY_PROCESSED_temporal \\\n",
    "                        .assign(\n",
    "                            visits          = lambda df: df['domain'].apply(len),\n",
    "                            unique          = lambda df: df['domain'].apply(lambda ds: len(set(ds))),\n",
    "                            entropy_random  = lambda df: df['domain'].apply(Entropy.__random_entropy__),\n",
    "                            entropy_shannon = lambda df: df['domain'].apply(Entropy.__shannon_entropy__),\n",
    "                            entropy_lz      = lambda df: df['domain'].apply(EntropyRate.__lempel_ziv_estimate__),\n",
    "                            pi_max          = lambda df: df.apply(lambda r: Predictability.__pi__(r['unique'], r['entropy_lz']), axis=1),\n",
    "                            bin_size        = lambda df: [ f\"{b/60:.2f}\" if b < 60 else f\"{b//60}\" for b in df.bin ]\n",
    "                        ) \\\n",
    "                        .drop(columns=['domain'])"
   ]
  },
  {
   "cell_type": "code",
   "execution_count": 99,
   "metadata": {
    "ExecuteTime": {
     "end_time": "2020-05-19T08:35:22.283599Z",
     "start_time": "2020-05-19T08:35:21.811008Z"
    }
   },
   "outputs": [
    {
     "data": {
      "image/png": "[encoded data removed]",
      "text/plain": [
       "<Figure size 237.6x144 with 2 Axes>"
      ]
     },
     "metadata": {},
     "output_type": "display_data"
    }
   ],
   "source": [
    "ax = df_impact_temporal \\\n",
    "        .plot(x='bin_size', \n",
    "              y='entropy_lz', \n",
    "              grid=True, \n",
    "              marker='>', label='Entropy')\n",
    "\n",
    "ax.set_ylabel('Entropy',)\n",
    "ax.set_xlabel('Bin Size [Bin]', labelpad=0)\n",
    "ax.xaxis.set_tick_params(rotation=90)\n",
    "ax.xaxis.set_major_locator(ticker.MaxNLocator(10))\n",
    "\n",
    "ax_twinx = ax.twinx()\n",
    "l = ax_twinx \\\n",
    "        .plot(df_impact_temporal.bin_size, df_impact_temporal.pi_max, linewidth=2.0, color='orange', marker='o', linestyle='--', label='$\\Pi^{max}$')\n",
    "ax_twinx.set_ylabel('Predictability')\n",
    "ls = [*ax.get_lines(), *l]\n",
    "ax.legend(ls, ['Entropy', 'Predictability'], loc=7)\n",
    "\n",
    "FILE_NAME = 'impact-of-temporal-resolution-v2.pdf'\n",
    "# ax.get_figure().savefig(f'./figures/results/{FILE_NAME}', bbox_inches='tight')"
   ]
  },
  {
   "cell_type": "markdown",
   "metadata": {},
   "source": [
    "# Impact of Spatial Resolution on the Predictability\n",
    "\n",
    "- Section 5.3 Impact of spatial resolution in trajectories in the article.\n",
    "- Figure 7 in the article."
   ]
  },
  {
   "cell_type": "code",
   "execution_count": 35,
   "metadata": {
    "ExecuteTime": {
     "end_time": "2020-05-18T14:54:44.380081Z",
     "start_time": "2020-05-18T14:54:13.883260Z"
    }
   },
   "outputs": [],
   "source": [
    "TRAJECTORY_RAW = pd \\\n",
    "                    .read_csv('/bigdata/web_tracking/data/original/urls.csv', usecols=['id', 'panelist_id', 'url'], dtype={'id': int}) \\\n",
    "                    .rename(columns={'panelist_id': 'user', 'id': 'uid'}) \\\n",
    "                    .merge(SELECTED_USER_IDS, on='user') \\\n",
    "                    .merge(TRAJECTORY_PROCESSED, on=['uid', 'user'])"
   ]
  },
  {
   "cell_type": "code",
   "execution_count": 40,
   "metadata": {
    "ExecuteTime": {
     "end_time": "2020-05-18T15:32:09.864719Z",
     "start_time": "2020-05-18T15:27:10.197998Z"
    }
   },
   "outputs": [],
   "source": [
    "RDP = RawDataProcessor(TRAJECTORY_RAW)\n",
    "RDP.create_time_series(uid='uid', \n",
    "                       user='user', \n",
    "                       url='url', \n",
    "                       domain='domain', \n",
    "                       category='category_names', \n",
    "                       starts='starts', \n",
    "                       active_seconds='active_seconds')\n",
    "TRAJECTORY_RAW = RDP.df.copy()"
   ]
  },
  {
   "cell_type": "code",
   "execution_count": 41,
   "metadata": {
    "ExecuteTime": {
     "end_time": "2020-05-18T16:04:58.483918Z",
     "start_time": "2020-05-18T15:32:10.708061Z"
    }
   },
   "outputs": [],
   "source": [
    "SEQ_NON_STAT = SequentialNonStationaryTrajectory(TRAJECTORY_RAW)\n",
    "SEQ_NON_STAT_TRAJ = SEQ_NON_STAT.create(threshold=180, features=['url', 'domain', 'category'])"
   ]
  },
  {
   "cell_type": "code",
   "execution_count": 48,
   "metadata": {
    "ExecuteTime": {
     "end_time": "2020-05-18T16:22:11.309404Z",
     "start_time": "2020-05-18T16:07:08.929075Z"
    }
   },
   "outputs": [
    {
     "name": "stderr",
     "output_type": "stream",
     "text": [
      "/home/karacaliko/anaconda3/lib/python3.6/site-packages/scipy/optimize/minpack.py:163: RuntimeWarning: xtol=0.000000 is too small, no further improvement in the approximate\n",
      "  solution is possible.\n",
      "  warnings.warn(msg, RuntimeWarning)\n",
      "/home/karacaliko/anaconda3/lib/python3.6/site-packages/scipy/optimize/minpack.py:163: RuntimeWarning: The iteration is not making good progress, as measured by the \n",
      "  improvement from the last ten iterations.\n",
      "  warnings.warn(msg, RuntimeWarning)\n",
      "/home/karacaliko/workspace/limits-of-predictability-in-web-mobility/libs/web_tracking/measures/predictability.py:78: RuntimeWarning: invalid value encountered in log2\n",
      "  return -x*np.log2(x) - (1 - x)*(np.log2(1-x)) + (1 - x)*(np.log2(n-1)) - s\n"
     ]
    }
   ],
   "source": [
    "SEQ_NON_STAT_url_entropy = analysis.compute_entropy(SEQ_NON_STAT_TRAJ['url'], features=['url'], workers=cpu_count())\n",
    "SEQ_NON_STAT_url_predictability = analysis.compute_predictability(SEQ_NON_STAT_url_entropy, features=['url'])"
   ]
  },
  {
   "cell_type": "code",
   "execution_count": 49,
   "metadata": {
    "ExecuteTime": {
     "end_time": "2020-05-18T16:24:44.639189Z",
     "start_time": "2020-05-18T16:23:17.044339Z"
    }
   },
   "outputs": [],
   "source": [
    "SEQ_NON_STAT_domain_entropy = analysis.compute_entropy(SEQ_NON_STAT_TRAJ['domain'], features=['domain'], workers=cpu_count())\n",
    "SEQ_NON_STAT_domain_predictability = analysis.compute_predictability(SEQ_NON_STAT_domain_entropy, features=['domain'])"
   ]
  },
  {
   "cell_type": "code",
   "execution_count": 52,
   "metadata": {
    "ExecuteTime": {
     "end_time": "2020-05-18T16:26:29.761763Z",
     "start_time": "2020-05-18T16:25:13.525985Z"
    }
   },
   "outputs": [],
   "source": [
    "SEQ_NON_STAT_category_entropy = analysis.compute_entropy(SEQ_NON_STAT_TRAJ['category'], features=['category'], workers=cpu_count())\n",
    "SEQ_NON_STAT_category_predictability = analysis.compute_predictability(SEQ_NON_STAT_category_entropy, features=['category'])"
   ]
  },
  {
   "cell_type": "code",
   "execution_count": 54,
   "metadata": {
    "ExecuteTime": {
     "end_time": "2020-05-18T16:30:06.747366Z",
     "start_time": "2020-05-18T16:30:06.565597Z"
    }
   },
   "outputs": [],
   "source": [
    "SEQ_NON_STAT_url_predictability \\\n",
    "    .to_csv('/bigdata/web_tracking/data/traj-domain-aggregated/trajectory-aggregated-url-predictability.csv', index=False)\n",
    "\n",
    "SEQ_NON_STAT_domain_predictability \\\n",
    "    .to_csv('/bigdata/web_tracking/data/traj-domain-aggregated/trajectory-aggregated-domain-predictability.csv', index=False)\n",
    "\n",
    "SEQ_NON_STAT_category_predictability \\\n",
    "    .to_csv('/bigdata/web_tracking/data/traj-domain-aggregated/trajectory-aggregated-category-predictability.csv', index=False)"
   ]
  },
  {
   "cell_type": "code",
   "execution_count": 67,
   "metadata": {
    "ExecuteTime": {
     "end_time": "2020-05-27T12:02:30.169390Z",
     "start_time": "2020-05-27T12:02:30.101071Z"
    }
   },
   "outputs": [],
   "source": [
    "SEQ_NON_STAT_url_predictability = pd.read_csv('/bigdata/web_tracking/data/traj-domain-aggregated/trajectory-aggregated-url-predictability.csv')\n",
    "SEQ_NON_STAT_domain_predictability = pd.read_csv('/bigdata/web_tracking/data/traj-domain-aggregated/trajectory-aggregated-domain-predictability.csv')\n",
    "SEQ_NON_STAT_category_predictability = pd.read_csv('/bigdata/web_tracking/data/traj-domain-aggregated/trajectory-aggregated-category-predictability.csv')"
   ]
  },
  {
   "cell_type": "code",
   "execution_count": 76,
   "metadata": {
    "ExecuteTime": {
     "end_time": "2020-05-27T12:17:35.199045Z",
     "start_time": "2020-05-27T12:17:33.605619Z"
    }
   },
   "outputs": [
    {
     "data": {
      "text/plain": [
       "['0.4227', '0.6767', '0.6940']"
      ]
     },
     "execution_count": 76,
     "metadata": {},
     "output_type": "execute_result"
    },
    {
     "data": {
      "image/png": "[encoded data removed]",
      "text/plain": [
       "<Figure size 237.6x144 with 1 Axes>"
      ]
     },
     "metadata": {},
     "output_type": "display_data"
    }
   ],
   "source": [
    "AX_COLORS = ['deepskyblue', 'forestgreen', 'coral']\n",
    "# AX_COLORS = ['#1f77b4', '#2ca02c', '#ff7f0e']\n",
    "ARGS = dict(grid=True, xlim=(0, 1), ylim=(0, 8.2), color=AX_COLORS)\n",
    "\n",
    "ax = SEQ_NON_STAT_url_predictability[['user', 'url_pi_max']] \\\n",
    "        .merge(SEQ_NON_STAT_domain_predictability[['user', 'domain_pi_max']], on='user') \\\n",
    "        .merge(SEQ_NON_STAT_category_predictability[['user', 'category_pi_max']], on='user')[\n",
    "            ['url_pi_max', 'domain_pi_max', 'category_pi_max',]\n",
    "        ] \\\n",
    "        .plot.kde(**ARGS)\n",
    "\n",
    "ax.set_ylabel('Density')\n",
    "ax.set_xlabel('Predictability')\n",
    "\n",
    "maxes = []\n",
    "styles = LINE_STYLES[:len(ax.get_lines())]\n",
    "\n",
    "for line, style, color in zip(ax.get_lines(), styles, AX_COLORS):\n",
    "    line.set_linestyle(style)\n",
    "    x = line.get_xydata()[:,0]\n",
    "    y = line.get_xydata()[:,1]\n",
    "    maxes.append(x[np.where(y == max(y))][0])\n",
    "    ax.fill_between(x, y, color=color, alpha=0.15)\n",
    "    \n",
    "ax.legend(ax.get_lines(),\n",
    "          ['$\\Pi^{max}_{url}$', '$\\Pi^{max}_{domain}$', '$\\Pi^{max}_{category}$',], loc='best')\n",
    "\n",
    "FILE_NAME = 'impact-of-spatial-resolution-in-trajectories-thesis.pdf'\n",
    "ax.get_figure().savefig(f'./figures/results/{FILE_NAME}', bbox_inches='tight')\n",
    "[ f'{m:.4f}' for m in maxes ]"
   ]
  },
  {
   "cell_type": "code",
   "execution_count": 77,
   "metadata": {
    "ExecuteTime": {
     "end_time": "2020-05-27T12:21:03.427352Z",
     "start_time": "2020-05-27T12:21:03.381886Z"
    }
   },
   "outputs": [
    {
     "data": {
      "text/html": [
       "<style  type=\"text/css\" >\n",
       "    #T_884497d2_a014_11ea_a1fc_1b036a81acc6row0_col0 {\n",
       "            background-color:  #f7fcf0;\n",
       "            color:  #000000;\n",
       "        }    #T_884497d2_a014_11ea_a1fc_1b036a81acc6row1_col0 {\n",
       "            background-color:  #085395;\n",
       "            color:  #f1f1f1;\n",
       "        }    #T_884497d2_a014_11ea_a1fc_1b036a81acc6row2_col0 {\n",
       "            background-color:  #084081;\n",
       "            color:  #f1f1f1;\n",
       "        }</style><table id=\"T_884497d2_a014_11ea_a1fc_1b036a81acc6\" ><thead>    <tr>        <th class=\"blank level0\" ></th>        <th class=\"col_heading level0 col0\" >Mean</th>        <th class=\"col_heading level0 col1\" >.90 CI</th>        <th class=\"col_heading level0 col2\" >.95 CI</th>    </tr></thead><tbody>\n",
       "                <tr>\n",
       "                        <th id=\"T_884497d2_a014_11ea_a1fc_1b036a81acc6level0_row0\" class=\"row_heading level0 row0\" >$\\Pi^{max}_{url}$</th>\n",
       "                        <td id=\"T_884497d2_a014_11ea_a1fc_1b036a81acc6row0_col0\" class=\"data row0 col0\" >0.4578</td>\n",
       "                        <td id=\"T_884497d2_a014_11ea_a1fc_1b036a81acc6row0_col1\" class=\"data row0 col1\" >[0.4537, 0.4620]</td>\n",
       "                        <td id=\"T_884497d2_a014_11ea_a1fc_1b036a81acc6row0_col2\" class=\"data row0 col2\" >[0.4529, 0.4628]</td>\n",
       "            </tr>\n",
       "            <tr>\n",
       "                        <th id=\"T_884497d2_a014_11ea_a1fc_1b036a81acc6level0_row1\" class=\"row_heading level0 row1\" >$\\Pi^{max}_{domain}$</th>\n",
       "                        <td id=\"T_884497d2_a014_11ea_a1fc_1b036a81acc6row1_col0\" class=\"data row1 col0\" >0.6877</td>\n",
       "                        <td id=\"T_884497d2_a014_11ea_a1fc_1b036a81acc6row1_col1\" class=\"data row1 col1\" >[0.6846, 0.6909]</td>\n",
       "                        <td id=\"T_884497d2_a014_11ea_a1fc_1b036a81acc6row1_col2\" class=\"data row1 col2\" >[0.6840, 0.6915]</td>\n",
       "            </tr>\n",
       "            <tr>\n",
       "                        <th id=\"T_884497d2_a014_11ea_a1fc_1b036a81acc6level0_row2\" class=\"row_heading level0 row2\" >$\\Pi^{max}_{category}$</th>\n",
       "                        <td id=\"T_884497d2_a014_11ea_a1fc_1b036a81acc6row2_col0\" class=\"data row2 col0\" >0.7026</td>\n",
       "                        <td id=\"T_884497d2_a014_11ea_a1fc_1b036a81acc6row2_col1\" class=\"data row2 col1\" >[0.6998, 0.7054]</td>\n",
       "                        <td id=\"T_884497d2_a014_11ea_a1fc_1b036a81acc6row2_col2\" class=\"data row2 col2\" >[0.6992, 0.7060]</td>\n",
       "            </tr>\n",
       "    </tbody></table>"
      ],
      "text/plain": [
       "<pandas.io.formats.style.Styler at 0x7f4785e1d550>"
      ]
     },
     "execution_count": 77,
     "metadata": {},
     "output_type": "execute_result"
    }
   ],
   "source": [
    "pd.DataFrame(\n",
    "    data = [\n",
    "        get_mean_with_intervals(SEQ_NON_STAT_url_predictability, 'url_pi_max', [.90, .95]),\n",
    "        get_mean_with_intervals(SEQ_NON_STAT_domain_predictability, 'domain_pi_max', [.90, .95]),\n",
    "        get_mean_with_intervals(SEQ_NON_STAT_category_predictability, 'category_pi_max', [.90, .95])\n",
    "    ],\n",
    "    columns=['Mean', '.90 CI', '.95 CI'],\n",
    "    index = [\"$\\Pi^{max}_{url}$\", \"$\\Pi^{max}_{domain}$\", \"$\\Pi^{max}_{category}$\", ]\n",
    "    \n",
    ") \\\n",
    ".style \\\n",
    "    .background_gradient('GnBu', subset=['Mean']) \\\n",
    "    .format({\n",
    "        'Mean': '{0:.4f}',\n",
    "        '.90 CI': lambda t: f'[{t[0]:.4f}, {t[1]:.4f}]',\n",
    "        '.95 CI': lambda t: f'[{t[0]:.4f}, {t[1]:.4f}]',\n",
    "    })"
   ]
  },
  {
   "cell_type": "markdown",
   "metadata": {},
   "source": [
    "# Entropy & Predictability Computation\n",
    "\n",
    "- Section 6 in the article.\n",
    "- Figure 6 in the article."
   ]
  },
  {
   "cell_type": "markdown",
   "metadata": {},
   "source": [
    "## Binned-Non-Stationary"
   ]
  },
  {
   "cell_type": "code",
   "execution_count": 182,
   "metadata": {
    "ExecuteTime": {
     "end_time": "2020-05-21T07:45:56.548161Z",
     "start_time": "2020-05-21T07:45:34.570926Z"
    },
    "code_folding": [],
    "deletable": false,
    "editable": false,
    "run_control": {
     "frozen": true
    }
   },
   "outputs": [],
   "source": [
    "BNST = BinnedNonStationaryTrajectory(TRAJECTORY_PROCESSED)\n",
    "\n",
    "BNST_domain,        = BNST.create(features=['domain'], bin_size=60).values()\n",
    "\n",
    "selected_users      = BNST_domain \\\n",
    "                        .groupby('user', as_index=False) \\\n",
    "                        .agg({'domain': 'count'}) \\\n",
    "                        .query('domain >= 100')[['user']]\n",
    "\n",
    "bnst_entropy        = analysis.compute_entropy(\n",
    "                         selected_users.merge(BNST_domain, on='user'),\n",
    "                         features=['domain'],\n",
    "                         workers=cpu_count()\n",
    "                      )\n",
    "\n",
    "bnst_predictability = analysis.compute_predictability(\n",
    "                         bnst_entropy,\n",
    "                         features=['domain']\n",
    "                      )"
   ]
  },
  {
   "cell_type": "code",
   "execution_count": 184,
   "metadata": {
    "ExecuteTime": {
     "end_time": "2020-05-21T07:46:24.611439Z",
     "start_time": "2020-05-21T07:46:24.595367Z"
    }
   },
   "outputs": [
    {
     "data": {
      "text/html": [
       "<div>\n",
       "<style scoped>\n",
       "    .dataframe tbody tr th:only-of-type {\n",
       "        vertical-align: middle;\n",
       "    }\n",
       "\n",
       "    .dataframe tbody tr th {\n",
       "        vertical-align: top;\n",
       "    }\n",
       "\n",
       "    .dataframe thead th {\n",
       "        text-align: right;\n",
       "    }\n",
       "</style>\n",
       "<table border=\"1\" class=\"dataframe\">\n",
       "  <thead>\n",
       "    <tr style=\"text-align: right;\">\n",
       "      <th></th>\n",
       "      <th>user</th>\n",
       "      <th>domain_unique</th>\n",
       "      <th>domain_count</th>\n",
       "      <th>domain_entropy_shannon</th>\n",
       "      <th>domain_entropy_random</th>\n",
       "      <th>domain_entropy_lz</th>\n",
       "      <th>domain_pi_unc</th>\n",
       "      <th>domain_pi_rand</th>\n",
       "      <th>domain_pi_max</th>\n",
       "    </tr>\n",
       "  </thead>\n",
       "  <tbody>\n",
       "    <tr>\n",
       "      <th>0</th>\n",
       "      <td>401011742</td>\n",
       "      <td>34</td>\n",
       "      <td>131</td>\n",
       "      <td>3.750466</td>\n",
       "      <td>5.087463</td>\n",
       "      <td>3.006654</td>\n",
       "      <td>0.453510</td>\n",
       "      <td>0.029412</td>\n",
       "      <td>0.596807</td>\n",
       "    </tr>\n",
       "    <tr>\n",
       "      <th>1</th>\n",
       "      <td>401036140</td>\n",
       "      <td>33</td>\n",
       "      <td>154</td>\n",
       "      <td>3.811517</td>\n",
       "      <td>5.044394</td>\n",
       "      <td>3.067150</td>\n",
       "      <td>0.435272</td>\n",
       "      <td>0.030303</td>\n",
       "      <td>0.582613</td>\n",
       "    </tr>\n",
       "  </tbody>\n",
       "</table>\n",
       "</div>"
      ],
      "text/plain": [
       "        user domain_unique domain_count  domain_entropy_shannon  \\\n",
       "0  401011742            34          131                3.750466   \n",
       "1  401036140            33          154                3.811517   \n",
       "\n",
       "   domain_entropy_random  domain_entropy_lz  domain_pi_unc  domain_pi_rand  \\\n",
       "0               5.087463           3.006654       0.453510        0.029412   \n",
       "1               5.044394           3.067150       0.435272        0.030303   \n",
       "\n",
       "   domain_pi_max  \n",
       "0       0.596807  \n",
       "1       0.582613  "
      ]
     },
     "execution_count": 184,
     "metadata": {},
     "output_type": "execute_result"
    }
   ],
   "source": [
    "bnst_predictability.head(2)"
   ]
  },
  {
   "cell_type": "markdown",
   "metadata": {},
   "source": [
    "## Sequential-Non-Stationary"
   ]
  },
  {
   "cell_type": "code",
   "execution_count": 185,
   "metadata": {
    "ExecuteTime": {
     "end_time": "2020-05-21T07:46:58.306664Z",
     "start_time": "2020-05-21T07:46:37.596071Z"
    },
    "deletable": false,
    "editable": false,
    "run_control": {
     "frozen": true
    }
   },
   "outputs": [
    {
     "name": "stderr",
     "output_type": "stream",
     "text": [
      "/home/karacaliko/anaconda3/lib/python3.6/site-packages/scipy/optimize/minpack.py:163: RuntimeWarning: xtol=0.000000 is too small, no further improvement in the approximate\n",
      "  solution is possible.\n",
      "  warnings.warn(msg, RuntimeWarning)\n",
      "/home/karacaliko/workspace/limits-of-predictability-in-web-mobility/libs/web_tracking/measures/predictability.py:78: RuntimeWarning: invalid value encountered in log2\n",
      "  return -x*np.log2(x) - (1 - x)*(np.log2(1-x)) + (1 - x)*(np.log2(n-1)) - s\n",
      "/home/karacaliko/anaconda3/lib/python3.6/site-packages/scipy/optimize/minpack.py:163: RuntimeWarning: The iteration is not making good progress, as measured by the \n",
      "  improvement from the last ten iterations.\n",
      "  warnings.warn(msg, RuntimeWarning)\n"
     ]
    }
   ],
   "source": [
    "SNST                = SequentialNonStationaryTrajectory(TRAJECTORY_PROCESSED)\n",
    "\n",
    "SNST_domain,        = SNST.create(features=['domain'], threshold=180).values()\n",
    "\n",
    "snst_entropy        = analysis.compute_entropy(\n",
    "                          selected_users.merge(SNST_domain, on='user'),\n",
    "                          features=['domain'],\n",
    "                          workers=cpu_count()\n",
    "                      )\n",
    "\n",
    "snst_predictability = analysis.compute_predictability(\n",
    "                          snst_entropy,\n",
    "                          features=['domain']\n",
    "                      )"
   ]
  },
  {
   "cell_type": "code",
   "execution_count": 186,
   "metadata": {
    "ExecuteTime": {
     "end_time": "2020-05-21T07:46:59.065037Z",
     "start_time": "2020-05-21T07:46:59.052360Z"
    }
   },
   "outputs": [
    {
     "data": {
      "text/html": [
       "<div>\n",
       "<style scoped>\n",
       "    .dataframe tbody tr th:only-of-type {\n",
       "        vertical-align: middle;\n",
       "    }\n",
       "\n",
       "    .dataframe tbody tr th {\n",
       "        vertical-align: top;\n",
       "    }\n",
       "\n",
       "    .dataframe thead th {\n",
       "        text-align: right;\n",
       "    }\n",
       "</style>\n",
       "<table border=\"1\" class=\"dataframe\">\n",
       "  <thead>\n",
       "    <tr style=\"text-align: right;\">\n",
       "      <th></th>\n",
       "      <th>user</th>\n",
       "      <th>domain_unique</th>\n",
       "      <th>domain_count</th>\n",
       "      <th>domain_entropy_shannon</th>\n",
       "      <th>domain_entropy_random</th>\n",
       "      <th>domain_entropy_lz</th>\n",
       "      <th>domain_pi_unc</th>\n",
       "      <th>domain_pi_rand</th>\n",
       "      <th>domain_pi_max</th>\n",
       "    </tr>\n",
       "  </thead>\n",
       "  <tbody>\n",
       "    <tr>\n",
       "      <th>0</th>\n",
       "      <td>401011742</td>\n",
       "      <td>53</td>\n",
       "      <td>292</td>\n",
       "      <td>3.971942</td>\n",
       "      <td>5.727920</td>\n",
       "      <td>3.113255</td>\n",
       "      <td>0.478411</td>\n",
       "      <td>0.018868</td>\n",
       "      <td>0.621708</td>\n",
       "    </tr>\n",
       "    <tr>\n",
       "      <th>1</th>\n",
       "      <td>401036140</td>\n",
       "      <td>39</td>\n",
       "      <td>280</td>\n",
       "      <td>3.750561</td>\n",
       "      <td>5.285402</td>\n",
       "      <td>2.758150</td>\n",
       "      <td>0.475548</td>\n",
       "      <td>0.025641</td>\n",
       "      <td>0.652065</td>\n",
       "    </tr>\n",
       "  </tbody>\n",
       "</table>\n",
       "</div>"
      ],
      "text/plain": [
       "        user domain_unique domain_count  domain_entropy_shannon  \\\n",
       "0  401011742            53          292                3.971942   \n",
       "1  401036140            39          280                3.750561   \n",
       "\n",
       "   domain_entropy_random  domain_entropy_lz  domain_pi_unc  domain_pi_rand  \\\n",
       "0               5.727920           3.113255       0.478411        0.018868   \n",
       "1               5.285402           2.758150       0.475548        0.025641   \n",
       "\n",
       "   domain_pi_max  \n",
       "0       0.621708  \n",
       "1       0.652065  "
      ]
     },
     "execution_count": 186,
     "metadata": {},
     "output_type": "execute_result"
    }
   ],
   "source": [
    "snst_predictability.head(2)"
   ]
  },
  {
   "cell_type": "markdown",
   "metadata": {},
   "source": [
    "## Binned-Stationary"
   ]
  },
  {
   "cell_type": "code",
   "execution_count": 189,
   "metadata": {
    "ExecuteTime": {
     "end_time": "2020-05-21T07:48:47.643881Z",
     "start_time": "2020-05-21T07:48:24.401237Z"
    },
    "deletable": false,
    "editable": false,
    "run_control": {
     "frozen": true
    }
   },
   "outputs": [],
   "source": [
    "BST                 = BinnedStationaryTrajectory(TRAJECTORY_PROCESSED)\n",
    "\n",
    "BST_domain          = BST.create(features=['domain'], bin_size=60)\n",
    "\n",
    "bst_entropy        = analysis.compute_entropy(\n",
    "                          selected_users.merge(BST_domain, on='user'),\n",
    "                          features=['domain'],\n",
    "                          workers=cpu_count()\n",
    "                      )\n",
    "\n",
    "bst_predictability = analysis.compute_predictability(\n",
    "                          bst_entropy,\n",
    "                          features=['domain']\n",
    "                      )"
   ]
  },
  {
   "cell_type": "code",
   "execution_count": 190,
   "metadata": {
    "ExecuteTime": {
     "end_time": "2020-05-21T07:48:48.400108Z",
     "start_time": "2020-05-21T07:48:48.387760Z"
    }
   },
   "outputs": [
    {
     "data": {
      "text/html": [
       "<div>\n",
       "<style scoped>\n",
       "    .dataframe tbody tr th:only-of-type {\n",
       "        vertical-align: middle;\n",
       "    }\n",
       "\n",
       "    .dataframe tbody tr th {\n",
       "        vertical-align: top;\n",
       "    }\n",
       "\n",
       "    .dataframe thead th {\n",
       "        text-align: right;\n",
       "    }\n",
       "</style>\n",
       "<table border=\"1\" class=\"dataframe\">\n",
       "  <thead>\n",
       "    <tr style=\"text-align: right;\">\n",
       "      <th></th>\n",
       "      <th>user</th>\n",
       "      <th>domain_unique</th>\n",
       "      <th>domain_count</th>\n",
       "      <th>domain_entropy_shannon</th>\n",
       "      <th>domain_entropy_random</th>\n",
       "      <th>domain_entropy_lz</th>\n",
       "      <th>domain_pi_unc</th>\n",
       "      <th>domain_pi_rand</th>\n",
       "      <th>domain_pi_max</th>\n",
       "    </tr>\n",
       "  </thead>\n",
       "  <tbody>\n",
       "    <tr>\n",
       "      <th>0</th>\n",
       "      <td>401011742</td>\n",
       "      <td>34</td>\n",
       "      <td>510</td>\n",
       "      <td>3.139073</td>\n",
       "      <td>5.087463</td>\n",
       "      <td>1.622511</td>\n",
       "      <td>0.572900</td>\n",
       "      <td>0.029412</td>\n",
       "      <td>0.815222</td>\n",
       "    </tr>\n",
       "    <tr>\n",
       "      <th>1</th>\n",
       "      <td>401036140</td>\n",
       "      <td>33</td>\n",
       "      <td>991</td>\n",
       "      <td>3.584611</td>\n",
       "      <td>5.044394</td>\n",
       "      <td>1.114787</td>\n",
       "      <td>0.482909</td>\n",
       "      <td>0.030303</td>\n",
       "      <td>0.881848</td>\n",
       "    </tr>\n",
       "  </tbody>\n",
       "</table>\n",
       "</div>"
      ],
      "text/plain": [
       "        user domain_unique domain_count  domain_entropy_shannon  \\\n",
       "0  401011742            34          510                3.139073   \n",
       "1  401036140            33          991                3.584611   \n",
       "\n",
       "   domain_entropy_random  domain_entropy_lz  domain_pi_unc  domain_pi_rand  \\\n",
       "0               5.087463           1.622511       0.572900        0.029412   \n",
       "1               5.044394           1.114787       0.482909        0.030303   \n",
       "\n",
       "   domain_pi_max  \n",
       "0       0.815222  \n",
       "1       0.881848  "
      ]
     },
     "execution_count": 190,
     "metadata": {},
     "output_type": "execute_result"
    }
   ],
   "source": [
    "bst_predictability.head(2)"
   ]
  },
  {
   "cell_type": "markdown",
   "metadata": {},
   "source": [
    "# Distribution of 3 types of Entropies and Predictabilities (Fig.8)"
   ]
  },
  {
   "cell_type": "markdown",
   "metadata": {},
   "source": [
    "## Stationary Trajectory $T^{stat}$\n",
    "\n",
    "- Section 6 in the article.\n",
    "- Figure 6a in the article."
   ]
  },
  {
   "cell_type": "code",
   "execution_count": 59,
   "metadata": {
    "ExecuteTime": {
     "end_time": "2020-05-18T16:32:27.748262Z",
     "start_time": "2020-05-18T16:32:27.186728Z"
    }
   },
   "outputs": [
    {
     "data": {
      "text/plain": [
       "['6.5443', '4.4075', '1.7072']"
      ]
     },
     "execution_count": 59,
     "metadata": {},
     "output_type": "execute_result"
    },
    {
     "data": {
      "image/png": "[encoded data removed]",
      "text/plain": [
       "<Figure size 237.6x144 with 1 Axes>"
      ]
     },
     "metadata": {},
     "output_type": "display_data"
    }
   ],
   "source": [
    "TITLE = 'Binned Trajectory Overall Individual Entropy Distribution by Domain'\n",
    "# AX_COLORS = ['darkorange', 'green', 'dodgerblue',]\n",
    "# ARGS = dict(xlim=(0, 10), ylim=(0, 0.9), grid=True, color=AX_COLORS)\n",
    "\n",
    "# ax = STAT_RES[['domain_entropy_lz', 'domain_entropy_shannon', 'domain_entropy_random',]] \\\n",
    "#        .plot.kde(**ARGS)\n",
    "\n",
    "AX_COLORS = ['dodgerblue', 'green', 'darkorange', ]\n",
    "ARGS = dict(grid=True, xlim=(0, 10), ylim=(0, 0.7), color=AX_COLORS)\n",
    "\n",
    "ax = STAT_RES[['domain_entropy_random', 'domain_entropy_shannon', 'domain_entropy_lz', ]] \\\n",
    "        .plot.kde(**ARGS)\n",
    "\n",
    "maxes = []\n",
    "styles = LINE_STYLES[:len(ax.get_lines())]\n",
    "\n",
    "for line, style, color in zip(ax.get_lines(), styles, AX_COLORS):\n",
    "    line.set_linestyle(style)\n",
    "    x = line.get_xydata()[:,0]\n",
    "    y = line.get_xydata()[:,1]\n",
    "    ax.fill_between(x, y, color=color, alpha=0.2)\n",
    "    maxes.append(x[np.where(y == max(y))][0])\n",
    "    \n",
    "    \n",
    "# ax.legend(['$S$', '$S^{unc}$', '$S^{rand}$'])\n",
    "# ax.set_xlabel('Entropy by Domain')\n",
    "ax.legend(['$S^{rand}$', '$S^{unc}$',  '$S$'])\n",
    "ax.set_xlabel('Entropy')\n",
    "\n",
    "# ax.get_figure().savefig(f\"./figures/results/{TITLE.replace(' ', '-')}.pdf\", bbox_inches='tight')\n",
    "[ f'{m:.4f}' for m in maxes ]"
   ]
  },
  {
   "cell_type": "code",
   "execution_count": 60,
   "metadata": {
    "ExecuteTime": {
     "end_time": "2020-05-18T16:33:11.466222Z",
     "start_time": "2020-05-18T16:33:10.884802Z"
    }
   },
   "outputs": [
    {
     "data": {
      "text/plain": [
       "['1.2989', '3.2849', '4.8821']"
      ]
     },
     "execution_count": 60,
     "metadata": {},
     "output_type": "execute_result"
    },
    {
     "data": {
      "image/png": "[encoded data removed]",
      "text/plain": [
       "<Figure size 237.6x144 with 1 Axes>"
      ]
     },
     "metadata": {},
     "output_type": "display_data"
    }
   ],
   "source": [
    "TITLE = 'Binned Trajectory Overall Individual Entropy Distribution by Category'\n",
    "AX_COLORS = ['darkorange', 'green', 'dodgerblue',]\n",
    "ARGS = dict(grid=True, xlim=(0, 10), ylim=(0, 0.9), color=AX_COLORS)\n",
    "\n",
    "ax = STAT_RES[['category_entropy_lz', 'category_entropy_shannon', 'category_entropy_random',]] \\\n",
    "        .plot.kde(**ARGS)\n",
    "\n",
    "maxes = []\n",
    "styles = LINE_STYLES[:len(ax.get_lines())]\n",
    "\n",
    "for line, style, color in zip(ax.get_lines(), styles, AX_COLORS):\n",
    "    line.set_linestyle(style)\n",
    "    x = line.get_xydata()[:,0]\n",
    "    y = line.get_xydata()[:,1]\n",
    "    ax.fill_between(x, y, color=color, alpha=0.2)\n",
    "    maxes.append(x[np.where(y == max(y))][0])\n",
    "    \n",
    "ax.legend(['$S$', '$S^{unc}$', '$S^{rand}$'])\n",
    "ax.set_xlabel('Entropy by Category')\n",
    "# ax.get_figure().savefig(f\"./figures/results/{TITLE.replace(' ', '-')}.pdf\", bbox_inches='tight')\n",
    "[ f'{m:.4f}' for m in maxes ]"
   ]
  },
  {
   "cell_type": "code",
   "execution_count": 61,
   "metadata": {
    "ExecuteTime": {
     "end_time": "2020-05-18T16:33:22.430687Z",
     "start_time": "2020-05-18T16:33:21.791197Z"
    }
   },
   "outputs": [
    {
     "data": {
      "text/plain": [
       "['0.0073', '0.5083', '0.8308']"
      ]
     },
     "execution_count": 61,
     "metadata": {},
     "output_type": "execute_result"
    },
    {
     "data": {
      "image/png": "[encoded data removed]",
      "text/plain": [
       "<Figure size 237.6x144 with 1 Axes>"
      ]
     },
     "metadata": {},
     "output_type": "display_data"
    }
   ],
   "source": [
    "TITLE = 'Binned Trajectory Overall Individual Predictability Distribution by Domain'\n",
    "AX_COLORS = ['dodgerblue', 'green', 'darkorange']\n",
    "ARGS = dict(grid=True, xlim=(0, 1), ylim=(0, 8), color=AX_COLORS)\n",
    "\n",
    "ax = STAT_RES[['domain_pi_rand', 'domain_pi_unc', 'domain_pi_max']] \\\n",
    "        .plot.kde(**ARGS)\n",
    "\n",
    "maxes = []\n",
    "styles = LINE_STYLES[:len(ax.get_lines())]\n",
    "\n",
    "for line, style, color in zip(ax.get_lines(), styles, AX_COLORS):\n",
    "    line.set_linestyle(style)\n",
    "    x = line.get_xydata()[:,0]\n",
    "    y = line.get_xydata()[:,1]\n",
    "    ax.fill_between(x, y, color=color, alpha=0.2)\n",
    "    maxes.append(x[np.where(y == max(y))][0])\n",
    "    \n",
    "ax.legend(['$\\Pi^{rand}$', '$\\Pi^{unc}$', '$\\Pi^{max}$'])\n",
    "ax.set_xlabel('Predictability by Domain')\n",
    "# ax.get_figure().savefig(f\"./figures/results/{TITLE.replace(' ', '-')}.pdf\", bbox_inches='tight')\n",
    "[ f'{m:.4f}' for m in maxes ]"
   ]
  },
  {
   "cell_type": "code",
   "execution_count": 62,
   "metadata": {
    "ExecuteTime": {
     "end_time": "2020-05-18T16:33:58.223292Z",
     "start_time": "2020-05-18T16:33:57.632959Z"
    }
   },
   "outputs": [
    {
     "data": {
      "text/plain": [
       "['0.0276', '0.5443', '0.8577']"
      ]
     },
     "execution_count": 62,
     "metadata": {},
     "output_type": "execute_result"
    },
    {
     "data": {
      "image/png": "[encoded data removed]",
      "text/plain": [
       "<Figure size 237.6x144 with 1 Axes>"
      ]
     },
     "metadata": {},
     "output_type": "display_data"
    }
   ],
   "source": [
    "TITLE = 'Binned Trajectory Overall Individual Predictability Distribution by Category'\n",
    "AX_COLORS = ['dodgerblue', 'green', 'darkorange']\n",
    "ARGS = dict(grid=True, xlim=(0, 1), ylim=(0, 8), color=AX_COLORS)\n",
    "\n",
    "ax = STAT_RES[['category_pi_rand', 'category_pi_unc', 'category_pi_max']] \\\n",
    "        .plot.kde(**ARGS)\n",
    "\n",
    "maxes = []\n",
    "styles = LINE_STYLES[:len(ax.get_lines())]\n",
    "\n",
    "for line, style, color in zip(ax.get_lines(), styles, AX_COLORS):\n",
    "    line.set_linestyle(style)\n",
    "    x = line.get_xydata()[:,0]\n",
    "    y = line.get_xydata()[:,1]\n",
    "    ax.fill_between(x, y, color=color, alpha=0.2)\n",
    "    maxes.append(x[np.where(y == max(y))][0])\n",
    "    \n",
    "ax.legend(['$\\Pi^{rand}$', '$\\Pi^{unc}$', '$\\Pi^{max}$'])\n",
    "ax.set_xlabel('Predictability by Category')\n",
    "# ax.get_figure().savefig(f\"./figures/results/{TITLE.replace(' ', '-')}.pdf\", bbox_inches='tight')\n",
    "[ f'{m:.4f}' for m in maxes ]"
   ]
  },
  {
   "cell_type": "markdown",
   "metadata": {},
   "source": [
    "### Gender\n",
    "\n",
    "- Section 6.1 in the article.\n",
    "- Figure 8a in the article."
   ]
  },
  {
   "cell_type": "code",
   "execution_count": 64,
   "metadata": {
    "ExecuteTime": {
     "end_time": "2020-05-18T16:34:14.502435Z",
     "start_time": "2020-05-18T16:34:14.480133Z"
    }
   },
   "outputs": [],
   "source": [
    "TEMP = STAT_RES.merge(USERS[['user', 'gender', 'age_recode']], on='user')"
   ]
  },
  {
   "cell_type": "code",
   "execution_count": 67,
   "metadata": {
    "ExecuteTime": {
     "end_time": "2020-05-18T16:35:08.970187Z",
     "start_time": "2020-05-18T16:35:08.563625Z"
    }
   },
   "outputs": [
    {
     "data": {
      "text/plain": [
       "['1.6878', '1.6998']"
      ]
     },
     "execution_count": 67,
     "metadata": {},
     "output_type": "execute_result"
    },
    {
     "data": {
      "image/png": "[encoded data removed]",
      "text/plain": [
       "<Figure size 237.6x144 with 1 Axes>"
      ]
     },
     "metadata": {},
     "output_type": "display_data"
    }
   ],
   "source": [
    "ARGS = dict(grid=True, xlim=(0, 3.5), ylim=(0, 0.7))\n",
    "\n",
    "VALS = ['female', 'male']\n",
    "\n",
    "TYPE = 'Entropy'\n",
    "ATTRIBUTE = 'gender'\n",
    "# COLORS = plt.cm.get_cmap('plasma', len(VALS))\n",
    "AX_COLORS = ['orangered', 'royalblue']\n",
    "fig, ax = plt.subplots(1, 1)\n",
    "\n",
    "for val, color in zip(VALS, AX_COLORS):\n",
    "    TEMP.query(f\"{ATTRIBUTE} == '{val}'\")[['domain_entropy_lz']] \\\n",
    "        .plot.kde(ax=ax, color=color, **ARGS)\n",
    "\n",
    "maxes=[]\n",
    "styles = LINE_STYLES[:len(ax.get_lines())]\n",
    "\n",
    "for line, style, color in zip(ax.get_lines(), styles, AX_COLORS):\n",
    "    line.set_linestyle(style)\n",
    "    x = line.get_xydata()[:,0]\n",
    "    y = line.get_xydata()[:,1]\n",
    "    ax.fill_between(x, y, color=color, alpha=0.15)\n",
    "    maxes.append(x[np.where(y == max(y))][0])\n",
    "\n",
    "ax.legend(VALS)\n",
    "ax.set_xlabel('Entropy')\n",
    "# ax.get_figure().savefig(f\"./figures/results/entropy-dist-per-gender.pdf\", bbox_inches='tight')\n",
    "[ f'{m:.4f}' for m in maxes ]"
   ]
  },
  {
   "cell_type": "code",
   "execution_count": 69,
   "metadata": {
    "ExecuteTime": {
     "end_time": "2020-05-18T16:36:51.491868Z",
     "start_time": "2020-05-18T16:36:51.103913Z"
    }
   },
   "outputs": [
    {
     "data": {
      "text/plain": [
       "['0.8373', '0.8301']"
      ]
     },
     "execution_count": 69,
     "metadata": {},
     "output_type": "execute_result"
    },
    {
     "data": {
      "image/png": "[encoded data removed]",
      "text/plain": [
       "<Figure size 237.6x144 with 1 Axes>"
      ]
     },
     "metadata": {},
     "output_type": "display_data"
    }
   ],
   "source": [
    "ARGS = dict( grid=True, xlim=(0.6, 1), ylim=(0, 7),)\n",
    "\n",
    "VALS = ['female', 'male']\n",
    "\n",
    "TYPE = 'Predictability'\n",
    "ATTRIBUTE = 'gender'\n",
    "AX_COLORS = ['orangered', 'royalblue']\n",
    "fig, ax = plt.subplots(1, 1)\n",
    "\n",
    "for val, color in zip(VALS, AX_COLORS):\n",
    "    TEMP.query(f\"{ATTRIBUTE} == '{val}'\")[['domain_pi_max']] \\\n",
    "        .plot.kde(ax=ax, color=color, **ARGS)\n",
    "\n",
    "maxes=[]\n",
    "styles = LINE_STYLES[:len(ax.get_lines())]\n",
    "\n",
    "for line, style, color in zip(ax.get_lines(), styles, AX_COLORS):\n",
    "    line.set_linestyle(style)\n",
    "    x = line.get_xydata()[:,0]\n",
    "    y = line.get_xydata()[:,1]\n",
    "    ax.fill_between(x, y, color=color, alpha=0.15)\n",
    "    maxes.append(x[np.where(y == max(y))][0])\n",
    "\n",
    "ax.legend(VALS)\n",
    "ax.set_xlabel('Predictability')\n",
    "# ax.get_figure().savefig(f\"./figures/results/predictability-dist-per-gender-v2.pdf\", bbox_inches='tight')\n",
    "[ f'{m:.4f}' for m in maxes ]"
   ]
  },
  {
   "cell_type": "markdown",
   "metadata": {},
   "source": [
    "### Age\n",
    "\n",
    "- Section 6.1 in the article.\n",
    "- Figure 8b in the article."
   ]
  },
  {
   "cell_type": "code",
   "execution_count": 75,
   "metadata": {
    "ExecuteTime": {
     "end_time": "2020-05-18T16:41:47.926227Z",
     "start_time": "2020-05-18T16:41:47.363737Z"
    }
   },
   "outputs": [
    {
     "data": {
      "text/plain": [
       "['1.1101', '1.6000', '1.8106', '1.6803', '1.4621']"
      ]
     },
     "execution_count": 75,
     "metadata": {},
     "output_type": "execute_result"
    },
    {
     "data": {
      "image/png": "[encoded data removed]",
      "text/plain": [
       "<Figure size 237.6x144 with 1 Axes>"
      ]
     },
     "metadata": {},
     "output_type": "display_data"
    }
   ],
   "source": [
    "ARGS = dict(grid=True, xlim=(0, 3.5), ylim=(0, 0.8), )\n",
    "\n",
    "VALS = ['[18,24]', '(24,34]', '(34,44]', '(44,54]', '(54,64]', '(64,80]'] # list(filter(lambda x: not pd.isnull(x), users.age_recode.unique().tolist()))\n",
    "\n",
    "TYPE = 'Entropy'\n",
    "ATTRIBUTE = 'age_recode'\n",
    "AX_COLORS = plt.cm.get_cmap('plasma', len(VALS))\n",
    "fig, ax = plt.subplots(1, 1)\n",
    "\n",
    "for i, val in zip(count(), VALS):\n",
    "    TEMP.query(f\"{ATTRIBUTE} == '{val}'\")[['domain_entropy_lz']] \\\n",
    "        .plot.kde(ax=ax, color=AX_COLORS(i), **ARGS)\n",
    "\n",
    "maxes=[]\n",
    "styles = LINE_STYLES[:len(ax.get_lines())]\n",
    "\n",
    "for i, line, style in zip(count(), ax.get_lines(), styles):\n",
    "    line.set_linestyle(style)\n",
    "    x = line.get_xydata()[:,0]\n",
    "    y = line.get_xydata()[:,1]\n",
    "    ax.fill_between(x, y, color=AX_COLORS(i), alpha=0.15)\n",
    "    maxes.append(x[np.where(y == max(y))][0])\n",
    "\n",
    "ax.legend(VALS)\n",
    "ax.set_xlabel('Entropy')\n",
    "# ax.get_figure().savefig(f\"./figures/results/entropy-dist-per-age.pdf\", bbox_inches='tight')\n",
    "[ f'{m:.4f}' for m in maxes ]"
   ]
  },
  {
   "cell_type": "code",
   "execution_count": 77,
   "metadata": {
    "ExecuteTime": {
     "end_time": "2020-05-18T16:42:34.032338Z",
     "start_time": "2020-05-18T16:42:33.544310Z"
    }
   },
   "outputs": [
    {
     "data": {
      "text/plain": [
       "['0.8867', '0.8319', '0.8218', '0.8664', '0.8587']"
      ]
     },
     "execution_count": 77,
     "metadata": {},
     "output_type": "execute_result"
    },
    {
     "data": {
      "image/png": "[encoded data removed]",
      "text/plain": [
       "<Figure size 237.6x144 with 1 Axes>"
      ]
     },
     "metadata": {},
     "output_type": "display_data"
    }
   ],
   "source": [
    "ARGS = dict(grid=True, xlim=(0.6, 1), ylim=(0, 8), )\n",
    "\n",
    "VALS = ['[18,24]', '(24,34]', '(34,44]', '(44,54]', '(54,64]', '(64,80]'] # list(filter(lambda x: not pd.isnull(x), users.age_recode.unique().tolist()))\n",
    "\n",
    "TYPE = 'Predictability'\n",
    "ATTRIBUTE = 'age_recode'\n",
    "AX_COLORS = plt.cm.get_cmap('plasma', len(VALS))\n",
    "fig, ax = plt.subplots(1, 1)\n",
    "\n",
    "for i, val in zip(count(), VALS):\n",
    "    TEMP.query(f\"{ATTRIBUTE} == '{val}'\")[['domain_pi_max']] \\\n",
    "        .plot.kde(ax=ax, color=AX_COLORS(i), **ARGS)\n",
    "\n",
    "maxes=[]\n",
    "styles = LINE_STYLES[:len(ax.get_lines())]\n",
    "\n",
    "for i, line, style in zip(count(), ax.get_lines(), styles):\n",
    "    line.set_linestyle(style)\n",
    "    x = line.get_xydata()[:,0]\n",
    "    y = line.get_xydata()[:,1]\n",
    "    ax.fill_between(x, y, color=AX_COLORS(i), alpha=0.15)\n",
    "    maxes.append(x[np.where(y == max(y))][0])\n",
    "\n",
    "ax.legend(VALS)\n",
    "ax.set_xlabel('Predictability')\n",
    "# ax.get_figure().savefig(f\"./figures/results/predictability-dist-per-age-v2.pdf\", bbox_inches='tight')\n",
    "[ f'{m:.4f}' for m in maxes ]"
   ]
  },
  {
   "cell_type": "code",
   "execution_count": 80,
   "metadata": {
    "ExecuteTime": {
     "end_time": "2020-05-18T16:43:41.609083Z",
     "start_time": "2020-05-18T16:43:41.251202Z"
    }
   },
   "outputs": [
    {
     "data": {
      "text/plain": [
       "['0.8867', '0.8218', '0.8587']"
      ]
     },
     "execution_count": 80,
     "metadata": {},
     "output_type": "execute_result"
    },
    {
     "data": {
      "image/png": "[encoded data removed]",
      "text/plain": [
       "<Figure size 237.6x144 with 1 Axes>"
      ]
     },
     "metadata": {},
     "output_type": "display_data"
    }
   ],
   "source": [
    "ARGS = dict(grid=True, xlim=(0.6, 1), ylim=(0, 8), )\n",
    "\n",
    "VALS = ['[18,24]', '(34,44]', '(54,64]',] # list(filter(lambda x: not pd.isnull(x), users.age_recode.unique().tolist()))\n",
    "\n",
    "TYPE = 'Predictability'\n",
    "ATTRIBUTE = 'age_recode'\n",
    "AX_COLORS = plt.cm.get_cmap('viridis', len(VALS))\n",
    "fig, ax = plt.subplots(1, 1)\n",
    "\n",
    "for i, val in zip(count(), VALS):\n",
    "    TEMP.query(f\"{ATTRIBUTE} == '{val}'\")[['domain_pi_max']] \\\n",
    "        .plot.kde(ax=ax, color=AX_COLORS(i), **ARGS)\n",
    "\n",
    "maxes=[]\n",
    "styles = LINE_STYLES[:len(ax.get_lines())]\n",
    "\n",
    "for i, line, style in zip(count(), ax.get_lines(), styles):\n",
    "    line.set_linestyle(style)\n",
    "    x = line.get_xydata()[:,0]\n",
    "    y = line.get_xydata()[:,1]\n",
    "    ax.fill_between(x, y, color=AX_COLORS(i), alpha=0.15)\n",
    "    maxes.append(x[np.where(y == max(y))][0])\n",
    "\n",
    "ax.legend(VALS)\n",
    "ax.set_xlabel('Predictability')\n",
    "# ax.get_figure().savefig(f\"./figures/results/predictability-dist-per-age-v3.pdf\", bbox_inches='tight')\n",
    "[ f'{m:.4f}' for m in maxes ]"
   ]
  },
  {
   "cell_type": "markdown",
   "metadata": {},
   "source": [
    "## Non-Stationary Trajectory $T^{binNonStat}$\n",
    "\n",
    "- Section 6 in the article.\n",
    "- Figure 6b in the article."
   ]
  },
  {
   "cell_type": "code",
   "execution_count": 85,
   "metadata": {
    "ExecuteTime": {
     "end_time": "2020-05-18T16:47:34.076734Z",
     "start_time": "2020-05-18T16:47:33.525537Z"
    }
   },
   "outputs": [
    {
     "data": {
      "text/plain": [
       "['6.5443', '5.0565', '3.8209']"
      ]
     },
     "execution_count": 85,
     "metadata": {},
     "output_type": "execute_result"
    },
    {
     "data": {
      "image/png": "[encoded data removed]",
      "text/plain": [
       "<Figure size 237.6x144 with 1 Axes>"
      ]
     },
     "metadata": {},
     "output_type": "display_data"
    }
   ],
   "source": [
    "TITLE = 'Non-stationary Trajectory Overall Individual Entropy Distribution by Domain'\n",
    "# AX_COLORS = ['darkorange', 'green', 'dodgerblue',]\n",
    "# ARGS = dict(grid=True, xlim=(0, 10), ylim=(0, 0.9), color=AX_COLORS)\n",
    "# ax = BIN_NON_STAT_RES[['domain_entropy_lz', 'domain_entropy_shannon', 'domain_entropy_random',]] \\\n",
    "#        .plot.kde(**ARGS,)\n",
    "\n",
    "AX_COLORS = ['dodgerblue', 'green', 'darkorange', ]\n",
    "ARGS = dict(grid=True, xlim=(0, 10), ylim=(0, 0.7), color=AX_COLORS)\n",
    "\n",
    "ax = BIN_NON_STAT_RES[['domain_entropy_random', 'domain_entropy_shannon',  'domain_entropy_lz', ]] \\\n",
    "        .plot.kde(**ARGS,)\n",
    "\n",
    "maxes = []\n",
    "styles = LINE_STYLES[:len(ax.get_lines())]\n",
    "\n",
    "for line, style, color in zip(ax.get_lines(), styles, AX_COLORS):\n",
    "    line.set_linestyle(style)\n",
    "    x = line.get_xydata()[:,0]\n",
    "    y = line.get_xydata()[:,1]\n",
    "    ax.fill_between(x, y, color=color, alpha=0.2)\n",
    "    maxes.append(x[np.where(y == max(y))][0])\n",
    "    \n",
    "# ax.legend(['$S$', '$S^{unc}$', '$S^{rand}$'])\n",
    "# ax.set_xlabel('Entropy by Domain')\n",
    "ax.legend(['$S^{rand}$', '$S^{unc}$', '$S$'])\n",
    "ax.set_xlabel('Entropy')\n",
    "# ax.get_figure().savefig(f\"./figures/results/{TITLE.replace(' ', '-')}.pdf\", bbox_inches='tight')\n",
    "[ f'{m:.4f}' for m in maxes ]"
   ]
  },
  {
   "cell_type": "code",
   "execution_count": 86,
   "metadata": {
    "ExecuteTime": {
     "end_time": "2020-05-18T16:47:35.746204Z",
     "start_time": "2020-05-18T16:47:35.280209Z"
    }
   },
   "outputs": [
    {
     "data": {
      "text/plain": [
       "['2.8676', '3.5757', '4.8821']"
      ]
     },
     "execution_count": 86,
     "metadata": {},
     "output_type": "execute_result"
    },
    {
     "data": {
      "image/png": "[encoded data removed]",
      "text/plain": [
       "<Figure size 237.6x144 with 1 Axes>"
      ]
     },
     "metadata": {},
     "output_type": "display_data"
    }
   ],
   "source": [
    "TITLE = 'Non-stationary Trajectory Overall Individual Entropy Distribution by Category'\n",
    "AX_COLORS = ['darkorange', 'green', 'dodgerblue',]\n",
    "ARGS = dict(grid=True, xlim=(0, 10), ylim=(0, 1.1), color=AX_COLORS)\n",
    "\n",
    "ax = BIN_NON_STAT_RES[['category_entropy_lz', 'category_entropy_shannon', 'category_entropy_random']] \\\n",
    "        .plot.kde(**ARGS)\n",
    "\n",
    "maxes = []\n",
    "styles = LINE_STYLES[:len(ax.get_lines())]\n",
    "\n",
    "for line, style, color in zip(ax.get_lines(), styles, AX_COLORS):\n",
    "    line.set_linestyle(style)\n",
    "    x = line.get_xydata()[:,0]\n",
    "    y = line.get_xydata()[:,1]\n",
    "    ax.fill_between(x, y, color=color, alpha=0.2)\n",
    "    maxes.append(x[np.where(y == max(y))][0])\n",
    "    \n",
    "ax.legend(['$S$', '$S^{unc}$', '$S^{rand}$'])\n",
    "ax.set_xlabel('Entropy by Category')\n",
    "# ax.get_figure().savefig(f\"./figures/results/{TITLE.replace(' ', '-')}.pdf\", bbox_inches='tight')\n",
    "[ f'{m:.4f}' for m in maxes ]"
   ]
  },
  {
   "cell_type": "code",
   "execution_count": 75,
   "metadata": {
    "ExecuteTime": {
     "end_time": "2020-04-05T16:00:12.690406Z",
     "start_time": "2020-04-05T16:00:11.913753Z"
    }
   },
   "outputs": [
    {
     "name": "stdout",
     "output_type": "stream",
     "text": [
      "[0.007305104761358018, 0.38620216548731884, 0.5810804511249597]\n"
     ]
    },
    {
     "data": {
      "image/png": "[encoded data removed]",
      "text/plain": [
       "<Figure size 237.6x144 with 1 Axes>"
      ]
     },
     "metadata": {},
     "output_type": "display_data"
    }
   ],
   "source": [
    "TITLE = 'Non-stationary Trajectory Overall Individual Predictability Distribution by Domain'\n",
    "AX_COLORS = ['dodgerblue', 'green', 'darkorange']\n",
    "ARGS = dict(grid=True, xlim=(0, 1), ylim=(0, 8), color=AX_COLORS)\n",
    "\n",
    "ax = BIN_NON_STAT_RES[['domain_pi_rand', 'domain_pi_unc', 'domain_pi_max']] \\\n",
    "        .plot.kde(**ARGS)\n",
    "\n",
    "maxes = []\n",
    "styles = LINE_STYLES[:len(ax.get_lines())]\n",
    "\n",
    "for line, style, color in zip(ax.get_lines(), styles, AX_COLORS):\n",
    "    line.set_linestyle(style\n",
    "    x = line.get_xydata()[:,0]\n",
    "    y = line.get_xydata()[:,1]\n",
    "    ax.fill_between(x, y, color=color, alpha=0.2)\n",
    "    maxes.append(x[np.where(y == max(y))][0])\n",
    "    \n",
    "ax.legend(['$\\Pi^{rand}$', '$\\Pi^{unc}$', '$\\Pi^{max}$'])\n",
    "ax.set_xlabel('Predictability by Domain')\n",
    "# ax.get_figure().savefig(f\"./figures/results/{TITLE.replace(' ', '-')}.pdf\", bbox_inches='tight')\n",
    "[ f'{m:.4f}' for m in maxes ]"
   ]
  },
  {
   "cell_type": "code",
   "execution_count": 87,
   "metadata": {
    "ExecuteTime": {
     "end_time": "2020-05-18T16:47:48.160954Z",
     "start_time": "2020-05-18T16:47:47.598488Z"
    }
   },
   "outputs": [
    {
     "data": {
      "text/plain": [
       "['0.0276', '0.4893', '0.6124']"
      ]
     },
     "execution_count": 87,
     "metadata": {},
     "output_type": "execute_result"
    },
    {
     "data": {
      "image/png": "[encoded data removed]",
      "text/plain": [
       "<Figure size 237.6x144 with 1 Axes>"
      ]
     },
     "metadata": {},
     "output_type": "display_data"
    }
   ],
   "source": [
    "TITLE = 'Non-stationary Trajectory Overall Individual Predictability Distribution by Category'\n",
    "AX_COLORS = ['dodgerblue', 'green', 'darkorange']\n",
    "ARGS = dict(grid=True, xlim=(0, 1), ylim=(0, 8), color=AX_COLORS)\n",
    "\n",
    "ax = BIN_NON_STAT_RES[['category_pi_rand', 'category_pi_unc', 'category_pi_max']] \\\n",
    "        .plot.kde(**ARGS)\n",
    "\n",
    "maxes = []\n",
    "styles = LINE_STYLES[:len(ax.get_lines())]\n",
    "\n",
    "for line, style, color in zip(ax.get_lines(), styles, AX_COLORS):\n",
    "    line.set_linestyle(style)\n",
    "    x = line.get_xydata()[:,0]\n",
    "    y = line.get_xydata()[:,1]\n",
    "    ax.fill_between(x, y, color=color, alpha=0.2)\n",
    "    maxes.append(x[np.where(y == max(y))][0])\n",
    "    \n",
    "ax.legend(['$\\Pi^{rand}$', '$\\Pi^{unc}$', '$\\Pi^{max}$'])\n",
    "ax.set_xlabel('Predictability by Category')\n",
    "# ax.get_figure().savefig(f\"./figures/results/{TITLE.replace(' ', '-')}.pdf\", bbox_inches='tight')\n",
    "[ f'{m:.4f}' for m in maxes ]"
   ]
  },
  {
   "cell_type": "markdown",
   "metadata": {},
   "source": [
    "## Sequential Non-Stationary Trajectory $T^{seqNonStat}$\n",
    "\n",
    "- Section 6 in the article.\n",
    "- Figure 6c in the article."
   ]
  },
  {
   "cell_type": "code",
   "execution_count": 90,
   "metadata": {
    "ExecuteTime": {
     "end_time": "2020-05-18T16:49:26.027463Z",
     "start_time": "2020-05-18T16:49:24.772099Z"
    }
   },
   "outputs": [
    {
     "data": {
      "text/plain": [
       "['3.1462', '4.8154', '6.9222']"
      ]
     },
     "execution_count": 90,
     "metadata": {},
     "output_type": "execute_result"
    },
    {
     "data": {
      "image/png": "[encoded data removed]",
      "text/plain": [
       "<Figure size 237.6x144 with 1 Axes>"
      ]
     },
     "metadata": {},
     "output_type": "display_data"
    }
   ],
   "source": [
    "TITLE = 'Sequential Non-stationary Trajectory Overall Individual Entropy Distribution by Domain'\n",
    "AX_COLORS = ['darkorange', 'green', 'dodgerblue', ]\n",
    "ARGS = dict(grid=True, xlim=(0, 10), ylim=(0, 0.7), color=AX_COLORS)\n",
    "\n",
    "ax = SEQ_NON_STAT_RES[['domain_entropy_lz', 'domain_entropy_shannon', 'domain_entropy_random', ]] \\\n",
    "        .plot.kde(**ARGS)\n",
    "\n",
    "maxes = []\n",
    "styles = LINE_STYLES[:len(ax.get_lines())]\n",
    "\n",
    "for line, style, color in zip(ax.get_lines(), styles, AX_COLORS):\n",
    "    line.set_linestyle(style)\n",
    "    x = line.get_xydata()[:,0]\n",
    "    y = line.get_xydata()[:,1]\n",
    "    ax.fill_between(x, y, color=color, alpha=0.2)\n",
    "    maxes.append(x[np.where(y == max(y))][0])\n",
    "    \n",
    "ax.legend(['$S$', '$S^{unc}$', '$S^{rand}$'])\n",
    "ax.set_xlabel('Entropy by Domain')\n",
    "# ax.get_figure().savefig(f\"./figures/results/{TITLE.replace(' ', '-')}.pdf\", bbox_inches='tight')\n",
    "[ f'{m:.4f}' for m in maxes ]"
   ]
  },
  {
   "cell_type": "code",
   "execution_count": 92,
   "metadata": {
    "ExecuteTime": {
     "end_time": "2020-05-18T16:49:53.952114Z",
     "start_time": "2020-05-18T16:49:53.388171Z"
    }
   },
   "outputs": [
    {
     "data": {
      "text/plain": [
       "['2.4137', '3.4423', '5.0734']"
      ]
     },
     "execution_count": 92,
     "metadata": {},
     "output_type": "execute_result"
    },
    {
     "data": {
      "image/png": "[encoded data removed]",
      "text/plain": [
       "<Figure size 237.6x144 with 1 Axes>"
      ]
     },
     "metadata": {},
     "output_type": "display_data"
    }
   ],
   "source": [
    "TITLE = 'Sequential Non-stationary Trajectory Overall Individual Entropy Distribution by Category'\n",
    "AX_COLORS = ['darkorange', 'green', 'dodgerblue', ]\n",
    "ARGS = dict(grid=True, xlim=(0, 10), ylim=(0, 1), color=AX_COLORS)\n",
    "\n",
    "ax = SEQ_NON_STAT_RES[['category_entropy_lz', 'category_entropy_shannon', 'category_entropy_random']] \\\n",
    "        .plot.kde(**ARGS)\n",
    "\n",
    "maxes = []\n",
    "styles = LINE_STYLES[:len(ax.get_lines())]\n",
    "\n",
    "for line, style, color in zip(ax.get_lines(), styles, AX_COLORS):\n",
    "    line.set_linestyle(style)\n",
    "    x = line.get_xydata()[:,0]\n",
    "    y = line.get_xydata()[:,1]\n",
    "    ax.fill_between(x, y, color=color, alpha=0.2)\n",
    "    maxes.append(x[np.where(y == max(y))][0])\n",
    "    \n",
    "ax.legend(['$S$', '$S^{unc}$', '$S^{rand}$'])\n",
    "ax.set_xlabel('Entropy by Category')\n",
    "# ax.get_figure().savefig(f\"./figures/results/{TITLE.replace(' ', '-')}.pdf\", bbox_inches='tight')\n",
    "[ f'{m:.4f}' for m in maxes ]"
   ]
  },
  {
   "cell_type": "code",
   "execution_count": 93,
   "metadata": {
    "ExecuteTime": {
     "end_time": "2020-05-18T16:50:20.624991Z",
     "start_time": "2020-05-18T16:50:20.045543Z"
    }
   },
   "outputs": [
    {
     "data": {
      "text/plain": [
       "['0.0056', '0.4598', '0.6767']"
      ]
     },
     "execution_count": 93,
     "metadata": {},
     "output_type": "execute_result"
    },
    {
     "data": {
      "image/png": "[encoded data removed]",
      "text/plain": [
       "<Figure size 237.6x144 with 1 Axes>"
      ]
     },
     "metadata": {},
     "output_type": "display_data"
    }
   ],
   "source": [
    "TITLE = 'Sequential Non-stationary Trajectory Overall Individual Predictability Distribution by Domain'\n",
    "AX_COLORS = ['dodgerblue', 'green', 'darkorange']\n",
    "ARGS = dict(grid=True, xlim=(0, 1), ylim=(0, 8), color=AX_COLORS)\n",
    "\n",
    "ax = SEQ_NON_STAT_RES[['domain_pi_rand', 'domain_pi_unc', 'domain_pi_max']] \\\n",
    "        .plot.kde(**ARGS)\n",
    "\n",
    "maxes = []\n",
    "styles = LINE_STYLES[:len(ax.get_lines())]\n",
    "\n",
    "for line, style, color in zip(ax.get_lines(), styles, AX_COLORS):\n",
    "    line.set_linestyle(style)\n",
    "    x = line.get_xydata()[:,0]\n",
    "    y = line.get_xydata()[:,1]\n",
    "    ax.fill_between(x, y, color=color, alpha=0.2)\n",
    "    maxes.append(x[np.where(y == max(y))][0])\n",
    "    \n",
    "ax.legend(['$\\Pi^{rand}$', '$\\Pi^{unc}$', '$\\Pi^{max}$'])\n",
    "ax.set_xlabel('Predictability by Domain')\n",
    "# ax.get_figure().savefig(f\"./figures/results/{TITLE.replace(' ', '-')}.pdf\", bbox_inches='tight')\n",
    "[ f'{m:.4f}' for m in maxes ]"
   ]
  },
  {
   "cell_type": "code",
   "execution_count": 94,
   "metadata": {
    "ExecuteTime": {
     "end_time": "2020-05-18T16:50:30.002271Z",
     "start_time": "2020-05-18T16:50:29.406268Z"
    }
   },
   "outputs": [
    {
     "data": {
      "text/plain": [
       "['0.0233', '0.5423', '0.6964']"
      ]
     },
     "execution_count": 94,
     "metadata": {},
     "output_type": "execute_result"
    },
    {
     "data": {
      "image/png": "[encoded data removed]",
      "text/plain": [
       "<Figure size 237.6x144 with 1 Axes>"
      ]
     },
     "metadata": {},
     "output_type": "display_data"
    }
   ],
   "source": [
    "TITLE = 'Sequential Non-stationary Trajectory Overall Individual Predictability Distribution by Category'\n",
    "AX_COLORS = ['dodgerblue', 'green', 'darkorange']\n",
    "ARGS = dict(grid=True, xlim=(0, 1), ylim=(0, 8), color=AX_COLORS)\n",
    "\n",
    "ax = SEQ_NON_STAT_RES[['category_pi_rand', 'category_pi_unc', 'category_pi_max']] \\\n",
    "        .plot.kde(**ARGS)\n",
    "\n",
    "maxes = []\n",
    "styles = LINE_STYLES[:len(ax.get_lines())]\n",
    "\n",
    "for line, style, color in zip(ax.get_lines(), styles, AX_COLORS):\n",
    "    line.set_linestyle(style)\n",
    "    x = line.get_xydata()[:,0]\n",
    "    y = line.get_xydata()[:,1]\n",
    "    ax.fill_between(x, y, color=color, alpha=0.2)\n",
    "    maxes.append(x[np.where(y == max(y))][0])\n",
    "    \n",
    "ax.legend(['$\\Pi^{rand}$', '$\\Pi^{unc}$', '$\\Pi^{max}$'], loc=1)\n",
    "ax.set_xlabel('Predictability by Category')\n",
    "# ax.get_figure().savefig(f\"./figures/results/{TITLE.replace(' ', '-')}.pdf\", bbox_inches='tight')\n",
    "[ f'{m:.4f}' for m in maxes ]"
   ]
  },
  {
   "cell_type": "markdown",
   "metadata": {},
   "source": [
    "# KS Tests\n",
    "\n",
    "- Section 6.1 in the article."
   ]
  },
  {
   "cell_type": "code",
   "execution_count": 80,
   "metadata": {
    "ExecuteTime": {
     "end_time": "2020-06-18T13:34:58.231711Z",
     "start_time": "2020-06-18T13:34:57.812591Z"
    },
    "code_folding": [
     38
    ]
   },
   "outputs": [],
   "source": [
    "def get_trajectory(var):\n",
    "    if isinstance(var, str):\n",
    "        if   var == 'non-stationary'           : return BIN_NON_STAT_RES.merge(USERS, on='user')\n",
    "        elif var == 'sequential-non-stationary': return SEQ_NON_STAT_RES.merge(USERS, on='user')\n",
    "        elif var == 'stationary'               : return STAT_RES.merge(USERS, on='user')\n",
    "        else                                   : return None\n",
    "    else:\n",
    "        return var\n",
    "\n",
    "    \n",
    "def highlight_cols(row, rate, pairs):\n",
    "    \"\"\"Higlights statistically significant cells with applying Bonferroni Correction.\"\"\"\n",
    "    return ['background-color: crimson; color: white'] if row.p_value < (rate / pairs) else ['']\n",
    "\n",
    "\n",
    "def apply_ks_test(traj, attribute, feature, metric, exclude_attr_vars=[]):\n",
    "    \n",
    "    ATTR    = attribute\n",
    "    FEATURE = feature\n",
    "    METRIC  = metric\n",
    "    DF      = get_trajectory(traj)\n",
    "\n",
    "    ATTR_VALS = set(DF[ATTR].dropna().unique().tolist()).difference(set(exclude_attr_vars))\n",
    "    results = []\n",
    "\n",
    "    for VAR_1, VAR_2 in combinations(ATTR_VALS, 2):\n",
    "        temp = ks_2samp(\n",
    "            DF[(DF[ATTR].notnull()) & (DF[ATTR] == VAR_1)][f'{FEATURE}_{METRIC}'],\n",
    "            DF[(DF[ATTR].notnull()) & (DF[ATTR] == VAR_2)][f'{FEATURE}_{METRIC}']\n",
    "        )\n",
    "        results.append(\n",
    "            (traj, ATTR, FEATURE, METRIC, VAR_1, VAR_2, temp.statistic, temp.pvalue)\n",
    "        )\n",
    "\n",
    "    return pd.DataFrame(results, columns=['trajectory', 'attribute', 'feature', 'metric', 'var_1', 'var_2', 'ks_statistic', 'p_value'])\n",
    "    \n",
    "    \n",
    "def apply_cliffs_d(traj, attribute, feature, metric, exclude_attr_vars=[]):\n",
    "    \n",
    "    ATTR = attribute\n",
    "    FEATURE = feature\n",
    "    METRIC = metric\n",
    "    DF = get_trajectory(traj)\n",
    "\n",
    "    ATTR_VALS = set(DF[ATTR].dropna().unique().tolist()).difference(set(exclude_attr_vars))\n",
    "    results = []\n",
    "\n",
    "    for VAR_1, VAR_2 in combinations(ATTR_VALS, 2):\n",
    "        arr_1 = DF[(DF[ATTR].notnull()) & (DF[ATTR] == VAR_1)][f'{FEATURE}_{METRIC}'].tolist()\n",
    "        arr_2 = DF[(DF[ATTR].notnull()) & (DF[ATTR] == VAR_2)][f'{FEATURE}_{METRIC}'].tolist()\n",
    "        gt, lt = 0, 0\n",
    "        for a1 in arr_1:\n",
    "            for a2 in arr_2:\n",
    "                if a1 > a2: gt += 1\n",
    "                if a1 < a2: lt += 1\n",
    "        results.append(\n",
    "            (traj, ATTR, FEATURE, METRIC, VAR_1, VAR_2, (lt-gt)/(len(arr_1) * len(arr_2)))\n",
    "        )\n",
    "    \n",
    "    return pd.DataFrame(results, columns=['trajectory', 'attribute', 'feature', 'metric', 'var_1', 'var_2', 'cliffs_d'])\n"
   ]
  },
  {
   "cell_type": "markdown",
   "metadata": {},
   "source": [
    "## Gender\n",
    "\n",
    "- Section 6.1 Gender\n"
   ]
  },
  {
   "cell_type": "code",
   "execution_count": 92,
   "metadata": {
    "ExecuteTime": {
     "end_time": "2020-06-18T14:13:13.884154Z",
     "start_time": "2020-06-18T14:13:13.744426Z"
    }
   },
   "outputs": [
    {
     "data": {
      "text/html": [
       "<style  type=\"text/css\" >\n",
       "    #T_d905a9e4_b16d_11ea_a1fc_1b036a81acc6row0_col6 {\n",
       "            background-color:  #f7fbff;\n",
       "            color:  #000000;\n",
       "        }    #T_d905a9e4_b16d_11ea_a1fc_1b036a81acc6row0_col7 {\n",
       "            background-color:  #f7fcf5;\n",
       "            color:  #000000;\n",
       "            background-color:  crimson;\n",
       "             color:  white;\n",
       "        }    #T_d905a9e4_b16d_11ea_a1fc_1b036a81acc6row0_col8 {\n",
       "            background-color:  #fff5eb;\n",
       "            color:  #000000;\n",
       "        }</style><table id=\"T_d905a9e4_b16d_11ea_a1fc_1b036a81acc6\" ><thead>    <tr>        <th class=\"blank level0\" ></th>        <th class=\"col_heading level0 col0\" >trajectory</th>        <th class=\"col_heading level0 col1\" >attribute</th>        <th class=\"col_heading level0 col2\" >feature</th>        <th class=\"col_heading level0 col3\" >metric</th>        <th class=\"col_heading level0 col4\" >var_1</th>        <th class=\"col_heading level0 col5\" >var_2</th>        <th class=\"col_heading level0 col6\" >ks_statistic</th>        <th class=\"col_heading level0 col7\" >p_value</th>        <th class=\"col_heading level0 col8\" >cliffs_d</th>    </tr></thead><tbody>\n",
       "                <tr>\n",
       "                        <th id=\"T_d905a9e4_b16d_11ea_a1fc_1b036a81acc6level0_row0\" class=\"row_heading level0 row0\" >0</th>\n",
       "                        <td id=\"T_d905a9e4_b16d_11ea_a1fc_1b036a81acc6row0_col0\" class=\"data row0 col0\" >stationary</td>\n",
       "                        <td id=\"T_d905a9e4_b16d_11ea_a1fc_1b036a81acc6row0_col1\" class=\"data row0 col1\" >gender</td>\n",
       "                        <td id=\"T_d905a9e4_b16d_11ea_a1fc_1b036a81acc6row0_col2\" class=\"data row0 col2\" >domain</td>\n",
       "                        <td id=\"T_d905a9e4_b16d_11ea_a1fc_1b036a81acc6row0_col3\" class=\"data row0 col3\" >pi_max</td>\n",
       "                        <td id=\"T_d905a9e4_b16d_11ea_a1fc_1b036a81acc6row0_col4\" class=\"data row0 col4\" >female</td>\n",
       "                        <td id=\"T_d905a9e4_b16d_11ea_a1fc_1b036a81acc6row0_col5\" class=\"data row0 col5\" >male</td>\n",
       "                        <td id=\"T_d905a9e4_b16d_11ea_a1fc_1b036a81acc6row0_col6\" class=\"data row0 col6\" >0.0866</td>\n",
       "                        <td id=\"T_d905a9e4_b16d_11ea_a1fc_1b036a81acc6row0_col7\" class=\"data row0 col7\" >8.01e-03</td>\n",
       "                        <td id=\"T_d905a9e4_b16d_11ea_a1fc_1b036a81acc6row0_col8\" class=\"data row0 col8\" >-0.1145</td>\n",
       "            </tr>\n",
       "    </tbody></table>"
      ],
      "text/plain": [
       "<pandas.io.formats.style.Styler at 0x7f4782277cc0>"
      ]
     },
     "execution_count": 92,
     "metadata": {},
     "output_type": "execute_result"
    }
   ],
   "source": [
    "apply_ks_test('stationary', 'gender', 'domain', 'pi_max') \\\n",
    "    .merge(apply_cliffs_d('stationary', 'gender', 'domain', 'pi_max'), on=['trajectory', 'attribute', 'feature', 'metric', 'var_1', 'var_2']) \\\n",
    "    .style \\\n",
    "        .background_gradient('Blues', subset='ks_statistic') \\\n",
    "        .background_gradient('Greens', subset='p_value') \\\n",
    "        .background_gradient('Oranges', subset='cliffs_d') \\\n",
    "        .apply(partial(highlight_cols, rate=0.05, pairs=1), subset=['p_value'], axis=1) \\\n",
    "        .format({'ks_statistic': '{0:.4f}', 'cliffs_d': '{0:.4f}', 'p_value': '{0:.2e}'})"
   ]
  },
  {
   "cell_type": "markdown",
   "metadata": {},
   "source": [
    "## Age\n",
    "\n",
    "- Section 6.1 Age in the article\n",
    "- Table 2 in the article."
   ]
  },
  {
   "cell_type": "code",
   "execution_count": 82,
   "metadata": {
    "ExecuteTime": {
     "end_time": "2020-06-18T13:35:06.166545Z",
     "start_time": "2020-06-18T13:35:05.636363Z"
    }
   },
   "outputs": [
    {
     "data": {
      "text/html": [
       "<style  type=\"text/css\" >\n",
       "    #T_85694994_b168_11ea_a1fc_1b036a81acc6row0_col6 {\n",
       "            background-color:  #d3e4f3;\n",
       "            color:  #000000;\n",
       "        }    #T_85694994_b168_11ea_a1fc_1b036a81acc6row0_col7 {\n",
       "            background-color:  #a4da9e;\n",
       "            color:  #000000;\n",
       "            : ;\n",
       "        }    #T_85694994_b168_11ea_a1fc_1b036a81acc6row0_col8 {\n",
       "            background-color:  #e4580a;\n",
       "            color:  #000000;\n",
       "        }    #T_85694994_b168_11ea_a1fc_1b036a81acc6row1_col6 {\n",
       "            background-color:  #2f7fbc;\n",
       "            color:  #000000;\n",
       "        }    #T_85694994_b168_11ea_a1fc_1b036a81acc6row1_col7 {\n",
       "            background-color:  #f7fcf5;\n",
       "            color:  #000000;\n",
       "            background-color:  crimson;\n",
       "             color:  white;\n",
       "        }    #T_85694994_b168_11ea_a1fc_1b036a81acc6row1_col8 {\n",
       "            background-color:  #fee3c8;\n",
       "            color:  #000000;\n",
       "        }    #T_85694994_b168_11ea_a1fc_1b036a81acc6row2_col6 {\n",
       "            background-color:  #cbdef1;\n",
       "            color:  #000000;\n",
       "        }    #T_85694994_b168_11ea_a1fc_1b036a81acc6row2_col7 {\n",
       "            background-color:  #1a843f;\n",
       "            color:  #000000;\n",
       "            : ;\n",
       "        }    #T_85694994_b168_11ea_a1fc_1b036a81acc6row2_col8 {\n",
       "            background-color:  #f87e2b;\n",
       "            color:  #000000;\n",
       "        }    #T_85694994_b168_11ea_a1fc_1b036a81acc6row3_col6 {\n",
       "            background-color:  #b0d2e7;\n",
       "            color:  #000000;\n",
       "        }    #T_85694994_b168_11ea_a1fc_1b036a81acc6row3_col7 {\n",
       "            background-color:  #f5fbf2;\n",
       "            color:  #000000;\n",
       "            : ;\n",
       "        }    #T_85694994_b168_11ea_a1fc_1b036a81acc6row3_col8 {\n",
       "            background-color:  #fdc088;\n",
       "            color:  #000000;\n",
       "        }    #T_85694994_b168_11ea_a1fc_1b036a81acc6row4_col6 {\n",
       "            background-color:  #f7fbff;\n",
       "            color:  #000000;\n",
       "        }    #T_85694994_b168_11ea_a1fc_1b036a81acc6row4_col7 {\n",
       "            background-color:  #00441b;\n",
       "            color:  #f1f1f1;\n",
       "            : ;\n",
       "        }    #T_85694994_b168_11ea_a1fc_1b036a81acc6row4_col8 {\n",
       "            background-color:  #fd9446;\n",
       "            color:  #000000;\n",
       "        }    #T_85694994_b168_11ea_a1fc_1b036a81acc6row5_col6 {\n",
       "            background-color:  #08468b;\n",
       "            color:  #f1f1f1;\n",
       "        }    #T_85694994_b168_11ea_a1fc_1b036a81acc6row5_col7 {\n",
       "            background-color:  #f7fcf5;\n",
       "            color:  #000000;\n",
       "            background-color:  crimson;\n",
       "             color:  white;\n",
       "        }    #T_85694994_b168_11ea_a1fc_1b036a81acc6row5_col8 {\n",
       "            background-color:  #fff5eb;\n",
       "            color:  #000000;\n",
       "        }    #T_85694994_b168_11ea_a1fc_1b036a81acc6row6_col6 {\n",
       "            background-color:  #9dcae1;\n",
       "            color:  #000000;\n",
       "        }    #T_85694994_b168_11ea_a1fc_1b036a81acc6row6_col7 {\n",
       "            background-color:  #94d390;\n",
       "            color:  #000000;\n",
       "            : ;\n",
       "        }    #T_85694994_b168_11ea_a1fc_1b036a81acc6row6_col8 {\n",
       "            background-color:  #fda25a;\n",
       "            color:  #000000;\n",
       "        }    #T_85694994_b168_11ea_a1fc_1b036a81acc6row7_col6 {\n",
       "            background-color:  #4a98c9;\n",
       "            color:  #000000;\n",
       "        }    #T_85694994_b168_11ea_a1fc_1b036a81acc6row7_col7 {\n",
       "            background-color:  #f7fcf5;\n",
       "            color:  #000000;\n",
       "            background-color:  crimson;\n",
       "             color:  white;\n",
       "        }    #T_85694994_b168_11ea_a1fc_1b036a81acc6row7_col8 {\n",
       "            background-color:  #fee0c1;\n",
       "            color:  #000000;\n",
       "        }    #T_85694994_b168_11ea_a1fc_1b036a81acc6row8_col6 {\n",
       "            background-color:  #aacfe5;\n",
       "            color:  #000000;\n",
       "        }    #T_85694994_b168_11ea_a1fc_1b036a81acc6row8_col7 {\n",
       "            background-color:  #eff9ec;\n",
       "            color:  #000000;\n",
       "            : ;\n",
       "        }    #T_85694994_b168_11ea_a1fc_1b036a81acc6row8_col8 {\n",
       "            background-color:  #fdb87c;\n",
       "            color:  #000000;\n",
       "        }    #T_85694994_b168_11ea_a1fc_1b036a81acc6row9_col6 {\n",
       "            background-color:  #08306b;\n",
       "            color:  #f1f1f1;\n",
       "        }    #T_85694994_b168_11ea_a1fc_1b036a81acc6row9_col7 {\n",
       "            background-color:  #f7fcf5;\n",
       "            color:  #000000;\n",
       "            background-color:  crimson;\n",
       "             color:  white;\n",
       "        }    #T_85694994_b168_11ea_a1fc_1b036a81acc6row9_col8 {\n",
       "            background-color:  #7f2704;\n",
       "            color:  #f1f1f1;\n",
       "        }    #T_85694994_b168_11ea_a1fc_1b036a81acc6row10_col6 {\n",
       "            background-color:  #b5d4e9;\n",
       "            color:  #000000;\n",
       "        }    #T_85694994_b168_11ea_a1fc_1b036a81acc6row10_col7 {\n",
       "            background-color:  #eff9eb;\n",
       "            color:  #000000;\n",
       "            : ;\n",
       "        }    #T_85694994_b168_11ea_a1fc_1b036a81acc6row10_col8 {\n",
       "            background-color:  #da4902;\n",
       "            color:  #f1f1f1;\n",
       "        }    #T_85694994_b168_11ea_a1fc_1b036a81acc6row11_col6 {\n",
       "            background-color:  #72b2d8;\n",
       "            color:  #000000;\n",
       "        }    #T_85694994_b168_11ea_a1fc_1b036a81acc6row11_col7 {\n",
       "            background-color:  #f7fcf5;\n",
       "            color:  #000000;\n",
       "            background-color:  crimson;\n",
       "             color:  white;\n",
       "        }    #T_85694994_b168_11ea_a1fc_1b036a81acc6row11_col8 {\n",
       "            background-color:  #a53603;\n",
       "            color:  #f1f1f1;\n",
       "        }    #T_85694994_b168_11ea_a1fc_1b036a81acc6row12_col6 {\n",
       "            background-color:  #4191c6;\n",
       "            color:  #000000;\n",
       "        }    #T_85694994_b168_11ea_a1fc_1b036a81acc6row12_col7 {\n",
       "            background-color:  #f2faf0;\n",
       "            color:  #000000;\n",
       "            : ;\n",
       "        }    #T_85694994_b168_11ea_a1fc_1b036a81acc6row12_col8 {\n",
       "            background-color:  #fdc794;\n",
       "            color:  #000000;\n",
       "        }    #T_85694994_b168_11ea_a1fc_1b036a81acc6row13_col6 {\n",
       "            background-color:  #95c5df;\n",
       "            color:  #000000;\n",
       "        }    #T_85694994_b168_11ea_a1fc_1b036a81acc6row13_col7 {\n",
       "            background-color:  #ccebc6;\n",
       "            color:  #000000;\n",
       "            : ;\n",
       "        }    #T_85694994_b168_11ea_a1fc_1b036a81acc6row13_col8 {\n",
       "            background-color:  #fd9547;\n",
       "            color:  #000000;\n",
       "        }    #T_85694994_b168_11ea_a1fc_1b036a81acc6row14_col6 {\n",
       "            background-color:  #d9e8f5;\n",
       "            color:  #000000;\n",
       "        }    #T_85694994_b168_11ea_a1fc_1b036a81acc6row14_col7 {\n",
       "            background-color:  #caeac3;\n",
       "            color:  #000000;\n",
       "            : ;\n",
       "        }    #T_85694994_b168_11ea_a1fc_1b036a81acc6row14_col8 {\n",
       "            background-color:  #e15307;\n",
       "            color:  #000000;\n",
       "        }</style><table id=\"T_85694994_b168_11ea_a1fc_1b036a81acc6\" ><thead>    <tr>        <th class=\"blank level0\" ></th>        <th class=\"col_heading level0 col0\" >trajectory</th>        <th class=\"col_heading level0 col1\" >attribute</th>        <th class=\"col_heading level0 col2\" >feature</th>        <th class=\"col_heading level0 col3\" >metric</th>        <th class=\"col_heading level0 col4\" >var_1</th>        <th class=\"col_heading level0 col5\" >var_2</th>        <th class=\"col_heading level0 col6\" >ks_statistic</th>        <th class=\"col_heading level0 col7\" >p_value</th>        <th class=\"col_heading level0 col8\" >cliffs_d</th>    </tr></thead><tbody>\n",
       "                <tr>\n",
       "                        <th id=\"T_85694994_b168_11ea_a1fc_1b036a81acc6level0_row0\" class=\"row_heading level0 row0\" >0</th>\n",
       "                        <td id=\"T_85694994_b168_11ea_a1fc_1b036a81acc6row0_col0\" class=\"data row0 col0\" >stationary</td>\n",
       "                        <td id=\"T_85694994_b168_11ea_a1fc_1b036a81acc6row0_col1\" class=\"data row0 col1\" >age_recode</td>\n",
       "                        <td id=\"T_85694994_b168_11ea_a1fc_1b036a81acc6row0_col2\" class=\"data row0 col2\" >domain</td>\n",
       "                        <td id=\"T_85694994_b168_11ea_a1fc_1b036a81acc6row0_col3\" class=\"data row0 col3\" >pi_max</td>\n",
       "                        <td id=\"T_85694994_b168_11ea_a1fc_1b036a81acc6row0_col4\" class=\"data row0 col4\" >(54,64]</td>\n",
       "                        <td id=\"T_85694994_b168_11ea_a1fc_1b036a81acc6row0_col5\" class=\"data row0 col5\" >[18,24]</td>\n",
       "                        <td id=\"T_85694994_b168_11ea_a1fc_1b036a81acc6row0_col6\" class=\"data row0 col6\" >0.0986</td>\n",
       "                        <td id=\"T_85694994_b168_11ea_a1fc_1b036a81acc6row0_col7\" class=\"data row0 col7\" >2.24e-01</td>\n",
       "                        <td id=\"T_85694994_b168_11ea_a1fc_1b036a81acc6row0_col8\" class=\"data row0 col8\" >0.0833</td>\n",
       "            </tr>\n",
       "            <tr>\n",
       "                        <th id=\"T_85694994_b168_11ea_a1fc_1b036a81acc6level0_row1\" class=\"row_heading level0 row1\" >1</th>\n",
       "                        <td id=\"T_85694994_b168_11ea_a1fc_1b036a81acc6row1_col0\" class=\"data row1 col0\" >stationary</td>\n",
       "                        <td id=\"T_85694994_b168_11ea_a1fc_1b036a81acc6row1_col1\" class=\"data row1 col1\" >age_recode</td>\n",
       "                        <td id=\"T_85694994_b168_11ea_a1fc_1b036a81acc6row1_col2\" class=\"data row1 col2\" >domain</td>\n",
       "                        <td id=\"T_85694994_b168_11ea_a1fc_1b036a81acc6row1_col3\" class=\"data row1 col3\" >pi_max</td>\n",
       "                        <td id=\"T_85694994_b168_11ea_a1fc_1b036a81acc6row1_col4\" class=\"data row1 col4\" >(54,64]</td>\n",
       "                        <td id=\"T_85694994_b168_11ea_a1fc_1b036a81acc6row1_col5\" class=\"data row1 col5\" >(34,44]</td>\n",
       "                        <td id=\"T_85694994_b168_11ea_a1fc_1b036a81acc6row1_col6\" class=\"data row1 col6\" >0.2170</td>\n",
       "                        <td id=\"T_85694994_b168_11ea_a1fc_1b036a81acc6row1_col7\" class=\"data row1 col7\" >3.19e-06</td>\n",
       "                        <td id=\"T_85694994_b168_11ea_a1fc_1b036a81acc6row1_col8\" class=\"data row1 col8\" >-0.2535</td>\n",
       "            </tr>\n",
       "            <tr>\n",
       "                        <th id=\"T_85694994_b168_11ea_a1fc_1b036a81acc6level0_row2\" class=\"row_heading level0 row2\" >2</th>\n",
       "                        <td id=\"T_85694994_b168_11ea_a1fc_1b036a81acc6row2_col0\" class=\"data row2 col0\" >stationary</td>\n",
       "                        <td id=\"T_85694994_b168_11ea_a1fc_1b036a81acc6row2_col1\" class=\"data row2 col1\" >age_recode</td>\n",
       "                        <td id=\"T_85694994_b168_11ea_a1fc_1b036a81acc6row2_col2\" class=\"data row2 col2\" >domain</td>\n",
       "                        <td id=\"T_85694994_b168_11ea_a1fc_1b036a81acc6row2_col3\" class=\"data row2 col3\" >pi_max</td>\n",
       "                        <td id=\"T_85694994_b168_11ea_a1fc_1b036a81acc6row2_col4\" class=\"data row2 col4\" >(54,64]</td>\n",
       "                        <td id=\"T_85694994_b168_11ea_a1fc_1b036a81acc6row2_col5\" class=\"data row2 col5\" >(64,80]</td>\n",
       "                        <td id=\"T_85694994_b168_11ea_a1fc_1b036a81acc6row2_col6\" class=\"data row2 col6\" >0.1084</td>\n",
       "                        <td id=\"T_85694994_b168_11ea_a1fc_1b036a81acc6row2_col7\" class=\"data row2 col7\" >4.78e-01</td>\n",
       "                        <td id=\"T_85694994_b168_11ea_a1fc_1b036a81acc6row2_col8\" class=\"data row2 col8\" >-0.0012</td>\n",
       "            </tr>\n",
       "            <tr>\n",
       "                        <th id=\"T_85694994_b168_11ea_a1fc_1b036a81acc6level0_row3\" class=\"row_heading level0 row3\" >3</th>\n",
       "                        <td id=\"T_85694994_b168_11ea_a1fc_1b036a81acc6row3_col0\" class=\"data row3 col0\" >stationary</td>\n",
       "                        <td id=\"T_85694994_b168_11ea_a1fc_1b036a81acc6row3_col1\" class=\"data row3 col1\" >age_recode</td>\n",
       "                        <td id=\"T_85694994_b168_11ea_a1fc_1b036a81acc6row3_col2\" class=\"data row3 col2\" >domain</td>\n",
       "                        <td id=\"T_85694994_b168_11ea_a1fc_1b036a81acc6row3_col3\" class=\"data row3 col3\" >pi_max</td>\n",
       "                        <td id=\"T_85694994_b168_11ea_a1fc_1b036a81acc6row3_col4\" class=\"data row3 col4\" >(54,64]</td>\n",
       "                        <td id=\"T_85694994_b168_11ea_a1fc_1b036a81acc6row3_col5\" class=\"data row3 col5\" >(24,34]</td>\n",
       "                        <td id=\"T_85694994_b168_11ea_a1fc_1b036a81acc6row3_col6\" class=\"data row3 col6\" >0.1298</td>\n",
       "                        <td id=\"T_85694994_b168_11ea_a1fc_1b036a81acc6row3_col7\" class=\"data row3 col7\" >1.11e-02</td>\n",
       "                        <td id=\"T_85694994_b168_11ea_a1fc_1b036a81acc6row3_col8\" class=\"data row3 col8\" >-0.1500</td>\n",
       "            </tr>\n",
       "            <tr>\n",
       "                        <th id=\"T_85694994_b168_11ea_a1fc_1b036a81acc6level0_row4\" class=\"row_heading level0 row4\" >4</th>\n",
       "                        <td id=\"T_85694994_b168_11ea_a1fc_1b036a81acc6row4_col0\" class=\"data row4 col0\" >stationary</td>\n",
       "                        <td id=\"T_85694994_b168_11ea_a1fc_1b036a81acc6row4_col1\" class=\"data row4 col1\" >age_recode</td>\n",
       "                        <td id=\"T_85694994_b168_11ea_a1fc_1b036a81acc6row4_col2\" class=\"data row4 col2\" >domain</td>\n",
       "                        <td id=\"T_85694994_b168_11ea_a1fc_1b036a81acc6row4_col3\" class=\"data row4 col3\" >pi_max</td>\n",
       "                        <td id=\"T_85694994_b168_11ea_a1fc_1b036a81acc6row4_col4\" class=\"data row4 col4\" >(54,64]</td>\n",
       "                        <td id=\"T_85694994_b168_11ea_a1fc_1b036a81acc6row4_col5\" class=\"data row4 col5\" >(44,54]</td>\n",
       "                        <td id=\"T_85694994_b168_11ea_a1fc_1b036a81acc6row4_col6\" class=\"data row4 col6\" >0.0567</td>\n",
       "                        <td id=\"T_85694994_b168_11ea_a1fc_1b036a81acc6row4_col7\" class=\"data row4 col7\" >6.12e-01</td>\n",
       "                        <td id=\"T_85694994_b168_11ea_a1fc_1b036a81acc6row4_col8\" class=\"data row4 col8\" >-0.0485</td>\n",
       "            </tr>\n",
       "            <tr>\n",
       "                        <th id=\"T_85694994_b168_11ea_a1fc_1b036a81acc6level0_row5\" class=\"row_heading level0 row5\" >5</th>\n",
       "                        <td id=\"T_85694994_b168_11ea_a1fc_1b036a81acc6row5_col0\" class=\"data row5 col0\" >stationary</td>\n",
       "                        <td id=\"T_85694994_b168_11ea_a1fc_1b036a81acc6row5_col1\" class=\"data row5 col1\" >age_recode</td>\n",
       "                        <td id=\"T_85694994_b168_11ea_a1fc_1b036a81acc6row5_col2\" class=\"data row5 col2\" >domain</td>\n",
       "                        <td id=\"T_85694994_b168_11ea_a1fc_1b036a81acc6row5_col3\" class=\"data row5 col3\" >pi_max</td>\n",
       "                        <td id=\"T_85694994_b168_11ea_a1fc_1b036a81acc6row5_col4\" class=\"data row5 col4\" >[18,24]</td>\n",
       "                        <td id=\"T_85694994_b168_11ea_a1fc_1b036a81acc6row5_col5\" class=\"data row5 col5\" >(34,44]</td>\n",
       "                        <td id=\"T_85694994_b168_11ea_a1fc_1b036a81acc6row5_col6\" class=\"data row5 col6\" >0.2671</td>\n",
       "                        <td id=\"T_85694994_b168_11ea_a1fc_1b036a81acc6row5_col7\" class=\"data row5 col7\" >1.83e-06</td>\n",
       "                        <td id=\"T_85694994_b168_11ea_a1fc_1b036a81acc6row5_col8\" class=\"data row5 col8\" >-0.3417</td>\n",
       "            </tr>\n",
       "            <tr>\n",
       "                        <th id=\"T_85694994_b168_11ea_a1fc_1b036a81acc6level0_row6\" class=\"row_heading level0 row6\" >6</th>\n",
       "                        <td id=\"T_85694994_b168_11ea_a1fc_1b036a81acc6row6_col0\" class=\"data row6 col0\" >stationary</td>\n",
       "                        <td id=\"T_85694994_b168_11ea_a1fc_1b036a81acc6row6_col1\" class=\"data row6 col1\" >age_recode</td>\n",
       "                        <td id=\"T_85694994_b168_11ea_a1fc_1b036a81acc6row6_col2\" class=\"data row6 col2\" >domain</td>\n",
       "                        <td id=\"T_85694994_b168_11ea_a1fc_1b036a81acc6row6_col3\" class=\"data row6 col3\" >pi_max</td>\n",
       "                        <td id=\"T_85694994_b168_11ea_a1fc_1b036a81acc6row6_col4\" class=\"data row6 col4\" >[18,24]</td>\n",
       "                        <td id=\"T_85694994_b168_11ea_a1fc_1b036a81acc6row6_col5\" class=\"data row6 col5\" >(64,80]</td>\n",
       "                        <td id=\"T_85694994_b168_11ea_a1fc_1b036a81acc6row6_col6\" class=\"data row6 col6\" >0.1429</td>\n",
       "                        <td id=\"T_85694994_b168_11ea_a1fc_1b036a81acc6row6_col7\" class=\"data row6 col7\" >2.52e-01</td>\n",
       "                        <td id=\"T_85694994_b168_11ea_a1fc_1b036a81acc6row6_col8\" class=\"data row6 col8\" >-0.0838</td>\n",
       "            </tr>\n",
       "            <tr>\n",
       "                        <th id=\"T_85694994_b168_11ea_a1fc_1b036a81acc6level0_row7\" class=\"row_heading level0 row7\" >7</th>\n",
       "                        <td id=\"T_85694994_b168_11ea_a1fc_1b036a81acc6row7_col0\" class=\"data row7 col0\" >stationary</td>\n",
       "                        <td id=\"T_85694994_b168_11ea_a1fc_1b036a81acc6row7_col1\" class=\"data row7 col1\" >age_recode</td>\n",
       "                        <td id=\"T_85694994_b168_11ea_a1fc_1b036a81acc6row7_col2\" class=\"data row7 col2\" >domain</td>\n",
       "                        <td id=\"T_85694994_b168_11ea_a1fc_1b036a81acc6row7_col3\" class=\"data row7 col3\" >pi_max</td>\n",
       "                        <td id=\"T_85694994_b168_11ea_a1fc_1b036a81acc6row7_col4\" class=\"data row7 col4\" >[18,24]</td>\n",
       "                        <td id=\"T_85694994_b168_11ea_a1fc_1b036a81acc6row7_col5\" class=\"data row7 col5\" >(24,34]</td>\n",
       "                        <td id=\"T_85694994_b168_11ea_a1fc_1b036a81acc6row7_col6\" class=\"data row7 col6\" >0.1943</td>\n",
       "                        <td id=\"T_85694994_b168_11ea_a1fc_1b036a81acc6row7_col7\" class=\"data row7 col7\" >8.31e-04</td>\n",
       "                        <td id=\"T_85694994_b168_11ea_a1fc_1b036a81acc6row7_col8\" class=\"data row7 col8\" >-0.2406</td>\n",
       "            </tr>\n",
       "            <tr>\n",
       "                        <th id=\"T_85694994_b168_11ea_a1fc_1b036a81acc6level0_row8\" class=\"row_heading level0 row8\" >8</th>\n",
       "                        <td id=\"T_85694994_b168_11ea_a1fc_1b036a81acc6row8_col0\" class=\"data row8 col0\" >stationary</td>\n",
       "                        <td id=\"T_85694994_b168_11ea_a1fc_1b036a81acc6row8_col1\" class=\"data row8 col1\" >age_recode</td>\n",
       "                        <td id=\"T_85694994_b168_11ea_a1fc_1b036a81acc6row8_col2\" class=\"data row8 col2\" >domain</td>\n",
       "                        <td id=\"T_85694994_b168_11ea_a1fc_1b036a81acc6row8_col3\" class=\"data row8 col3\" >pi_max</td>\n",
       "                        <td id=\"T_85694994_b168_11ea_a1fc_1b036a81acc6row8_col4\" class=\"data row8 col4\" >[18,24]</td>\n",
       "                        <td id=\"T_85694994_b168_11ea_a1fc_1b036a81acc6row8_col5\" class=\"data row8 col5\" >(44,54]</td>\n",
       "                        <td id=\"T_85694994_b168_11ea_a1fc_1b036a81acc6row8_col6\" class=\"data row8 col6\" >0.1338</td>\n",
       "                        <td id=\"T_85694994_b168_11ea_a1fc_1b036a81acc6row8_col7\" class=\"data row8 col7\" >3.40e-02</td>\n",
       "                        <td id=\"T_85694994_b168_11ea_a1fc_1b036a81acc6row8_col8\" class=\"data row8 col8\" >-0.1321</td>\n",
       "            </tr>\n",
       "            <tr>\n",
       "                        <th id=\"T_85694994_b168_11ea_a1fc_1b036a81acc6level0_row9\" class=\"row_heading level0 row9\" >9</th>\n",
       "                        <td id=\"T_85694994_b168_11ea_a1fc_1b036a81acc6row9_col0\" class=\"data row9 col0\" >stationary</td>\n",
       "                        <td id=\"T_85694994_b168_11ea_a1fc_1b036a81acc6row9_col1\" class=\"data row9 col1\" >age_recode</td>\n",
       "                        <td id=\"T_85694994_b168_11ea_a1fc_1b036a81acc6row9_col2\" class=\"data row9 col2\" >domain</td>\n",
       "                        <td id=\"T_85694994_b168_11ea_a1fc_1b036a81acc6row9_col3\" class=\"data row9 col3\" >pi_max</td>\n",
       "                        <td id=\"T_85694994_b168_11ea_a1fc_1b036a81acc6row9_col4\" class=\"data row9 col4\" >(34,44]</td>\n",
       "                        <td id=\"T_85694994_b168_11ea_a1fc_1b036a81acc6row9_col5\" class=\"data row9 col5\" >(64,80]</td>\n",
       "                        <td id=\"T_85694994_b168_11ea_a1fc_1b036a81acc6row9_col6\" class=\"data row9 col6\" >0.2861</td>\n",
       "                        <td id=\"T_85694994_b168_11ea_a1fc_1b036a81acc6row9_col7\" class=\"data row9 col7\" >2.18e-04</td>\n",
       "                        <td id=\"T_85694994_b168_11ea_a1fc_1b036a81acc6row9_col8\" class=\"data row9 col8\" >0.2750</td>\n",
       "            </tr>\n",
       "            <tr>\n",
       "                        <th id=\"T_85694994_b168_11ea_a1fc_1b036a81acc6level0_row10\" class=\"row_heading level0 row10\" >10</th>\n",
       "                        <td id=\"T_85694994_b168_11ea_a1fc_1b036a81acc6row10_col0\" class=\"data row10 col0\" >stationary</td>\n",
       "                        <td id=\"T_85694994_b168_11ea_a1fc_1b036a81acc6row10_col1\" class=\"data row10 col1\" >age_recode</td>\n",
       "                        <td id=\"T_85694994_b168_11ea_a1fc_1b036a81acc6row10_col2\" class=\"data row10 col2\" >domain</td>\n",
       "                        <td id=\"T_85694994_b168_11ea_a1fc_1b036a81acc6row10_col3\" class=\"data row10 col3\" >pi_max</td>\n",
       "                        <td id=\"T_85694994_b168_11ea_a1fc_1b036a81acc6row10_col4\" class=\"data row10 col4\" >(34,44]</td>\n",
       "                        <td id=\"T_85694994_b168_11ea_a1fc_1b036a81acc6row10_col5\" class=\"data row10 col5\" >(24,34]</td>\n",
       "                        <td id=\"T_85694994_b168_11ea_a1fc_1b036a81acc6row10_col6\" class=\"data row10 col6\" >0.1258</td>\n",
       "                        <td id=\"T_85694994_b168_11ea_a1fc_1b036a81acc6row10_col7\" class=\"data row10 col7\" >3.62e-02</td>\n",
       "                        <td id=\"T_85694994_b168_11ea_a1fc_1b036a81acc6row10_col8\" class=\"data row10 col8\" >0.1175</td>\n",
       "            </tr>\n",
       "            <tr>\n",
       "                        <th id=\"T_85694994_b168_11ea_a1fc_1b036a81acc6level0_row11\" class=\"row_heading level0 row11\" >11</th>\n",
       "                        <td id=\"T_85694994_b168_11ea_a1fc_1b036a81acc6row11_col0\" class=\"data row11 col0\" >stationary</td>\n",
       "                        <td id=\"T_85694994_b168_11ea_a1fc_1b036a81acc6row11_col1\" class=\"data row11 col1\" >age_recode</td>\n",
       "                        <td id=\"T_85694994_b168_11ea_a1fc_1b036a81acc6row11_col2\" class=\"data row11 col2\" >domain</td>\n",
       "                        <td id=\"T_85694994_b168_11ea_a1fc_1b036a81acc6row11_col3\" class=\"data row11 col3\" >pi_max</td>\n",
       "                        <td id=\"T_85694994_b168_11ea_a1fc_1b036a81acc6row11_col4\" class=\"data row11 col4\" >(34,44]</td>\n",
       "                        <td id=\"T_85694994_b168_11ea_a1fc_1b036a81acc6row11_col5\" class=\"data row11 col5\" >(44,54]</td>\n",
       "                        <td id=\"T_85694994_b168_11ea_a1fc_1b036a81acc6row11_col6\" class=\"data row11 col6\" >0.1678</td>\n",
       "                        <td id=\"T_85694994_b168_11ea_a1fc_1b036a81acc6row11_col7\" class=\"data row11 col7\" >6.24e-04</td>\n",
       "                        <td id=\"T_85694994_b168_11ea_a1fc_1b036a81acc6row11_col8\" class=\"data row11 col8\" >0.1987</td>\n",
       "            </tr>\n",
       "            <tr>\n",
       "                        <th id=\"T_85694994_b168_11ea_a1fc_1b036a81acc6level0_row12\" class=\"row_heading level0 row12\" >12</th>\n",
       "                        <td id=\"T_85694994_b168_11ea_a1fc_1b036a81acc6row12_col0\" class=\"data row12 col0\" >stationary</td>\n",
       "                        <td id=\"T_85694994_b168_11ea_a1fc_1b036a81acc6row12_col1\" class=\"data row12 col1\" >age_recode</td>\n",
       "                        <td id=\"T_85694994_b168_11ea_a1fc_1b036a81acc6row12_col2\" class=\"data row12 col2\" >domain</td>\n",
       "                        <td id=\"T_85694994_b168_11ea_a1fc_1b036a81acc6row12_col3\" class=\"data row12 col3\" >pi_max</td>\n",
       "                        <td id=\"T_85694994_b168_11ea_a1fc_1b036a81acc6row12_col4\" class=\"data row12 col4\" >(64,80]</td>\n",
       "                        <td id=\"T_85694994_b168_11ea_a1fc_1b036a81acc6row12_col5\" class=\"data row12 col5\" >(24,34]</td>\n",
       "                        <td id=\"T_85694994_b168_11ea_a1fc_1b036a81acc6row12_col6\" class=\"data row12 col6\" >0.2007</td>\n",
       "                        <td id=\"T_85694994_b168_11ea_a1fc_1b036a81acc6row12_col7\" class=\"data row12 col7\" >1.94e-02</td>\n",
       "                        <td id=\"T_85694994_b168_11ea_a1fc_1b036a81acc6row12_col8\" class=\"data row12 col8\" >-0.1661</td>\n",
       "            </tr>\n",
       "            <tr>\n",
       "                        <th id=\"T_85694994_b168_11ea_a1fc_1b036a81acc6level0_row13\" class=\"row_heading level0 row13\" >13</th>\n",
       "                        <td id=\"T_85694994_b168_11ea_a1fc_1b036a81acc6row13_col0\" class=\"data row13 col0\" >stationary</td>\n",
       "                        <td id=\"T_85694994_b168_11ea_a1fc_1b036a81acc6row13_col1\" class=\"data row13 col1\" >age_recode</td>\n",
       "                        <td id=\"T_85694994_b168_11ea_a1fc_1b036a81acc6row13_col2\" class=\"data row13 col2\" >domain</td>\n",
       "                        <td id=\"T_85694994_b168_11ea_a1fc_1b036a81acc6row13_col3\" class=\"data row13 col3\" >pi_max</td>\n",
       "                        <td id=\"T_85694994_b168_11ea_a1fc_1b036a81acc6row13_col4\" class=\"data row13 col4\" >(64,80]</td>\n",
       "                        <td id=\"T_85694994_b168_11ea_a1fc_1b036a81acc6row13_col5\" class=\"data row13 col5\" >(44,54]</td>\n",
       "                        <td id=\"T_85694994_b168_11ea_a1fc_1b036a81acc6row13_col6\" class=\"data row13 col6\" >0.1479</td>\n",
       "                        <td id=\"T_85694994_b168_11ea_a1fc_1b036a81acc6row13_col7\" class=\"data row13 col7\" >1.41e-01</td>\n",
       "                        <td id=\"T_85694994_b168_11ea_a1fc_1b036a81acc6row13_col8\" class=\"data row13 col8\" >-0.0512</td>\n",
       "            </tr>\n",
       "            <tr>\n",
       "                        <th id=\"T_85694994_b168_11ea_a1fc_1b036a81acc6level0_row14\" class=\"row_heading level0 row14\" >14</th>\n",
       "                        <td id=\"T_85694994_b168_11ea_a1fc_1b036a81acc6row14_col0\" class=\"data row14 col0\" >stationary</td>\n",
       "                        <td id=\"T_85694994_b168_11ea_a1fc_1b036a81acc6row14_col1\" class=\"data row14 col1\" >age_recode</td>\n",
       "                        <td id=\"T_85694994_b168_11ea_a1fc_1b036a81acc6row14_col2\" class=\"data row14 col2\" >domain</td>\n",
       "                        <td id=\"T_85694994_b168_11ea_a1fc_1b036a81acc6row14_col3\" class=\"data row14 col3\" >pi_max</td>\n",
       "                        <td id=\"T_85694994_b168_11ea_a1fc_1b036a81acc6row14_col4\" class=\"data row14 col4\" >(24,34]</td>\n",
       "                        <td id=\"T_85694994_b168_11ea_a1fc_1b036a81acc6row14_col5\" class=\"data row14 col5\" >(44,54]</td>\n",
       "                        <td id=\"T_85694994_b168_11ea_a1fc_1b036a81acc6row14_col6\" class=\"data row14 col6\" >0.0913</td>\n",
       "                        <td id=\"T_85694994_b168_11ea_a1fc_1b036a81acc6row14_col7\" class=\"data row14 col7\" >1.48e-01</td>\n",
       "                        <td id=\"T_85694994_b168_11ea_a1fc_1b036a81acc6row14_col8\" class=\"data row14 col8\" >0.0959</td>\n",
       "            </tr>\n",
       "    </tbody></table>"
      ],
      "text/plain": [
       "<pandas.io.formats.style.Styler at 0x7f4785e90a20>"
      ]
     },
     "execution_count": 82,
     "metadata": {},
     "output_type": "execute_result"
    }
   ],
   "source": [
    "apply_ks_test('stationary', 'age_recode', 'domain', 'pi_max') \\\n",
    "    .merge(apply_cliffs_d('stationary', 'age_recode', 'domain', 'pi_max'), on=['trajectory', 'attribute', 'feature', 'metric', 'var_1', 'var_2']) \\\n",
    "    .style \\\n",
    "        .background_gradient('Blues', subset='ks_statistic') \\\n",
    "        .background_gradient('Greens', subset='p_value') \\\n",
    "        .background_gradient('Oranges', subset='cliffs_d') \\\n",
    "        .apply(partial(highlight_cols, rate=0.05, pairs=15), subset=['p_value'], axis=1) \\\n",
    "        .format({'ks_statistic': '{0:.4f}', 'cliffs_d': '{0:.4f}', 'p_value': '{0:.2e}'})"
   ]
  },
  {
   "cell_type": "markdown",
   "metadata": {},
   "source": [
    "## Children"
   ]
  },
  {
   "cell_type": "code",
   "execution_count": 83,
   "metadata": {
    "ExecuteTime": {
     "end_time": "2020-06-18T13:35:13.378673Z",
     "start_time": "2020-06-18T13:35:13.182076Z"
    }
   },
   "outputs": [
    {
     "data": {
      "text/html": [
       "<style  type=\"text/css\" >\n",
       "    #T_89bba62c_b168_11ea_a1fc_1b036a81acc6row0_col6 {\n",
       "            background-color:  #e0ecf8;\n",
       "            color:  #000000;\n",
       "        }    #T_89bba62c_b168_11ea_a1fc_1b036a81acc6row0_col7 {\n",
       "            background-color:  #c3e7bc;\n",
       "            color:  #000000;\n",
       "            : ;\n",
       "        }    #T_89bba62c_b168_11ea_a1fc_1b036a81acc6row0_col8 {\n",
       "            background-color:  #fdc48f;\n",
       "            color:  #000000;\n",
       "        }    #T_89bba62c_b168_11ea_a1fc_1b036a81acc6row1_col6 {\n",
       "            background-color:  #72b2d8;\n",
       "            color:  #000000;\n",
       "        }    #T_89bba62c_b168_11ea_a1fc_1b036a81acc6row1_col7 {\n",
       "            background-color:  #2d954d;\n",
       "            color:  #000000;\n",
       "            : ;\n",
       "        }    #T_89bba62c_b168_11ea_a1fc_1b036a81acc6row1_col8 {\n",
       "            background-color:  #bd3e02;\n",
       "            color:  #f1f1f1;\n",
       "        }    #T_89bba62c_b168_11ea_a1fc_1b036a81acc6row2_col6 {\n",
       "            background-color:  #f7fbff;\n",
       "            color:  #000000;\n",
       "        }    #T_89bba62c_b168_11ea_a1fc_1b036a81acc6row2_col7 {\n",
       "            background-color:  #f7fcf5;\n",
       "            color:  #000000;\n",
       "            : ;\n",
       "        }    #T_89bba62c_b168_11ea_a1fc_1b036a81acc6row2_col8 {\n",
       "            background-color:  #fdc088;\n",
       "            color:  #000000;\n",
       "        }    #T_89bba62c_b168_11ea_a1fc_1b036a81acc6row3_col6 {\n",
       "            background-color:  #08306b;\n",
       "            color:  #f1f1f1;\n",
       "        }    #T_89bba62c_b168_11ea_a1fc_1b036a81acc6row3_col7 {\n",
       "            background-color:  #dbf1d6;\n",
       "            color:  #000000;\n",
       "            : ;\n",
       "        }    #T_89bba62c_b168_11ea_a1fc_1b036a81acc6row3_col8 {\n",
       "            background-color:  #7f2704;\n",
       "            color:  #f1f1f1;\n",
       "        }    #T_89bba62c_b168_11ea_a1fc_1b036a81acc6row4_col6 {\n",
       "            background-color:  #eff6fc;\n",
       "            color:  #000000;\n",
       "        }    #T_89bba62c_b168_11ea_a1fc_1b036a81acc6row4_col7 {\n",
       "            background-color:  #00441b;\n",
       "            color:  #f1f1f1;\n",
       "            : ;\n",
       "        }    #T_89bba62c_b168_11ea_a1fc_1b036a81acc6row4_col8 {\n",
       "            background-color:  #fc8a39;\n",
       "            color:  #000000;\n",
       "        }    #T_89bba62c_b168_11ea_a1fc_1b036a81acc6row5_col6 {\n",
       "            background-color:  #2777b8;\n",
       "            color:  #000000;\n",
       "        }    #T_89bba62c_b168_11ea_a1fc_1b036a81acc6row5_col7 {\n",
       "            background-color:  #8ace88;\n",
       "            color:  #000000;\n",
       "            : ;\n",
       "        }    #T_89bba62c_b168_11ea_a1fc_1b036a81acc6row5_col8 {\n",
       "            background-color:  #fff5eb;\n",
       "            color:  #000000;\n",
       "        }</style><table id=\"T_89bba62c_b168_11ea_a1fc_1b036a81acc6\" ><thead>    <tr>        <th class=\"blank level0\" ></th>        <th class=\"col_heading level0 col0\" >trajectory</th>        <th class=\"col_heading level0 col1\" >attribute</th>        <th class=\"col_heading level0 col2\" >feature</th>        <th class=\"col_heading level0 col3\" >metric</th>        <th class=\"col_heading level0 col4\" >var_1</th>        <th class=\"col_heading level0 col5\" >var_2</th>        <th class=\"col_heading level0 col6\" >ks_statistic</th>        <th class=\"col_heading level0 col7\" >p_value</th>        <th class=\"col_heading level0 col8\" >cliffs_d</th>    </tr></thead><tbody>\n",
       "                <tr>\n",
       "                        <th id=\"T_89bba62c_b168_11ea_a1fc_1b036a81acc6level0_row0\" class=\"row_heading level0 row0\" >0</th>\n",
       "                        <td id=\"T_89bba62c_b168_11ea_a1fc_1b036a81acc6row0_col0\" class=\"data row0 col0\" >stationary</td>\n",
       "                        <td id=\"T_89bba62c_b168_11ea_a1fc_1b036a81acc6row0_col1\" class=\"data row0 col1\" >children</td>\n",
       "                        <td id=\"T_89bba62c_b168_11ea_a1fc_1b036a81acc6row0_col2\" class=\"data row0 col2\" >domain</td>\n",
       "                        <td id=\"T_89bba62c_b168_11ea_a1fc_1b036a81acc6row0_col3\" class=\"data row0 col3\" >pi_max</td>\n",
       "                        <td id=\"T_89bba62c_b168_11ea_a1fc_1b036a81acc6row0_col4\" class=\"data row0 col4\" >0 children</td>\n",
       "                        <td id=\"T_89bba62c_b168_11ea_a1fc_1b036a81acc6row0_col5\" class=\"data row0 col5\" >2 children</td>\n",
       "                        <td id=\"T_89bba62c_b168_11ea_a1fc_1b036a81acc6row0_col6\" class=\"data row0 col6\" >0.0864</td>\n",
       "                        <td id=\"T_89bba62c_b168_11ea_a1fc_1b036a81acc6row0_col7\" class=\"data row0 col7\" >3.14e-01</td>\n",
       "                        <td id=\"T_89bba62c_b168_11ea_a1fc_1b036a81acc6row0_col8\" class=\"data row0 col8\" >-0.0506</td>\n",
       "            </tr>\n",
       "            <tr>\n",
       "                        <th id=\"T_89bba62c_b168_11ea_a1fc_1b036a81acc6level0_row1\" class=\"row_heading level0 row1\" >1</th>\n",
       "                        <td id=\"T_89bba62c_b168_11ea_a1fc_1b036a81acc6row1_col0\" class=\"data row1 col0\" >stationary</td>\n",
       "                        <td id=\"T_89bba62c_b168_11ea_a1fc_1b036a81acc6row1_col1\" class=\"data row1 col1\" >children</td>\n",
       "                        <td id=\"T_89bba62c_b168_11ea_a1fc_1b036a81acc6row1_col2\" class=\"data row1 col2\" >domain</td>\n",
       "                        <td id=\"T_89bba62c_b168_11ea_a1fc_1b036a81acc6row1_col3\" class=\"data row1 col3\" >pi_max</td>\n",
       "                        <td id=\"T_89bba62c_b168_11ea_a1fc_1b036a81acc6row1_col4\" class=\"data row1 col4\" >0 children</td>\n",
       "                        <td id=\"T_89bba62c_b168_11ea_a1fc_1b036a81acc6row1_col5\" class=\"data row1 col5\" >3 children or +</td>\n",
       "                        <td id=\"T_89bba62c_b168_11ea_a1fc_1b036a81acc6row1_col6\" class=\"data row1 col6\" >0.1168</td>\n",
       "                        <td id=\"T_89bba62c_b168_11ea_a1fc_1b036a81acc6row1_col7\" class=\"data row1 col7\" >4.97e-01</td>\n",
       "                        <td id=\"T_89bba62c_b168_11ea_a1fc_1b036a81acc6row1_col8\" class=\"data row1 col8\" >0.0806</td>\n",
       "            </tr>\n",
       "            <tr>\n",
       "                        <th id=\"T_89bba62c_b168_11ea_a1fc_1b036a81acc6level0_row2\" class=\"row_heading level0 row2\" >2</th>\n",
       "                        <td id=\"T_89bba62c_b168_11ea_a1fc_1b036a81acc6row2_col0\" class=\"data row2 col0\" >stationary</td>\n",
       "                        <td id=\"T_89bba62c_b168_11ea_a1fc_1b036a81acc6row2_col1\" class=\"data row2 col1\" >children</td>\n",
       "                        <td id=\"T_89bba62c_b168_11ea_a1fc_1b036a81acc6row2_col2\" class=\"data row2 col2\" >domain</td>\n",
       "                        <td id=\"T_89bba62c_b168_11ea_a1fc_1b036a81acc6row2_col3\" class=\"data row2 col3\" >pi_max</td>\n",
       "                        <td id=\"T_89bba62c_b168_11ea_a1fc_1b036a81acc6row2_col4\" class=\"data row2 col4\" >0 children</td>\n",
       "                        <td id=\"T_89bba62c_b168_11ea_a1fc_1b036a81acc6row2_col5\" class=\"data row2 col5\" >1 child</td>\n",
       "                        <td id=\"T_89bba62c_b168_11ea_a1fc_1b036a81acc6row2_col6\" class=\"data row2 col6\" >0.0769</td>\n",
       "                        <td id=\"T_89bba62c_b168_11ea_a1fc_1b036a81acc6row2_col7\" class=\"data row2 col7\" >2.07e-01</td>\n",
       "                        <td id=\"T_89bba62c_b168_11ea_a1fc_1b036a81acc6row2_col8\" class=\"data row2 col8\" >-0.0462</td>\n",
       "            </tr>\n",
       "            <tr>\n",
       "                        <th id=\"T_89bba62c_b168_11ea_a1fc_1b036a81acc6level0_row3\" class=\"row_heading level0 row3\" >3</th>\n",
       "                        <td id=\"T_89bba62c_b168_11ea_a1fc_1b036a81acc6row3_col0\" class=\"data row3 col0\" >stationary</td>\n",
       "                        <td id=\"T_89bba62c_b168_11ea_a1fc_1b036a81acc6row3_col1\" class=\"data row3 col1\" >children</td>\n",
       "                        <td id=\"T_89bba62c_b168_11ea_a1fc_1b036a81acc6row3_col2\" class=\"data row3 col2\" >domain</td>\n",
       "                        <td id=\"T_89bba62c_b168_11ea_a1fc_1b036a81acc6row3_col3\" class=\"data row3 col3\" >pi_max</td>\n",
       "                        <td id=\"T_89bba62c_b168_11ea_a1fc_1b036a81acc6row3_col4\" class=\"data row3 col4\" >2 children</td>\n",
       "                        <td id=\"T_89bba62c_b168_11ea_a1fc_1b036a81acc6row3_col5\" class=\"data row3 col5\" >3 children or +</td>\n",
       "                        <td id=\"T_89bba62c_b168_11ea_a1fc_1b036a81acc6row3_col6\" class=\"data row3 col6\" >0.1597</td>\n",
       "                        <td id=\"T_89bba62c_b168_11ea_a1fc_1b036a81acc6row3_col7\" class=\"data row3 col7\" >2.75e-01</td>\n",
       "                        <td id=\"T_89bba62c_b168_11ea_a1fc_1b036a81acc6row3_col8\" class=\"data row3 col8\" >0.1258</td>\n",
       "            </tr>\n",
       "            <tr>\n",
       "                        <th id=\"T_89bba62c_b168_11ea_a1fc_1b036a81acc6level0_row4\" class=\"row_heading level0 row4\" >4</th>\n",
       "                        <td id=\"T_89bba62c_b168_11ea_a1fc_1b036a81acc6row4_col0\" class=\"data row4 col0\" >stationary</td>\n",
       "                        <td id=\"T_89bba62c_b168_11ea_a1fc_1b036a81acc6row4_col1\" class=\"data row4 col1\" >children</td>\n",
       "                        <td id=\"T_89bba62c_b168_11ea_a1fc_1b036a81acc6row4_col2\" class=\"data row4 col2\" >domain</td>\n",
       "                        <td id=\"T_89bba62c_b168_11ea_a1fc_1b036a81acc6row4_col3\" class=\"data row4 col3\" >pi_max</td>\n",
       "                        <td id=\"T_89bba62c_b168_11ea_a1fc_1b036a81acc6row4_col4\" class=\"data row4 col4\" >2 children</td>\n",
       "                        <td id=\"T_89bba62c_b168_11ea_a1fc_1b036a81acc6row4_col5\" class=\"data row4 col5\" >1 child</td>\n",
       "                        <td id=\"T_89bba62c_b168_11ea_a1fc_1b036a81acc6row4_col6\" class=\"data row4 col6\" >0.0804</td>\n",
       "                        <td id=\"T_89bba62c_b168_11ea_a1fc_1b036a81acc6row4_col7\" class=\"data row4 col7\" >6.16e-01</td>\n",
       "                        <td id=\"T_89bba62c_b168_11ea_a1fc_1b036a81acc6row4_col8\" class=\"data row4 col8\" >0.0034</td>\n",
       "            </tr>\n",
       "            <tr>\n",
       "                        <th id=\"T_89bba62c_b168_11ea_a1fc_1b036a81acc6level0_row5\" class=\"row_heading level0 row5\" >5</th>\n",
       "                        <td id=\"T_89bba62c_b168_11ea_a1fc_1b036a81acc6row5_col0\" class=\"data row5 col0\" >stationary</td>\n",
       "                        <td id=\"T_89bba62c_b168_11ea_a1fc_1b036a81acc6row5_col1\" class=\"data row5 col1\" >children</td>\n",
       "                        <td id=\"T_89bba62c_b168_11ea_a1fc_1b036a81acc6row5_col2\" class=\"data row5 col2\" >domain</td>\n",
       "                        <td id=\"T_89bba62c_b168_11ea_a1fc_1b036a81acc6row5_col3\" class=\"data row5 col3\" >pi_max</td>\n",
       "                        <td id=\"T_89bba62c_b168_11ea_a1fc_1b036a81acc6row5_col4\" class=\"data row5 col4\" >3 children or +</td>\n",
       "                        <td id=\"T_89bba62c_b168_11ea_a1fc_1b036a81acc6row5_col5\" class=\"data row5 col5\" >1 child</td>\n",
       "                        <td id=\"T_89bba62c_b168_11ea_a1fc_1b036a81acc6row5_col6\" class=\"data row5 col6\" >0.1370</td>\n",
       "                        <td id=\"T_89bba62c_b168_11ea_a1fc_1b036a81acc6row5_col7\" class=\"data row5 col7\" >3.87e-01</td>\n",
       "                        <td id=\"T_89bba62c_b168_11ea_a1fc_1b036a81acc6row5_col8\" class=\"data row5 col8\" >-0.1238</td>\n",
       "            </tr>\n",
       "    </tbody></table>"
      ],
      "text/plain": [
       "<pandas.io.formats.style.Styler at 0x7f4785e1d4a8>"
      ]
     },
     "execution_count": 83,
     "metadata": {},
     "output_type": "execute_result"
    }
   ],
   "source": [
    "apply_ks_test('stationary', 'children', 'domain', 'pi_max') \\\n",
    "    .merge(apply_cliffs_d('stationary', 'children', 'domain', 'pi_max'), on=['trajectory', 'attribute', 'feature', 'metric', 'var_1', 'var_2']) \\\n",
    "    .style \\\n",
    "        .background_gradient('Blues', subset='ks_statistic') \\\n",
    "        .background_gradient('Greens', subset='p_value') \\\n",
    "        .background_gradient('Oranges', subset='cliffs_d') \\\n",
    "        .apply(partial(highlight_cols, rate=0.05, pairs=6), subset=['p_value'], axis=1) \\\n",
    "        .format({'ks_statistic': '{0:.4f}', 'cliffs_d': '{0:.4f}', 'p_value': '{0:.2e}'})"
   ]
  },
  {
   "cell_type": "markdown",
   "metadata": {},
   "source": [
    "## Income"
   ]
  },
  {
   "cell_type": "code",
   "execution_count": 84,
   "metadata": {
    "ExecuteTime": {
     "end_time": "2020-06-18T13:35:16.584149Z",
     "start_time": "2020-06-18T13:35:16.350833Z"
    }
   },
   "outputs": [
    {
     "data": {
      "text/html": [
       "<style  type=\"text/css\" >\n",
       "    #T_8ba38306_b168_11ea_a1fc_1b036a81acc6row0_col6 {\n",
       "            background-color:  #9cc9e1;\n",
       "            color:  #000000;\n",
       "        }    #T_8ba38306_b168_11ea_a1fc_1b036a81acc6row0_col7 {\n",
       "            background-color:  #f0f9ed;\n",
       "            color:  #000000;\n",
       "            : ;\n",
       "        }    #T_8ba38306_b168_11ea_a1fc_1b036a81acc6row0_col8 {\n",
       "            background-color:  #fc8b3a;\n",
       "            color:  #000000;\n",
       "        }    #T_8ba38306_b168_11ea_a1fc_1b036a81acc6row1_col6 {\n",
       "            background-color:  #084c95;\n",
       "            color:  #f1f1f1;\n",
       "        }    #T_8ba38306_b168_11ea_a1fc_1b036a81acc6row1_col7 {\n",
       "            background-color:  #f7fcf5;\n",
       "            color:  #000000;\n",
       "            background-color:  crimson;\n",
       "             color:  white;\n",
       "        }    #T_8ba38306_b168_11ea_a1fc_1b036a81acc6row1_col8 {\n",
       "            background-color:  #fee5cb;\n",
       "            color:  #000000;\n",
       "        }    #T_8ba38306_b168_11ea_a1fc_1b036a81acc6row2_col6 {\n",
       "            background-color:  #4e9acb;\n",
       "            color:  #000000;\n",
       "        }    #T_8ba38306_b168_11ea_a1fc_1b036a81acc6row2_col7 {\n",
       "            background-color:  #f7fcf5;\n",
       "            color:  #000000;\n",
       "            background-color:  crimson;\n",
       "             color:  white;\n",
       "        }    #T_8ba38306_b168_11ea_a1fc_1b036a81acc6row2_col8 {\n",
       "            background-color:  #fdb576;\n",
       "            color:  #000000;\n",
       "        }    #T_8ba38306_b168_11ea_a1fc_1b036a81acc6row3_col6 {\n",
       "            background-color:  #08306b;\n",
       "            color:  #f1f1f1;\n",
       "        }    #T_8ba38306_b168_11ea_a1fc_1b036a81acc6row3_col7 {\n",
       "            background-color:  #f7fcf5;\n",
       "            color:  #000000;\n",
       "            background-color:  crimson;\n",
       "             color:  white;\n",
       "        }    #T_8ba38306_b168_11ea_a1fc_1b036a81acc6row3_col8 {\n",
       "            background-color:  #fff5eb;\n",
       "            color:  #000000;\n",
       "        }    #T_8ba38306_b168_11ea_a1fc_1b036a81acc6row4_col6 {\n",
       "            background-color:  #c6dbef;\n",
       "            color:  #000000;\n",
       "        }    #T_8ba38306_b168_11ea_a1fc_1b036a81acc6row4_col7 {\n",
       "            background-color:  #eff9eb;\n",
       "            color:  #000000;\n",
       "            : ;\n",
       "        }    #T_8ba38306_b168_11ea_a1fc_1b036a81acc6row4_col8 {\n",
       "            background-color:  #fd984b;\n",
       "            color:  #000000;\n",
       "        }    #T_8ba38306_b168_11ea_a1fc_1b036a81acc6row5_col6 {\n",
       "            background-color:  #f3f8fe;\n",
       "            color:  #000000;\n",
       "        }    #T_8ba38306_b168_11ea_a1fc_1b036a81acc6row5_col7 {\n",
       "            background-color:  #79c67a;\n",
       "            color:  #000000;\n",
       "            : ;\n",
       "        }    #T_8ba38306_b168_11ea_a1fc_1b036a81acc6row5_col8 {\n",
       "            background-color:  #eb610f;\n",
       "            color:  #000000;\n",
       "        }    #T_8ba38306_b168_11ea_a1fc_1b036a81acc6row6_col6 {\n",
       "            background-color:  #8dc1dd;\n",
       "            color:  #000000;\n",
       "        }    #T_8ba38306_b168_11ea_a1fc_1b036a81acc6row6_col7 {\n",
       "            background-color:  #f6fcf4;\n",
       "            color:  #000000;\n",
       "            : ;\n",
       "        }    #T_8ba38306_b168_11ea_a1fc_1b036a81acc6row6_col8 {\n",
       "            background-color:  #fdbd83;\n",
       "            color:  #000000;\n",
       "        }    #T_8ba38306_b168_11ea_a1fc_1b036a81acc6row7_col6 {\n",
       "            background-color:  #e3eef9;\n",
       "            color:  #000000;\n",
       "        }    #T_8ba38306_b168_11ea_a1fc_1b036a81acc6row7_col7 {\n",
       "            background-color:  #b8e3b2;\n",
       "            color:  #000000;\n",
       "            : ;\n",
       "        }    #T_8ba38306_b168_11ea_a1fc_1b036a81acc6row7_col8 {\n",
       "            background-color:  #7f2704;\n",
       "            color:  #f1f1f1;\n",
       "        }    #T_8ba38306_b168_11ea_a1fc_1b036a81acc6row8_col6 {\n",
       "            background-color:  #f7fbff;\n",
       "            color:  #000000;\n",
       "        }    #T_8ba38306_b168_11ea_a1fc_1b036a81acc6row8_col7 {\n",
       "            background-color:  #00441b;\n",
       "            color:  #f1f1f1;\n",
       "            : ;\n",
       "        }    #T_8ba38306_b168_11ea_a1fc_1b036a81acc6row8_col8 {\n",
       "            background-color:  #eb610f;\n",
       "            color:  #000000;\n",
       "        }    #T_8ba38306_b168_11ea_a1fc_1b036a81acc6row9_col6 {\n",
       "            background-color:  #d0e2f2;\n",
       "            color:  #000000;\n",
       "        }    #T_8ba38306_b168_11ea_a1fc_1b036a81acc6row9_col7 {\n",
       "            background-color:  #e3f4de;\n",
       "            color:  #000000;\n",
       "            : ;\n",
       "        }    #T_8ba38306_b168_11ea_a1fc_1b036a81acc6row9_col8 {\n",
       "            background-color:  #fd984b;\n",
       "            color:  #000000;\n",
       "        }</style><table id=\"T_8ba38306_b168_11ea_a1fc_1b036a81acc6\" ><thead>    <tr>        <th class=\"blank level0\" ></th>        <th class=\"col_heading level0 col0\" >trajectory</th>        <th class=\"col_heading level0 col1\" >attribute</th>        <th class=\"col_heading level0 col2\" >feature</th>        <th class=\"col_heading level0 col3\" >metric</th>        <th class=\"col_heading level0 col4\" >var_1</th>        <th class=\"col_heading level0 col5\" >var_2</th>        <th class=\"col_heading level0 col6\" >ks_statistic</th>        <th class=\"col_heading level0 col7\" >p_value</th>        <th class=\"col_heading level0 col8\" >cliffs_d</th>    </tr></thead><tbody>\n",
       "                <tr>\n",
       "                        <th id=\"T_8ba38306_b168_11ea_a1fc_1b036a81acc6level0_row0\" class=\"row_heading level0 row0\" >0</th>\n",
       "                        <td id=\"T_8ba38306_b168_11ea_a1fc_1b036a81acc6row0_col0\" class=\"data row0 col0\" >stationary</td>\n",
       "                        <td id=\"T_8ba38306_b168_11ea_a1fc_1b036a81acc6row0_col1\" class=\"data row0 col1\" >hh_income</td>\n",
       "                        <td id=\"T_8ba38306_b168_11ea_a1fc_1b036a81acc6row0_col2\" class=\"data row0 col2\" >domain</td>\n",
       "                        <td id=\"T_8ba38306_b168_11ea_a1fc_1b036a81acc6row0_col3\" class=\"data row0 col3\" >pi_max</td>\n",
       "                        <td id=\"T_8ba38306_b168_11ea_a1fc_1b036a81acc6row0_col4\" class=\"data row0 col4\" >_under 1000</td>\n",
       "                        <td id=\"T_8ba38306_b168_11ea_a1fc_1b036a81acc6row0_col5\" class=\"data row0 col5\" >1000 to 2000</td>\n",
       "                        <td id=\"T_8ba38306_b168_11ea_a1fc_1b036a81acc6row0_col6\" class=\"data row0 col6\" >0.1580</td>\n",
       "                        <td id=\"T_8ba38306_b168_11ea_a1fc_1b036a81acc6row0_col7\" class=\"data row0 col7\" >3.19e-02</td>\n",
       "                        <td id=\"T_8ba38306_b168_11ea_a1fc_1b036a81acc6row0_col8\" class=\"data row0 col8\" >-0.1269</td>\n",
       "            </tr>\n",
       "            <tr>\n",
       "                        <th id=\"T_8ba38306_b168_11ea_a1fc_1b036a81acc6level0_row1\" class=\"row_heading level0 row1\" >1</th>\n",
       "                        <td id=\"T_8ba38306_b168_11ea_a1fc_1b036a81acc6row1_col0\" class=\"data row1 col0\" >stationary</td>\n",
       "                        <td id=\"T_8ba38306_b168_11ea_a1fc_1b036a81acc6row1_col1\" class=\"data row1 col1\" >hh_income</td>\n",
       "                        <td id=\"T_8ba38306_b168_11ea_a1fc_1b036a81acc6row1_col2\" class=\"data row1 col2\" >domain</td>\n",
       "                        <td id=\"T_8ba38306_b168_11ea_a1fc_1b036a81acc6row1_col3\" class=\"data row1 col3\" >pi_max</td>\n",
       "                        <td id=\"T_8ba38306_b168_11ea_a1fc_1b036a81acc6row1_col4\" class=\"data row1 col4\" >_under 1000</td>\n",
       "                        <td id=\"T_8ba38306_b168_11ea_a1fc_1b036a81acc6row1_col5\" class=\"data row1 col5\" >3000 to 4000</td>\n",
       "                        <td id=\"T_8ba38306_b168_11ea_a1fc_1b036a81acc6row1_col6\" class=\"data row1 col6\" >0.2702</td>\n",
       "                        <td id=\"T_8ba38306_b168_11ea_a1fc_1b036a81acc6row1_col7\" class=\"data row1 col7\" >2.98e-05</td>\n",
       "                        <td id=\"T_8ba38306_b168_11ea_a1fc_1b036a81acc6row1_col8\" class=\"data row1 col8\" >-0.2895</td>\n",
       "            </tr>\n",
       "            <tr>\n",
       "                        <th id=\"T_8ba38306_b168_11ea_a1fc_1b036a81acc6level0_row2\" class=\"row_heading level0 row2\" >2</th>\n",
       "                        <td id=\"T_8ba38306_b168_11ea_a1fc_1b036a81acc6row2_col0\" class=\"data row2 col0\" >stationary</td>\n",
       "                        <td id=\"T_8ba38306_b168_11ea_a1fc_1b036a81acc6row2_col1\" class=\"data row2 col1\" >hh_income</td>\n",
       "                        <td id=\"T_8ba38306_b168_11ea_a1fc_1b036a81acc6row2_col2\" class=\"data row2 col2\" >domain</td>\n",
       "                        <td id=\"T_8ba38306_b168_11ea_a1fc_1b036a81acc6row2_col3\" class=\"data row2 col3\" >pi_max</td>\n",
       "                        <td id=\"T_8ba38306_b168_11ea_a1fc_1b036a81acc6row2_col4\" class=\"data row2 col4\" >_under 1000</td>\n",
       "                        <td id=\"T_8ba38306_b168_11ea_a1fc_1b036a81acc6row2_col5\" class=\"data row2 col5\" >2000 to 3000</td>\n",
       "                        <td id=\"T_8ba38306_b168_11ea_a1fc_1b036a81acc6row2_col6\" class=\"data row2 col6\" >0.2037</td>\n",
       "                        <td id=\"T_8ba38306_b168_11ea_a1fc_1b036a81acc6row2_col7\" class=\"data row2 col7\" >1.45e-03</td>\n",
       "                        <td id=\"T_8ba38306_b168_11ea_a1fc_1b036a81acc6row2_col8\" class=\"data row2 col8\" >-0.1957</td>\n",
       "            </tr>\n",
       "            <tr>\n",
       "                        <th id=\"T_8ba38306_b168_11ea_a1fc_1b036a81acc6level0_row3\" class=\"row_heading level0 row3\" >3</th>\n",
       "                        <td id=\"T_8ba38306_b168_11ea_a1fc_1b036a81acc6row3_col0\" class=\"data row3 col0\" >stationary</td>\n",
       "                        <td id=\"T_8ba38306_b168_11ea_a1fc_1b036a81acc6row3_col1\" class=\"data row3 col1\" >hh_income</td>\n",
       "                        <td id=\"T_8ba38306_b168_11ea_a1fc_1b036a81acc6row3_col2\" class=\"data row3 col2\" >domain</td>\n",
       "                        <td id=\"T_8ba38306_b168_11ea_a1fc_1b036a81acc6row3_col3\" class=\"data row3 col3\" >pi_max</td>\n",
       "                        <td id=\"T_8ba38306_b168_11ea_a1fc_1b036a81acc6row3_col4\" class=\"data row3 col4\" >_under 1000</td>\n",
       "                        <td id=\"T_8ba38306_b168_11ea_a1fc_1b036a81acc6row3_col5\" class=\"data row3 col5\" >over 4000</td>\n",
       "                        <td id=\"T_8ba38306_b168_11ea_a1fc_1b036a81acc6row3_col6\" class=\"data row3 col6\" >0.2937</td>\n",
       "                        <td id=\"T_8ba38306_b168_11ea_a1fc_1b036a81acc6row3_col7\" class=\"data row3 col7\" >9.52e-06</td>\n",
       "                        <td id=\"T_8ba38306_b168_11ea_a1fc_1b036a81acc6row3_col8\" class=\"data row3 col8\" >-0.3479</td>\n",
       "            </tr>\n",
       "            <tr>\n",
       "                        <th id=\"T_8ba38306_b168_11ea_a1fc_1b036a81acc6level0_row4\" class=\"row_heading level0 row4\" >4</th>\n",
       "                        <td id=\"T_8ba38306_b168_11ea_a1fc_1b036a81acc6row4_col0\" class=\"data row4 col0\" >stationary</td>\n",
       "                        <td id=\"T_8ba38306_b168_11ea_a1fc_1b036a81acc6row4_col1\" class=\"data row4 col1\" >hh_income</td>\n",
       "                        <td id=\"T_8ba38306_b168_11ea_a1fc_1b036a81acc6row4_col2\" class=\"data row4 col2\" >domain</td>\n",
       "                        <td id=\"T_8ba38306_b168_11ea_a1fc_1b036a81acc6row4_col3\" class=\"data row4 col3\" >pi_max</td>\n",
       "                        <td id=\"T_8ba38306_b168_11ea_a1fc_1b036a81acc6row4_col4\" class=\"data row4 col4\" >1000 to 2000</td>\n",
       "                        <td id=\"T_8ba38306_b168_11ea_a1fc_1b036a81acc6row4_col5\" class=\"data row4 col5\" >3000 to 4000</td>\n",
       "                        <td id=\"T_8ba38306_b168_11ea_a1fc_1b036a81acc6row4_col6\" class=\"data row4 col6\" >0.1299</td>\n",
       "                        <td id=\"T_8ba38306_b168_11ea_a1fc_1b036a81acc6row4_col7\" class=\"data row4 col7\" >4.07e-02</td>\n",
       "                        <td id=\"T_8ba38306_b168_11ea_a1fc_1b036a81acc6row4_col8\" class=\"data row4 col8\" >-0.1488</td>\n",
       "            </tr>\n",
       "            <tr>\n",
       "                        <th id=\"T_8ba38306_b168_11ea_a1fc_1b036a81acc6level0_row5\" class=\"row_heading level0 row5\" >5</th>\n",
       "                        <td id=\"T_8ba38306_b168_11ea_a1fc_1b036a81acc6row5_col0\" class=\"data row5 col0\" >stationary</td>\n",
       "                        <td id=\"T_8ba38306_b168_11ea_a1fc_1b036a81acc6row5_col1\" class=\"data row5 col1\" >hh_income</td>\n",
       "                        <td id=\"T_8ba38306_b168_11ea_a1fc_1b036a81acc6row5_col2\" class=\"data row5 col2\" >domain</td>\n",
       "                        <td id=\"T_8ba38306_b168_11ea_a1fc_1b036a81acc6row5_col3\" class=\"data row5 col3\" >pi_max</td>\n",
       "                        <td id=\"T_8ba38306_b168_11ea_a1fc_1b036a81acc6row5_col4\" class=\"data row5 col4\" >1000 to 2000</td>\n",
       "                        <td id=\"T_8ba38306_b168_11ea_a1fc_1b036a81acc6row5_col5\" class=\"data row5 col5\" >2000 to 3000</td>\n",
       "                        <td id=\"T_8ba38306_b168_11ea_a1fc_1b036a81acc6row5_col6\" class=\"data row5 col6\" >0.0796</td>\n",
       "                        <td id=\"T_8ba38306_b168_11ea_a1fc_1b036a81acc6row5_col7\" class=\"data row5 col7\" >3.25e-01</td>\n",
       "                        <td id=\"T_8ba38306_b168_11ea_a1fc_1b036a81acc6row5_col8\" class=\"data row5 col8\" >-0.0629</td>\n",
       "            </tr>\n",
       "            <tr>\n",
       "                        <th id=\"T_8ba38306_b168_11ea_a1fc_1b036a81acc6level0_row6\" class=\"row_heading level0 row6\" >6</th>\n",
       "                        <td id=\"T_8ba38306_b168_11ea_a1fc_1b036a81acc6row6_col0\" class=\"data row6 col0\" >stationary</td>\n",
       "                        <td id=\"T_8ba38306_b168_11ea_a1fc_1b036a81acc6row6_col1\" class=\"data row6 col1\" >hh_income</td>\n",
       "                        <td id=\"T_8ba38306_b168_11ea_a1fc_1b036a81acc6row6_col2\" class=\"data row6 col2\" >domain</td>\n",
       "                        <td id=\"T_8ba38306_b168_11ea_a1fc_1b036a81acc6row6_col3\" class=\"data row6 col3\" >pi_max</td>\n",
       "                        <td id=\"T_8ba38306_b168_11ea_a1fc_1b036a81acc6row6_col4\" class=\"data row6 col4\" >1000 to 2000</td>\n",
       "                        <td id=\"T_8ba38306_b168_11ea_a1fc_1b036a81acc6row6_col5\" class=\"data row6 col5\" >over 4000</td>\n",
       "                        <td id=\"T_8ba38306_b168_11ea_a1fc_1b036a81acc6row6_col6\" class=\"data row6 col6\" >0.1658</td>\n",
       "                        <td id=\"T_8ba38306_b168_11ea_a1fc_1b036a81acc6row6_col7\" class=\"data row6 col7\" >6.58e-03</td>\n",
       "                        <td id=\"T_8ba38306_b168_11ea_a1fc_1b036a81acc6row6_col8\" class=\"data row6 col8\" >-0.2078</td>\n",
       "            </tr>\n",
       "            <tr>\n",
       "                        <th id=\"T_8ba38306_b168_11ea_a1fc_1b036a81acc6level0_row7\" class=\"row_heading level0 row7\" >7</th>\n",
       "                        <td id=\"T_8ba38306_b168_11ea_a1fc_1b036a81acc6row7_col0\" class=\"data row7 col0\" >stationary</td>\n",
       "                        <td id=\"T_8ba38306_b168_11ea_a1fc_1b036a81acc6row7_col1\" class=\"data row7 col1\" >hh_income</td>\n",
       "                        <td id=\"T_8ba38306_b168_11ea_a1fc_1b036a81acc6row7_col2\" class=\"data row7 col2\" >domain</td>\n",
       "                        <td id=\"T_8ba38306_b168_11ea_a1fc_1b036a81acc6row7_col3\" class=\"data row7 col3\" >pi_max</td>\n",
       "                        <td id=\"T_8ba38306_b168_11ea_a1fc_1b036a81acc6row7_col4\" class=\"data row7 col4\" >3000 to 4000</td>\n",
       "                        <td id=\"T_8ba38306_b168_11ea_a1fc_1b036a81acc6row7_col5\" class=\"data row7 col5\" >2000 to 3000</td>\n",
       "                        <td id=\"T_8ba38306_b168_11ea_a1fc_1b036a81acc6row7_col6\" class=\"data row7 col6\" >0.0965</td>\n",
       "                        <td id=\"T_8ba38306_b168_11ea_a1fc_1b036a81acc6row7_col7\" class=\"data row7 col7\" >1.99e-01</td>\n",
       "                        <td id=\"T_8ba38306_b168_11ea_a1fc_1b036a81acc6row7_col8\" class=\"data row7 col8\" >0.0875</td>\n",
       "            </tr>\n",
       "            <tr>\n",
       "                        <th id=\"T_8ba38306_b168_11ea_a1fc_1b036a81acc6level0_row8\" class=\"row_heading level0 row8\" >8</th>\n",
       "                        <td id=\"T_8ba38306_b168_11ea_a1fc_1b036a81acc6row8_col0\" class=\"data row8 col0\" >stationary</td>\n",
       "                        <td id=\"T_8ba38306_b168_11ea_a1fc_1b036a81acc6row8_col1\" class=\"data row8 col1\" >hh_income</td>\n",
       "                        <td id=\"T_8ba38306_b168_11ea_a1fc_1b036a81acc6row8_col2\" class=\"data row8 col2\" >domain</td>\n",
       "                        <td id=\"T_8ba38306_b168_11ea_a1fc_1b036a81acc6row8_col3\" class=\"data row8 col3\" >pi_max</td>\n",
       "                        <td id=\"T_8ba38306_b168_11ea_a1fc_1b036a81acc6row8_col4\" class=\"data row8 col4\" >3000 to 4000</td>\n",
       "                        <td id=\"T_8ba38306_b168_11ea_a1fc_1b036a81acc6row8_col5\" class=\"data row8 col5\" >over 4000</td>\n",
       "                        <td id=\"T_8ba38306_b168_11ea_a1fc_1b036a81acc6row8_col6\" class=\"data row8 col6\" >0.0750</td>\n",
       "                        <td id=\"T_8ba38306_b168_11ea_a1fc_1b036a81acc6row8_col7\" class=\"data row8 col7\" >6.68e-01</td>\n",
       "                        <td id=\"T_8ba38306_b168_11ea_a1fc_1b036a81acc6row8_col8\" class=\"data row8 col8\" >-0.0634</td>\n",
       "            </tr>\n",
       "            <tr>\n",
       "                        <th id=\"T_8ba38306_b168_11ea_a1fc_1b036a81acc6level0_row9\" class=\"row_heading level0 row9\" >9</th>\n",
       "                        <td id=\"T_8ba38306_b168_11ea_a1fc_1b036a81acc6row9_col0\" class=\"data row9 col0\" >stationary</td>\n",
       "                        <td id=\"T_8ba38306_b168_11ea_a1fc_1b036a81acc6row9_col1\" class=\"data row9 col1\" >hh_income</td>\n",
       "                        <td id=\"T_8ba38306_b168_11ea_a1fc_1b036a81acc6row9_col2\" class=\"data row9 col2\" >domain</td>\n",
       "                        <td id=\"T_8ba38306_b168_11ea_a1fc_1b036a81acc6row9_col3\" class=\"data row9 col3\" >pi_max</td>\n",
       "                        <td id=\"T_8ba38306_b168_11ea_a1fc_1b036a81acc6row9_col4\" class=\"data row9 col4\" >2000 to 3000</td>\n",
       "                        <td id=\"T_8ba38306_b168_11ea_a1fc_1b036a81acc6row9_col5\" class=\"data row9 col5\" >over 4000</td>\n",
       "                        <td id=\"T_8ba38306_b168_11ea_a1fc_1b036a81acc6row9_col6\" class=\"data row9 col6\" >0.1185</td>\n",
       "                        <td id=\"T_8ba38306_b168_11ea_a1fc_1b036a81acc6row9_col7\" class=\"data row9 col7\" >8.88e-02</td>\n",
       "                        <td id=\"T_8ba38306_b168_11ea_a1fc_1b036a81acc6row9_col8\" class=\"data row9 col8\" >-0.1481</td>\n",
       "            </tr>\n",
       "    </tbody></table>"
      ],
      "text/plain": [
       "<pandas.io.formats.style.Styler at 0x7f4785e70eb8>"
      ]
     },
     "execution_count": 84,
     "metadata": {},
     "output_type": "execute_result"
    }
   ],
   "source": [
    "apply_ks_test('stationary', 'hh_income', 'domain', 'pi_max') \\\n",
    "    .merge(apply_cliffs_d('stationary', 'hh_income', 'domain', 'pi_max'), on=['trajectory', 'attribute', 'feature', 'metric', 'var_1', 'var_2']) \\\n",
    "    .style \\\n",
    "        .background_gradient('Blues', subset='ks_statistic') \\\n",
    "        .background_gradient('Greens', subset='p_value') \\\n",
    "        .background_gradient('Oranges', subset='cliffs_d') \\\n",
    "        .apply(partial(highlight_cols, rate=0.05, pairs=10), subset=['p_value'], axis=1) \\\n",
    "        .format({'ks_statistic': '{0:.4f}', 'cliffs_d': '{0:.4f}', 'p_value': '{0:.2e}'})"
   ]
  },
  {
   "cell_type": "markdown",
   "metadata": {},
   "source": [
    "## Residence"
   ]
  },
  {
   "cell_type": "code",
   "execution_count": 85,
   "metadata": {
    "ExecuteTime": {
     "end_time": "2020-06-18T13:35:19.537309Z",
     "start_time": "2020-06-18T13:35:19.144022Z"
    }
   },
   "outputs": [
    {
     "data": {
      "text/html": [
       "<style  type=\"text/css\" >\n",
       "    #T_8d602d8e_b168_11ea_a1fc_1b036a81acc6row0_col6 {\n",
       "            background-color:  #c1d9ed;\n",
       "            color:  #000000;\n",
       "        }    #T_8d602d8e_b168_11ea_a1fc_1b036a81acc6row0_col7 {\n",
       "            background-color:  #309950;\n",
       "            color:  #000000;\n",
       "            : ;\n",
       "        }    #T_8d602d8e_b168_11ea_a1fc_1b036a81acc6row0_col8 {\n",
       "            background-color:  #eb610f;\n",
       "            color:  #000000;\n",
       "        }    #T_8d602d8e_b168_11ea_a1fc_1b036a81acc6row1_col6 {\n",
       "            background-color:  #b3d3e8;\n",
       "            color:  #000000;\n",
       "        }    #T_8d602d8e_b168_11ea_a1fc_1b036a81acc6row1_col7 {\n",
       "            background-color:  #63bc6e;\n",
       "            color:  #000000;\n",
       "            : ;\n",
       "        }    #T_8d602d8e_b168_11ea_a1fc_1b036a81acc6row1_col8 {\n",
       "            background-color:  #ee6410;\n",
       "            color:  #000000;\n",
       "        }    #T_8d602d8e_b168_11ea_a1fc_1b036a81acc6row2_col6 {\n",
       "            background-color:  #125ea6;\n",
       "            color:  #f1f1f1;\n",
       "        }    #T_8d602d8e_b168_11ea_a1fc_1b036a81acc6row2_col7 {\n",
       "            background-color:  #eff9eb;\n",
       "            color:  #000000;\n",
       "            : ;\n",
       "        }    #T_8d602d8e_b168_11ea_a1fc_1b036a81acc6row2_col8 {\n",
       "            background-color:  #7f2704;\n",
       "            color:  #f1f1f1;\n",
       "        }    #T_8d602d8e_b168_11ea_a1fc_1b036a81acc6row3_col6 {\n",
       "            background-color:  #58a1cf;\n",
       "            color:  #000000;\n",
       "        }    #T_8d602d8e_b168_11ea_a1fc_1b036a81acc6row3_col7 {\n",
       "            background-color:  #ddf2d8;\n",
       "            color:  #000000;\n",
       "            : ;\n",
       "        }    #T_8d602d8e_b168_11ea_a1fc_1b036a81acc6row3_col8 {\n",
       "            background-color:  #fdb678;\n",
       "            color:  #000000;\n",
       "        }    #T_8d602d8e_b168_11ea_a1fc_1b036a81acc6row4_col6 {\n",
       "            background-color:  #b2d2e8;\n",
       "            color:  #000000;\n",
       "        }    #T_8d602d8e_b168_11ea_a1fc_1b036a81acc6row4_col7 {\n",
       "            background-color:  #228a44;\n",
       "            color:  #000000;\n",
       "            : ;\n",
       "        }    #T_8d602d8e_b168_11ea_a1fc_1b036a81acc6row4_col8 {\n",
       "            background-color:  #ed6310;\n",
       "            color:  #000000;\n",
       "        }    #T_8d602d8e_b168_11ea_a1fc_1b036a81acc6row5_col6 {\n",
       "            background-color:  #b8d5ea;\n",
       "            color:  #000000;\n",
       "        }    #T_8d602d8e_b168_11ea_a1fc_1b036a81acc6row5_col7 {\n",
       "            background-color:  #349d53;\n",
       "            color:  #000000;\n",
       "            : ;\n",
       "        }    #T_8d602d8e_b168_11ea_a1fc_1b036a81acc6row5_col8 {\n",
       "            background-color:  #f87e2b;\n",
       "            color:  #000000;\n",
       "        }    #T_8d602d8e_b168_11ea_a1fc_1b036a81acc6row6_col6 {\n",
       "            background-color:  #f7fbff;\n",
       "            color:  #000000;\n",
       "        }    #T_8d602d8e_b168_11ea_a1fc_1b036a81acc6row6_col7 {\n",
       "            background-color:  #00441b;\n",
       "            color:  #f1f1f1;\n",
       "            : ;\n",
       "        }    #T_8d602d8e_b168_11ea_a1fc_1b036a81acc6row6_col8 {\n",
       "            background-color:  #f4721e;\n",
       "            color:  #000000;\n",
       "        }    #T_8d602d8e_b168_11ea_a1fc_1b036a81acc6row7_col6 {\n",
       "            background-color:  #4695c8;\n",
       "            color:  #000000;\n",
       "        }    #T_8d602d8e_b168_11ea_a1fc_1b036a81acc6row7_col7 {\n",
       "            background-color:  #e4f5df;\n",
       "            color:  #000000;\n",
       "            : ;\n",
       "        }    #T_8d602d8e_b168_11ea_a1fc_1b036a81acc6row7_col8 {\n",
       "            background-color:  #9f3303;\n",
       "            color:  #f1f1f1;\n",
       "        }    #T_8d602d8e_b168_11ea_a1fc_1b036a81acc6row8_col6 {\n",
       "            background-color:  #85bcdc;\n",
       "            color:  #000000;\n",
       "        }    #T_8d602d8e_b168_11ea_a1fc_1b036a81acc6row8_col7 {\n",
       "            background-color:  #d9f0d3;\n",
       "            color:  #000000;\n",
       "            : ;\n",
       "        }    #T_8d602d8e_b168_11ea_a1fc_1b036a81acc6row8_col8 {\n",
       "            background-color:  #fdc28b;\n",
       "            color:  #000000;\n",
       "        }    #T_8d602d8e_b168_11ea_a1fc_1b036a81acc6row9_col6 {\n",
       "            background-color:  #dfecf7;\n",
       "            color:  #000000;\n",
       "        }    #T_8d602d8e_b168_11ea_a1fc_1b036a81acc6row9_col7 {\n",
       "            background-color:  #004a1e;\n",
       "            color:  #f1f1f1;\n",
       "            : ;\n",
       "        }    #T_8d602d8e_b168_11ea_a1fc_1b036a81acc6row9_col8 {\n",
       "            background-color:  #f3701b;\n",
       "            color:  #000000;\n",
       "        }    #T_8d602d8e_b168_11ea_a1fc_1b036a81acc6row10_col6 {\n",
       "            background-color:  #ccdff1;\n",
       "            color:  #000000;\n",
       "        }    #T_8d602d8e_b168_11ea_a1fc_1b036a81acc6row10_col7 {\n",
       "            background-color:  #2c944c;\n",
       "            color:  #000000;\n",
       "            : ;\n",
       "        }    #T_8d602d8e_b168_11ea_a1fc_1b036a81acc6row10_col8 {\n",
       "            background-color:  #fd8f3e;\n",
       "            color:  #000000;\n",
       "        }    #T_8d602d8e_b168_11ea_a1fc_1b036a81acc6row11_col6 {\n",
       "            background-color:  #3888c1;\n",
       "            color:  #000000;\n",
       "        }    #T_8d602d8e_b168_11ea_a1fc_1b036a81acc6row11_col7 {\n",
       "            background-color:  #edf8e9;\n",
       "            color:  #000000;\n",
       "            : ;\n",
       "        }    #T_8d602d8e_b168_11ea_a1fc_1b036a81acc6row11_col8 {\n",
       "            background-color:  #9a3103;\n",
       "            color:  #f1f1f1;\n",
       "        }    #T_8d602d8e_b168_11ea_a1fc_1b036a81acc6row12_col6 {\n",
       "            background-color:  #a0cbe2;\n",
       "            color:  #000000;\n",
       "        }    #T_8d602d8e_b168_11ea_a1fc_1b036a81acc6row12_col7 {\n",
       "            background-color:  #ceecc8;\n",
       "            color:  #000000;\n",
       "            : ;\n",
       "        }    #T_8d602d8e_b168_11ea_a1fc_1b036a81acc6row12_col8 {\n",
       "            background-color:  #fdbb81;\n",
       "            color:  #000000;\n",
       "        }    #T_8d602d8e_b168_11ea_a1fc_1b036a81acc6row13_col6 {\n",
       "            background-color:  #bfd8ed;\n",
       "            color:  #000000;\n",
       "        }    #T_8d602d8e_b168_11ea_a1fc_1b036a81acc6row13_col7 {\n",
       "            background-color:  #329b51;\n",
       "            color:  #000000;\n",
       "            : ;\n",
       "        }    #T_8d602d8e_b168_11ea_a1fc_1b036a81acc6row13_col8 {\n",
       "            background-color:  #f26c16;\n",
       "            color:  #000000;\n",
       "        }    #T_8d602d8e_b168_11ea_a1fc_1b036a81acc6row14_col6 {\n",
       "            background-color:  #97c6df;\n",
       "            color:  #000000;\n",
       "        }    #T_8d602d8e_b168_11ea_a1fc_1b036a81acc6row14_col7 {\n",
       "            background-color:  #c9eac2;\n",
       "            color:  #000000;\n",
       "            : ;\n",
       "        }    #T_8d602d8e_b168_11ea_a1fc_1b036a81acc6row14_col8 {\n",
       "            background-color:  #fc8937;\n",
       "            color:  #000000;\n",
       "        }    #T_8d602d8e_b168_11ea_a1fc_1b036a81acc6row15_col6 {\n",
       "            background-color:  #08306b;\n",
       "            color:  #f1f1f1;\n",
       "        }    #T_8d602d8e_b168_11ea_a1fc_1b036a81acc6row15_col7 {\n",
       "            background-color:  #f7fcf5;\n",
       "            color:  #000000;\n",
       "            : ;\n",
       "        }    #T_8d602d8e_b168_11ea_a1fc_1b036a81acc6row15_col8 {\n",
       "            background-color:  #fff5eb;\n",
       "            color:  #000000;\n",
       "        }    #T_8d602d8e_b168_11ea_a1fc_1b036a81acc6row16_col6 {\n",
       "            background-color:  #3a8ac2;\n",
       "            color:  #000000;\n",
       "        }    #T_8d602d8e_b168_11ea_a1fc_1b036a81acc6row16_col7 {\n",
       "            background-color:  #d3eecd;\n",
       "            color:  #000000;\n",
       "            : ;\n",
       "        }    #T_8d602d8e_b168_11ea_a1fc_1b036a81acc6row16_col8 {\n",
       "            background-color:  #fdc38d;\n",
       "            color:  #000000;\n",
       "        }    #T_8d602d8e_b168_11ea_a1fc_1b036a81acc6row17_col6 {\n",
       "            background-color:  #4493c7;\n",
       "            color:  #000000;\n",
       "        }    #T_8d602d8e_b168_11ea_a1fc_1b036a81acc6row17_col7 {\n",
       "            background-color:  #def2d9;\n",
       "            color:  #000000;\n",
       "            : ;\n",
       "        }    #T_8d602d8e_b168_11ea_a1fc_1b036a81acc6row17_col8 {\n",
       "            background-color:  #fedcb9;\n",
       "            color:  #000000;\n",
       "        }    #T_8d602d8e_b168_11ea_a1fc_1b036a81acc6row18_col6 {\n",
       "            background-color:  #4090c5;\n",
       "            color:  #000000;\n",
       "        }    #T_8d602d8e_b168_11ea_a1fc_1b036a81acc6row18_col7 {\n",
       "            background-color:  #e7f6e2;\n",
       "            color:  #000000;\n",
       "            : ;\n",
       "        }    #T_8d602d8e_b168_11ea_a1fc_1b036a81acc6row18_col8 {\n",
       "            background-color:  #9b3203;\n",
       "            color:  #f1f1f1;\n",
       "        }    #T_8d602d8e_b168_11ea_a1fc_1b036a81acc6row19_col6 {\n",
       "            background-color:  #a3cce3;\n",
       "            color:  #000000;\n",
       "        }    #T_8d602d8e_b168_11ea_a1fc_1b036a81acc6row19_col7 {\n",
       "            background-color:  #a5db9f;\n",
       "            color:  #000000;\n",
       "            : ;\n",
       "        }    #T_8d602d8e_b168_11ea_a1fc_1b036a81acc6row19_col8 {\n",
       "            background-color:  #bb3d02;\n",
       "            color:  #f1f1f1;\n",
       "        }    #T_8d602d8e_b168_11ea_a1fc_1b036a81acc6row20_col6 {\n",
       "            background-color:  #bad6eb;\n",
       "            color:  #000000;\n",
       "        }    #T_8d602d8e_b168_11ea_a1fc_1b036a81acc6row20_col7 {\n",
       "            background-color:  #278f48;\n",
       "            color:  #000000;\n",
       "            : ;\n",
       "        }    #T_8d602d8e_b168_11ea_a1fc_1b036a81acc6row20_col8 {\n",
       "            background-color:  #fd9141;\n",
       "            color:  #000000;\n",
       "        }</style><table id=\"T_8d602d8e_b168_11ea_a1fc_1b036a81acc6\" ><thead>    <tr>        <th class=\"blank level0\" ></th>        <th class=\"col_heading level0 col0\" >trajectory</th>        <th class=\"col_heading level0 col1\" >attribute</th>        <th class=\"col_heading level0 col2\" >feature</th>        <th class=\"col_heading level0 col3\" >metric</th>        <th class=\"col_heading level0 col4\" >var_1</th>        <th class=\"col_heading level0 col5\" >var_2</th>        <th class=\"col_heading level0 col6\" >ks_statistic</th>        <th class=\"col_heading level0 col7\" >p_value</th>        <th class=\"col_heading level0 col8\" >cliffs_d</th>    </tr></thead><tbody>\n",
       "                <tr>\n",
       "                        <th id=\"T_8d602d8e_b168_11ea_a1fc_1b036a81acc6level0_row0\" class=\"row_heading level0 row0\" >0</th>\n",
       "                        <td id=\"T_8d602d8e_b168_11ea_a1fc_1b036a81acc6row0_col0\" class=\"data row0 col0\" >stationary</td>\n",
       "                        <td id=\"T_8d602d8e_b168_11ea_a1fc_1b036a81acc6row0_col1\" class=\"data row0 col1\" >place_of_residence</td>\n",
       "                        <td id=\"T_8d602d8e_b168_11ea_a1fc_1b036a81acc6row0_col2\" class=\"data row0 col2\" >domain</td>\n",
       "                        <td id=\"T_8d602d8e_b168_11ea_a1fc_1b036a81acc6row0_col3\" class=\"data row0 col3\" >pi_max</td>\n",
       "                        <td id=\"T_8d602d8e_b168_11ea_a1fc_1b036a81acc6row0_col4\" class=\"data row0 col4\" >4: 50,000 -   99,999 inhabitants</td>\n",
       "                        <td id=\"T_8d602d8e_b168_11ea_a1fc_1b036a81acc6row0_col5\" class=\"data row0 col5\" >5: 100,000 - 499,999 inhabitants</td>\n",
       "                        <td id=\"T_8d602d8e_b168_11ea_a1fc_1b036a81acc6row0_col6\" class=\"data row0 col6\" >0.0732</td>\n",
       "                        <td id=\"T_8d602d8e_b168_11ea_a1fc_1b036a81acc6row0_col7\" class=\"data row0 col7\" >6.94e-01</td>\n",
       "                        <td id=\"T_8d602d8e_b168_11ea_a1fc_1b036a81acc6row0_col8\" class=\"data row0 col8\" >0.0157</td>\n",
       "            </tr>\n",
       "            <tr>\n",
       "                        <th id=\"T_8d602d8e_b168_11ea_a1fc_1b036a81acc6level0_row1\" class=\"row_heading level0 row1\" >1</th>\n",
       "                        <td id=\"T_8d602d8e_b168_11ea_a1fc_1b036a81acc6row1_col0\" class=\"data row1 col0\" >stationary</td>\n",
       "                        <td id=\"T_8d602d8e_b168_11ea_a1fc_1b036a81acc6row1_col1\" class=\"data row1 col1\" >place_of_residence</td>\n",
       "                        <td id=\"T_8d602d8e_b168_11ea_a1fc_1b036a81acc6row1_col2\" class=\"data row1 col2\" >domain</td>\n",
       "                        <td id=\"T_8d602d8e_b168_11ea_a1fc_1b036a81acc6row1_col3\" class=\"data row1 col3\" >pi_max</td>\n",
       "                        <td id=\"T_8d602d8e_b168_11ea_a1fc_1b036a81acc6row1_col4\" class=\"data row1 col4\" >4: 50,000 -   99,999 inhabitants</td>\n",
       "                        <td id=\"T_8d602d8e_b168_11ea_a1fc_1b036a81acc6row1_col5\" class=\"data row1 col5\" >6: 500,000  inhabitants and more</td>\n",
       "                        <td id=\"T_8d602d8e_b168_11ea_a1fc_1b036a81acc6row1_col6\" class=\"data row1 col6\" >0.0792</td>\n",
       "                        <td id=\"T_8d602d8e_b168_11ea_a1fc_1b036a81acc6row1_col7\" class=\"data row1 col7\" >5.42e-01</td>\n",
       "                        <td id=\"T_8d602d8e_b168_11ea_a1fc_1b036a81acc6row1_col8\" class=\"data row1 col8\" >0.0114</td>\n",
       "            </tr>\n",
       "            <tr>\n",
       "                        <th id=\"T_8d602d8e_b168_11ea_a1fc_1b036a81acc6level0_row2\" class=\"row_heading level0 row2\" >2</th>\n",
       "                        <td id=\"T_8d602d8e_b168_11ea_a1fc_1b036a81acc6row2_col0\" class=\"data row2 col0\" >stationary</td>\n",
       "                        <td id=\"T_8d602d8e_b168_11ea_a1fc_1b036a81acc6row2_col1\" class=\"data row2 col1\" >place_of_residence</td>\n",
       "                        <td id=\"T_8d602d8e_b168_11ea_a1fc_1b036a81acc6row2_col2\" class=\"data row2 col2\" >domain</td>\n",
       "                        <td id=\"T_8d602d8e_b168_11ea_a1fc_1b036a81acc6row2_col3\" class=\"data row2 col3\" >pi_max</td>\n",
       "                        <td id=\"T_8d602d8e_b168_11ea_a1fc_1b036a81acc6row2_col4\" class=\"data row2 col4\" >4: 50,000 -   99,999 inhabitants</td>\n",
       "                        <td id=\"T_8d602d8e_b168_11ea_a1fc_1b036a81acc6row2_col5\" class=\"data row2 col5\" >1: 2,000 -     4,999 inhabitants</td>\n",
       "                        <td id=\"T_8d602d8e_b168_11ea_a1fc_1b036a81acc6row2_col6\" class=\"data row2 col6\" >0.1543</td>\n",
       "                        <td id=\"T_8d602d8e_b168_11ea_a1fc_1b036a81acc6row2_col7\" class=\"data row2 col7\" >6.70e-02</td>\n",
       "                        <td id=\"T_8d602d8e_b168_11ea_a1fc_1b036a81acc6row2_col8\" class=\"data row2 col8\" >0.1289</td>\n",
       "            </tr>\n",
       "            <tr>\n",
       "                        <th id=\"T_8d602d8e_b168_11ea_a1fc_1b036a81acc6level0_row3\" class=\"row_heading level0 row3\" >3</th>\n",
       "                        <td id=\"T_8d602d8e_b168_11ea_a1fc_1b036a81acc6row3_col0\" class=\"data row3 col0\" >stationary</td>\n",
       "                        <td id=\"T_8d602d8e_b168_11ea_a1fc_1b036a81acc6row3_col1\" class=\"data row3 col1\" >place_of_residence</td>\n",
       "                        <td id=\"T_8d602d8e_b168_11ea_a1fc_1b036a81acc6row3_col2\" class=\"data row3 col2\" >domain</td>\n",
       "                        <td id=\"T_8d602d8e_b168_11ea_a1fc_1b036a81acc6row3_col3\" class=\"data row3 col3\" >pi_max</td>\n",
       "                        <td id=\"T_8d602d8e_b168_11ea_a1fc_1b036a81acc6row3_col4\" class=\"data row3 col4\" >4: 50,000 -   99,999 inhabitants</td>\n",
       "                        <td id=\"T_8d602d8e_b168_11ea_a1fc_1b036a81acc6row3_col5\" class=\"data row3 col5\" >2: 5,000 -    19,999 inhabitants</td>\n",
       "                        <td id=\"T_8d602d8e_b168_11ea_a1fc_1b036a81acc6row3_col6\" class=\"data row3 col6\" >0.1153</td>\n",
       "                        <td id=\"T_8d602d8e_b168_11ea_a1fc_1b036a81acc6row3_col7\" class=\"data row3 col7\" >1.63e-01</td>\n",
       "                        <td id=\"T_8d602d8e_b168_11ea_a1fc_1b036a81acc6row3_col8\" class=\"data row3 col8\" >-0.0858</td>\n",
       "            </tr>\n",
       "            <tr>\n",
       "                        <th id=\"T_8d602d8e_b168_11ea_a1fc_1b036a81acc6level0_row4\" class=\"row_heading level0 row4\" >4</th>\n",
       "                        <td id=\"T_8d602d8e_b168_11ea_a1fc_1b036a81acc6row4_col0\" class=\"data row4 col0\" >stationary</td>\n",
       "                        <td id=\"T_8d602d8e_b168_11ea_a1fc_1b036a81acc6row4_col1\" class=\"data row4 col1\" >place_of_residence</td>\n",
       "                        <td id=\"T_8d602d8e_b168_11ea_a1fc_1b036a81acc6row4_col2\" class=\"data row4 col2\" >domain</td>\n",
       "                        <td id=\"T_8d602d8e_b168_11ea_a1fc_1b036a81acc6row4_col3\" class=\"data row4 col3\" >pi_max</td>\n",
       "                        <td id=\"T_8d602d8e_b168_11ea_a1fc_1b036a81acc6row4_col4\" class=\"data row4 col4\" >4: 50,000 -   99,999 inhabitants</td>\n",
       "                        <td id=\"T_8d602d8e_b168_11ea_a1fc_1b036a81acc6row4_col5\" class=\"data row4 col5\" >0: Less than 2,000 inhabitants</td>\n",
       "                        <td id=\"T_8d602d8e_b168_11ea_a1fc_1b036a81acc6row4_col6\" class=\"data row4 col6\" >0.0801</td>\n",
       "                        <td id=\"T_8d602d8e_b168_11ea_a1fc_1b036a81acc6row4_col7\" class=\"data row4 col7\" >7.50e-01</td>\n",
       "                        <td id=\"T_8d602d8e_b168_11ea_a1fc_1b036a81acc6row4_col8\" class=\"data row4 col8\" >0.0131</td>\n",
       "            </tr>\n",
       "            <tr>\n",
       "                        <th id=\"T_8d602d8e_b168_11ea_a1fc_1b036a81acc6level0_row5\" class=\"row_heading level0 row5\" >5</th>\n",
       "                        <td id=\"T_8d602d8e_b168_11ea_a1fc_1b036a81acc6row5_col0\" class=\"data row5 col0\" >stationary</td>\n",
       "                        <td id=\"T_8d602d8e_b168_11ea_a1fc_1b036a81acc6row5_col1\" class=\"data row5 col1\" >place_of_residence</td>\n",
       "                        <td id=\"T_8d602d8e_b168_11ea_a1fc_1b036a81acc6row5_col2\" class=\"data row5 col2\" >domain</td>\n",
       "                        <td id=\"T_8d602d8e_b168_11ea_a1fc_1b036a81acc6row5_col3\" class=\"data row5 col3\" >pi_max</td>\n",
       "                        <td id=\"T_8d602d8e_b168_11ea_a1fc_1b036a81acc6row5_col4\" class=\"data row5 col4\" >4: 50,000 -   99,999 inhabitants</td>\n",
       "                        <td id=\"T_8d602d8e_b168_11ea_a1fc_1b036a81acc6row5_col5\" class=\"data row5 col5\" >3: 20,000 -  49,999 inhabitants</td>\n",
       "                        <td id=\"T_8d602d8e_b168_11ea_a1fc_1b036a81acc6row5_col6\" class=\"data row5 col6\" >0.0773</td>\n",
       "                        <td id=\"T_8d602d8e_b168_11ea_a1fc_1b036a81acc6row5_col7\" class=\"data row5 col7\" >6.79e-01</td>\n",
       "                        <td id=\"T_8d602d8e_b168_11ea_a1fc_1b036a81acc6row5_col8\" class=\"data row5 col8\" >-0.0175</td>\n",
       "            </tr>\n",
       "            <tr>\n",
       "                        <th id=\"T_8d602d8e_b168_11ea_a1fc_1b036a81acc6level0_row6\" class=\"row_heading level0 row6\" >6</th>\n",
       "                        <td id=\"T_8d602d8e_b168_11ea_a1fc_1b036a81acc6row6_col0\" class=\"data row6 col0\" >stationary</td>\n",
       "                        <td id=\"T_8d602d8e_b168_11ea_a1fc_1b036a81acc6row6_col1\" class=\"data row6 col1\" >place_of_residence</td>\n",
       "                        <td id=\"T_8d602d8e_b168_11ea_a1fc_1b036a81acc6row6_col2\" class=\"data row6 col2\" >domain</td>\n",
       "                        <td id=\"T_8d602d8e_b168_11ea_a1fc_1b036a81acc6row6_col3\" class=\"data row6 col3\" >pi_max</td>\n",
       "                        <td id=\"T_8d602d8e_b168_11ea_a1fc_1b036a81acc6row6_col4\" class=\"data row6 col4\" >5: 100,000 - 499,999 inhabitants</td>\n",
       "                        <td id=\"T_8d602d8e_b168_11ea_a1fc_1b036a81acc6row6_col5\" class=\"data row6 col5\" >6: 500,000  inhabitants and more</td>\n",
       "                        <td id=\"T_8d602d8e_b168_11ea_a1fc_1b036a81acc6row6_col6\" class=\"data row6 col6\" >0.0339</td>\n",
       "                        <td id=\"T_8d602d8e_b168_11ea_a1fc_1b036a81acc6row6_col7\" class=\"data row6 col7\" >9.97e-01</td>\n",
       "                        <td id=\"T_8d602d8e_b168_11ea_a1fc_1b036a81acc6row6_col8\" class=\"data row6 col8\" >-0.0052</td>\n",
       "            </tr>\n",
       "            <tr>\n",
       "                        <th id=\"T_8d602d8e_b168_11ea_a1fc_1b036a81acc6level0_row7\" class=\"row_heading level0 row7\" >7</th>\n",
       "                        <td id=\"T_8d602d8e_b168_11ea_a1fc_1b036a81acc6row7_col0\" class=\"data row7 col0\" >stationary</td>\n",
       "                        <td id=\"T_8d602d8e_b168_11ea_a1fc_1b036a81acc6row7_col1\" class=\"data row7 col1\" >place_of_residence</td>\n",
       "                        <td id=\"T_8d602d8e_b168_11ea_a1fc_1b036a81acc6row7_col2\" class=\"data row7 col2\" >domain</td>\n",
       "                        <td id=\"T_8d602d8e_b168_11ea_a1fc_1b036a81acc6row7_col3\" class=\"data row7 col3\" >pi_max</td>\n",
       "                        <td id=\"T_8d602d8e_b168_11ea_a1fc_1b036a81acc6row7_col4\" class=\"data row7 col4\" >5: 100,000 - 499,999 inhabitants</td>\n",
       "                        <td id=\"T_8d602d8e_b168_11ea_a1fc_1b036a81acc6row7_col5\" class=\"data row7 col5\" >1: 2,000 -     4,999 inhabitants</td>\n",
       "                        <td id=\"T_8d602d8e_b168_11ea_a1fc_1b036a81acc6row7_col6\" class=\"data row7 col6\" >0.1236</td>\n",
       "                        <td id=\"T_8d602d8e_b168_11ea_a1fc_1b036a81acc6row7_col7\" class=\"data row7 col7\" >1.37e-01</td>\n",
       "                        <td id=\"T_8d602d8e_b168_11ea_a1fc_1b036a81acc6row7_col8\" class=\"data row7 col8\" >0.0954</td>\n",
       "            </tr>\n",
       "            <tr>\n",
       "                        <th id=\"T_8d602d8e_b168_11ea_a1fc_1b036a81acc6level0_row8\" class=\"row_heading level0 row8\" >8</th>\n",
       "                        <td id=\"T_8d602d8e_b168_11ea_a1fc_1b036a81acc6row8_col0\" class=\"data row8 col0\" >stationary</td>\n",
       "                        <td id=\"T_8d602d8e_b168_11ea_a1fc_1b036a81acc6row8_col1\" class=\"data row8 col1\" >place_of_residence</td>\n",
       "                        <td id=\"T_8d602d8e_b168_11ea_a1fc_1b036a81acc6row8_col2\" class=\"data row8 col2\" >domain</td>\n",
       "                        <td id=\"T_8d602d8e_b168_11ea_a1fc_1b036a81acc6row8_col3\" class=\"data row8 col3\" >pi_max</td>\n",
       "                        <td id=\"T_8d602d8e_b168_11ea_a1fc_1b036a81acc6row8_col4\" class=\"data row8 col4\" >5: 100,000 - 499,999 inhabitants</td>\n",
       "                        <td id=\"T_8d602d8e_b168_11ea_a1fc_1b036a81acc6row8_col5\" class=\"data row8 col5\" >2: 5,000 -    19,999 inhabitants</td>\n",
       "                        <td id=\"T_8d602d8e_b168_11ea_a1fc_1b036a81acc6row8_col6\" class=\"data row8 col6\" >0.0976</td>\n",
       "                        <td id=\"T_8d602d8e_b168_11ea_a1fc_1b036a81acc6row8_col7\" class=\"data row8 col7\" >1.82e-01</td>\n",
       "                        <td id=\"T_8d602d8e_b168_11ea_a1fc_1b036a81acc6row8_col8\" class=\"data row8 col8\" >-0.1004</td>\n",
       "            </tr>\n",
       "            <tr>\n",
       "                        <th id=\"T_8d602d8e_b168_11ea_a1fc_1b036a81acc6level0_row9\" class=\"row_heading level0 row9\" >9</th>\n",
       "                        <td id=\"T_8d602d8e_b168_11ea_a1fc_1b036a81acc6row9_col0\" class=\"data row9 col0\" >stationary</td>\n",
       "                        <td id=\"T_8d602d8e_b168_11ea_a1fc_1b036a81acc6row9_col1\" class=\"data row9 col1\" >place_of_residence</td>\n",
       "                        <td id=\"T_8d602d8e_b168_11ea_a1fc_1b036a81acc6row9_col2\" class=\"data row9 col2\" >domain</td>\n",
       "                        <td id=\"T_8d602d8e_b168_11ea_a1fc_1b036a81acc6row9_col3\" class=\"data row9 col3\" >pi_max</td>\n",
       "                        <td id=\"T_8d602d8e_b168_11ea_a1fc_1b036a81acc6row9_col4\" class=\"data row9 col4\" >5: 100,000 - 499,999 inhabitants</td>\n",
       "                        <td id=\"T_8d602d8e_b168_11ea_a1fc_1b036a81acc6row9_col5\" class=\"data row9 col5\" >0: Less than 2,000 inhabitants</td>\n",
       "                        <td id=\"T_8d602d8e_b168_11ea_a1fc_1b036a81acc6row9_col6\" class=\"data row9 col6\" >0.0514</td>\n",
       "                        <td id=\"T_8d602d8e_b168_11ea_a1fc_1b036a81acc6row9_col7\" class=\"data row9 col7\" >9.74e-01</td>\n",
       "                        <td id=\"T_8d602d8e_b168_11ea_a1fc_1b036a81acc6row9_col8\" class=\"data row9 col8\" >-0.0023</td>\n",
       "            </tr>\n",
       "            <tr>\n",
       "                        <th id=\"T_8d602d8e_b168_11ea_a1fc_1b036a81acc6level0_row10\" class=\"row_heading level0 row10\" >10</th>\n",
       "                        <td id=\"T_8d602d8e_b168_11ea_a1fc_1b036a81acc6row10_col0\" class=\"data row10 col0\" >stationary</td>\n",
       "                        <td id=\"T_8d602d8e_b168_11ea_a1fc_1b036a81acc6row10_col1\" class=\"data row10 col1\" >place_of_residence</td>\n",
       "                        <td id=\"T_8d602d8e_b168_11ea_a1fc_1b036a81acc6row10_col2\" class=\"data row10 col2\" >domain</td>\n",
       "                        <td id=\"T_8d602d8e_b168_11ea_a1fc_1b036a81acc6row10_col3\" class=\"data row10 col3\" >pi_max</td>\n",
       "                        <td id=\"T_8d602d8e_b168_11ea_a1fc_1b036a81acc6row10_col4\" class=\"data row10 col4\" >5: 100,000 - 499,999 inhabitants</td>\n",
       "                        <td id=\"T_8d602d8e_b168_11ea_a1fc_1b036a81acc6row10_col5\" class=\"data row10 col5\" >3: 20,000 -  49,999 inhabitants</td>\n",
       "                        <td id=\"T_8d602d8e_b168_11ea_a1fc_1b036a81acc6row10_col6\" class=\"data row10 col6\" >0.0659</td>\n",
       "                        <td id=\"T_8d602d8e_b168_11ea_a1fc_1b036a81acc6row10_col7\" class=\"data row10 col7\" >7.13e-01</td>\n",
       "                        <td id=\"T_8d602d8e_b168_11ea_a1fc_1b036a81acc6row10_col8\" class=\"data row10 col8\" >-0.0377</td>\n",
       "            </tr>\n",
       "            <tr>\n",
       "                        <th id=\"T_8d602d8e_b168_11ea_a1fc_1b036a81acc6level0_row11\" class=\"row_heading level0 row11\" >11</th>\n",
       "                        <td id=\"T_8d602d8e_b168_11ea_a1fc_1b036a81acc6row11_col0\" class=\"data row11 col0\" >stationary</td>\n",
       "                        <td id=\"T_8d602d8e_b168_11ea_a1fc_1b036a81acc6row11_col1\" class=\"data row11 col1\" >place_of_residence</td>\n",
       "                        <td id=\"T_8d602d8e_b168_11ea_a1fc_1b036a81acc6row11_col2\" class=\"data row11 col2\" >domain</td>\n",
       "                        <td id=\"T_8d602d8e_b168_11ea_a1fc_1b036a81acc6row11_col3\" class=\"data row11 col3\" >pi_max</td>\n",
       "                        <td id=\"T_8d602d8e_b168_11ea_a1fc_1b036a81acc6row11_col4\" class=\"data row11 col4\" >6: 500,000  inhabitants and more</td>\n",
       "                        <td id=\"T_8d602d8e_b168_11ea_a1fc_1b036a81acc6row11_col5\" class=\"data row11 col5\" >1: 2,000 -     4,999 inhabitants</td>\n",
       "                        <td id=\"T_8d602d8e_b168_11ea_a1fc_1b036a81acc6row11_col6\" class=\"data row11 col6\" >0.1309</td>\n",
       "                        <td id=\"T_8d602d8e_b168_11ea_a1fc_1b036a81acc6row11_col7\" class=\"data row11 col7\" >7.73e-02</td>\n",
       "                        <td id=\"T_8d602d8e_b168_11ea_a1fc_1b036a81acc6row11_col8\" class=\"data row11 col8\" >0.1000</td>\n",
       "            </tr>\n",
       "            <tr>\n",
       "                        <th id=\"T_8d602d8e_b168_11ea_a1fc_1b036a81acc6level0_row12\" class=\"row_heading level0 row12\" >12</th>\n",
       "                        <td id=\"T_8d602d8e_b168_11ea_a1fc_1b036a81acc6row12_col0\" class=\"data row12 col0\" >stationary</td>\n",
       "                        <td id=\"T_8d602d8e_b168_11ea_a1fc_1b036a81acc6row12_col1\" class=\"data row12 col1\" >place_of_residence</td>\n",
       "                        <td id=\"T_8d602d8e_b168_11ea_a1fc_1b036a81acc6row12_col2\" class=\"data row12 col2\" >domain</td>\n",
       "                        <td id=\"T_8d602d8e_b168_11ea_a1fc_1b036a81acc6row12_col3\" class=\"data row12 col3\" >pi_max</td>\n",
       "                        <td id=\"T_8d602d8e_b168_11ea_a1fc_1b036a81acc6row12_col4\" class=\"data row12 col4\" >6: 500,000  inhabitants and more</td>\n",
       "                        <td id=\"T_8d602d8e_b168_11ea_a1fc_1b036a81acc6row12_col5\" class=\"data row12 col5\" >2: 5,000 -    19,999 inhabitants</td>\n",
       "                        <td id=\"T_8d602d8e_b168_11ea_a1fc_1b036a81acc6row12_col6\" class=\"data row12 col6\" >0.0880</td>\n",
       "                        <td id=\"T_8d602d8e_b168_11ea_a1fc_1b036a81acc6row12_col7\" class=\"data row12 col7\" >2.24e-01</td>\n",
       "                        <td id=\"T_8d602d8e_b168_11ea_a1fc_1b036a81acc6row12_col8\" class=\"data row12 col8\" >-0.0920</td>\n",
       "            </tr>\n",
       "            <tr>\n",
       "                        <th id=\"T_8d602d8e_b168_11ea_a1fc_1b036a81acc6level0_row13\" class=\"row_heading level0 row13\" >13</th>\n",
       "                        <td id=\"T_8d602d8e_b168_11ea_a1fc_1b036a81acc6row13_col0\" class=\"data row13 col0\" >stationary</td>\n",
       "                        <td id=\"T_8d602d8e_b168_11ea_a1fc_1b036a81acc6row13_col1\" class=\"data row13 col1\" >place_of_residence</td>\n",
       "                        <td id=\"T_8d602d8e_b168_11ea_a1fc_1b036a81acc6row13_col2\" class=\"data row13 col2\" >domain</td>\n",
       "                        <td id=\"T_8d602d8e_b168_11ea_a1fc_1b036a81acc6row13_col3\" class=\"data row13 col3\" >pi_max</td>\n",
       "                        <td id=\"T_8d602d8e_b168_11ea_a1fc_1b036a81acc6row13_col4\" class=\"data row13 col4\" >6: 500,000  inhabitants and more</td>\n",
       "                        <td id=\"T_8d602d8e_b168_11ea_a1fc_1b036a81acc6row13_col5\" class=\"data row13 col5\" >0: Less than 2,000 inhabitants</td>\n",
       "                        <td id=\"T_8d602d8e_b168_11ea_a1fc_1b036a81acc6row13_col6\" class=\"data row13 col6\" >0.0734</td>\n",
       "                        <td id=\"T_8d602d8e_b168_11ea_a1fc_1b036a81acc6row13_col7\" class=\"data row13 col7\" >6.85e-01</td>\n",
       "                        <td id=\"T_8d602d8e_b168_11ea_a1fc_1b036a81acc6row13_col8\" class=\"data row13 col8\" >0.0031</td>\n",
       "            </tr>\n",
       "            <tr>\n",
       "                        <th id=\"T_8d602d8e_b168_11ea_a1fc_1b036a81acc6level0_row14\" class=\"row_heading level0 row14\" >14</th>\n",
       "                        <td id=\"T_8d602d8e_b168_11ea_a1fc_1b036a81acc6row14_col0\" class=\"data row14 col0\" >stationary</td>\n",
       "                        <td id=\"T_8d602d8e_b168_11ea_a1fc_1b036a81acc6row14_col1\" class=\"data row14 col1\" >place_of_residence</td>\n",
       "                        <td id=\"T_8d602d8e_b168_11ea_a1fc_1b036a81acc6row14_col2\" class=\"data row14 col2\" >domain</td>\n",
       "                        <td id=\"T_8d602d8e_b168_11ea_a1fc_1b036a81acc6row14_col3\" class=\"data row14 col3\" >pi_max</td>\n",
       "                        <td id=\"T_8d602d8e_b168_11ea_a1fc_1b036a81acc6row14_col4\" class=\"data row14 col4\" >6: 500,000  inhabitants and more</td>\n",
       "                        <td id=\"T_8d602d8e_b168_11ea_a1fc_1b036a81acc6row14_col5\" class=\"data row14 col5\" >3: 20,000 -  49,999 inhabitants</td>\n",
       "                        <td id=\"T_8d602d8e_b168_11ea_a1fc_1b036a81acc6row14_col6\" class=\"data row14 col6\" >0.0913</td>\n",
       "                        <td id=\"T_8d602d8e_b168_11ea_a1fc_1b036a81acc6row14_col7\" class=\"data row14 col7\" >2.50e-01</td>\n",
       "                        <td id=\"T_8d602d8e_b168_11ea_a1fc_1b036a81acc6row14_col8\" class=\"data row14 col8\" >-0.0313</td>\n",
       "            </tr>\n",
       "            <tr>\n",
       "                        <th id=\"T_8d602d8e_b168_11ea_a1fc_1b036a81acc6level0_row15\" class=\"row_heading level0 row15\" >15</th>\n",
       "                        <td id=\"T_8d602d8e_b168_11ea_a1fc_1b036a81acc6row15_col0\" class=\"data row15 col0\" >stationary</td>\n",
       "                        <td id=\"T_8d602d8e_b168_11ea_a1fc_1b036a81acc6row15_col1\" class=\"data row15 col1\" >place_of_residence</td>\n",
       "                        <td id=\"T_8d602d8e_b168_11ea_a1fc_1b036a81acc6row15_col2\" class=\"data row15 col2\" >domain</td>\n",
       "                        <td id=\"T_8d602d8e_b168_11ea_a1fc_1b036a81acc6row15_col3\" class=\"data row15 col3\" >pi_max</td>\n",
       "                        <td id=\"T_8d602d8e_b168_11ea_a1fc_1b036a81acc6row15_col4\" class=\"data row15 col4\" >1: 2,000 -     4,999 inhabitants</td>\n",
       "                        <td id=\"T_8d602d8e_b168_11ea_a1fc_1b036a81acc6row15_col5\" class=\"data row15 col5\" >2: 5,000 -    19,999 inhabitants</td>\n",
       "                        <td id=\"T_8d602d8e_b168_11ea_a1fc_1b036a81acc6row15_col6\" class=\"data row15 col6\" >0.1803</td>\n",
       "                        <td id=\"T_8d602d8e_b168_11ea_a1fc_1b036a81acc6row15_col7\" class=\"data row15 col7\" >6.54e-03</td>\n",
       "                        <td id=\"T_8d602d8e_b168_11ea_a1fc_1b036a81acc6row15_col8\" class=\"data row15 col8\" >-0.1996</td>\n",
       "            </tr>\n",
       "            <tr>\n",
       "                        <th id=\"T_8d602d8e_b168_11ea_a1fc_1b036a81acc6level0_row16\" class=\"row_heading level0 row16\" >16</th>\n",
       "                        <td id=\"T_8d602d8e_b168_11ea_a1fc_1b036a81acc6row16_col0\" class=\"data row16 col0\" >stationary</td>\n",
       "                        <td id=\"T_8d602d8e_b168_11ea_a1fc_1b036a81acc6row16_col1\" class=\"data row16 col1\" >place_of_residence</td>\n",
       "                        <td id=\"T_8d602d8e_b168_11ea_a1fc_1b036a81acc6row16_col2\" class=\"data row16 col2\" >domain</td>\n",
       "                        <td id=\"T_8d602d8e_b168_11ea_a1fc_1b036a81acc6row16_col3\" class=\"data row16 col3\" >pi_max</td>\n",
       "                        <td id=\"T_8d602d8e_b168_11ea_a1fc_1b036a81acc6row16_col4\" class=\"data row16 col4\" >1: 2,000 -     4,999 inhabitants</td>\n",
       "                        <td id=\"T_8d602d8e_b168_11ea_a1fc_1b036a81acc6row16_col5\" class=\"data row16 col5\" >0: Less than 2,000 inhabitants</td>\n",
       "                        <td id=\"T_8d602d8e_b168_11ea_a1fc_1b036a81acc6row16_col6\" class=\"data row16 col6\" >0.1298</td>\n",
       "                        <td id=\"T_8d602d8e_b168_11ea_a1fc_1b036a81acc6row16_col7\" class=\"data row16 col7\" >2.04e-01</td>\n",
       "                        <td id=\"T_8d602d8e_b168_11ea_a1fc_1b036a81acc6row16_col8\" class=\"data row16 col8\" >-0.1015</td>\n",
       "            </tr>\n",
       "            <tr>\n",
       "                        <th id=\"T_8d602d8e_b168_11ea_a1fc_1b036a81acc6level0_row17\" class=\"row_heading level0 row17\" >17</th>\n",
       "                        <td id=\"T_8d602d8e_b168_11ea_a1fc_1b036a81acc6row17_col0\" class=\"data row17 col0\" >stationary</td>\n",
       "                        <td id=\"T_8d602d8e_b168_11ea_a1fc_1b036a81acc6row17_col1\" class=\"data row17 col1\" >place_of_residence</td>\n",
       "                        <td id=\"T_8d602d8e_b168_11ea_a1fc_1b036a81acc6row17_col2\" class=\"data row17 col2\" >domain</td>\n",
       "                        <td id=\"T_8d602d8e_b168_11ea_a1fc_1b036a81acc6row17_col3\" class=\"data row17 col3\" >pi_max</td>\n",
       "                        <td id=\"T_8d602d8e_b168_11ea_a1fc_1b036a81acc6row17_col4\" class=\"data row17 col4\" >1: 2,000 -     4,999 inhabitants</td>\n",
       "                        <td id=\"T_8d602d8e_b168_11ea_a1fc_1b036a81acc6row17_col5\" class=\"data row17 col5\" >3: 20,000 -  49,999 inhabitants</td>\n",
       "                        <td id=\"T_8d602d8e_b168_11ea_a1fc_1b036a81acc6row17_col6\" class=\"data row17 col6\" >0.1245</td>\n",
       "                        <td id=\"T_8d602d8e_b168_11ea_a1fc_1b036a81acc6row17_col7\" class=\"data row17 col7\" >1.60e-01</td>\n",
       "                        <td id=\"T_8d602d8e_b168_11ea_a1fc_1b036a81acc6row17_col8\" class=\"data row17 col8\" >-0.1391</td>\n",
       "            </tr>\n",
       "            <tr>\n",
       "                        <th id=\"T_8d602d8e_b168_11ea_a1fc_1b036a81acc6level0_row18\" class=\"row_heading level0 row18\" >18</th>\n",
       "                        <td id=\"T_8d602d8e_b168_11ea_a1fc_1b036a81acc6row18_col0\" class=\"data row18 col0\" >stationary</td>\n",
       "                        <td id=\"T_8d602d8e_b168_11ea_a1fc_1b036a81acc6row18_col1\" class=\"data row18 col1\" >place_of_residence</td>\n",
       "                        <td id=\"T_8d602d8e_b168_11ea_a1fc_1b036a81acc6row18_col2\" class=\"data row18 col2\" >domain</td>\n",
       "                        <td id=\"T_8d602d8e_b168_11ea_a1fc_1b036a81acc6row18_col3\" class=\"data row18 col3\" >pi_max</td>\n",
       "                        <td id=\"T_8d602d8e_b168_11ea_a1fc_1b036a81acc6row18_col4\" class=\"data row18 col4\" >2: 5,000 -    19,999 inhabitants</td>\n",
       "                        <td id=\"T_8d602d8e_b168_11ea_a1fc_1b036a81acc6row18_col5\" class=\"data row18 col5\" >0: Less than 2,000 inhabitants</td>\n",
       "                        <td id=\"T_8d602d8e_b168_11ea_a1fc_1b036a81acc6row18_col6\" class=\"data row18 col6\" >0.1260</td>\n",
       "                        <td id=\"T_8d602d8e_b168_11ea_a1fc_1b036a81acc6row18_col7\" class=\"data row18 col7\" >1.22e-01</td>\n",
       "                        <td id=\"T_8d602d8e_b168_11ea_a1fc_1b036a81acc6row18_col8\" class=\"data row18 col8\" >0.0988</td>\n",
       "            </tr>\n",
       "            <tr>\n",
       "                        <th id=\"T_8d602d8e_b168_11ea_a1fc_1b036a81acc6level0_row19\" class=\"row_heading level0 row19\" >19</th>\n",
       "                        <td id=\"T_8d602d8e_b168_11ea_a1fc_1b036a81acc6row19_col0\" class=\"data row19 col0\" >stationary</td>\n",
       "                        <td id=\"T_8d602d8e_b168_11ea_a1fc_1b036a81acc6row19_col1\" class=\"data row19 col1\" >place_of_residence</td>\n",
       "                        <td id=\"T_8d602d8e_b168_11ea_a1fc_1b036a81acc6row19_col2\" class=\"data row19 col2\" >domain</td>\n",
       "                        <td id=\"T_8d602d8e_b168_11ea_a1fc_1b036a81acc6row19_col3\" class=\"data row19 col3\" >pi_max</td>\n",
       "                        <td id=\"T_8d602d8e_b168_11ea_a1fc_1b036a81acc6row19_col4\" class=\"data row19 col4\" >2: 5,000 -    19,999 inhabitants</td>\n",
       "                        <td id=\"T_8d602d8e_b168_11ea_a1fc_1b036a81acc6row19_col5\" class=\"data row19 col5\" >3: 20,000 -  49,999 inhabitants</td>\n",
       "                        <td id=\"T_8d602d8e_b168_11ea_a1fc_1b036a81acc6row19_col6\" class=\"data row19 col6\" >0.0868</td>\n",
       "                        <td id=\"T_8d602d8e_b168_11ea_a1fc_1b036a81acc6row19_col7\" class=\"data row19 col7\" >3.63e-01</td>\n",
       "                        <td id=\"T_8d602d8e_b168_11ea_a1fc_1b036a81acc6row19_col8\" class=\"data row19 col8\" >0.0700</td>\n",
       "            </tr>\n",
       "            <tr>\n",
       "                        <th id=\"T_8d602d8e_b168_11ea_a1fc_1b036a81acc6level0_row20\" class=\"row_heading level0 row20\" >20</th>\n",
       "                        <td id=\"T_8d602d8e_b168_11ea_a1fc_1b036a81acc6row20_col0\" class=\"data row20 col0\" >stationary</td>\n",
       "                        <td id=\"T_8d602d8e_b168_11ea_a1fc_1b036a81acc6row20_col1\" class=\"data row20 col1\" >place_of_residence</td>\n",
       "                        <td id=\"T_8d602d8e_b168_11ea_a1fc_1b036a81acc6row20_col2\" class=\"data row20 col2\" >domain</td>\n",
       "                        <td id=\"T_8d602d8e_b168_11ea_a1fc_1b036a81acc6row20_col3\" class=\"data row20 col3\" >pi_max</td>\n",
       "                        <td id=\"T_8d602d8e_b168_11ea_a1fc_1b036a81acc6row20_col4\" class=\"data row20 col4\" >0: Less than 2,000 inhabitants</td>\n",
       "                        <td id=\"T_8d602d8e_b168_11ea_a1fc_1b036a81acc6row20_col5\" class=\"data row20 col5\" >3: 20,000 -  49,999 inhabitants</td>\n",
       "                        <td id=\"T_8d602d8e_b168_11ea_a1fc_1b036a81acc6row20_col6\" class=\"data row20 col6\" >0.0761</td>\n",
       "                        <td id=\"T_8d602d8e_b168_11ea_a1fc_1b036a81acc6row20_col7\" class=\"data row20 col7\" >7.34e-01</td>\n",
       "                        <td id=\"T_8d602d8e_b168_11ea_a1fc_1b036a81acc6row20_col8\" class=\"data row20 col8\" >-0.0402</td>\n",
       "            </tr>\n",
       "    </tbody></table>"
      ],
      "text/plain": [
       "<pandas.io.formats.style.Styler at 0x7f4784149160>"
      ]
     },
     "execution_count": 85,
     "metadata": {},
     "output_type": "execute_result"
    }
   ],
   "source": [
    "apply_ks_test('stationary', 'place_of_residence', 'domain', 'pi_max') \\\n",
    "    .merge(apply_cliffs_d('stationary', 'place_of_residence', 'domain', 'pi_max'), on=['trajectory', 'attribute', 'feature', 'metric', 'var_1', 'var_2']) \\\n",
    "    .style \\\n",
    "        .background_gradient('Blues', subset='ks_statistic') \\\n",
    "        .background_gradient('Greens', subset='p_value') \\\n",
    "        .background_gradient('Oranges', subset='cliffs_d') \\\n",
    "        .apply(partial(highlight_cols, rate=0.05, pairs=21), subset=['p_value'], axis=1) \\\n",
    "        .format({'ks_statistic': '{0:.4f}', 'cliffs_d': '{0:.4f}', 'p_value': '{0:.2e}'})"
   ]
  },
  {
   "cell_type": "markdown",
   "metadata": {},
   "source": [
    "## Education"
   ]
  },
  {
   "cell_type": "code",
   "execution_count": 86,
   "metadata": {
    "ExecuteTime": {
     "end_time": "2020-06-18T13:35:30.575026Z",
     "start_time": "2020-06-18T13:35:30.329478Z"
    }
   },
   "outputs": [
    {
     "data": {
      "text/html": [
       "<style  type=\"text/css\" >\n",
       "    #T_93fba290_b168_11ea_a1fc_1b036a81acc6row0_col6 {\n",
       "            background-color:  #87bddc;\n",
       "            color:  #000000;\n",
       "        }    #T_93fba290_b168_11ea_a1fc_1b036a81acc6row0_col7 {\n",
       "            background-color:  #f6fcf4;\n",
       "            color:  #000000;\n",
       "            : ;\n",
       "        }    #T_93fba290_b168_11ea_a1fc_1b036a81acc6row0_col8 {\n",
       "            background-color:  #fff5eb;\n",
       "            color:  #000000;\n",
       "        }    #T_93fba290_b168_11ea_a1fc_1b036a81acc6row1_col6 {\n",
       "            background-color:  #57a0ce;\n",
       "            color:  #000000;\n",
       "        }    #T_93fba290_b168_11ea_a1fc_1b036a81acc6row1_col7 {\n",
       "            background-color:  #18823d;\n",
       "            color:  #f1f1f1;\n",
       "            : ;\n",
       "        }    #T_93fba290_b168_11ea_a1fc_1b036a81acc6row1_col8 {\n",
       "            background-color:  #f26b15;\n",
       "            color:  #000000;\n",
       "        }    #T_93fba290_b168_11ea_a1fc_1b036a81acc6row2_col6 {\n",
       "            background-color:  #f7fbff;\n",
       "            color:  #000000;\n",
       "        }    #T_93fba290_b168_11ea_a1fc_1b036a81acc6row2_col7 {\n",
       "            background-color:  #005221;\n",
       "            color:  #f1f1f1;\n",
       "            : ;\n",
       "        }    #T_93fba290_b168_11ea_a1fc_1b036a81acc6row2_col8 {\n",
       "            background-color:  #fda25a;\n",
       "            color:  #000000;\n",
       "        }    #T_93fba290_b168_11ea_a1fc_1b036a81acc6row3_col6 {\n",
       "            background-color:  #08306b;\n",
       "            color:  #f1f1f1;\n",
       "        }    #T_93fba290_b168_11ea_a1fc_1b036a81acc6row3_col7 {\n",
       "            background-color:  #d9f0d3;\n",
       "            color:  #000000;\n",
       "            : ;\n",
       "        }    #T_93fba290_b168_11ea_a1fc_1b036a81acc6row3_col8 {\n",
       "            background-color:  #7f2704;\n",
       "            color:  #f1f1f1;\n",
       "        }    #T_93fba290_b168_11ea_a1fc_1b036a81acc6row4_col6 {\n",
       "            background-color:  #7db8da;\n",
       "            color:  #000000;\n",
       "        }    #T_93fba290_b168_11ea_a1fc_1b036a81acc6row4_col7 {\n",
       "            background-color:  #f7fcf5;\n",
       "            color:  #000000;\n",
       "            background-color:  crimson;\n",
       "             color:  white;\n",
       "        }    #T_93fba290_b168_11ea_a1fc_1b036a81acc6row4_col8 {\n",
       "            background-color:  #c34002;\n",
       "            color:  #f1f1f1;\n",
       "        }    #T_93fba290_b168_11ea_a1fc_1b036a81acc6row5_col6 {\n",
       "            background-color:  #8fc2de;\n",
       "            color:  #000000;\n",
       "        }    #T_93fba290_b168_11ea_a1fc_1b036a81acc6row5_col7 {\n",
       "            background-color:  #00441b;\n",
       "            color:  #f1f1f1;\n",
       "            : ;\n",
       "        }    #T_93fba290_b168_11ea_a1fc_1b036a81acc6row5_col8 {\n",
       "            background-color:  #feddbc;\n",
       "            color:  #000000;\n",
       "        }</style><table id=\"T_93fba290_b168_11ea_a1fc_1b036a81acc6\" ><thead>    <tr>        <th class=\"blank level0\" ></th>        <th class=\"col_heading level0 col0\" >trajectory</th>        <th class=\"col_heading level0 col1\" >attribute</th>        <th class=\"col_heading level0 col2\" >feature</th>        <th class=\"col_heading level0 col3\" >metric</th>        <th class=\"col_heading level0 col4\" >var_1</th>        <th class=\"col_heading level0 col5\" >var_2</th>        <th class=\"col_heading level0 col6\" >ks_statistic</th>        <th class=\"col_heading level0 col7\" >p_value</th>        <th class=\"col_heading level0 col8\" >cliffs_d</th>    </tr></thead><tbody>\n",
       "                <tr>\n",
       "                        <th id=\"T_93fba290_b168_11ea_a1fc_1b036a81acc6level0_row0\" class=\"row_heading level0 row0\" >0</th>\n",
       "                        <td id=\"T_93fba290_b168_11ea_a1fc_1b036a81acc6row0_col0\" class=\"data row0 col0\" >stationary</td>\n",
       "                        <td id=\"T_93fba290_b168_11ea_a1fc_1b036a81acc6row0_col1\" class=\"data row0 col1\" >education</td>\n",
       "                        <td id=\"T_93fba290_b168_11ea_a1fc_1b036a81acc6row0_col2\" class=\"data row0 col2\" >domain</td>\n",
       "                        <td id=\"T_93fba290_b168_11ea_a1fc_1b036a81acc6row0_col3\" class=\"data row0 col3\" >pi_max</td>\n",
       "                        <td id=\"T_93fba290_b168_11ea_a1fc_1b036a81acc6row0_col4\" class=\"data row0 col4\" >1: Volks/hauptschule</td>\n",
       "                        <td id=\"T_93fba290_b168_11ea_a1fc_1b036a81acc6row0_col5\" class=\"data row0 col5\" >3: Abitur, (Fach-)Hochschulreife</td>\n",
       "                        <td id=\"T_93fba290_b168_11ea_a1fc_1b036a81acc6row0_col6\" class=\"data row0 col6\" >0.1207</td>\n",
       "                        <td id=\"T_93fba290_b168_11ea_a1fc_1b036a81acc6row0_col7\" class=\"data row0 col7\" >9.45e-03</td>\n",
       "                        <td id=\"T_93fba290_b168_11ea_a1fc_1b036a81acc6row0_col8\" class=\"data row0 col8\" >-0.1383</td>\n",
       "            </tr>\n",
       "            <tr>\n",
       "                        <th id=\"T_93fba290_b168_11ea_a1fc_1b036a81acc6level0_row1\" class=\"row_heading level0 row1\" >1</th>\n",
       "                        <td id=\"T_93fba290_b168_11ea_a1fc_1b036a81acc6row1_col0\" class=\"data row1 col0\" >stationary</td>\n",
       "                        <td id=\"T_93fba290_b168_11ea_a1fc_1b036a81acc6row1_col1\" class=\"data row1 col1\" >education</td>\n",
       "                        <td id=\"T_93fba290_b168_11ea_a1fc_1b036a81acc6row1_col2\" class=\"data row1 col2\" >domain</td>\n",
       "                        <td id=\"T_93fba290_b168_11ea_a1fc_1b036a81acc6row1_col3\" class=\"data row1 col3\" >pi_max</td>\n",
       "                        <td id=\"T_93fba290_b168_11ea_a1fc_1b036a81acc6row1_col4\" class=\"data row1 col4\" >1: Volks/hauptschule</td>\n",
       "                        <td id=\"T_93fba290_b168_11ea_a1fc_1b036a81acc6row1_col5\" class=\"data row1 col5\" >4: No qualification (yet)</td>\n",
       "                        <td id=\"T_93fba290_b168_11ea_a1fc_1b036a81acc6row1_col6\" class=\"data row1 col6\" >0.1418</td>\n",
       "                        <td id=\"T_93fba290_b168_11ea_a1fc_1b036a81acc6row1_col7\" class=\"data row1 col7\" >6.58e-01</td>\n",
       "                        <td id=\"T_93fba290_b168_11ea_a1fc_1b036a81acc6row1_col8\" class=\"data row1 col8\" >0.0917</td>\n",
       "            </tr>\n",
       "            <tr>\n",
       "                        <th id=\"T_93fba290_b168_11ea_a1fc_1b036a81acc6level0_row2\" class=\"row_heading level0 row2\" >2</th>\n",
       "                        <td id=\"T_93fba290_b168_11ea_a1fc_1b036a81acc6row2_col0\" class=\"data row2 col0\" >stationary</td>\n",
       "                        <td id=\"T_93fba290_b168_11ea_a1fc_1b036a81acc6row2_col1\" class=\"data row2 col1\" >education</td>\n",
       "                        <td id=\"T_93fba290_b168_11ea_a1fc_1b036a81acc6row2_col2\" class=\"data row2 col2\" >domain</td>\n",
       "                        <td id=\"T_93fba290_b168_11ea_a1fc_1b036a81acc6row2_col3\" class=\"data row2 col3\" >pi_max</td>\n",
       "                        <td id=\"T_93fba290_b168_11ea_a1fc_1b036a81acc6row2_col4\" class=\"data row2 col4\" >1: Volks/hauptschule</td>\n",
       "                        <td id=\"T_93fba290_b168_11ea_a1fc_1b036a81acc6row2_col5\" class=\"data row2 col5\" >2: Weiterfuerhende Schule</td>\n",
       "                        <td id=\"T_93fba290_b168_11ea_a1fc_1b036a81acc6row2_col6\" class=\"data row2 col6\" >0.0496</td>\n",
       "                        <td id=\"T_93fba290_b168_11ea_a1fc_1b036a81acc6row2_col7\" class=\"data row2 col7\" >7.99e-01</td>\n",
       "                        <td id=\"T_93fba290_b168_11ea_a1fc_1b036a81acc6row2_col8\" class=\"data row2 col8\" >0.0183</td>\n",
       "            </tr>\n",
       "            <tr>\n",
       "                        <th id=\"T_93fba290_b168_11ea_a1fc_1b036a81acc6level0_row3\" class=\"row_heading level0 row3\" >3</th>\n",
       "                        <td id=\"T_93fba290_b168_11ea_a1fc_1b036a81acc6row3_col0\" class=\"data row3 col0\" >stationary</td>\n",
       "                        <td id=\"T_93fba290_b168_11ea_a1fc_1b036a81acc6row3_col1\" class=\"data row3 col1\" >education</td>\n",
       "                        <td id=\"T_93fba290_b168_11ea_a1fc_1b036a81acc6row3_col2\" class=\"data row3 col2\" >domain</td>\n",
       "                        <td id=\"T_93fba290_b168_11ea_a1fc_1b036a81acc6row3_col3\" class=\"data row3 col3\" >pi_max</td>\n",
       "                        <td id=\"T_93fba290_b168_11ea_a1fc_1b036a81acc6row3_col4\" class=\"data row3 col4\" >3: Abitur, (Fach-)Hochschulreife</td>\n",
       "                        <td id=\"T_93fba290_b168_11ea_a1fc_1b036a81acc6row3_col5\" class=\"data row3 col5\" >4: No qualification (yet)</td>\n",
       "                        <td id=\"T_93fba290_b168_11ea_a1fc_1b036a81acc6row3_col6\" class=\"data row3 col6\" >0.2143</td>\n",
       "                        <td id=\"T_93fba290_b168_11ea_a1fc_1b036a81acc6row3_col7\" class=\"data row3 col7\" >1.48e-01</td>\n",
       "                        <td id=\"T_93fba290_b168_11ea_a1fc_1b036a81acc6row3_col8\" class=\"data row3 col8\" >0.2333</td>\n",
       "            </tr>\n",
       "            <tr>\n",
       "                        <th id=\"T_93fba290_b168_11ea_a1fc_1b036a81acc6level0_row4\" class=\"row_heading level0 row4\" >4</th>\n",
       "                        <td id=\"T_93fba290_b168_11ea_a1fc_1b036a81acc6row4_col0\" class=\"data row4 col0\" >stationary</td>\n",
       "                        <td id=\"T_93fba290_b168_11ea_a1fc_1b036a81acc6row4_col1\" class=\"data row4 col1\" >education</td>\n",
       "                        <td id=\"T_93fba290_b168_11ea_a1fc_1b036a81acc6row4_col2\" class=\"data row4 col2\" >domain</td>\n",
       "                        <td id=\"T_93fba290_b168_11ea_a1fc_1b036a81acc6row4_col3\" class=\"data row4 col3\" >pi_max</td>\n",
       "                        <td id=\"T_93fba290_b168_11ea_a1fc_1b036a81acc6row4_col4\" class=\"data row4 col4\" >3: Abitur, (Fach-)Hochschulreife</td>\n",
       "                        <td id=\"T_93fba290_b168_11ea_a1fc_1b036a81acc6row4_col5\" class=\"data row4 col5\" >2: Weiterfuerhende Schule</td>\n",
       "                        <td id=\"T_93fba290_b168_11ea_a1fc_1b036a81acc6row4_col6\" class=\"data row4 col6\" >0.1243</td>\n",
       "                        <td id=\"T_93fba290_b168_11ea_a1fc_1b036a81acc6row4_col7\" class=\"data row4 col7\" >2.32e-04</td>\n",
       "                        <td id=\"T_93fba290_b168_11ea_a1fc_1b036a81acc6row4_col8\" class=\"data row4 col8\" >0.1596</td>\n",
       "            </tr>\n",
       "            <tr>\n",
       "                        <th id=\"T_93fba290_b168_11ea_a1fc_1b036a81acc6level0_row5\" class=\"row_heading level0 row5\" >5</th>\n",
       "                        <td id=\"T_93fba290_b168_11ea_a1fc_1b036a81acc6row5_col0\" class=\"data row5 col0\" >stationary</td>\n",
       "                        <td id=\"T_93fba290_b168_11ea_a1fc_1b036a81acc6row5_col1\" class=\"data row5 col1\" >education</td>\n",
       "                        <td id=\"T_93fba290_b168_11ea_a1fc_1b036a81acc6row5_col2\" class=\"data row5 col2\" >domain</td>\n",
       "                        <td id=\"T_93fba290_b168_11ea_a1fc_1b036a81acc6row5_col3\" class=\"data row5 col3\" >pi_max</td>\n",
       "                        <td id=\"T_93fba290_b168_11ea_a1fc_1b036a81acc6row5_col4\" class=\"data row5 col4\" >4: No qualification (yet)</td>\n",
       "                        <td id=\"T_93fba290_b168_11ea_a1fc_1b036a81acc6row5_col5\" class=\"data row5 col5\" >2: Weiterfuerhende Schule</td>\n",
       "                        <td id=\"T_93fba290_b168_11ea_a1fc_1b036a81acc6row5_col6\" class=\"data row5 col6\" >0.1172</td>\n",
       "                        <td id=\"T_93fba290_b168_11ea_a1fc_1b036a81acc6row5_col7\" class=\"data row5 col7\" >8.36e-01</td>\n",
       "                        <td id=\"T_93fba290_b168_11ea_a1fc_1b036a81acc6row5_col8\" class=\"data row5 col8\" >-0.0720</td>\n",
       "            </tr>\n",
       "    </tbody></table>"
      ],
      "text/plain": [
       "<pandas.io.formats.style.Styler at 0x7f4784117828>"
      ]
     },
     "execution_count": 86,
     "metadata": {},
     "output_type": "execute_result"
    }
   ],
   "source": [
    "apply_ks_test('stationary', 'education', 'domain', 'pi_max') \\\n",
    "    .merge(apply_cliffs_d('stationary', 'education', 'domain', 'pi_max'), on=['trajectory', 'attribute', 'feature', 'metric', 'var_1', 'var_2']) \\\n",
    "    .style \\\n",
    "        .background_gradient('Blues', subset='ks_statistic') \\\n",
    "        .background_gradient('Greens', subset='p_value') \\\n",
    "        .background_gradient('Oranges', subset='cliffs_d') \\\n",
    "        .apply(partial(highlight_cols, rate=0.05, pairs=6), subset=['p_value'], axis=1) \\\n",
    "        .format({'ks_statistic': '{0:.4f}', 'cliffs_d': '{0:.4f}', 'p_value': '{0:.2e}'})"
   ]
  },
  {
   "cell_type": "markdown",
   "metadata": {},
   "source": [
    "## Family"
   ]
  },
  {
   "cell_type": "code",
   "execution_count": 87,
   "metadata": {
    "ExecuteTime": {
     "end_time": "2020-06-18T13:35:41.891258Z",
     "start_time": "2020-06-18T13:35:41.524853Z"
    }
   },
   "outputs": [
    {
     "data": {
      "text/html": [
       "<style  type=\"text/css\" >\n",
       "    #T_9ab89a2a_b168_11ea_a1fc_1b036a81acc6row0_col6 {\n",
       "            background-color:  #9fcae1;\n",
       "            color:  #000000;\n",
       "        }    #T_9ab89a2a_b168_11ea_a1fc_1b036a81acc6row0_col7 {\n",
       "            background-color:  #006729;\n",
       "            color:  #f1f1f1;\n",
       "            : ;\n",
       "        }    #T_9ab89a2a_b168_11ea_a1fc_1b036a81acc6row0_col8 {\n",
       "            background-color:  #fff5eb;\n",
       "            color:  #000000;\n",
       "        }    #T_9ab89a2a_b168_11ea_a1fc_1b036a81acc6row1_col6 {\n",
       "            background-color:  #f7fbff;\n",
       "            color:  #000000;\n",
       "        }    #T_9ab89a2a_b168_11ea_a1fc_1b036a81acc6row1_col7 {\n",
       "            background-color:  #268e47;\n",
       "            color:  #000000;\n",
       "            : ;\n",
       "        }    #T_9ab89a2a_b168_11ea_a1fc_1b036a81acc6row1_col8 {\n",
       "            background-color:  #fee2c7;\n",
       "            color:  #000000;\n",
       "        }    #T_9ab89a2a_b168_11ea_a1fc_1b036a81acc6row2_col6 {\n",
       "            background-color:  #69add5;\n",
       "            color:  #000000;\n",
       "        }    #T_9ab89a2a_b168_11ea_a1fc_1b036a81acc6row2_col7 {\n",
       "            background-color:  #f2faef;\n",
       "            color:  #000000;\n",
       "            : ;\n",
       "        }    #T_9ab89a2a_b168_11ea_a1fc_1b036a81acc6row2_col8 {\n",
       "            background-color:  #f4711c;\n",
       "            color:  #000000;\n",
       "        }    #T_9ab89a2a_b168_11ea_a1fc_1b036a81acc6row3_col6 {\n",
       "            background-color:  #deebf7;\n",
       "            color:  #000000;\n",
       "        }    #T_9ab89a2a_b168_11ea_a1fc_1b036a81acc6row3_col7 {\n",
       "            background-color:  #f5fbf3;\n",
       "            color:  #000000;\n",
       "            : ;\n",
       "        }    #T_9ab89a2a_b168_11ea_a1fc_1b036a81acc6row3_col8 {\n",
       "            background-color:  #fd8c3b;\n",
       "            color:  #000000;\n",
       "        }    #T_9ab89a2a_b168_11ea_a1fc_1b036a81acc6row4_col6 {\n",
       "            background-color:  #87bddc;\n",
       "            color:  #000000;\n",
       "        }    #T_9ab89a2a_b168_11ea_a1fc_1b036a81acc6row4_col7 {\n",
       "            background-color:  #f7fcf5;\n",
       "            color:  #000000;\n",
       "            background-color:  crimson;\n",
       "             color:  white;\n",
       "        }    #T_9ab89a2a_b168_11ea_a1fc_1b036a81acc6row4_col8 {\n",
       "            background-color:  #d94801;\n",
       "            color:  #f1f1f1;\n",
       "        }    #T_9ab89a2a_b168_11ea_a1fc_1b036a81acc6row5_col6 {\n",
       "            background-color:  #a4cce3;\n",
       "            color:  #000000;\n",
       "        }    #T_9ab89a2a_b168_11ea_a1fc_1b036a81acc6row5_col7 {\n",
       "            background-color:  #00441b;\n",
       "            color:  #f1f1f1;\n",
       "            : ;\n",
       "        }    #T_9ab89a2a_b168_11ea_a1fc_1b036a81acc6row5_col8 {\n",
       "            background-color:  #fdae6a;\n",
       "            color:  #000000;\n",
       "        }    #T_9ab89a2a_b168_11ea_a1fc_1b036a81acc6row6_col6 {\n",
       "            background-color:  #08306b;\n",
       "            color:  #f1f1f1;\n",
       "        }    #T_9ab89a2a_b168_11ea_a1fc_1b036a81acc6row6_col7 {\n",
       "            background-color:  #ecf8e8;\n",
       "            color:  #000000;\n",
       "            : ;\n",
       "        }    #T_9ab89a2a_b168_11ea_a1fc_1b036a81acc6row6_col8 {\n",
       "            background-color:  #c94202;\n",
       "            color:  #f1f1f1;\n",
       "        }    #T_9ab89a2a_b168_11ea_a1fc_1b036a81acc6row7_col6 {\n",
       "            background-color:  #2272b6;\n",
       "            color:  #f1f1f1;\n",
       "        }    #T_9ab89a2a_b168_11ea_a1fc_1b036a81acc6row7_col7 {\n",
       "            background-color:  #def2d9;\n",
       "            color:  #000000;\n",
       "            : ;\n",
       "        }    #T_9ab89a2a_b168_11ea_a1fc_1b036a81acc6row7_col8 {\n",
       "            background-color:  #d34601;\n",
       "            color:  #f1f1f1;\n",
       "        }    #T_9ab89a2a_b168_11ea_a1fc_1b036a81acc6row8_col6 {\n",
       "            background-color:  #083370;\n",
       "            color:  #f1f1f1;\n",
       "        }    #T_9ab89a2a_b168_11ea_a1fc_1b036a81acc6row8_col7 {\n",
       "            background-color:  #f1faee;\n",
       "            color:  #000000;\n",
       "            : ;\n",
       "        }    #T_9ab89a2a_b168_11ea_a1fc_1b036a81acc6row8_col8 {\n",
       "            background-color:  #7f2704;\n",
       "            color:  #f1f1f1;\n",
       "        }    #T_9ab89a2a_b168_11ea_a1fc_1b036a81acc6row9_col6 {\n",
       "            background-color:  #3686c0;\n",
       "            color:  #000000;\n",
       "        }    #T_9ab89a2a_b168_11ea_a1fc_1b036a81acc6row9_col7 {\n",
       "            background-color:  #f5fbf3;\n",
       "            color:  #000000;\n",
       "            : ;\n",
       "        }    #T_9ab89a2a_b168_11ea_a1fc_1b036a81acc6row9_col8 {\n",
       "            background-color:  #eb610f;\n",
       "            color:  #000000;\n",
       "        }    #T_9ab89a2a_b168_11ea_a1fc_1b036a81acc6row10_col6 {\n",
       "            background-color:  #a9cfe5;\n",
       "            color:  #000000;\n",
       "        }    #T_9ab89a2a_b168_11ea_a1fc_1b036a81acc6row10_col7 {\n",
       "            background-color:  #f7fcf5;\n",
       "            color:  #000000;\n",
       "            background-color:  crimson;\n",
       "             color:  white;\n",
       "        }    #T_9ab89a2a_b168_11ea_a1fc_1b036a81acc6row10_col8 {\n",
       "            background-color:  #f67723;\n",
       "            color:  #000000;\n",
       "        }    #T_9ab89a2a_b168_11ea_a1fc_1b036a81acc6row11_col6 {\n",
       "            background-color:  #3e8ec4;\n",
       "            color:  #000000;\n",
       "        }    #T_9ab89a2a_b168_11ea_a1fc_1b036a81acc6row11_col7 {\n",
       "            background-color:  #f7fcf5;\n",
       "            color:  #000000;\n",
       "            background-color:  crimson;\n",
       "             color:  white;\n",
       "        }    #T_9ab89a2a_b168_11ea_a1fc_1b036a81acc6row11_col8 {\n",
       "            background-color:  #b93d02;\n",
       "            color:  #f1f1f1;\n",
       "        }    #T_9ab89a2a_b168_11ea_a1fc_1b036a81acc6row12_col6 {\n",
       "            background-color:  #d8e7f5;\n",
       "            color:  #000000;\n",
       "        }    #T_9ab89a2a_b168_11ea_a1fc_1b036a81acc6row12_col7 {\n",
       "            background-color:  #18823d;\n",
       "            color:  #f1f1f1;\n",
       "            : ;\n",
       "        }    #T_9ab89a2a_b168_11ea_a1fc_1b036a81acc6row12_col8 {\n",
       "            background-color:  #fee9d4;\n",
       "            color:  #000000;\n",
       "        }    #T_9ab89a2a_b168_11ea_a1fc_1b036a81acc6row13_col6 {\n",
       "            background-color:  #cfe1f2;\n",
       "            color:  #000000;\n",
       "        }    #T_9ab89a2a_b168_11ea_a1fc_1b036a81acc6row13_col7 {\n",
       "            background-color:  #228a44;\n",
       "            color:  #000000;\n",
       "            : ;\n",
       "        }    #T_9ab89a2a_b168_11ea_a1fc_1b036a81acc6row13_col8 {\n",
       "            background-color:  #fdb06e;\n",
       "            color:  #000000;\n",
       "        }    #T_9ab89a2a_b168_11ea_a1fc_1b036a81acc6row14_col6 {\n",
       "            background-color:  #d9e8f5;\n",
       "            color:  #000000;\n",
       "        }    #T_9ab89a2a_b168_11ea_a1fc_1b036a81acc6row14_col7 {\n",
       "            background-color:  #e5f5e0;\n",
       "            color:  #000000;\n",
       "            : ;\n",
       "        }    #T_9ab89a2a_b168_11ea_a1fc_1b036a81acc6row14_col8 {\n",
       "            background-color:  #fd9344;\n",
       "            color:  #000000;\n",
       "        }</style><table id=\"T_9ab89a2a_b168_11ea_a1fc_1b036a81acc6\" ><thead>    <tr>        <th class=\"blank level0\" ></th>        <th class=\"col_heading level0 col0\" >trajectory</th>        <th class=\"col_heading level0 col1\" >attribute</th>        <th class=\"col_heading level0 col2\" >feature</th>        <th class=\"col_heading level0 col3\" >metric</th>        <th class=\"col_heading level0 col4\" >var_1</th>        <th class=\"col_heading level0 col5\" >var_2</th>        <th class=\"col_heading level0 col6\" >ks_statistic</th>        <th class=\"col_heading level0 col7\" >p_value</th>        <th class=\"col_heading level0 col8\" >cliffs_d</th>    </tr></thead><tbody>\n",
       "                <tr>\n",
       "                        <th id=\"T_9ab89a2a_b168_11ea_a1fc_1b036a81acc6level0_row0\" class=\"row_heading level0 row0\" >0</th>\n",
       "                        <td id=\"T_9ab89a2a_b168_11ea_a1fc_1b036a81acc6row0_col0\" class=\"data row0 col0\" >stationary</td>\n",
       "                        <td id=\"T_9ab89a2a_b168_11ea_a1fc_1b036a81acc6row0_col1\" class=\"data row0 col1\" >family</td>\n",
       "                        <td id=\"T_9ab89a2a_b168_11ea_a1fc_1b036a81acc6row0_col2\" class=\"data row0 col2\" >domain</td>\n",
       "                        <td id=\"T_9ab89a2a_b168_11ea_a1fc_1b036a81acc6row0_col3\" class=\"data row0 col3\" >pi_max</td>\n",
       "                        <td id=\"T_9ab89a2a_b168_11ea_a1fc_1b036a81acc6row0_col4\" class=\"data row0 col4\" >1: Married</td>\n",
       "                        <td id=\"T_9ab89a2a_b168_11ea_a1fc_1b036a81acc6row0_col5\" class=\"data row0 col5\" >2: Civil Partnership</td>\n",
       "                        <td id=\"T_9ab89a2a_b168_11ea_a1fc_1b036a81acc6row0_col6\" class=\"data row0 col6\" >0.1673</td>\n",
       "                        <td id=\"T_9ab89a2a_b168_11ea_a1fc_1b036a81acc6row0_col7\" class=\"data row0 col7\" >5.84e-01</td>\n",
       "                        <td id=\"T_9ab89a2a_b168_11ea_a1fc_1b036a81acc6row0_col8\" class=\"data row0 col8\" >-0.0883</td>\n",
       "            </tr>\n",
       "            <tr>\n",
       "                        <th id=\"T_9ab89a2a_b168_11ea_a1fc_1b036a81acc6level0_row1\" class=\"row_heading level0 row1\" >1</th>\n",
       "                        <td id=\"T_9ab89a2a_b168_11ea_a1fc_1b036a81acc6row1_col0\" class=\"data row1 col0\" >stationary</td>\n",
       "                        <td id=\"T_9ab89a2a_b168_11ea_a1fc_1b036a81acc6row1_col1\" class=\"data row1 col1\" >family</td>\n",
       "                        <td id=\"T_9ab89a2a_b168_11ea_a1fc_1b036a81acc6row1_col2\" class=\"data row1 col2\" >domain</td>\n",
       "                        <td id=\"T_9ab89a2a_b168_11ea_a1fc_1b036a81acc6row1_col3\" class=\"data row1 col3\" >pi_max</td>\n",
       "                        <td id=\"T_9ab89a2a_b168_11ea_a1fc_1b036a81acc6row1_col4\" class=\"data row1 col4\" >1: Married</td>\n",
       "                        <td id=\"T_9ab89a2a_b168_11ea_a1fc_1b036a81acc6row1_col5\" class=\"data row1 col5\" >3: Single, living with partner</td>\n",
       "                        <td id=\"T_9ab89a2a_b168_11ea_a1fc_1b036a81acc6row1_col6\" class=\"data row1 col6\" >0.0699</td>\n",
       "                        <td id=\"T_9ab89a2a_b168_11ea_a1fc_1b036a81acc6row1_col7\" class=\"data row1 col7\" >4.82e-01</td>\n",
       "                        <td id=\"T_9ab89a2a_b168_11ea_a1fc_1b036a81acc6row1_col8\" class=\"data row1 col8\" >-0.0250</td>\n",
       "            </tr>\n",
       "            <tr>\n",
       "                        <th id=\"T_9ab89a2a_b168_11ea_a1fc_1b036a81acc6level0_row2\" class=\"row_heading level0 row2\" >2</th>\n",
       "                        <td id=\"T_9ab89a2a_b168_11ea_a1fc_1b036a81acc6row2_col0\" class=\"data row2 col0\" >stationary</td>\n",
       "                        <td id=\"T_9ab89a2a_b168_11ea_a1fc_1b036a81acc6row2_col1\" class=\"data row2 col1\" >family</td>\n",
       "                        <td id=\"T_9ab89a2a_b168_11ea_a1fc_1b036a81acc6row2_col2\" class=\"data row2 col2\" >domain</td>\n",
       "                        <td id=\"T_9ab89a2a_b168_11ea_a1fc_1b036a81acc6row2_col3\" class=\"data row2 col3\" >pi_max</td>\n",
       "                        <td id=\"T_9ab89a2a_b168_11ea_a1fc_1b036a81acc6row2_col4\" class=\"data row2 col4\" >1: Married</td>\n",
       "                        <td id=\"T_9ab89a2a_b168_11ea_a1fc_1b036a81acc6row2_col5\" class=\"data row2 col5\" >5: Divorced/widowed, living with partner</td>\n",
       "                        <td id=\"T_9ab89a2a_b168_11ea_a1fc_1b036a81acc6row2_col6\" class=\"data row2 col6\" >0.2023</td>\n",
       "                        <td id=\"T_9ab89a2a_b168_11ea_a1fc_1b036a81acc6row2_col7\" class=\"data row2 col7\" >2.38e-02</td>\n",
       "                        <td id=\"T_9ab89a2a_b168_11ea_a1fc_1b036a81acc6row2_col8\" class=\"data row2 col8\" >0.1668</td>\n",
       "            </tr>\n",
       "            <tr>\n",
       "                        <th id=\"T_9ab89a2a_b168_11ea_a1fc_1b036a81acc6level0_row3\" class=\"row_heading level0 row3\" >3</th>\n",
       "                        <td id=\"T_9ab89a2a_b168_11ea_a1fc_1b036a81acc6row3_col0\" class=\"data row3 col0\" >stationary</td>\n",
       "                        <td id=\"T_9ab89a2a_b168_11ea_a1fc_1b036a81acc6row3_col1\" class=\"data row3 col1\" >family</td>\n",
       "                        <td id=\"T_9ab89a2a_b168_11ea_a1fc_1b036a81acc6row3_col2\" class=\"data row3 col2\" >domain</td>\n",
       "                        <td id=\"T_9ab89a2a_b168_11ea_a1fc_1b036a81acc6row3_col3\" class=\"data row3 col3\" >pi_max</td>\n",
       "                        <td id=\"T_9ab89a2a_b168_11ea_a1fc_1b036a81acc6row3_col4\" class=\"data row3 col4\" >1: Married</td>\n",
       "                        <td id=\"T_9ab89a2a_b168_11ea_a1fc_1b036a81acc6row3_col5\" class=\"data row3 col5\" >4: Single, not living with partner</td>\n",
       "                        <td id=\"T_9ab89a2a_b168_11ea_a1fc_1b036a81acc6row3_col6\" class=\"data row3 col6\" >0.1031</td>\n",
       "                        <td id=\"T_9ab89a2a_b168_11ea_a1fc_1b036a81acc6row3_col7\" class=\"data row3 col7\" >8.89e-03</td>\n",
       "                        <td id=\"T_9ab89a2a_b168_11ea_a1fc_1b036a81acc6row3_col8\" class=\"data row3 col8\" >0.1267</td>\n",
       "            </tr>\n",
       "            <tr>\n",
       "                        <th id=\"T_9ab89a2a_b168_11ea_a1fc_1b036a81acc6level0_row4\" class=\"row_heading level0 row4\" >4</th>\n",
       "                        <td id=\"T_9ab89a2a_b168_11ea_a1fc_1b036a81acc6row4_col0\" class=\"data row4 col0\" >stationary</td>\n",
       "                        <td id=\"T_9ab89a2a_b168_11ea_a1fc_1b036a81acc6row4_col1\" class=\"data row4 col1\" >family</td>\n",
       "                        <td id=\"T_9ab89a2a_b168_11ea_a1fc_1b036a81acc6row4_col2\" class=\"data row4 col2\" >domain</td>\n",
       "                        <td id=\"T_9ab89a2a_b168_11ea_a1fc_1b036a81acc6row4_col3\" class=\"data row4 col3\" >pi_max</td>\n",
       "                        <td id=\"T_9ab89a2a_b168_11ea_a1fc_1b036a81acc6row4_col4\" class=\"data row4 col4\" >1: Married</td>\n",
       "                        <td id=\"T_9ab89a2a_b168_11ea_a1fc_1b036a81acc6row4_col5\" class=\"data row4 col5\" >6: Divorced/widowed, not living with partner</td>\n",
       "                        <td id=\"T_9ab89a2a_b168_11ea_a1fc_1b036a81acc6row4_col6\" class=\"data row4 col6\" >0.1830</td>\n",
       "                        <td id=\"T_9ab89a2a_b168_11ea_a1fc_1b036a81acc6row4_col7\" class=\"data row4 col7\" >2.48e-04</td>\n",
       "                        <td id=\"T_9ab89a2a_b168_11ea_a1fc_1b036a81acc6row4_col8\" class=\"data row4 col8\" >0.2322</td>\n",
       "            </tr>\n",
       "            <tr>\n",
       "                        <th id=\"T_9ab89a2a_b168_11ea_a1fc_1b036a81acc6level0_row5\" class=\"row_heading level0 row5\" >5</th>\n",
       "                        <td id=\"T_9ab89a2a_b168_11ea_a1fc_1b036a81acc6row5_col0\" class=\"data row5 col0\" >stationary</td>\n",
       "                        <td id=\"T_9ab89a2a_b168_11ea_a1fc_1b036a81acc6row5_col1\" class=\"data row5 col1\" >family</td>\n",
       "                        <td id=\"T_9ab89a2a_b168_11ea_a1fc_1b036a81acc6row5_col2\" class=\"data row5 col2\" >domain</td>\n",
       "                        <td id=\"T_9ab89a2a_b168_11ea_a1fc_1b036a81acc6row5_col3\" class=\"data row5 col3\" >pi_max</td>\n",
       "                        <td id=\"T_9ab89a2a_b168_11ea_a1fc_1b036a81acc6row5_col4\" class=\"data row5 col4\" >2: Civil Partnership</td>\n",
       "                        <td id=\"T_9ab89a2a_b168_11ea_a1fc_1b036a81acc6row5_col5\" class=\"data row5 col5\" >3: Single, living with partner</td>\n",
       "                        <td id=\"T_9ab89a2a_b168_11ea_a1fc_1b036a81acc6row5_col6\" class=\"data row5 col6\" >0.1630</td>\n",
       "                        <td id=\"T_9ab89a2a_b168_11ea_a1fc_1b036a81acc6row5_col7\" class=\"data row5 col7\" >6.56e-01</td>\n",
       "                        <td id=\"T_9ab89a2a_b168_11ea_a1fc_1b036a81acc6row5_col8\" class=\"data row5 col8\" >0.0722</td>\n",
       "            </tr>\n",
       "            <tr>\n",
       "                        <th id=\"T_9ab89a2a_b168_11ea_a1fc_1b036a81acc6level0_row6\" class=\"row_heading level0 row6\" >6</th>\n",
       "                        <td id=\"T_9ab89a2a_b168_11ea_a1fc_1b036a81acc6row6_col0\" class=\"data row6 col0\" >stationary</td>\n",
       "                        <td id=\"T_9ab89a2a_b168_11ea_a1fc_1b036a81acc6row6_col1\" class=\"data row6 col1\" >family</td>\n",
       "                        <td id=\"T_9ab89a2a_b168_11ea_a1fc_1b036a81acc6row6_col2\" class=\"data row6 col2\" >domain</td>\n",
       "                        <td id=\"T_9ab89a2a_b168_11ea_a1fc_1b036a81acc6row6_col3\" class=\"data row6 col3\" >pi_max</td>\n",
       "                        <td id=\"T_9ab89a2a_b168_11ea_a1fc_1b036a81acc6row6_col4\" class=\"data row6 col4\" >2: Civil Partnership</td>\n",
       "                        <td id=\"T_9ab89a2a_b168_11ea_a1fc_1b036a81acc6row6_col5\" class=\"data row6 col5\" >5: Divorced/widowed, living with partner</td>\n",
       "                        <td id=\"T_9ab89a2a_b168_11ea_a1fc_1b036a81acc6row6_col6\" class=\"data row6 col6\" >0.3309</td>\n",
       "                        <td id=\"T_9ab89a2a_b168_11ea_a1fc_1b036a81acc6row6_col7\" class=\"data row6 col7\" >5.28e-02</td>\n",
       "                        <td id=\"T_9ab89a2a_b168_11ea_a1fc_1b036a81acc6row6_col8\" class=\"data row6 col8\" >0.2479</td>\n",
       "            </tr>\n",
       "            <tr>\n",
       "                        <th id=\"T_9ab89a2a_b168_11ea_a1fc_1b036a81acc6level0_row7\" class=\"row_heading level0 row7\" >7</th>\n",
       "                        <td id=\"T_9ab89a2a_b168_11ea_a1fc_1b036a81acc6row7_col0\" class=\"data row7 col0\" >stationary</td>\n",
       "                        <td id=\"T_9ab89a2a_b168_11ea_a1fc_1b036a81acc6row7_col1\" class=\"data row7 col1\" >family</td>\n",
       "                        <td id=\"T_9ab89a2a_b168_11ea_a1fc_1b036a81acc6row7_col2\" class=\"data row7 col2\" >domain</td>\n",
       "                        <td id=\"T_9ab89a2a_b168_11ea_a1fc_1b036a81acc6row7_col3\" class=\"data row7 col3\" >pi_max</td>\n",
       "                        <td id=\"T_9ab89a2a_b168_11ea_a1fc_1b036a81acc6row7_col4\" class=\"data row7 col4\" >2: Civil Partnership</td>\n",
       "                        <td id=\"T_9ab89a2a_b168_11ea_a1fc_1b036a81acc6row7_col5\" class=\"data row7 col5\" >4: Single, not living with partner</td>\n",
       "                        <td id=\"T_9ab89a2a_b168_11ea_a1fc_1b036a81acc6row7_col6\" class=\"data row7 col6\" >0.2640</td>\n",
       "                        <td id=\"T_9ab89a2a_b168_11ea_a1fc_1b036a81acc6row7_col7\" class=\"data row7 col7\" >1.01e-01</td>\n",
       "                        <td id=\"T_9ab89a2a_b168_11ea_a1fc_1b036a81acc6row7_col8\" class=\"data row7 col8\" >0.2389</td>\n",
       "            </tr>\n",
       "            <tr>\n",
       "                        <th id=\"T_9ab89a2a_b168_11ea_a1fc_1b036a81acc6level0_row8\" class=\"row_heading level0 row8\" >8</th>\n",
       "                        <td id=\"T_9ab89a2a_b168_11ea_a1fc_1b036a81acc6row8_col0\" class=\"data row8 col0\" >stationary</td>\n",
       "                        <td id=\"T_9ab89a2a_b168_11ea_a1fc_1b036a81acc6row8_col1\" class=\"data row8 col1\" >family</td>\n",
       "                        <td id=\"T_9ab89a2a_b168_11ea_a1fc_1b036a81acc6row8_col2\" class=\"data row8 col2\" >domain</td>\n",
       "                        <td id=\"T_9ab89a2a_b168_11ea_a1fc_1b036a81acc6row8_col3\" class=\"data row8 col3\" >pi_max</td>\n",
       "                        <td id=\"T_9ab89a2a_b168_11ea_a1fc_1b036a81acc6row8_col4\" class=\"data row8 col4\" >2: Civil Partnership</td>\n",
       "                        <td id=\"T_9ab89a2a_b168_11ea_a1fc_1b036a81acc6row8_col5\" class=\"data row8 col5\" >6: Divorced/widowed, not living with partner</td>\n",
       "                        <td id=\"T_9ab89a2a_b168_11ea_a1fc_1b036a81acc6row8_col6\" class=\"data row8 col6\" >0.3271</td>\n",
       "                        <td id=\"T_9ab89a2a_b168_11ea_a1fc_1b036a81acc6row8_col7\" class=\"data row8 col7\" >2.74e-02</td>\n",
       "                        <td id=\"T_9ab89a2a_b168_11ea_a1fc_1b036a81acc6row8_col8\" class=\"data row8 col8\" >0.3393</td>\n",
       "            </tr>\n",
       "            <tr>\n",
       "                        <th id=\"T_9ab89a2a_b168_11ea_a1fc_1b036a81acc6level0_row9\" class=\"row_heading level0 row9\" >9</th>\n",
       "                        <td id=\"T_9ab89a2a_b168_11ea_a1fc_1b036a81acc6row9_col0\" class=\"data row9 col0\" >stationary</td>\n",
       "                        <td id=\"T_9ab89a2a_b168_11ea_a1fc_1b036a81acc6row9_col1\" class=\"data row9 col1\" >family</td>\n",
       "                        <td id=\"T_9ab89a2a_b168_11ea_a1fc_1b036a81acc6row9_col2\" class=\"data row9 col2\" >domain</td>\n",
       "                        <td id=\"T_9ab89a2a_b168_11ea_a1fc_1b036a81acc6row9_col3\" class=\"data row9 col3\" >pi_max</td>\n",
       "                        <td id=\"T_9ab89a2a_b168_11ea_a1fc_1b036a81acc6row9_col4\" class=\"data row9 col4\" >3: Single, living with partner</td>\n",
       "                        <td id=\"T_9ab89a2a_b168_11ea_a1fc_1b036a81acc6row9_col5\" class=\"data row9 col5\" >5: Divorced/widowed, living with partner</td>\n",
       "                        <td id=\"T_9ab89a2a_b168_11ea_a1fc_1b036a81acc6row9_col6\" class=\"data row9 col6\" >0.2442</td>\n",
       "                        <td id=\"T_9ab89a2a_b168_11ea_a1fc_1b036a81acc6row9_col7\" class=\"data row9 col7\" >7.80e-03</td>\n",
       "                        <td id=\"T_9ab89a2a_b168_11ea_a1fc_1b036a81acc6row9_col8\" class=\"data row9 col8\" >0.1914</td>\n",
       "            </tr>\n",
       "            <tr>\n",
       "                        <th id=\"T_9ab89a2a_b168_11ea_a1fc_1b036a81acc6level0_row10\" class=\"row_heading level0 row10\" >10</th>\n",
       "                        <td id=\"T_9ab89a2a_b168_11ea_a1fc_1b036a81acc6row10_col0\" class=\"data row10 col0\" >stationary</td>\n",
       "                        <td id=\"T_9ab89a2a_b168_11ea_a1fc_1b036a81acc6row10_col1\" class=\"data row10 col1\" >family</td>\n",
       "                        <td id=\"T_9ab89a2a_b168_11ea_a1fc_1b036a81acc6row10_col2\" class=\"data row10 col2\" >domain</td>\n",
       "                        <td id=\"T_9ab89a2a_b168_11ea_a1fc_1b036a81acc6row10_col3\" class=\"data row10 col3\" >pi_max</td>\n",
       "                        <td id=\"T_9ab89a2a_b168_11ea_a1fc_1b036a81acc6row10_col4\" class=\"data row10 col4\" >3: Single, living with partner</td>\n",
       "                        <td id=\"T_9ab89a2a_b168_11ea_a1fc_1b036a81acc6row10_col5\" class=\"data row10 col5\" >4: Single, not living with partner</td>\n",
       "                        <td id=\"T_9ab89a2a_b168_11ea_a1fc_1b036a81acc6row10_col6\" class=\"data row10 col6\" >0.1588</td>\n",
       "                        <td id=\"T_9ab89a2a_b168_11ea_a1fc_1b036a81acc6row10_col7\" class=\"data row10 col7\" >1.57e-03</td>\n",
       "                        <td id=\"T_9ab89a2a_b168_11ea_a1fc_1b036a81acc6row10_col8\" class=\"data row10 col8\" >0.1576</td>\n",
       "            </tr>\n",
       "            <tr>\n",
       "                        <th id=\"T_9ab89a2a_b168_11ea_a1fc_1b036a81acc6level0_row11\" class=\"row_heading level0 row11\" >11</th>\n",
       "                        <td id=\"T_9ab89a2a_b168_11ea_a1fc_1b036a81acc6row11_col0\" class=\"data row11 col0\" >stationary</td>\n",
       "                        <td id=\"T_9ab89a2a_b168_11ea_a1fc_1b036a81acc6row11_col1\" class=\"data row11 col1\" >family</td>\n",
       "                        <td id=\"T_9ab89a2a_b168_11ea_a1fc_1b036a81acc6row11_col2\" class=\"data row11 col2\" >domain</td>\n",
       "                        <td id=\"T_9ab89a2a_b168_11ea_a1fc_1b036a81acc6row11_col3\" class=\"data row11 col3\" >pi_max</td>\n",
       "                        <td id=\"T_9ab89a2a_b168_11ea_a1fc_1b036a81acc6row11_col4\" class=\"data row11 col4\" >3: Single, living with partner</td>\n",
       "                        <td id=\"T_9ab89a2a_b168_11ea_a1fc_1b036a81acc6row11_col5\" class=\"data row11 col5\" >6: Divorced/widowed, not living with partner</td>\n",
       "                        <td id=\"T_9ab89a2a_b168_11ea_a1fc_1b036a81acc6row11_col6\" class=\"data row11 col6\" >0.2367</td>\n",
       "                        <td id=\"T_9ab89a2a_b168_11ea_a1fc_1b036a81acc6row11_col7\" class=\"data row11 col7\" >4.86e-05</td>\n",
       "                        <td id=\"T_9ab89a2a_b168_11ea_a1fc_1b036a81acc6row11_col8\" class=\"data row11 col8\" >0.2647</td>\n",
       "            </tr>\n",
       "            <tr>\n",
       "                        <th id=\"T_9ab89a2a_b168_11ea_a1fc_1b036a81acc6level0_row12\" class=\"row_heading level0 row12\" >12</th>\n",
       "                        <td id=\"T_9ab89a2a_b168_11ea_a1fc_1b036a81acc6row12_col0\" class=\"data row12 col0\" >stationary</td>\n",
       "                        <td id=\"T_9ab89a2a_b168_11ea_a1fc_1b036a81acc6row12_col1\" class=\"data row12 col1\" >family</td>\n",
       "                        <td id=\"T_9ab89a2a_b168_11ea_a1fc_1b036a81acc6row12_col2\" class=\"data row12 col2\" >domain</td>\n",
       "                        <td id=\"T_9ab89a2a_b168_11ea_a1fc_1b036a81acc6row12_col3\" class=\"data row12 col3\" >pi_max</td>\n",
       "                        <td id=\"T_9ab89a2a_b168_11ea_a1fc_1b036a81acc6row12_col4\" class=\"data row12 col4\" >5: Divorced/widowed, living with partner</td>\n",
       "                        <td id=\"T_9ab89a2a_b168_11ea_a1fc_1b036a81acc6row12_col5\" class=\"data row12 col5\" >4: Single, not living with partner</td>\n",
       "                        <td id=\"T_9ab89a2a_b168_11ea_a1fc_1b036a81acc6row12_col6\" class=\"data row12 col6\" >0.1114</td>\n",
       "                        <td id=\"T_9ab89a2a_b168_11ea_a1fc_1b036a81acc6row12_col7\" class=\"data row12 col7\" >5.17e-01</td>\n",
       "                        <td id=\"T_9ab89a2a_b168_11ea_a1fc_1b036a81acc6row12_col8\" class=\"data row12 col8\" >-0.0452</td>\n",
       "            </tr>\n",
       "            <tr>\n",
       "                        <th id=\"T_9ab89a2a_b168_11ea_a1fc_1b036a81acc6level0_row13\" class=\"row_heading level0 row13\" >13</th>\n",
       "                        <td id=\"T_9ab89a2a_b168_11ea_a1fc_1b036a81acc6row13_col0\" class=\"data row13 col0\" >stationary</td>\n",
       "                        <td id=\"T_9ab89a2a_b168_11ea_a1fc_1b036a81acc6row13_col1\" class=\"data row13 col1\" >family</td>\n",
       "                        <td id=\"T_9ab89a2a_b168_11ea_a1fc_1b036a81acc6row13_col2\" class=\"data row13 col2\" >domain</td>\n",
       "                        <td id=\"T_9ab89a2a_b168_11ea_a1fc_1b036a81acc6row13_col3\" class=\"data row13 col3\" >pi_max</td>\n",
       "                        <td id=\"T_9ab89a2a_b168_11ea_a1fc_1b036a81acc6row13_col4\" class=\"data row13 col4\" >5: Divorced/widowed, living with partner</td>\n",
       "                        <td id=\"T_9ab89a2a_b168_11ea_a1fc_1b036a81acc6row13_col5\" class=\"data row13 col5\" >6: Divorced/widowed, not living with partner</td>\n",
       "                        <td id=\"T_9ab89a2a_b168_11ea_a1fc_1b036a81acc6row13_col6\" class=\"data row13 col6\" >0.1234</td>\n",
       "                        <td id=\"T_9ab89a2a_b168_11ea_a1fc_1b036a81acc6row13_col7\" class=\"data row13 col7\" >4.93e-01</td>\n",
       "                        <td id=\"T_9ab89a2a_b168_11ea_a1fc_1b036a81acc6row13_col8\" class=\"data row13 col8\" >0.0701</td>\n",
       "            </tr>\n",
       "            <tr>\n",
       "                        <th id=\"T_9ab89a2a_b168_11ea_a1fc_1b036a81acc6level0_row14\" class=\"row_heading level0 row14\" >14</th>\n",
       "                        <td id=\"T_9ab89a2a_b168_11ea_a1fc_1b036a81acc6row14_col0\" class=\"data row14 col0\" >stationary</td>\n",
       "                        <td id=\"T_9ab89a2a_b168_11ea_a1fc_1b036a81acc6row14_col1\" class=\"data row14 col1\" >family</td>\n",
       "                        <td id=\"T_9ab89a2a_b168_11ea_a1fc_1b036a81acc6row14_col2\" class=\"data row14 col2\" >domain</td>\n",
       "                        <td id=\"T_9ab89a2a_b168_11ea_a1fc_1b036a81acc6row14_col3\" class=\"data row14 col3\" >pi_max</td>\n",
       "                        <td id=\"T_9ab89a2a_b168_11ea_a1fc_1b036a81acc6row14_col4\" class=\"data row14 col4\" >4: Single, not living with partner</td>\n",
       "                        <td id=\"T_9ab89a2a_b168_11ea_a1fc_1b036a81acc6row14_col5\" class=\"data row14 col5\" >6: Divorced/widowed, not living with partner</td>\n",
       "                        <td id=\"T_9ab89a2a_b168_11ea_a1fc_1b036a81acc6row14_col6\" class=\"data row14 col6\" >0.1096</td>\n",
       "                        <td id=\"T_9ab89a2a_b168_11ea_a1fc_1b036a81acc6row14_col7\" class=\"data row14 col7\" >8.36e-02</td>\n",
       "                        <td id=\"T_9ab89a2a_b168_11ea_a1fc_1b036a81acc6row14_col8\" class=\"data row14 col8\" >0.1168</td>\n",
       "            </tr>\n",
       "    </tbody></table>"
      ],
      "text/plain": [
       "<pandas.io.formats.style.Styler at 0x7f4780514d68>"
      ]
     },
     "execution_count": 87,
     "metadata": {},
     "output_type": "execute_result"
    }
   ],
   "source": [
    "apply_ks_test('stationary', 'family', 'domain', 'pi_max') \\\n",
    "    .merge(apply_cliffs_d('stationary', 'family', 'domain', 'pi_max'), on=['trajectory', 'attribute', 'feature', 'metric', 'var_1', 'var_2']) \\\n",
    "    .style \\\n",
    "        .background_gradient('Blues', subset='ks_statistic') \\\n",
    "        .background_gradient('Greens', subset='p_value') \\\n",
    "        .background_gradient('Oranges', subset='cliffs_d') \\\n",
    "        .apply(partial(highlight_cols, rate=0.05, pairs=15), subset=['p_value'], axis=1) \\\n",
    "        .format({'ks_statistic': '{0:.4f}', 'cliffs_d': '{0:.4f}', 'p_value': '{0:.2e}'})"
   ]
  }
 ],
 "metadata": {
  "hide_input": false,
  "kernelspec": {
   "display_name": "Python 3",
   "language": "python",
   "name": "python3"
  },
  "language_info": {
   "codemirror_mode": {
    "name": "ipython",
    "version": 3
   },
   "file_extension": ".py",
   "mimetype": "text/x-python",
   "name": "python",
   "nbconvert_exporter": "python",
   "pygments_lexer": "ipython3",
   "version": "3.6.9"
  },
  "toc": {
   "base_numbering": 1,
   "nav_menu": {},
   "number_sections": true,
   "sideBar": true,
   "skip_h1_title": false,
   "title_cell": "Table of Contents",
   "title_sidebar": "Contents",
   "toc_cell": false,
   "toc_position": {
    "height": "calc(100% - 180px)",
    "left": "10px",
    "top": "150px",
    "width": "377.188px"
   },
   "toc_section_display": true,
   "toc_window_display": true
  },
  "varInspector": {
   "cols": {
    "lenName": 16,
    "lenType": 16,
    "lenVar": 40
   },
   "kernels_config": {
    "python": {
     "delete_cmd_postfix": "",
     "delete_cmd_prefix": "del ",
     "library": "var_list.py",
     "varRefreshCmd": "print(var_dic_list())"
    },
    "r": {
     "delete_cmd_postfix": ") ",
     "delete_cmd_prefix": "rm(",
     "library": "var_list.r",
     "varRefreshCmd": "cat(var_dic_list()) "
    }
   },
   "types_to_exclude": [
    "module",
    "function",
    "builtin_function_or_method",
    "instance",
    "_Feature"
   ],
   "window_display": false
  }
 },
 "nbformat": 4,
 "nbformat_minor": 2
}
