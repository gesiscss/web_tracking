{
 "cells": [
  {
   "cell_type": "code",
   "execution_count": 1,
   "metadata": {
    "ExecuteTime": {
     "end_time": "2020-01-09T15:35:53.249828Z",
     "start_time": "2020-01-09T15:35:50.401266Z"
    }
   },
   "outputs": [],
   "source": [
    "import pandas as pd\n",
    "import multiprocessing as mp\n",
    "import glob\n",
    "from functools import partial, reduce\n",
    "from functional import seq\n",
    "import seaborn as sns"
   ]
  },
  {
   "cell_type": "code",
   "execution_count": 2,
   "metadata": {},
   "outputs": [],
   "source": [
    "import numpy as np"
   ]
  },
  {
   "cell_type": "markdown",
   "metadata": {},
   "source": [
    "# Load data"
   ]
  },
  {
   "cell_type": "code",
   "execution_count": 3,
   "metadata": {},
   "outputs": [],
   "source": [
    "data_directory = \"/bigdata/web_tracking/data/release/\""
   ]
  },
  {
   "cell_type": "code",
   "execution_count": 4,
   "metadata": {},
   "outputs": [],
   "source": [
    "users = pd.read_csv(data_directory + '/raw/users.csv')"
   ]
  },
  {
   "cell_type": "code",
   "execution_count": 5,
   "metadata": {},
   "outputs": [],
   "source": [
    "urls = pd.read_csv(\n",
    "    data_directory + '/raw/browsing.csv', dtype={'id': int, 'web_visits_id': int}, parse_dates=['used_at'])"
   ]
  },
  {
   "cell_type": "code",
   "execution_count": 6,
   "metadata": {
    "ExecuteTime": {
     "end_time": "2019-09-27T11:42:25.653227Z",
     "start_time": "2019-09-27T11:42:25.420820Z"
    },
    "run_control": {
     "frozen": true
    }
   },
   "outputs": [],
   "source": [
    "domain_categories = pd.read_csv(\n",
    "    data_directory + '/raw/domain_categories.csv', converters={'category': lambda x: tuple(sorted(x.split(',')))})"
   ]
  },
  {
   "cell_type": "markdown",
   "metadata": {},
   "source": [
    "# Defining the category of a website"
   ]
  },
  {
   "cell_type": "markdown",
   "metadata": {},
   "source": [
    "Cleaning up a bit the data:"
   ]
  },
  {
   "cell_type": "code",
   "execution_count": 7,
   "metadata": {
    "ExecuteTime": {
     "end_time": "2019-09-27T11:42:28.183805Z",
     "start_time": "2019-09-27T11:42:28.011466Z"
    },
    "run_control": {
     "frozen": true
    }
   },
   "outputs": [],
   "source": [
    "words_dashed = ['black', 'content', 'illegal', 'information', 'job', 'media', \n",
    "                'message', 'filter', 'real', 'search', 'social', 'streaming', 'virtual']\n",
    "\n",
    "def put_dash(words_dashed, text):\n",
    "    temp = list(filter(lambda w: text.startswith(w), words_dashed))\n",
    "    return text if len(temp) < 1 else text.replace(temp[0], f'{temp[0]}-')\n",
    "\n",
    "\n",
    "words_replaced = [('food', 'food and recipes'), ('filteravoidance', 'proxy and filter-avoidance'), \n",
    "                  ('translation', 'translators'), ('sport', 'sports')]\n",
    "\n",
    "def replace(words_replaced, text):\n",
    "    temp = list(filter(lambda p: p[0] in text, words_replaced))\n",
    "    return text if len(temp) < 1 else temp[0][1]\n",
    "    \n",
    "\n",
    "dash = partial(put_dash, words_dashed)\n",
    "words = partial(replace, words_replaced)\n",
    "\n",
    "categories = pd.DataFrame(seq(domain_categories.category).reduce(lambda acc, i: acc.union( set(i)), set()), columns=['raw']) \\\n",
    "                .sort_values('raw') \\\n",
    "                .assign(name=lambda df: df.raw.apply(lambda x: words(dash(x.replace('and', ' and '))))) \\\n",
    "                .assign(id=lambda df: (df.name != df.name.shift()).cumsum())"
   ]
  },
  {
   "cell_type": "markdown",
   "metadata": {
    "run_control": {
     "frozen": true
    }
   },
   "source": [
    "#### Add Category Manually"
   ]
  },
  {
   "cell_type": "markdown",
   "metadata": {},
   "source": [
    "We will add two new categories: email and productivity."
   ]
  },
  {
   "cell_type": "code",
   "execution_count": 8,
   "metadata": {
    "ExecuteTime": {
     "end_time": "2019-09-27T11:42:37.417388Z",
     "start_time": "2019-09-27T11:42:37.393236Z"
    },
    "run_control": {
     "frozen": true
    }
   },
   "outputs": [],
   "source": [
    "categories = categories.append(\n",
    "    pd.DataFrame([(None, 'email', 0), (None, 'productivity', 0)], \n",
    "                 columns=['raw', 'name', 'id'])).sort_values(['name', 'raw']).assign(\n",
    "    id=lambda df: (df.name != df.name.shift()).cumsum())"
   ]
  },
  {
   "cell_type": "markdown",
   "metadata": {},
   "source": [
    "Let's export this:"
   ]
  },
  {
   "cell_type": "code",
   "execution_count": 9,
   "metadata": {
    "ExecuteTime": {
     "end_time": "2019-09-27T11:42:40.706174Z",
     "start_time": "2019-09-27T11:42:40.698711Z"
    },
    "run_control": {
     "frozen": true
    }
   },
   "outputs": [],
   "source": [
    "categories.to_csv(data_directory + '/pre_processed/categories.csv', index=False)"
   ]
  },
  {
   "cell_type": "markdown",
   "metadata": {},
   "source": [
    "#### Rebuild Domain Categories\n",
    "\n",
    "- There was domain-category_ids match, now it's domain-category_names"
   ]
  },
  {
   "cell_type": "code",
   "execution_count": 10,
   "metadata": {
    "ExecuteTime": {
     "end_time": "2019-08-13T09:28:53.226975Z",
     "start_time": "2019-08-13T09:20:43.146965Z"
    },
    "run_control": {
     "frozen": true
    }
   },
   "outputs": [],
   "source": [
    "def find_category_names(categories, t):\n",
    "    return tuple(map(lambda c: categories.query(f\"raw == '{c}'\").iloc[0, 1], t))\n",
    "\n",
    "category = partial(find_category_names, categories)\n",
    "domain_categories = domain_categories.assign(category_names=domain_categories.category.apply(category))"
   ]
  },
  {
   "cell_type": "markdown",
   "metadata": {},
   "source": [
    "Exporting the data:"
   ]
  },
  {
   "cell_type": "code",
   "execution_count": 11,
   "metadata": {
    "ExecuteTime": {
     "end_time": "2019-08-13T09:30:19.450246Z",
     "start_time": "2019-08-13T09:30:19.170691Z"
    },
    "run_control": {
     "frozen": true
    }
   },
   "outputs": [],
   "source": [
    "domain_categories_processed = domain_categories[['domain', 'category_names']].assign(\n",
    "    category_names=lambda df: df.category_names.apply(lambda l: ','.join(l)))\n",
    "\n",
    "domain_categories_processed.to_csv(data_directory + '/pre_processed/processed_domain_categories.csv', index=False)"
   ]
  },
  {
   "cell_type": "markdown",
   "metadata": {},
   "source": [
    "# Adding category info related to the subdomains"
   ]
  },
  {
   "cell_type": "code",
   "execution_count": 26,
   "metadata": {},
   "outputs": [],
   "source": [
    "subdomains = urls[~urls.subdomain.isna()][[\"id\", \"url\", \"domain\", \"subdomain\"]].copy()\n",
    "subdomains = subdomains.merge(domain_categories_processed, on='domain')"
   ]
  },
  {
   "cell_type": "markdown",
   "metadata": {},
   "source": [
    "### Examining 'mail' subdomains\n",
    "\n",
    "1. Large companies which provide email services such as Google, Yahoo, T-Online, Vodafoen, GMX, Web.de.\n",
    "2. Universities in Germany provide email services.\n",
    "3. Other subdomains are seen in websites for the business purposes, i.e. subscription, login to buy, etc."
   ]
  },
  {
   "cell_type": "code",
   "execution_count": 27,
   "metadata": {
    "ExecuteTime": {
     "end_time": "2019-08-13T09:55:16.921780Z",
     "start_time": "2019-08-13T09:55:16.914631Z"
    }
   },
   "outputs": [],
   "source": [
    "def get_subdomains(df, main, sub): \n",
    "    return df[(df.domain == main) & (df.subdomain.str.contains(sub))]"
   ]
  },
  {
   "cell_type": "markdown",
   "metadata": {},
   "source": [
    "Let's see the ones that contains `mail`:"
   ]
  },
  {
   "cell_type": "code",
   "execution_count": 30,
   "metadata": {
    "ExecuteTime": {
     "end_time": "2019-08-06T09:00:51.089694Z",
     "start_time": "2019-08-06T09:00:49.285201Z"
    },
    "run_control": {
     "frozen": true
    }
   },
   "outputs": [],
   "source": [
    "mail_subdomains = subdomains[subdomains.subdomain.str.contains('mail')]\n",
    "top_mail_subdomains = mail_subdomains.groupby('domain', as_index=False).agg({'url': 'count'}).nlargest(400, 'url')\n",
    "top_mail_subdomains.to_csv(data_directory + '/pre_processed/domains_containing_mail_raw.csv', index=False)"
   ]
  },
  {
   "cell_type": "markdown",
   "metadata": {},
   "source": [
    "Next, we manually curated this .csv in order to generate a new file named `domains_contain_mail.csv`.\n",
    "\n",
    "The method: \n",
    "- Look at the top domains with subdomain that has _mail_ string.\n",
    "- If sample urls belong the domain seem meaningful urls, then check domain as email.\n",
    "- Totally, 400 domain were evaluated manually."
   ]
  },
  {
   "cell_type": "markdown",
   "metadata": {},
   "source": [
    "### Creating subdomains of different types"
   ]
  },
  {
   "cell_type": "markdown",
   "metadata": {
    "ExecuteTime": {
     "end_time": "2019-08-13T09:59:13.190907Z",
     "start_time": "2019-08-13T09:59:13.178462Z"
    }
   },
   "source": [
    "* Emails Domains"
   ]
  },
  {
   "cell_type": "code",
   "execution_count": 33,
   "metadata": {
    "ExecuteTime": {
     "end_time": "2019-08-13T11:27:34.481270Z",
     "start_time": "2019-08-13T11:27:09.480352Z"
    }
   },
   "outputs": [],
   "source": [
    "urls_email = pd.concat(\n",
    "    [\n",
    "        subdomains[(subdomains.subdomain.str.endswith('mail.'))]\n",
    "            .merge(pd.read_csv(data_directory + '/pre_processed/domains_containing_mail.csv', \n",
    "                               usecols=['domain', 'is_email']).query('is_email == 1'), on='domain')\n",
    "            .drop(columns=['is_email']),\n",
    "        get_subdomains(subdomains, 'google.com', 'accounts.'),\n",
    "        get_subdomains(subdomains, 'web.de', 'navigator.'),\n",
    "        get_subdomains(subdomains, 'yahoo.com', 'login.'),\n",
    "        get_subdomains(subdomains, 'live.com', 'outlook.'),\n",
    "        get_subdomains(subdomains, 'live.com', 'login.'),\n",
    "        get_subdomains(subdomains, 'live.com', 'account.'),\n",
    "        get_subdomains(subdomains, 'live.com', 'signup.'),\n",
    "        get_subdomains(subdomains, 'gmx.net', 'navigator.'),\n",
    "        get_subdomains(subdomains, 'aol.com', 'login.'),\n",
    "    ],\n",
    "    sort=False\n",
    ") \\\n",
    "    .assign(\n",
    "        sub_level_domain=lambda df: df.subdomain + df.domain,\n",
    "        category_names=lambda df: df.category_names.apply(\n",
    "            lambda x: tuple(['email']))\n",
    ").drop_duplicates(['id'])"
   ]
  },
  {
   "cell_type": "code",
   "execution_count": 34,
   "metadata": {
    "ExecuteTime": {
     "end_time": "2019-08-13T11:27:34.881569Z",
     "start_time": "2019-08-13T11:27:34.873799Z"
    }
   },
   "outputs": [
    {
     "data": {
      "text/plain": [
       "(970034, 6)"
      ]
     },
     "execution_count": 34,
     "metadata": {},
     "output_type": "execute_result"
    }
   ],
   "source": [
    "urls_email.shape"
   ]
  },
  {
   "cell_type": "markdown",
   "metadata": {},
   "source": [
    "* Productivity domains"
   ]
  },
  {
   "cell_type": "code",
   "execution_count": 35,
   "metadata": {
    "ExecuteTime": {
     "end_time": "2019-08-13T11:27:57.954456Z",
     "start_time": "2019-08-13T11:27:51.032210Z"
    }
   },
   "outputs": [
    {
     "data": {
      "text/html": [
       "<div>\n",
       "<style scoped>\n",
       "    .dataframe tbody tr th:only-of-type {\n",
       "        vertical-align: middle;\n",
       "    }\n",
       "\n",
       "    .dataframe tbody tr th {\n",
       "        vertical-align: top;\n",
       "    }\n",
       "\n",
       "    .dataframe thead th {\n",
       "        text-align: right;\n",
       "    }\n",
       "</style>\n",
       "<table border=\"1\" class=\"dataframe\">\n",
       "  <thead>\n",
       "    <tr style=\"text-align: right;\">\n",
       "      <th></th>\n",
       "      <th>id</th>\n",
       "      <th>url</th>\n",
       "      <th>domain</th>\n",
       "      <th>subdomain</th>\n",
       "      <th>category_names</th>\n",
       "      <th>sub_level_domain</th>\n",
       "    </tr>\n",
       "  </thead>\n",
       "  <tbody>\n",
       "    <tr>\n",
       "      <th>163077</th>\n",
       "      <td>1039811007</td>\n",
       "      <td>230852</td>\n",
       "      <td>google.com</td>\n",
       "      <td>calendar.</td>\n",
       "      <td>(productivity,)</td>\n",
       "      <td>calendar.google.com</td>\n",
       "    </tr>\n",
       "    <tr>\n",
       "      <th>464735</th>\n",
       "      <td>1075213104</td>\n",
       "      <td>2174152</td>\n",
       "      <td>google.com</td>\n",
       "      <td>docs.</td>\n",
       "      <td>(productivity,)</td>\n",
       "      <td>docs.google.com</td>\n",
       "    </tr>\n",
       "    <tr>\n",
       "      <th>261579</th>\n",
       "      <td>1023653160</td>\n",
       "      <td>120291</td>\n",
       "      <td>google.com</td>\n",
       "      <td>calendar.</td>\n",
       "      <td>(productivity,)</td>\n",
       "      <td>calendar.google.com</td>\n",
       "    </tr>\n",
       "    <tr>\n",
       "      <th>404420</th>\n",
       "      <td>1057529948</td>\n",
       "      <td>1823563</td>\n",
       "      <td>google.com</td>\n",
       "      <td>docs.</td>\n",
       "      <td>(productivity,)</td>\n",
       "      <td>docs.google.com</td>\n",
       "    </tr>\n",
       "    <tr>\n",
       "      <th>139422</th>\n",
       "      <td>1034140416</td>\n",
       "      <td>18243</td>\n",
       "      <td>google.com</td>\n",
       "      <td>calendar.</td>\n",
       "      <td>(productivity,)</td>\n",
       "      <td>calendar.google.com</td>\n",
       "    </tr>\n",
       "  </tbody>\n",
       "</table>\n",
       "</div>"
      ],
      "text/plain": [
       "                id      url      domain  subdomain   category_names  \\\n",
       "163077  1039811007   230852  google.com  calendar.  (productivity,)   \n",
       "464735  1075213104  2174152  google.com      docs.  (productivity,)   \n",
       "261579  1023653160   120291  google.com  calendar.  (productivity,)   \n",
       "404420  1057529948  1823563  google.com      docs.  (productivity,)   \n",
       "139422  1034140416    18243  google.com  calendar.  (productivity,)   \n",
       "\n",
       "           sub_level_domain  \n",
       "163077  calendar.google.com  \n",
       "464735      docs.google.com  \n",
       "261579  calendar.google.com  \n",
       "404420      docs.google.com  \n",
       "139422  calendar.google.com  "
      ]
     },
     "execution_count": 35,
     "metadata": {},
     "output_type": "execute_result"
    }
   ],
   "source": [
    "urls_productivity = pd.concat([\n",
    "    get_subdomains(subdomains, 'google.com', 'docs.'),\n",
    "    get_subdomains(subdomains, 'google.com', 'calendar.'),\n",
    "    get_subdomains(subdomains, 'google.com', 'office.'),\n",
    "],\n",
    "    sort=False \n",
    ") \\\n",
    "    .assign(\n",
    "        sub_level_domain=lambda df: df.subdomain + df.domain,\n",
    "        category_names=lambda df: df.category_names.apply(\n",
    "            lambda x: tuple(['productivity']))\n",
    ").drop_duplicates(['id'])\n",
    "\n",
    "urls_productivity.sample(5)"
   ]
  },
  {
   "cell_type": "code",
   "execution_count": 36,
   "metadata": {
    "ExecuteTime": {
     "end_time": "2019-08-13T11:27:42.790204Z",
     "start_time": "2019-08-13T11:27:42.781566Z"
    }
   },
   "outputs": [
    {
     "data": {
      "text/plain": [
       "(25244, 6)"
      ]
     },
     "execution_count": 36,
     "metadata": {},
     "output_type": "execute_result"
    }
   ],
   "source": [
    "urls_productivity.shape"
   ]
  },
  {
   "cell_type": "markdown",
   "metadata": {},
   "source": [
    "* Media sharing domains"
   ]
  },
  {
   "cell_type": "code",
   "execution_count": 37,
   "metadata": {
    "ExecuteTime": {
     "end_time": "2019-08-13T11:28:06.848303Z",
     "start_time": "2019-08-13T11:27:58.294946Z"
    },
    "scrolled": true
   },
   "outputs": [
    {
     "data": {
      "text/html": [
       "<div>\n",
       "<style scoped>\n",
       "    .dataframe tbody tr th:only-of-type {\n",
       "        vertical-align: middle;\n",
       "    }\n",
       "\n",
       "    .dataframe tbody tr th {\n",
       "        vertical-align: top;\n",
       "    }\n",
       "\n",
       "    .dataframe thead th {\n",
       "        text-align: right;\n",
       "    }\n",
       "</style>\n",
       "<table border=\"1\" class=\"dataframe\">\n",
       "  <thead>\n",
       "    <tr style=\"text-align: right;\">\n",
       "      <th></th>\n",
       "      <th>id</th>\n",
       "      <th>url</th>\n",
       "      <th>domain</th>\n",
       "      <th>subdomain</th>\n",
       "      <th>category_names</th>\n",
       "      <th>sub_level_domain</th>\n",
       "    </tr>\n",
       "  </thead>\n",
       "  <tbody>\n",
       "    <tr>\n",
       "      <th>217403</th>\n",
       "      <td>1013466324</td>\n",
       "      <td>92873</td>\n",
       "      <td>google.com</td>\n",
       "      <td>photos.</td>\n",
       "      <td>(media-sharing,)</td>\n",
       "      <td>photos.google.com</td>\n",
       "    </tr>\n",
       "    <tr>\n",
       "      <th>296969</th>\n",
       "      <td>1028840884</td>\n",
       "      <td>1153843</td>\n",
       "      <td>google.com</td>\n",
       "      <td>photos.</td>\n",
       "      <td>(media-sharing,)</td>\n",
       "      <td>photos.google.com</td>\n",
       "    </tr>\n",
       "    <tr>\n",
       "      <th>400526</th>\n",
       "      <td>1052449436</td>\n",
       "      <td>622005</td>\n",
       "      <td>google.com</td>\n",
       "      <td>photos.</td>\n",
       "      <td>(media-sharing,)</td>\n",
       "      <td>photos.google.com</td>\n",
       "    </tr>\n",
       "    <tr>\n",
       "      <th>307356</th>\n",
       "      <td>1067644647</td>\n",
       "      <td>1236928</td>\n",
       "      <td>google.com</td>\n",
       "      <td>photos.</td>\n",
       "      <td>(media-sharing,)</td>\n",
       "      <td>photos.google.com</td>\n",
       "    </tr>\n",
       "    <tr>\n",
       "      <th>142255</th>\n",
       "      <td>1035624776</td>\n",
       "      <td>55379</td>\n",
       "      <td>google.com</td>\n",
       "      <td>drive.</td>\n",
       "      <td>(media-sharing,)</td>\n",
       "      <td>drive.google.com</td>\n",
       "    </tr>\n",
       "  </tbody>\n",
       "</table>\n",
       "</div>"
      ],
      "text/plain": [
       "                id      url      domain subdomain    category_names  \\\n",
       "217403  1013466324    92873  google.com   photos.  (media-sharing,)   \n",
       "296969  1028840884  1153843  google.com   photos.  (media-sharing,)   \n",
       "400526  1052449436   622005  google.com   photos.  (media-sharing,)   \n",
       "307356  1067644647  1236928  google.com   photos.  (media-sharing,)   \n",
       "142255  1035624776    55379  google.com    drive.  (media-sharing,)   \n",
       "\n",
       "         sub_level_domain  \n",
       "217403  photos.google.com  \n",
       "296969  photos.google.com  \n",
       "400526  photos.google.com  \n",
       "307356  photos.google.com  \n",
       "142255   drive.google.com  "
      ]
     },
     "execution_count": 37,
     "metadata": {},
     "output_type": "execute_result"
    }
   ],
   "source": [
    "urls_media_sharing = pd.concat([\n",
    "    get_subdomains(subdomains, 'google.com', 'photos.'),\n",
    "    get_subdomains(subdomains, 'google.com', 'drive.'),\n",
    "    get_subdomains(subdomains, 'live.com', 'onedrive.'),\n",
    "],\n",
    "    sort=False \n",
    ") \\\n",
    "    .assign(\n",
    "        sub_level_domain=lambda df: df.subdomain + df.domain,\n",
    "        category_names=lambda df: df.category_names.apply(\n",
    "            lambda x: tuple(['media-sharing']))\n",
    ").drop_duplicates(['id'])\n",
    "\n",
    "urls_media_sharing.sample(5)"
   ]
  },
  {
   "cell_type": "code",
   "execution_count": 38,
   "metadata": {
    "ExecuteTime": {
     "end_time": "2019-08-13T11:28:07.197961Z",
     "start_time": "2019-08-13T11:28:07.189108Z"
    }
   },
   "outputs": [
    {
     "data": {
      "text/plain": [
       "(15375, 6)"
      ]
     },
     "execution_count": 38,
     "metadata": {},
     "output_type": "execute_result"
    }
   ],
   "source": [
    "urls_media_sharing.shape"
   ]
  },
  {
   "cell_type": "markdown",
   "metadata": {},
   "source": [
    "* Social networking domains"
   ]
  },
  {
   "cell_type": "code",
   "execution_count": 39,
   "metadata": {
    "ExecuteTime": {
     "end_time": "2019-08-13T11:28:14.313916Z",
     "start_time": "2019-08-13T11:28:07.602310Z"
    }
   },
   "outputs": [
    {
     "data": {
      "text/html": [
       "<div>\n",
       "<style scoped>\n",
       "    .dataframe tbody tr th:only-of-type {\n",
       "        vertical-align: middle;\n",
       "    }\n",
       "\n",
       "    .dataframe tbody tr th {\n",
       "        vertical-align: top;\n",
       "    }\n",
       "\n",
       "    .dataframe thead th {\n",
       "        text-align: right;\n",
       "    }\n",
       "</style>\n",
       "<table border=\"1\" class=\"dataframe\">\n",
       "  <thead>\n",
       "    <tr style=\"text-align: right;\">\n",
       "      <th></th>\n",
       "      <th>id</th>\n",
       "      <th>url</th>\n",
       "      <th>domain</th>\n",
       "      <th>subdomain</th>\n",
       "      <th>category_names</th>\n",
       "      <th>sub_level_domain</th>\n",
       "    </tr>\n",
       "  </thead>\n",
       "  <tbody>\n",
       "    <tr>\n",
       "      <th>552122</th>\n",
       "      <td>1084563179</td>\n",
       "      <td>294048</td>\n",
       "      <td>google.com</td>\n",
       "      <td>plus.</td>\n",
       "      <td>(social-networking,)</td>\n",
       "      <td>plus.google.com</td>\n",
       "    </tr>\n",
       "    <tr>\n",
       "      <th>292631</th>\n",
       "      <td>1065274503</td>\n",
       "      <td>294048</td>\n",
       "      <td>google.com</td>\n",
       "      <td>plus.</td>\n",
       "      <td>(social-networking,)</td>\n",
       "      <td>plus.google.com</td>\n",
       "    </tr>\n",
       "    <tr>\n",
       "      <th>290939</th>\n",
       "      <td>1028140244</td>\n",
       "      <td>1126675</td>\n",
       "      <td>google.com</td>\n",
       "      <td>plus.</td>\n",
       "      <td>(social-networking,)</td>\n",
       "      <td>plus.google.com</td>\n",
       "    </tr>\n",
       "    <tr>\n",
       "      <th>263544</th>\n",
       "      <td>1060449007</td>\n",
       "      <td>294048</td>\n",
       "      <td>google.com</td>\n",
       "      <td>plus.</td>\n",
       "      <td>(social-networking,)</td>\n",
       "      <td>plus.google.com</td>\n",
       "    </tr>\n",
       "    <tr>\n",
       "      <th>525748</th>\n",
       "      <td>1084953708</td>\n",
       "      <td>294048</td>\n",
       "      <td>google.com</td>\n",
       "      <td>plus.</td>\n",
       "      <td>(social-networking,)</td>\n",
       "      <td>plus.google.com</td>\n",
       "    </tr>\n",
       "  </tbody>\n",
       "</table>\n",
       "</div>"
      ],
      "text/plain": [
       "                id      url      domain subdomain        category_names  \\\n",
       "552122  1084563179   294048  google.com     plus.  (social-networking,)   \n",
       "292631  1065274503   294048  google.com     plus.  (social-networking,)   \n",
       "290939  1028140244  1126675  google.com     plus.  (social-networking,)   \n",
       "263544  1060449007   294048  google.com     plus.  (social-networking,)   \n",
       "525748  1084953708   294048  google.com     plus.  (social-networking,)   \n",
       "\n",
       "       sub_level_domain  \n",
       "552122  plus.google.com  \n",
       "292631  plus.google.com  \n",
       "290939  plus.google.com  \n",
       "263544  plus.google.com  \n",
       "525748  plus.google.com  "
      ]
     },
     "execution_count": 39,
     "metadata": {},
     "output_type": "execute_result"
    }
   ],
   "source": [
    "urls_social_networking = pd.concat([\n",
    "    get_subdomains(subdomains, 'google.com', 'plus.'),\n",
    "    get_subdomains(subdomains, 'yahoo.com', 'drive.'),\n",
    "    get_subdomains(subdomains, 'vodafone.de', 'groups.'),\n",
    "],\n",
    "    sort=False \n",
    ") \\\n",
    "    .assign(\n",
    "        sub_level_domain=lambda df: df.subdomain + df.domain,\n",
    "        category_names=lambda df: df.category_names.apply(\n",
    "            lambda x: tuple(['social-networking']))\n",
    ").drop_duplicates(['id'])\n",
    "\n",
    "urls_social_networking.sample(5)"
   ]
  },
  {
   "cell_type": "code",
   "execution_count": 40,
   "metadata": {
    "ExecuteTime": {
     "end_time": "2019-08-13T11:28:14.732258Z",
     "start_time": "2019-08-13T11:28:14.724997Z"
    }
   },
   "outputs": [
    {
     "data": {
      "text/plain": [
       "(2285, 6)"
      ]
     },
     "execution_count": 40,
     "metadata": {},
     "output_type": "execute_result"
    }
   ],
   "source": [
    "urls_social_networking.shape"
   ]
  },
  {
   "cell_type": "markdown",
   "metadata": {},
   "source": [
    "* News domains"
   ]
  },
  {
   "cell_type": "code",
   "execution_count": 41,
   "metadata": {
    "ExecuteTime": {
     "end_time": "2019-08-13T11:28:23.189773Z",
     "start_time": "2019-08-13T11:28:15.201798Z"
    }
   },
   "outputs": [
    {
     "data": {
      "text/html": [
       "<div>\n",
       "<style scoped>\n",
       "    .dataframe tbody tr th:only-of-type {\n",
       "        vertical-align: middle;\n",
       "    }\n",
       "\n",
       "    .dataframe tbody tr th {\n",
       "        vertical-align: top;\n",
       "    }\n",
       "\n",
       "    .dataframe thead th {\n",
       "        text-align: right;\n",
       "    }\n",
       "</style>\n",
       "<table border=\"1\" class=\"dataframe\">\n",
       "  <thead>\n",
       "    <tr style=\"text-align: right;\">\n",
       "      <th></th>\n",
       "      <th>id</th>\n",
       "      <th>url</th>\n",
       "      <th>domain</th>\n",
       "      <th>subdomain</th>\n",
       "      <th>category_names</th>\n",
       "      <th>sub_level_domain</th>\n",
       "    </tr>\n",
       "  </thead>\n",
       "  <tbody>\n",
       "    <tr>\n",
       "      <th>437478</th>\n",
       "      <td>1066834304</td>\n",
       "      <td>2008110</td>\n",
       "      <td>google.com</td>\n",
       "      <td>news.</td>\n",
       "      <td>(news,)</td>\n",
       "      <td>news.google.com</td>\n",
       "    </tr>\n",
       "    <tr>\n",
       "      <th>224838</th>\n",
       "      <td>1053373951</td>\n",
       "      <td>412702</td>\n",
       "      <td>google.com</td>\n",
       "      <td>news.</td>\n",
       "      <td>(news,)</td>\n",
       "      <td>news.google.com</td>\n",
       "    </tr>\n",
       "    <tr>\n",
       "      <th>364718</th>\n",
       "      <td>1044907736</td>\n",
       "      <td>25409</td>\n",
       "      <td>google.com</td>\n",
       "      <td>news.</td>\n",
       "      <td>(news,)</td>\n",
       "      <td>news.google.com</td>\n",
       "    </tr>\n",
       "    <tr>\n",
       "      <th>230679</th>\n",
       "      <td>1054464871</td>\n",
       "      <td>681372</td>\n",
       "      <td>google.com</td>\n",
       "      <td>news.</td>\n",
       "      <td>(news,)</td>\n",
       "      <td>news.google.com</td>\n",
       "    </tr>\n",
       "    <tr>\n",
       "      <th>153652</th>\n",
       "      <td>1036466839</td>\n",
       "      <td>25409</td>\n",
       "      <td>google.com</td>\n",
       "      <td>news.</td>\n",
       "      <td>(news,)</td>\n",
       "      <td>news.google.com</td>\n",
       "    </tr>\n",
       "  </tbody>\n",
       "</table>\n",
       "</div>"
      ],
      "text/plain": [
       "                id      url      domain subdomain category_names  \\\n",
       "437478  1066834304  2008110  google.com     news.        (news,)   \n",
       "224838  1053373951   412702  google.com     news.        (news,)   \n",
       "364718  1044907736    25409  google.com     news.        (news,)   \n",
       "230679  1054464871   681372  google.com     news.        (news,)   \n",
       "153652  1036466839    25409  google.com     news.        (news,)   \n",
       "\n",
       "       sub_level_domain  \n",
       "437478  news.google.com  \n",
       "224838  news.google.com  \n",
       "364718  news.google.com  \n",
       "230679  news.google.com  \n",
       "153652  news.google.com  "
      ]
     },
     "execution_count": 41,
     "metadata": {},
     "output_type": "execute_result"
    }
   ],
   "source": [
    "urls_news = pd.concat([\n",
    "    get_subdomains(subdomains, 'google.com', 'news.'),\n",
    "    get_subdomains(subdomains, 'vodafone.de', 'magazin.'),\n",
    "    get_subdomains(subdomains, 'vodafone.de', 'x.enews.'),\n",
    "],\n",
    "    sort=False \n",
    ") \\\n",
    "    .assign(\n",
    "        sub_level_domain=lambda df: df.subdomain + df.domain,\n",
    "        category_names=lambda df: df.category_names.apply(\n",
    "            lambda x: tuple(['news']))\n",
    ").drop_duplicates(['id'])\n",
    "\n",
    "urls_news.sample(5)"
   ]
  },
  {
   "cell_type": "code",
   "execution_count": 42,
   "metadata": {
    "ExecuteTime": {
     "end_time": "2019-08-13T11:28:23.709964Z",
     "start_time": "2019-08-13T11:28:23.701979Z"
    }
   },
   "outputs": [
    {
     "data": {
      "text/plain": [
       "(6165, 6)"
      ]
     },
     "execution_count": 42,
     "metadata": {},
     "output_type": "execute_result"
    }
   ],
   "source": [
    "urls_news.shape"
   ]
  },
  {
   "cell_type": "markdown",
   "metadata": {},
   "source": [
    "* Translators domains"
   ]
  },
  {
   "cell_type": "code",
   "execution_count": 43,
   "metadata": {
    "ExecuteTime": {
     "end_time": "2019-08-13T11:28:26.113985Z",
     "start_time": "2019-08-13T11:28:24.168315Z"
    }
   },
   "outputs": [
    {
     "data": {
      "text/html": [
       "<div>\n",
       "<style scoped>\n",
       "    .dataframe tbody tr th:only-of-type {\n",
       "        vertical-align: middle;\n",
       "    }\n",
       "\n",
       "    .dataframe tbody tr th {\n",
       "        vertical-align: top;\n",
       "    }\n",
       "\n",
       "    .dataframe thead th {\n",
       "        text-align: right;\n",
       "    }\n",
       "</style>\n",
       "<table border=\"1\" class=\"dataframe\">\n",
       "  <thead>\n",
       "    <tr style=\"text-align: right;\">\n",
       "      <th></th>\n",
       "      <th>id</th>\n",
       "      <th>url</th>\n",
       "      <th>domain</th>\n",
       "      <th>subdomain</th>\n",
       "      <th>category_names</th>\n",
       "      <th>sub_level_domain</th>\n",
       "    </tr>\n",
       "  </thead>\n",
       "  <tbody>\n",
       "    <tr>\n",
       "      <th>205972</th>\n",
       "      <td>1050720711</td>\n",
       "      <td>144856</td>\n",
       "      <td>google.com</td>\n",
       "      <td>news.</td>\n",
       "      <td>(news,)</td>\n",
       "      <td>news.google.com</td>\n",
       "    </tr>\n",
       "    <tr>\n",
       "      <th>361657</th>\n",
       "      <td>1044392684</td>\n",
       "      <td>25409</td>\n",
       "      <td>google.com</td>\n",
       "      <td>news.</td>\n",
       "      <td>(news,)</td>\n",
       "      <td>news.google.com</td>\n",
       "    </tr>\n",
       "    <tr>\n",
       "      <th>478834</th>\n",
       "      <td>1070053127</td>\n",
       "      <td>145185</td>\n",
       "      <td>google.com</td>\n",
       "      <td>news.</td>\n",
       "      <td>(news,)</td>\n",
       "      <td>news.google.com</td>\n",
       "    </tr>\n",
       "    <tr>\n",
       "      <th>143888</th>\n",
       "      <td>1036261080</td>\n",
       "      <td>25409</td>\n",
       "      <td>google.com</td>\n",
       "      <td>news.</td>\n",
       "      <td>(news,)</td>\n",
       "      <td>news.google.com</td>\n",
       "    </tr>\n",
       "    <tr>\n",
       "      <th>427327</th>\n",
       "      <td>1063952688</td>\n",
       "      <td>25409</td>\n",
       "      <td>google.com</td>\n",
       "      <td>news.</td>\n",
       "      <td>(news,)</td>\n",
       "      <td>news.google.com</td>\n",
       "    </tr>\n",
       "  </tbody>\n",
       "</table>\n",
       "</div>"
      ],
      "text/plain": [
       "                id     url      domain subdomain category_names  \\\n",
       "205972  1050720711  144856  google.com     news.        (news,)   \n",
       "361657  1044392684   25409  google.com     news.        (news,)   \n",
       "478834  1070053127  145185  google.com     news.        (news,)   \n",
       "143888  1036261080   25409  google.com     news.        (news,)   \n",
       "427327  1063952688   25409  google.com     news.        (news,)   \n",
       "\n",
       "       sub_level_domain  \n",
       "205972  news.google.com  \n",
       "361657  news.google.com  \n",
       "478834  news.google.com  \n",
       "143888  news.google.com  \n",
       "427327  news.google.com  "
      ]
     },
     "execution_count": 43,
     "metadata": {},
     "output_type": "execute_result"
    }
   ],
   "source": [
    "urls_translators = pd.concat([\n",
    "    get_subdomains(subdomains, 'google.com', 'translate.'),\n",
    "],\n",
    "    sort=False \n",
    ") \\\n",
    "    .assign(\n",
    "        sub_level_domain=lambda df: df.subdomain + df.domain,\n",
    "        category_names=lambda df: df.category_names.apply(\n",
    "            lambda x: tuple(['translators']))\n",
    ").drop_duplicates(['id'])\n",
    "\n",
    "urls_news.sample(5)"
   ]
  },
  {
   "cell_type": "code",
   "execution_count": 44,
   "metadata": {
    "ExecuteTime": {
     "end_time": "2019-08-13T11:22:28.377589Z",
     "start_time": "2019-08-13T11:22:28.371255Z"
    }
   },
   "outputs": [
    {
     "data": {
      "text/plain": [
       "(28106, 6)"
      ]
     },
     "execution_count": 44,
     "metadata": {},
     "output_type": "execute_result"
    }
   ],
   "source": [
    "urls_translators.shape"
   ]
  },
  {
   "cell_type": "markdown",
   "metadata": {},
   "source": [
    "* Shopping domains"
   ]
  },
  {
   "cell_type": "code",
   "execution_count": 45,
   "metadata": {
    "ExecuteTime": {
     "end_time": "2019-08-13T11:28:28.259552Z",
     "start_time": "2019-08-13T11:28:26.397182Z"
    }
   },
   "outputs": [
    {
     "data": {
      "text/html": [
       "<div>\n",
       "<style scoped>\n",
       "    .dataframe tbody tr th:only-of-type {\n",
       "        vertical-align: middle;\n",
       "    }\n",
       "\n",
       "    .dataframe tbody tr th {\n",
       "        vertical-align: top;\n",
       "    }\n",
       "\n",
       "    .dataframe thead th {\n",
       "        text-align: right;\n",
       "    }\n",
       "</style>\n",
       "<table border=\"1\" class=\"dataframe\">\n",
       "  <thead>\n",
       "    <tr style=\"text-align: right;\">\n",
       "      <th></th>\n",
       "      <th>id</th>\n",
       "      <th>url</th>\n",
       "      <th>domain</th>\n",
       "      <th>subdomain</th>\n",
       "      <th>category_names</th>\n",
       "      <th>sub_level_domain</th>\n",
       "    </tr>\n",
       "  </thead>\n",
       "  <tbody>\n",
       "    <tr>\n",
       "      <th>194801</th>\n",
       "      <td>1009590920</td>\n",
       "      <td>434260</td>\n",
       "      <td>google.com</td>\n",
       "      <td>play.</td>\n",
       "      <td>(shopping,)</td>\n",
       "      <td>play.google.com</td>\n",
       "    </tr>\n",
       "    <tr>\n",
       "      <th>509325</th>\n",
       "      <td>1079769267</td>\n",
       "      <td>2470592</td>\n",
       "      <td>google.com</td>\n",
       "      <td>play.</td>\n",
       "      <td>(shopping,)</td>\n",
       "      <td>play.google.com</td>\n",
       "    </tr>\n",
       "    <tr>\n",
       "      <th>151068</th>\n",
       "      <td>1035306895</td>\n",
       "      <td>18793</td>\n",
       "      <td>google.com</td>\n",
       "      <td>play.</td>\n",
       "      <td>(shopping,)</td>\n",
       "      <td>play.google.com</td>\n",
       "    </tr>\n",
       "    <tr>\n",
       "      <th>317946</th>\n",
       "      <td>1032592752</td>\n",
       "      <td>94485</td>\n",
       "      <td>google.com</td>\n",
       "      <td>play.</td>\n",
       "      <td>(shopping,)</td>\n",
       "      <td>play.google.com</td>\n",
       "    </tr>\n",
       "    <tr>\n",
       "      <th>533318</th>\n",
       "      <td>1087367540</td>\n",
       "      <td>2605791</td>\n",
       "      <td>google.com</td>\n",
       "      <td>play.</td>\n",
       "      <td>(shopping,)</td>\n",
       "      <td>play.google.com</td>\n",
       "    </tr>\n",
       "  </tbody>\n",
       "</table>\n",
       "</div>"
      ],
      "text/plain": [
       "                id      url      domain subdomain category_names  \\\n",
       "194801  1009590920   434260  google.com     play.    (shopping,)   \n",
       "509325  1079769267  2470592  google.com     play.    (shopping,)   \n",
       "151068  1035306895    18793  google.com     play.    (shopping,)   \n",
       "317946  1032592752    94485  google.com     play.    (shopping,)   \n",
       "533318  1087367540  2605791  google.com     play.    (shopping,)   \n",
       "\n",
       "       sub_level_domain  \n",
       "194801  play.google.com  \n",
       "509325  play.google.com  \n",
       "151068  play.google.com  \n",
       "317946  play.google.com  \n",
       "533318  play.google.com  "
      ]
     },
     "execution_count": 45,
     "metadata": {},
     "output_type": "execute_result"
    }
   ],
   "source": [
    "urls_shopping = pd.concat([\n",
    "    get_subdomains(subdomains, 'google.com', 'play.'),\n",
    "],\n",
    "    sort=False \n",
    ") \\\n",
    "    .assign(\n",
    "        sub_level_domain=lambda df: df.subdomain + df.domain,\n",
    "        category_names=lambda df: df.category_names.apply(\n",
    "            lambda x: tuple(['shopping']))\n",
    ").drop_duplicates(['id'])\n",
    "\n",
    "urls_shopping.sample(5)"
   ]
  },
  {
   "cell_type": "code",
   "execution_count": 46,
   "metadata": {
    "ExecuteTime": {
     "end_time": "2019-08-13T11:22:30.618745Z",
     "start_time": "2019-08-13T11:22:30.611902Z"
    }
   },
   "outputs": [
    {
     "data": {
      "text/plain": [
       "(3206, 6)"
      ]
     },
     "execution_count": 46,
     "metadata": {},
     "output_type": "execute_result"
    }
   ],
   "source": [
    "urls_shopping.shape"
   ]
  },
  {
   "cell_type": "markdown",
   "metadata": {},
   "source": [
    "# Exporting data"
   ]
  },
  {
   "cell_type": "markdown",
   "metadata": {},
   "source": [
    "Creating a new browsing history file:"
   ]
  },
  {
   "cell_type": "code",
   "execution_count": 62,
   "metadata": {
    "ExecuteTime": {
     "end_time": "2019-08-13T12:08:52.875204Z",
     "start_time": "2019-08-13T12:08:32.937466Z"
    }
   },
   "outputs": [],
   "source": [
    "urls_with_categories = urls.merge(domain_categories, on='domain').rename(columns={'domain': 'top_level_domain'})"
   ]
  },
  {
   "cell_type": "code",
   "execution_count": 63,
   "metadata": {},
   "outputs": [
    {
     "data": {
      "text/html": [
       "<div>\n",
       "<style scoped>\n",
       "    .dataframe tbody tr th:only-of-type {\n",
       "        vertical-align: middle;\n",
       "    }\n",
       "\n",
       "    .dataframe tbody tr th {\n",
       "        vertical-align: top;\n",
       "    }\n",
       "\n",
       "    .dataframe thead th {\n",
       "        text-align: right;\n",
       "    }\n",
       "</style>\n",
       "<table border=\"1\" class=\"dataframe\">\n",
       "  <thead>\n",
       "    <tr style=\"text-align: right;\">\n",
       "      <th></th>\n",
       "      <th>web_visits_id</th>\n",
       "      <th>id</th>\n",
       "      <th>panelist_id</th>\n",
       "      <th>url</th>\n",
       "      <th>used_at</th>\n",
       "      <th>active_seconds</th>\n",
       "      <th>top_level_domain</th>\n",
       "      <th>subdomain</th>\n",
       "      <th>category</th>\n",
       "      <th>category_names</th>\n",
       "    </tr>\n",
       "  </thead>\n",
       "  <tbody>\n",
       "    <tr>\n",
       "      <th>0</th>\n",
       "      <td>111761051</td>\n",
       "      <td>1033436752</td>\n",
       "      <td>1421</td>\n",
       "      <td>0</td>\n",
       "      <td>2018-10-05 22:02:38</td>\n",
       "      <td>4</td>\n",
       "      <td>ebesucher.de</td>\n",
       "      <td>NaN</td>\n",
       "      <td>(business, education)</td>\n",
       "      <td>(business, education)</td>\n",
       "    </tr>\n",
       "    <tr>\n",
       "      <th>1</th>\n",
       "      <td>111761051</td>\n",
       "      <td>1033436580</td>\n",
       "      <td>1421</td>\n",
       "      <td>0</td>\n",
       "      <td>2018-10-05 21:41:22</td>\n",
       "      <td>10</td>\n",
       "      <td>ebesucher.de</td>\n",
       "      <td>NaN</td>\n",
       "      <td>(business, education)</td>\n",
       "      <td>(business, education)</td>\n",
       "    </tr>\n",
       "    <tr>\n",
       "      <th>2</th>\n",
       "      <td>111761051</td>\n",
       "      <td>1033436588</td>\n",
       "      <td>1421</td>\n",
       "      <td>0</td>\n",
       "      <td>2018-10-05 21:45:36</td>\n",
       "      <td>5</td>\n",
       "      <td>ebesucher.de</td>\n",
       "      <td>NaN</td>\n",
       "      <td>(business, education)</td>\n",
       "      <td>(business, education)</td>\n",
       "    </tr>\n",
       "    <tr>\n",
       "      <th>3</th>\n",
       "      <td>111761051</td>\n",
       "      <td>1033436584</td>\n",
       "      <td>1421</td>\n",
       "      <td>0</td>\n",
       "      <td>2018-10-05 21:42:22</td>\n",
       "      <td>181</td>\n",
       "      <td>ebesucher.de</td>\n",
       "      <td>NaN</td>\n",
       "      <td>(business, education)</td>\n",
       "      <td>(business, education)</td>\n",
       "    </tr>\n",
       "    <tr>\n",
       "      <th>4</th>\n",
       "      <td>111761159</td>\n",
       "      <td>1033437168</td>\n",
       "      <td>1421</td>\n",
       "      <td>0</td>\n",
       "      <td>2018-10-05 23:48:14</td>\n",
       "      <td>6</td>\n",
       "      <td>ebesucher.de</td>\n",
       "      <td>NaN</td>\n",
       "      <td>(business, education)</td>\n",
       "      <td>(business, education)</td>\n",
       "    </tr>\n",
       "  </tbody>\n",
       "</table>\n",
       "</div>"
      ],
      "text/plain": [
       "   web_visits_id          id  panelist_id  url             used_at  \\\n",
       "0      111761051  1033436752         1421    0 2018-10-05 22:02:38   \n",
       "1      111761051  1033436580         1421    0 2018-10-05 21:41:22   \n",
       "2      111761051  1033436588         1421    0 2018-10-05 21:45:36   \n",
       "3      111761051  1033436584         1421    0 2018-10-05 21:42:22   \n",
       "4      111761159  1033437168         1421    0 2018-10-05 23:48:14   \n",
       "\n",
       "   active_seconds top_level_domain subdomain               category  \\\n",
       "0               4     ebesucher.de       NaN  (business, education)   \n",
       "1              10     ebesucher.de       NaN  (business, education)   \n",
       "2               5     ebesucher.de       NaN  (business, education)   \n",
       "3             181     ebesucher.de       NaN  (business, education)   \n",
       "4               6     ebesucher.de       NaN  (business, education)   \n",
       "\n",
       "          category_names  \n",
       "0  (business, education)  \n",
       "1  (business, education)  \n",
       "2  (business, education)  \n",
       "3  (business, education)  \n",
       "4  (business, education)  "
      ]
     },
     "execution_count": 63,
     "metadata": {},
     "output_type": "execute_result"
    }
   ],
   "source": [
    "urls_with_categories.head()"
   ]
  },
  {
   "cell_type": "code",
   "execution_count": 64,
   "metadata": {
    "ExecuteTime": {
     "end_time": "2019-08-13T12:08:54.563385Z",
     "start_time": "2019-08-13T12:08:53.213168Z"
    }
   },
   "outputs": [
    {
     "data": {
      "text/plain": [
       "(1050415, 6)"
      ]
     },
     "execution_count": 64,
     "metadata": {},
     "output_type": "execute_result"
    }
   ],
   "source": [
    "urls_sublevel = pd.concat([\n",
    "    urls_email,\n",
    "    urls_productivity,\n",
    "    urls_media_sharing,\n",
    "    urls_social_networking,\n",
    "    urls_news,\n",
    "    urls_translators,\n",
    "    urls_shopping\n",
    "], sort=False).drop_duplicates(['id'])\n",
    "\n",
    "urls_sublevel.shape"
   ]
  },
  {
   "cell_type": "code",
   "execution_count": 65,
   "metadata": {},
   "outputs": [
    {
     "data": {
      "text/html": [
       "<div>\n",
       "<style scoped>\n",
       "    .dataframe tbody tr th:only-of-type {\n",
       "        vertical-align: middle;\n",
       "    }\n",
       "\n",
       "    .dataframe tbody tr th {\n",
       "        vertical-align: top;\n",
       "    }\n",
       "\n",
       "    .dataframe thead th {\n",
       "        text-align: right;\n",
       "    }\n",
       "</style>\n",
       "<table border=\"1\" class=\"dataframe\">\n",
       "  <thead>\n",
       "    <tr style=\"text-align: right;\">\n",
       "      <th></th>\n",
       "      <th>id</th>\n",
       "      <th>url</th>\n",
       "      <th>domain</th>\n",
       "      <th>subdomain</th>\n",
       "      <th>category_names</th>\n",
       "      <th>sub_level_domain</th>\n",
       "    </tr>\n",
       "  </thead>\n",
       "  <tbody>\n",
       "    <tr>\n",
       "      <th>0</th>\n",
       "      <td>1034500040</td>\n",
       "      <td>28061</td>\n",
       "      <td>live.com</td>\n",
       "      <td>bay174.mail.</td>\n",
       "      <td>(email,)</td>\n",
       "      <td>bay174.mail.live.com</td>\n",
       "    </tr>\n",
       "    <tr>\n",
       "      <th>1</th>\n",
       "      <td>1037376788</td>\n",
       "      <td>97009</td>\n",
       "      <td>live.com</td>\n",
       "      <td>dub125.mail.</td>\n",
       "      <td>(email,)</td>\n",
       "      <td>dub125.mail.live.com</td>\n",
       "    </tr>\n",
       "    <tr>\n",
       "      <th>2</th>\n",
       "      <td>1037377304</td>\n",
       "      <td>97009</td>\n",
       "      <td>live.com</td>\n",
       "      <td>dub125.mail.</td>\n",
       "      <td>(email,)</td>\n",
       "      <td>dub125.mail.live.com</td>\n",
       "    </tr>\n",
       "    <tr>\n",
       "      <th>3</th>\n",
       "      <td>1035452643</td>\n",
       "      <td>134272</td>\n",
       "      <td>live.com</td>\n",
       "      <td>dub118.mail.</td>\n",
       "      <td>(email,)</td>\n",
       "      <td>dub118.mail.live.com</td>\n",
       "    </tr>\n",
       "    <tr>\n",
       "      <th>4</th>\n",
       "      <td>1036819471</td>\n",
       "      <td>163690</td>\n",
       "      <td>live.com</td>\n",
       "      <td>dub129.mail.</td>\n",
       "      <td>(email,)</td>\n",
       "      <td>dub129.mail.live.com</td>\n",
       "    </tr>\n",
       "  </tbody>\n",
       "</table>\n",
       "</div>"
      ],
      "text/plain": [
       "           id     url    domain     subdomain category_names  \\\n",
       "0  1034500040   28061  live.com  bay174.mail.       (email,)   \n",
       "1  1037376788   97009  live.com  dub125.mail.       (email,)   \n",
       "2  1037377304   97009  live.com  dub125.mail.       (email,)   \n",
       "3  1035452643  134272  live.com  dub118.mail.       (email,)   \n",
       "4  1036819471  163690  live.com  dub129.mail.       (email,)   \n",
       "\n",
       "       sub_level_domain  \n",
       "0  bay174.mail.live.com  \n",
       "1  dub125.mail.live.com  \n",
       "2  dub125.mail.live.com  \n",
       "3  dub118.mail.live.com  \n",
       "4  dub129.mail.live.com  "
      ]
     },
     "execution_count": 65,
     "metadata": {},
     "output_type": "execute_result"
    }
   ],
   "source": [
    "urls_sublevel.head()"
   ]
  },
  {
   "cell_type": "code",
   "execution_count": 70,
   "metadata": {
    "ExecuteTime": {
     "end_time": "2019-08-13T12:09:18.276712Z",
     "start_time": "2019-08-13T12:08:54.914409Z"
    }
   },
   "outputs": [],
   "source": [
    "urls_with_subdomains = urls_with_categories.merge(\n",
    "    urls_sublevel[['id', 'sub_level_domain', 'category_names']],\n",
    "    on='id',\n",
    "    how='left',\n",
    "    suffixes=('_top', '_sub')\n",
    ")"
   ]
  },
  {
   "cell_type": "code",
   "execution_count": 73,
   "metadata": {
    "ExecuteTime": {
     "end_time": "2019-08-13T12:13:41.850176Z",
     "start_time": "2019-08-13T12:13:36.937436Z"
    }
   },
   "outputs": [],
   "source": [
    "urls_with_subdomains = urls_with_subdomains.assign(\n",
    "                domain = np.where(urls_with_subdomains.sub_level_domain.notnull(), \n",
    "                                  urls_with_subdomains.sub_level_domain, \n",
    "                                  urls_with_subdomains.top_level_domain),\n",
    "                category_names = np.where(urls_with_subdomains.category_names_sub.notnull(), \n",
    "                                          urls_with_subdomains.category_names_sub, \n",
    "                                          urls_with_subdomains.category_names_top))"
   ]
  },
  {
   "cell_type": "code",
   "execution_count": 74,
   "metadata": {
    "ExecuteTime": {
     "end_time": "2019-08-13T12:17:18.603040Z",
     "start_time": "2019-08-13T12:17:13.113018Z"
    },
    "run_control": {
     "frozen": true
    }
   },
   "outputs": [
    {
     "data": {
      "text/html": [
       "<div>\n",
       "<style scoped>\n",
       "    .dataframe tbody tr th:only-of-type {\n",
       "        vertical-align: middle;\n",
       "    }\n",
       "\n",
       "    .dataframe tbody tr th {\n",
       "        vertical-align: top;\n",
       "    }\n",
       "\n",
       "    .dataframe thead th {\n",
       "        text-align: right;\n",
       "    }\n",
       "</style>\n",
       "<table border=\"1\" class=\"dataframe\">\n",
       "  <thead>\n",
       "    <tr style=\"text-align: right;\">\n",
       "      <th></th>\n",
       "      <th>web_visits_id</th>\n",
       "      <th>id</th>\n",
       "      <th>panelist_id</th>\n",
       "      <th>url</th>\n",
       "      <th>used_at</th>\n",
       "      <th>active_seconds</th>\n",
       "      <th>top_level_domain</th>\n",
       "      <th>subdomain</th>\n",
       "      <th>category</th>\n",
       "      <th>category_names_top</th>\n",
       "      <th>sub_level_domain</th>\n",
       "      <th>category_names_sub</th>\n",
       "      <th>domain</th>\n",
       "      <th>category_names</th>\n",
       "    </tr>\n",
       "  </thead>\n",
       "  <tbody>\n",
       "    <tr>\n",
       "      <th>3355632</th>\n",
       "      <td>112461435</td>\n",
       "      <td>1036139439</td>\n",
       "      <td>750</td>\n",
       "      <td>148873</td>\n",
       "      <td>2018-10-06 20:32:39</td>\n",
       "      <td>6</td>\n",
       "      <td>ebay-kleinanzeigen.de</td>\n",
       "      <td>NaN</td>\n",
       "      <td>(business, shopping)</td>\n",
       "      <td>(business, shopping)</td>\n",
       "      <td>NaN</td>\n",
       "      <td>NaN</td>\n",
       "      <td>ebay-kleinanzeigen.de</td>\n",
       "      <td>(business, shopping)</td>\n",
       "    </tr>\n",
       "    <tr>\n",
       "      <th>525092</th>\n",
       "      <td>118215504</td>\n",
       "      <td>1057628044</td>\n",
       "      <td>939</td>\n",
       "      <td>1825604</td>\n",
       "      <td>2018-10-15 19:51:49</td>\n",
       "      <td>24</td>\n",
       "      <td>ebay.de</td>\n",
       "      <td>NaN</td>\n",
       "      <td>(business, shopping)</td>\n",
       "      <td>(business, shopping)</td>\n",
       "      <td>NaN</td>\n",
       "      <td>NaN</td>\n",
       "      <td>ebay.de</td>\n",
       "      <td>(business, shopping)</td>\n",
       "    </tr>\n",
       "    <tr>\n",
       "      <th>7322238</th>\n",
       "      <td>116272616</td>\n",
       "      <td>1031175976</td>\n",
       "      <td>1022</td>\n",
       "      <td>690076</td>\n",
       "      <td>2018-10-04 21:27:39</td>\n",
       "      <td>6</td>\n",
       "      <td>zattoo.com</td>\n",
       "      <td>NaN</td>\n",
       "      <td>(business, entertainment)</td>\n",
       "      <td>(business, entertainment)</td>\n",
       "      <td>NaN</td>\n",
       "      <td>NaN</td>\n",
       "      <td>zattoo.com</td>\n",
       "      <td>(business, entertainment)</td>\n",
       "    </tr>\n",
       "    <tr>\n",
       "      <th>7553734</th>\n",
       "      <td>121144500</td>\n",
       "      <td>1073528195</td>\n",
       "      <td>2030</td>\n",
       "      <td>534759</td>\n",
       "      <td>2018-10-22 23:38:45</td>\n",
       "      <td>10</td>\n",
       "      <td>mailbang.de</td>\n",
       "      <td>NaN</td>\n",
       "      <td>(business, entertainment)</td>\n",
       "      <td>(business, entertainment)</td>\n",
       "      <td>NaN</td>\n",
       "      <td>NaN</td>\n",
       "      <td>mailbang.de</td>\n",
       "      <td>(business, entertainment)</td>\n",
       "    </tr>\n",
       "    <tr>\n",
       "      <th>858499</th>\n",
       "      <td>114137492</td>\n",
       "      <td>1012199736</td>\n",
       "      <td>1095</td>\n",
       "      <td>544882</td>\n",
       "      <td>2018-10-01 11:21:49</td>\n",
       "      <td>16</td>\n",
       "      <td>google.de</td>\n",
       "      <td>NaN</td>\n",
       "      <td>(searchenginesandportals,)</td>\n",
       "      <td>(search-engines and portals,)</td>\n",
       "      <td>NaN</td>\n",
       "      <td>NaN</td>\n",
       "      <td>google.de</td>\n",
       "      <td>(search-engines and portals,)</td>\n",
       "    </tr>\n",
       "  </tbody>\n",
       "</table>\n",
       "</div>"
      ],
      "text/plain": [
       "         web_visits_id          id  panelist_id      url             used_at  \\\n",
       "3355632      112461435  1036139439          750   148873 2018-10-06 20:32:39   \n",
       "525092       118215504  1057628044          939  1825604 2018-10-15 19:51:49   \n",
       "7322238      116272616  1031175976         1022   690076 2018-10-04 21:27:39   \n",
       "7553734      121144500  1073528195         2030   534759 2018-10-22 23:38:45   \n",
       "858499       114137492  1012199736         1095   544882 2018-10-01 11:21:49   \n",
       "\n",
       "         active_seconds       top_level_domain subdomain  \\\n",
       "3355632               6  ebay-kleinanzeigen.de       NaN   \n",
       "525092               24                ebay.de       NaN   \n",
       "7322238               6             zattoo.com       NaN   \n",
       "7553734              10            mailbang.de       NaN   \n",
       "858499               16              google.de       NaN   \n",
       "\n",
       "                           category             category_names_top  \\\n",
       "3355632        (business, shopping)           (business, shopping)   \n",
       "525092         (business, shopping)           (business, shopping)   \n",
       "7322238   (business, entertainment)      (business, entertainment)   \n",
       "7553734   (business, entertainment)      (business, entertainment)   \n",
       "858499   (searchenginesandportals,)  (search-engines and portals,)   \n",
       "\n",
       "        sub_level_domain category_names_sub                 domain  \\\n",
       "3355632              NaN                NaN  ebay-kleinanzeigen.de   \n",
       "525092               NaN                NaN                ebay.de   \n",
       "7322238              NaN                NaN             zattoo.com   \n",
       "7553734              NaN                NaN            mailbang.de   \n",
       "858499               NaN                NaN              google.de   \n",
       "\n",
       "                        category_names  \n",
       "3355632           (business, shopping)  \n",
       "525092            (business, shopping)  \n",
       "7322238      (business, entertainment)  \n",
       "7553734      (business, entertainment)  \n",
       "858499   (search-engines and portals,)  "
      ]
     },
     "execution_count": 74,
     "metadata": {},
     "output_type": "execute_result"
    }
   ],
   "source": [
    "urls_with_subdomains.sample(5)"
   ]
  },
  {
   "cell_type": "markdown",
   "metadata": {},
   "source": [
    "##### Constructing new Time Difference DataFrame of Consecutive Records per User"
   ]
  },
  {
   "cell_type": "code",
   "execution_count": 53,
   "metadata": {},
   "outputs": [],
   "source": [
    "def construct_consecutive_url_dataframe(df):\n",
    "    df = df.sort_values(['panelist_id', 'used_at'])\n",
    "    df = df.assign(\n",
    "            prev_id = df.id.shift().apply(lambda x: 0 if np.isnan(x) else int(x)) * (df.panelist_id == df.panelist_id.shift()),\n",
    "            left_at = df.used_at + df.active_seconds.apply(lambda x: pd.Timedelta(seconds=x)),\n",
    "        )\n",
    "    df = df.assign(\n",
    "            gap_seconds = (df.used_at - df.left_at.shift()).dt.total_seconds().apply(lambda x: 0 if np.isnan(x) else int(x)) * (df.panelist_id == df.panelist_id.shift())\n",
    "                )[['id', 'prev_id', 'panelist_id', 'used_at', 'left_at', 'active_seconds', 'gap_seconds', 'top_level_domain', 'category_names_top',\n",
    "        'sub_level_domain', 'subdomain', 'category_names_sub', 'domain',\n",
    "        'category_names']]\n",
    "    return df"
   ]
  },
  {
   "cell_type": "code",
   "execution_count": 75,
   "metadata": {
    "ExecuteTime": {
     "end_time": "2019-08-13T13:07:49.647533Z",
     "start_time": "2019-08-13T12:56:28.820916Z"
    }
   },
   "outputs": [],
   "source": [
    "urls_with_subdomains_gap = construct_consecutive_url_dataframe(urls_with_subdomains)"
   ]
  },
  {
   "cell_type": "code",
   "execution_count": 76,
   "metadata": {},
   "outputs": [
    {
     "data": {
      "text/plain": [
       "9151243"
      ]
     },
     "execution_count": 76,
     "metadata": {},
     "output_type": "execute_result"
    }
   ],
   "source": [
    "len(urls_with_subdomains_gap)"
   ]
  },
  {
   "cell_type": "code",
   "execution_count": 78,
   "metadata": {},
   "outputs": [
    {
     "data": {
      "text/html": [
       "<div>\n",
       "<style scoped>\n",
       "    .dataframe tbody tr th:only-of-type {\n",
       "        vertical-align: middle;\n",
       "    }\n",
       "\n",
       "    .dataframe tbody tr th {\n",
       "        vertical-align: top;\n",
       "    }\n",
       "\n",
       "    .dataframe thead th {\n",
       "        text-align: right;\n",
       "    }\n",
       "</style>\n",
       "<table border=\"1\" class=\"dataframe\">\n",
       "  <thead>\n",
       "    <tr style=\"text-align: right;\">\n",
       "      <th></th>\n",
       "      <th>id</th>\n",
       "      <th>prev_id</th>\n",
       "      <th>panelist_id</th>\n",
       "      <th>used_at</th>\n",
       "      <th>left_at</th>\n",
       "      <th>active_seconds</th>\n",
       "      <th>gap_seconds</th>\n",
       "      <th>top_level_domain</th>\n",
       "      <th>category_names_top</th>\n",
       "      <th>sub_level_domain</th>\n",
       "      <th>subdomain</th>\n",
       "      <th>category_names_sub</th>\n",
       "      <th>domain</th>\n",
       "      <th>category_names</th>\n",
       "    </tr>\n",
       "  </thead>\n",
       "  <tbody>\n",
       "    <tr>\n",
       "      <th>6393179</th>\n",
       "      <td>1081177039</td>\n",
       "      <td>1081177035</td>\n",
       "      <td>1810</td>\n",
       "      <td>2018-10-25 19:31:14</td>\n",
       "      <td>2018-10-25 19:31:24</td>\n",
       "      <td>10</td>\n",
       "      <td>4</td>\n",
       "      <td>floryday.com</td>\n",
       "      <td>(shopping,)</td>\n",
       "      <td>NaN</td>\n",
       "      <td>NaN</td>\n",
       "      <td>NaN</td>\n",
       "      <td>floryday.com</td>\n",
       "      <td>(shopping,)</td>\n",
       "    </tr>\n",
       "    <tr>\n",
       "      <th>5136981</th>\n",
       "      <td>1014645548</td>\n",
       "      <td>1014645544</td>\n",
       "      <td>1631</td>\n",
       "      <td>2018-10-02 06:48:06</td>\n",
       "      <td>2018-10-02 06:48:16</td>\n",
       "      <td>10</td>\n",
       "      <td>0</td>\n",
       "      <td>kicker.de</td>\n",
       "      <td>(news and media, sports)</td>\n",
       "      <td>NaN</td>\n",
       "      <td>tipp.</td>\n",
       "      <td>NaN</td>\n",
       "      <td>kicker.de</td>\n",
       "      <td>(news and media, sports)</td>\n",
       "    </tr>\n",
       "    <tr>\n",
       "      <th>7854148</th>\n",
       "      <td>1101908400</td>\n",
       "      <td>1101908396</td>\n",
       "      <td>1157</td>\n",
       "      <td>2018-10-31 16:04:19</td>\n",
       "      <td>2018-10-31 16:04:20</td>\n",
       "      <td>1</td>\n",
       "      <td>23</td>\n",
       "      <td>btn-muenzen.de</td>\n",
       "      <td>(business, education, shopping)</td>\n",
       "      <td>NaN</td>\n",
       "      <td>nlt.</td>\n",
       "      <td>NaN</td>\n",
       "      <td>btn-muenzen.de</td>\n",
       "      <td>(business, education, shopping)</td>\n",
       "    </tr>\n",
       "    <tr>\n",
       "      <th>4871679</th>\n",
       "      <td>1075645195</td>\n",
       "      <td>1075645191</td>\n",
       "      <td>651</td>\n",
       "      <td>2018-10-24 13:02:25</td>\n",
       "      <td>2018-10-24 13:02:35</td>\n",
       "      <td>10</td>\n",
       "      <td>0</td>\n",
       "      <td>chefkoch.de</td>\n",
       "      <td>(business, food and recipes)</td>\n",
       "      <td>NaN</td>\n",
       "      <td>NaN</td>\n",
       "      <td>NaN</td>\n",
       "      <td>chefkoch.de</td>\n",
       "      <td>(business, food and recipes)</td>\n",
       "    </tr>\n",
       "    <tr>\n",
       "      <th>2365318</th>\n",
       "      <td>1051212816</td>\n",
       "      <td>1051212812</td>\n",
       "      <td>1148</td>\n",
       "      <td>2018-10-12 05:35:16</td>\n",
       "      <td>2018-10-12 05:35:18</td>\n",
       "      <td>2</td>\n",
       "      <td>0</td>\n",
       "      <td>google.com</td>\n",
       "      <td>(search-engines and portals,)</td>\n",
       "      <td>mail.google.com</td>\n",
       "      <td>mail.</td>\n",
       "      <td>(email,)</td>\n",
       "      <td>mail.google.com</td>\n",
       "      <td>(email,)</td>\n",
       "    </tr>\n",
       "    <tr>\n",
       "      <th>2336115</th>\n",
       "      <td>1092455895</td>\n",
       "      <td>1092455891</td>\n",
       "      <td>2030</td>\n",
       "      <td>2018-10-30 07:03:48</td>\n",
       "      <td>2018-10-30 07:03:50</td>\n",
       "      <td>2</td>\n",
       "      <td>0</td>\n",
       "      <td>google.com</td>\n",
       "      <td>(search-engines and portals,)</td>\n",
       "      <td>mail.google.com</td>\n",
       "      <td>mail.</td>\n",
       "      <td>(email,)</td>\n",
       "      <td>mail.google.com</td>\n",
       "      <td>(email,)</td>\n",
       "    </tr>\n",
       "    <tr>\n",
       "      <th>4751615</th>\n",
       "      <td>1041026143</td>\n",
       "      <td>1041026139</td>\n",
       "      <td>786</td>\n",
       "      <td>2018-10-08 09:51:39</td>\n",
       "      <td>2018-10-08 09:51:45</td>\n",
       "      <td>6</td>\n",
       "      <td>0</td>\n",
       "      <td>comdirect.de</td>\n",
       "      <td>(business, economy and finance)</td>\n",
       "      <td>NaN</td>\n",
       "      <td>kunde.</td>\n",
       "      <td>NaN</td>\n",
       "      <td>comdirect.de</td>\n",
       "      <td>(business, economy and finance)</td>\n",
       "    </tr>\n",
       "    <tr>\n",
       "      <th>8954368</th>\n",
       "      <td>1068241439</td>\n",
       "      <td>1068241435</td>\n",
       "      <td>1988</td>\n",
       "      <td>2018-10-19 21:30:30</td>\n",
       "      <td>2018-10-19 21:30:48</td>\n",
       "      <td>18</td>\n",
       "      <td>0</td>\n",
       "      <td>ratehase.de</td>\n",
       "      <td>(games,)</td>\n",
       "      <td>NaN</td>\n",
       "      <td>NaN</td>\n",
       "      <td>NaN</td>\n",
       "      <td>ratehase.de</td>\n",
       "      <td>(games,)</td>\n",
       "    </tr>\n",
       "    <tr>\n",
       "      <th>1184990</th>\n",
       "      <td>1101027616</td>\n",
       "      <td>1101027612</td>\n",
       "      <td>1022</td>\n",
       "      <td>2018-10-31 10:45:03</td>\n",
       "      <td>2018-10-31 10:45:06</td>\n",
       "      <td>3</td>\n",
       "      <td>2</td>\n",
       "      <td>google.de</td>\n",
       "      <td>(search-engines and portals,)</td>\n",
       "      <td>NaN</td>\n",
       "      <td>NaN</td>\n",
       "      <td>NaN</td>\n",
       "      <td>google.de</td>\n",
       "      <td>(search-engines and portals,)</td>\n",
       "    </tr>\n",
       "    <tr>\n",
       "      <th>7166571</th>\n",
       "      <td>1026141844</td>\n",
       "      <td>1026141840</td>\n",
       "      <td>1023</td>\n",
       "      <td>2018-10-03 08:04:15</td>\n",
       "      <td>2018-10-03 08:04:25</td>\n",
       "      <td>10</td>\n",
       "      <td>224</td>\n",
       "      <td>meinvz.net</td>\n",
       "      <td>(business, education)</td>\n",
       "      <td>NaN</td>\n",
       "      <td>NaN</td>\n",
       "      <td>NaN</td>\n",
       "      <td>meinvz.net</td>\n",
       "      <td>(business, education)</td>\n",
       "    </tr>\n",
       "  </tbody>\n",
       "</table>\n",
       "</div>"
      ],
      "text/plain": [
       "                 id     prev_id  panelist_id             used_at  \\\n",
       "6393179  1081177039  1081177035         1810 2018-10-25 19:31:14   \n",
       "5136981  1014645548  1014645544         1631 2018-10-02 06:48:06   \n",
       "7854148  1101908400  1101908396         1157 2018-10-31 16:04:19   \n",
       "4871679  1075645195  1075645191          651 2018-10-24 13:02:25   \n",
       "2365318  1051212816  1051212812         1148 2018-10-12 05:35:16   \n",
       "2336115  1092455895  1092455891         2030 2018-10-30 07:03:48   \n",
       "4751615  1041026143  1041026139          786 2018-10-08 09:51:39   \n",
       "8954368  1068241439  1068241435         1988 2018-10-19 21:30:30   \n",
       "1184990  1101027616  1101027612         1022 2018-10-31 10:45:03   \n",
       "7166571  1026141844  1026141840         1023 2018-10-03 08:04:15   \n",
       "\n",
       "                    left_at  active_seconds  gap_seconds top_level_domain  \\\n",
       "6393179 2018-10-25 19:31:24              10            4     floryday.com   \n",
       "5136981 2018-10-02 06:48:16              10            0        kicker.de   \n",
       "7854148 2018-10-31 16:04:20               1           23   btn-muenzen.de   \n",
       "4871679 2018-10-24 13:02:35              10            0      chefkoch.de   \n",
       "2365318 2018-10-12 05:35:18               2            0       google.com   \n",
       "2336115 2018-10-30 07:03:50               2            0       google.com   \n",
       "4751615 2018-10-08 09:51:45               6            0     comdirect.de   \n",
       "8954368 2018-10-19 21:30:48              18            0      ratehase.de   \n",
       "1184990 2018-10-31 10:45:06               3            2        google.de   \n",
       "7166571 2018-10-03 08:04:25              10          224       meinvz.net   \n",
       "\n",
       "                      category_names_top sub_level_domain subdomain  \\\n",
       "6393179                      (shopping,)              NaN       NaN   \n",
       "5136981         (news and media, sports)              NaN     tipp.   \n",
       "7854148  (business, education, shopping)              NaN      nlt.   \n",
       "4871679     (business, food and recipes)              NaN       NaN   \n",
       "2365318    (search-engines and portals,)  mail.google.com     mail.   \n",
       "2336115    (search-engines and portals,)  mail.google.com     mail.   \n",
       "4751615  (business, economy and finance)              NaN    kunde.   \n",
       "8954368                         (games,)              NaN       NaN   \n",
       "1184990    (search-engines and portals,)              NaN       NaN   \n",
       "7166571            (business, education)              NaN       NaN   \n",
       "\n",
       "        category_names_sub           domain                   category_names  \n",
       "6393179                NaN     floryday.com                      (shopping,)  \n",
       "5136981                NaN        kicker.de         (news and media, sports)  \n",
       "7854148                NaN   btn-muenzen.de  (business, education, shopping)  \n",
       "4871679                NaN      chefkoch.de     (business, food and recipes)  \n",
       "2365318           (email,)  mail.google.com                         (email,)  \n",
       "2336115           (email,)  mail.google.com                         (email,)  \n",
       "4751615                NaN     comdirect.de  (business, economy and finance)  \n",
       "8954368                NaN      ratehase.de                         (games,)  \n",
       "1184990                NaN        google.de    (search-engines and portals,)  \n",
       "7166571                NaN       meinvz.net            (business, education)  "
      ]
     },
     "execution_count": 78,
     "metadata": {},
     "output_type": "execute_result"
    }
   ],
   "source": [
    "urls_with_subdomains_gap.sample(10)"
   ]
  },
  {
   "cell_type": "code",
   "execution_count": 79,
   "metadata": {
    "ExecuteTime": {
     "end_time": "2019-08-13T13:20:54.665424Z",
     "start_time": "2019-08-13T13:09:00.870346Z"
    }
   },
   "outputs": [],
   "source": [
    "urls_with_subdomains_gap.assign(\n",
    "    category_names_top = lambda df: df.category_names_top.apply(lambda t: None if pd.isnull(t) else ','.join(t)),\n",
    "    category_names_sub = lambda df: df.category_names_sub.apply(lambda t: None if pd.isnull(t) else ','.join(t)),\n",
    "    category_names     = lambda df: df.category_names.apply(lambda t: None if pd.isnull(t) else ','.join(t)),\n",
    "    ) \\\n",
    "    .to_csv(data_directory + \"/pre_processed/browsing_with_gap.csv\", index=False)"
   ]
  }
 ],
 "metadata": {
  "hide_input": false,
  "kernelspec": {
   "display_name": "Python 3",
   "language": "python",
   "name": "python3"
  },
  "language_info": {
   "codemirror_mode": {
    "name": "ipython",
    "version": 3
   },
   "file_extension": ".py",
   "mimetype": "text/x-python",
   "name": "python",
   "nbconvert_exporter": "python",
   "pygments_lexer": "ipython3",
   "version": "3.7.7"
  },
  "toc": {
   "base_numbering": 1,
   "nav_menu": {},
   "number_sections": true,
   "sideBar": true,
   "skip_h1_title": false,
   "title_cell": "Table of Contents",
   "title_sidebar": "Contents",
   "toc_cell": false,
   "toc_position": {
    "height": "calc(100% - 180px)",
    "left": "10px",
    "top": "150px",
    "width": "319.188px"
   },
   "toc_section_display": true,
   "toc_window_display": true
  },
  "varInspector": {
   "cols": {
    "lenName": 16,
    "lenType": 16,
    "lenVar": 40
   },
   "kernels_config": {
    "python": {
     "delete_cmd_postfix": "",
     "delete_cmd_prefix": "del ",
     "library": "var_list.py",
     "varRefreshCmd": "print(var_dic_list())"
    },
    "r": {
     "delete_cmd_postfix": ") ",
     "delete_cmd_prefix": "rm(",
     "library": "var_list.r",
     "varRefreshCmd": "cat(var_dic_list()) "
    }
   },
   "types_to_exclude": [
    "module",
    "function",
    "builtin_function_or_method",
    "instance",
    "_Feature"
   ],
   "window_display": false
  }
 },
 "nbformat": 4,
 "nbformat_minor": 2
}
