{
 "cells": [
  {
   "cell_type": "code",
   "execution_count": 1,
   "metadata": {
    "ExecuteTime": {
     "end_time": "2020-01-09T15:35:53.249828Z",
     "start_time": "2020-01-09T15:35:50.401266Z"
    }
   },
   "outputs": [],
   "source": [
    "import pandas as pd\n",
    "import multiprocessing as mp\n",
    "import glob\n",
    "from functools import partial, reduce\n",
    "from functional import seq\n",
    "import seaborn as sns"
   ]
  },
  {
   "cell_type": "code",
   "execution_count": 2,
   "metadata": {},
   "outputs": [],
   "source": [
    "import numpy as np"
   ]
  },
  {
   "cell_type": "markdown",
   "metadata": {},
   "source": [
    "# Load data"
   ]
  },
  {
   "cell_type": "code",
   "execution_count": 3,
   "metadata": {},
   "outputs": [],
   "source": [
    "data_directory = \"/bigdata/web_tracking/data/release/\""
   ]
  },
  {
   "cell_type": "code",
   "execution_count": 4,
   "metadata": {},
   "outputs": [],
   "source": [
    "users = pd.read_csv(data_directory + '/raw/users.csv')"
   ]
  },
  {
   "cell_type": "code",
   "execution_count": 5,
   "metadata": {},
   "outputs": [],
   "source": [
    "urls = pd.read_csv(\n",
    "    data_directory + '/raw/browsing.csv', dtype={'id': int, 'web_visits_id': int}, parse_dates=['used_at'])"
   ]
  },
  {
   "cell_type": "code",
   "execution_count": 6,
   "metadata": {
    "ExecuteTime": {
     "end_time": "2019-09-27T11:42:25.653227Z",
     "start_time": "2019-09-27T11:42:25.420820Z"
    },
    "run_control": {
     "frozen": true
    }
   },
   "outputs": [],
   "source": [
    "domain_categories = pd.read_csv(\n",
    "    data_directory + '/raw/domain_categories.csv', converters={'category': lambda x: tuple(sorted(x.split(',')))})"
   ]
  },
  {
   "cell_type": "markdown",
   "metadata": {},
   "source": [
    "# Defining the category of a website"
   ]
  },
  {
   "cell_type": "markdown",
   "metadata": {},
   "source": [
    "Cleaning up a bit the data:"
   ]
  },
  {
   "cell_type": "code",
   "execution_count": 7,
   "metadata": {
    "ExecuteTime": {
     "end_time": "2019-09-27T11:42:28.183805Z",
     "start_time": "2019-09-27T11:42:28.011466Z"
    },
    "run_control": {
     "frozen": true
    }
   },
   "outputs": [],
   "source": [
    "words_dashed = ['black', 'content', 'illegal', 'information', 'job', 'media', \n",
    "                'message', 'filter', 'real', 'search', 'social', 'streaming', 'virtual']\n",
    "\n",
    "def put_dash(words_dashed, text):\n",
    "    temp = list(filter(lambda w: text.startswith(w), words_dashed))\n",
    "    return text if len(temp) < 1 else text.replace(temp[0], f'{temp[0]}-')\n",
    "\n",
    "\n",
    "words_replaced = [('food', 'food and recipes'), ('filteravoidance', 'proxy and filter-avoidance'), \n",
    "                  ('translation', 'translators'), ('sport', 'sports')]\n",
    "\n",
    "def replace(words_replaced, text):\n",
    "    temp = list(filter(lambda p: p[0] in text, words_replaced))\n",
    "    return text if len(temp) < 1 else temp[0][1]\n",
    "    \n",
    "\n",
    "dash = partial(put_dash, words_dashed)\n",
    "words = partial(replace, words_replaced)\n",
    "\n",
    "categories = pd.DataFrame(seq(domain_categories.category).reduce(lambda acc, i: acc.union( set(i)), set()), columns=['raw']) \\\n",
    "                .sort_values('raw') \\\n",
    "                .assign(name=lambda df: df.raw.apply(lambda x: words(dash(x.replace('and', ' and '))))) \\\n",
    "                .assign(id=lambda df: (df.name != df.name.shift()).cumsum())"
   ]
  },
  {
   "cell_type": "markdown",
   "metadata": {
    "run_control": {
     "frozen": true
    }
   },
   "source": [
    "#### Add Category Manually"
   ]
  },
  {
   "cell_type": "markdown",
   "metadata": {},
   "source": [
    "We will add two new categories: email and productivity."
   ]
  },
  {
   "cell_type": "code",
   "execution_count": 8,
   "metadata": {
    "ExecuteTime": {
     "end_time": "2019-09-27T11:42:37.417388Z",
     "start_time": "2019-09-27T11:42:37.393236Z"
    },
    "run_control": {
     "frozen": true
    }
   },
   "outputs": [],
   "source": [
    "categories = categories.append(\n",
    "    pd.DataFrame([(None, 'email', 0), (None, 'productivity', 0)], \n",
    "                 columns=['raw', 'name', 'id'])).sort_values(['name', 'raw']).assign(\n",
    "    id=lambda df: (df.name != df.name.shift()).cumsum())"
   ]
  },
  {
   "cell_type": "markdown",
   "metadata": {},
   "source": [
    "Let's export this:"
   ]
  },
  {
   "cell_type": "code",
   "execution_count": 9,
   "metadata": {
    "ExecuteTime": {
     "end_time": "2019-09-27T11:42:40.706174Z",
     "start_time": "2019-09-27T11:42:40.698711Z"
    },
    "run_control": {
     "frozen": true
    }
   },
   "outputs": [],
   "source": [
    "categories.to_csv(data_directory + '/pre_processed/categories.csv', index=False)"
   ]
  },
  {
   "cell_type": "markdown",
   "metadata": {},
   "source": [
    "#### Rebuild Domain Categories\n",
    "\n",
    "- There was domain-category_ids match, now it's domain-category_names"
   ]
  },
  {
   "cell_type": "code",
   "execution_count": 10,
   "metadata": {
    "ExecuteTime": {
     "end_time": "2019-08-13T09:28:53.226975Z",
     "start_time": "2019-08-13T09:20:43.146965Z"
    },
    "run_control": {
     "frozen": true
    }
   },
   "outputs": [],
   "source": [
    "def find_category_names(categories, t):\n",
    "    return tuple(map(lambda c: categories.query(f\"raw == '{c}'\").iloc[0, 1], t))\n",
    "\n",
    "category = partial(find_category_names, categories)\n",
    "domain_categories = domain_categories.assign(category_names=domain_categories.category.apply(category))"
   ]
  },
  {
   "cell_type": "markdown",
   "metadata": {},
   "source": [
    "Exporting the data:"
   ]
  },
  {
   "cell_type": "code",
   "execution_count": 11,
   "metadata": {
    "ExecuteTime": {
     "end_time": "2019-08-13T09:30:19.450246Z",
     "start_time": "2019-08-13T09:30:19.170691Z"
    },
    "run_control": {
     "frozen": true
    }
   },
   "outputs": [],
   "source": [
    "domain_categories_processed = domain_categories[['domain', 'category_names']].assign(\n",
    "    category_names=lambda df: df.category_names.apply(lambda l: ','.join(l)))\n",
    "\n",
    "domain_categories_processed.to_csv(data_directory + '/pre_processed/processed_domain_categories.csv', index=False)"
   ]
  },
  {
   "cell_type": "markdown",
   "metadata": {},
   "source": [
    "# Adding category info related to the subdomains"
   ]
  },
  {
   "cell_type": "code",
   "execution_count": 12,
   "metadata": {},
   "outputs": [],
   "source": [
    "subdomains = urls[~urls.subdomain.isna()][[\"id\", \"url\", \"domain\", \"subdomain\"]].copy()\n",
    "subdomains = subdomains.merge(domain_categories_processed, on='domain')"
   ]
  },
  {
   "cell_type": "markdown",
   "metadata": {},
   "source": [
    "### Examining 'mail' subdomains\n",
    "\n",
    "1. Large companies which provide email services such as Google, Yahoo, T-Online, Vodafoen, GMX, Web.de.\n",
    "2. Universities in Germany provide email services.\n",
    "3. Other subdomains are seen in websites for the business purposes, i.e. subscription, login to buy, etc."
   ]
  },
  {
   "cell_type": "code",
   "execution_count": 13,
   "metadata": {
    "ExecuteTime": {
     "end_time": "2019-08-13T09:55:16.921780Z",
     "start_time": "2019-08-13T09:55:16.914631Z"
    }
   },
   "outputs": [],
   "source": [
    "def get_subdomains(df, main, sub): \n",
    "    return df[(df.domain == main) & (df.subdomain.str.contains(sub))]"
   ]
  },
  {
   "cell_type": "markdown",
   "metadata": {},
   "source": [
    "Let's see the ones that contains `mail`:"
   ]
  },
  {
   "cell_type": "code",
   "execution_count": 14,
   "metadata": {
    "ExecuteTime": {
     "end_time": "2019-08-06T09:00:51.089694Z",
     "start_time": "2019-08-06T09:00:49.285201Z"
    },
    "run_control": {
     "frozen": true
    }
   },
   "outputs": [],
   "source": [
    "mail_subdomains = subdomains[subdomains.subdomain.str.contains('mail')]\n",
    "top_mail_subdomains = mail_subdomains.groupby('domain', as_index=False).agg({'url': 'count'}).nlargest(400, 'url')\n",
    "top_mail_subdomains.to_csv(data_directory + '/pre_processed/domains_containing_mail_raw.csv', index=False)"
   ]
  },
  {
   "cell_type": "markdown",
   "metadata": {},
   "source": [
    "Next, we manually curated this .csv in order to generate a new file named `domains_contain_mail.csv`.\n",
    "\n",
    "The method: \n",
    "- Look at the top domains with subdomain that has _mail_ string.\n",
    "- If sample urls belong the domain seem meaningful urls, then check domain as email.\n",
    "- Totally, 400 domain were evaluated manually."
   ]
  },
  {
   "cell_type": "markdown",
   "metadata": {},
   "source": [
    "### Creating subdomains of different types"
   ]
  },
  {
   "cell_type": "markdown",
   "metadata": {
    "ExecuteTime": {
     "end_time": "2019-08-13T09:59:13.190907Z",
     "start_time": "2019-08-13T09:59:13.178462Z"
    }
   },
   "source": [
    "* Emails Domains"
   ]
  },
  {
   "cell_type": "code",
   "execution_count": 15,
   "metadata": {
    "ExecuteTime": {
     "end_time": "2019-08-13T11:27:34.481270Z",
     "start_time": "2019-08-13T11:27:09.480352Z"
    }
   },
   "outputs": [],
   "source": [
    "urls_email = pd.concat(\n",
    "    [\n",
    "        subdomains[(subdomains.subdomain.str.endswith('mail.'))]\n",
    "            .merge(pd.read_csv(data_directory + '/pre_processed/domains_containing_mail.csv', \n",
    "                               usecols=['domain', 'is_email']).query('is_email == 1'), on='domain')\n",
    "            .drop(columns=['is_email']),\n",
    "        get_subdomains(subdomains, 'google.com', 'accounts.'),\n",
    "        get_subdomains(subdomains, 'web.de', 'navigator.'),\n",
    "        get_subdomains(subdomains, 'yahoo.com', 'login.'),\n",
    "        get_subdomains(subdomains, 'live.com', 'outlook.'),\n",
    "        get_subdomains(subdomains, 'live.com', 'login.'),\n",
    "        get_subdomains(subdomains, 'live.com', 'account.'),\n",
    "        get_subdomains(subdomains, 'live.com', 'signup.'),\n",
    "        get_subdomains(subdomains, 'gmx.net', 'navigator.'),\n",
    "        get_subdomains(subdomains, 'aol.com', 'login.'),\n",
    "    ],\n",
    "    sort=False\n",
    ") \\\n",
    "    .assign(\n",
    "        sub_level_domain=lambda df: df.subdomain + df.domain,\n",
    "        category_names=lambda df: df.category_names.apply(\n",
    "            lambda x: tuple(['email']))\n",
    ").drop_duplicates(['id'])"
   ]
  },
  {
   "cell_type": "code",
   "execution_count": 16,
   "metadata": {
    "ExecuteTime": {
     "end_time": "2019-08-13T11:27:34.881569Z",
     "start_time": "2019-08-13T11:27:34.873799Z"
    }
   },
   "outputs": [
    {
     "data": {
      "text/plain": [
       "(970034, 6)"
      ]
     },
     "execution_count": 16,
     "metadata": {},
     "output_type": "execute_result"
    }
   ],
   "source": [
    "urls_email.shape"
   ]
  },
  {
   "cell_type": "markdown",
   "metadata": {},
   "source": [
    "* Productivity domains"
   ]
  },
  {
   "cell_type": "code",
   "execution_count": 17,
   "metadata": {
    "ExecuteTime": {
     "end_time": "2019-08-13T11:27:57.954456Z",
     "start_time": "2019-08-13T11:27:51.032210Z"
    }
   },
   "outputs": [
    {
     "data": {
      "text/html": [
       "<div>\n",
       "<style scoped>\n",
       "    .dataframe tbody tr th:only-of-type {\n",
       "        vertical-align: middle;\n",
       "    }\n",
       "\n",
       "    .dataframe tbody tr th {\n",
       "        vertical-align: top;\n",
       "    }\n",
       "\n",
       "    .dataframe thead th {\n",
       "        text-align: right;\n",
       "    }\n",
       "</style>\n",
       "<table border=\"1\" class=\"dataframe\">\n",
       "  <thead>\n",
       "    <tr style=\"text-align: right;\">\n",
       "      <th></th>\n",
       "      <th>id</th>\n",
       "      <th>url</th>\n",
       "      <th>domain</th>\n",
       "      <th>subdomain</th>\n",
       "      <th>category_names</th>\n",
       "      <th>sub_level_domain</th>\n",
       "    </tr>\n",
       "  </thead>\n",
       "  <tbody>\n",
       "    <tr>\n",
       "      <th>308652</th>\n",
       "      <td>1067791239</td>\n",
       "      <td>1051031</td>\n",
       "      <td>google.com</td>\n",
       "      <td>calendar.</td>\n",
       "      <td>(productivity,)</td>\n",
       "      <td>calendar.google.com</td>\n",
       "    </tr>\n",
       "    <tr>\n",
       "      <th>428968</th>\n",
       "      <td>1064471468</td>\n",
       "      <td>66150</td>\n",
       "      <td>google.com</td>\n",
       "      <td>docs.</td>\n",
       "      <td>(productivity,)</td>\n",
       "      <td>docs.google.com</td>\n",
       "    </tr>\n",
       "    <tr>\n",
       "      <th>288104</th>\n",
       "      <td>1064202699</td>\n",
       "      <td>96918</td>\n",
       "      <td>google.com</td>\n",
       "      <td>docs.</td>\n",
       "      <td>(productivity,)</td>\n",
       "      <td>docs.google.com</td>\n",
       "    </tr>\n",
       "    <tr>\n",
       "      <th>286383</th>\n",
       "      <td>1027171508</td>\n",
       "      <td>1089930</td>\n",
       "      <td>google.com</td>\n",
       "      <td>calendar.</td>\n",
       "      <td>(productivity,)</td>\n",
       "      <td>calendar.google.com</td>\n",
       "    </tr>\n",
       "    <tr>\n",
       "      <th>544224</th>\n",
       "      <td>1090594048</td>\n",
       "      <td>1188474</td>\n",
       "      <td>google.com</td>\n",
       "      <td>docs.</td>\n",
       "      <td>(productivity,)</td>\n",
       "      <td>docs.google.com</td>\n",
       "    </tr>\n",
       "  </tbody>\n",
       "</table>\n",
       "</div>"
      ],
      "text/plain": [
       "                id      url      domain  subdomain   category_names  \\\n",
       "308652  1067791239  1051031  google.com  calendar.  (productivity,)   \n",
       "428968  1064471468    66150  google.com      docs.  (productivity,)   \n",
       "288104  1064202699    96918  google.com      docs.  (productivity,)   \n",
       "286383  1027171508  1089930  google.com  calendar.  (productivity,)   \n",
       "544224  1090594048  1188474  google.com      docs.  (productivity,)   \n",
       "\n",
       "           sub_level_domain  \n",
       "308652  calendar.google.com  \n",
       "428968      docs.google.com  \n",
       "288104      docs.google.com  \n",
       "286383  calendar.google.com  \n",
       "544224      docs.google.com  "
      ]
     },
     "execution_count": 17,
     "metadata": {},
     "output_type": "execute_result"
    }
   ],
   "source": [
    "urls_productivity = pd.concat([\n",
    "    get_subdomains(subdomains, 'google.com', 'docs.'),\n",
    "    get_subdomains(subdomains, 'google.com', 'calendar.'),\n",
    "    get_subdomains(subdomains, 'google.com', 'office.'),\n",
    "],\n",
    "    sort=False \n",
    ") \\\n",
    "    .assign(\n",
    "        sub_level_domain=lambda df: df.subdomain + df.domain,\n",
    "        category_names=lambda df: df.category_names.apply(\n",
    "            lambda x: tuple(['productivity']))\n",
    ").drop_duplicates(['id'])\n",
    "\n",
    "urls_productivity.sample(5)"
   ]
  },
  {
   "cell_type": "code",
   "execution_count": 18,
   "metadata": {
    "ExecuteTime": {
     "end_time": "2019-08-13T11:27:42.790204Z",
     "start_time": "2019-08-13T11:27:42.781566Z"
    }
   },
   "outputs": [
    {
     "data": {
      "text/plain": [
       "(25244, 6)"
      ]
     },
     "execution_count": 18,
     "metadata": {},
     "output_type": "execute_result"
    }
   ],
   "source": [
    "urls_productivity.shape"
   ]
  },
  {
   "cell_type": "markdown",
   "metadata": {},
   "source": [
    "* Media sharing domains"
   ]
  },
  {
   "cell_type": "code",
   "execution_count": 19,
   "metadata": {
    "ExecuteTime": {
     "end_time": "2019-08-13T11:28:06.848303Z",
     "start_time": "2019-08-13T11:27:58.294946Z"
    },
    "scrolled": true
   },
   "outputs": [
    {
     "data": {
      "text/html": [
       "<div>\n",
       "<style scoped>\n",
       "    .dataframe tbody tr th:only-of-type {\n",
       "        vertical-align: middle;\n",
       "    }\n",
       "\n",
       "    .dataframe tbody tr th {\n",
       "        vertical-align: top;\n",
       "    }\n",
       "\n",
       "    .dataframe thead th {\n",
       "        text-align: right;\n",
       "    }\n",
       "</style>\n",
       "<table border=\"1\" class=\"dataframe\">\n",
       "  <thead>\n",
       "    <tr style=\"text-align: right;\">\n",
       "      <th></th>\n",
       "      <th>id</th>\n",
       "      <th>url</th>\n",
       "      <th>domain</th>\n",
       "      <th>subdomain</th>\n",
       "      <th>category_names</th>\n",
       "      <th>sub_level_domain</th>\n",
       "    </tr>\n",
       "  </thead>\n",
       "  <tbody>\n",
       "    <tr>\n",
       "      <th>297006</th>\n",
       "      <td>1028840692</td>\n",
       "      <td>1153847</td>\n",
       "      <td>google.com</td>\n",
       "      <td>photos.</td>\n",
       "      <td>(media-sharing,)</td>\n",
       "      <td>photos.google.com</td>\n",
       "    </tr>\n",
       "    <tr>\n",
       "      <th>436139</th>\n",
       "      <td>1066398496</td>\n",
       "      <td>2000716</td>\n",
       "      <td>google.com</td>\n",
       "      <td>photos.</td>\n",
       "      <td>(media-sharing,)</td>\n",
       "      <td>photos.google.com</td>\n",
       "    </tr>\n",
       "    <tr>\n",
       "      <th>31205</th>\n",
       "      <td>1049295811</td>\n",
       "      <td>1439</td>\n",
       "      <td>live.com</td>\n",
       "      <td>onedrive.</td>\n",
       "      <td>(media-sharing,)</td>\n",
       "      <td>onedrive.live.com</td>\n",
       "    </tr>\n",
       "    <tr>\n",
       "      <th>290405</th>\n",
       "      <td>1064738463</td>\n",
       "      <td>1121144</td>\n",
       "      <td>google.com</td>\n",
       "      <td>photos.</td>\n",
       "      <td>(media-sharing,)</td>\n",
       "      <td>photos.google.com</td>\n",
       "    </tr>\n",
       "    <tr>\n",
       "      <th>511548</th>\n",
       "      <td>1080170627</td>\n",
       "      <td>2479906</td>\n",
       "      <td>google.com</td>\n",
       "      <td>photos.</td>\n",
       "      <td>(media-sharing,)</td>\n",
       "      <td>photos.google.com</td>\n",
       "    </tr>\n",
       "  </tbody>\n",
       "</table>\n",
       "</div>"
      ],
      "text/plain": [
       "                id      url      domain  subdomain    category_names  \\\n",
       "297006  1028840692  1153847  google.com    photos.  (media-sharing,)   \n",
       "436139  1066398496  2000716  google.com    photos.  (media-sharing,)   \n",
       "31205   1049295811     1439    live.com  onedrive.  (media-sharing,)   \n",
       "290405  1064738463  1121144  google.com    photos.  (media-sharing,)   \n",
       "511548  1080170627  2479906  google.com    photos.  (media-sharing,)   \n",
       "\n",
       "         sub_level_domain  \n",
       "297006  photos.google.com  \n",
       "436139  photos.google.com  \n",
       "31205   onedrive.live.com  \n",
       "290405  photos.google.com  \n",
       "511548  photos.google.com  "
      ]
     },
     "execution_count": 19,
     "metadata": {},
     "output_type": "execute_result"
    }
   ],
   "source": [
    "urls_media_sharing = pd.concat([\n",
    "    get_subdomains(subdomains, 'google.com', 'photos.'),\n",
    "    get_subdomains(subdomains, 'google.com', 'drive.'),\n",
    "    get_subdomains(subdomains, 'live.com', 'onedrive.'),\n",
    "],\n",
    "    sort=False \n",
    ") \\\n",
    "    .assign(\n",
    "        sub_level_domain=lambda df: df.subdomain + df.domain,\n",
    "        category_names=lambda df: df.category_names.apply(\n",
    "            lambda x: tuple(['media-sharing']))\n",
    ").drop_duplicates(['id'])\n",
    "\n",
    "urls_media_sharing.sample(5)"
   ]
  },
  {
   "cell_type": "code",
   "execution_count": 20,
   "metadata": {
    "ExecuteTime": {
     "end_time": "2019-08-13T11:28:07.197961Z",
     "start_time": "2019-08-13T11:28:07.189108Z"
    }
   },
   "outputs": [
    {
     "data": {
      "text/plain": [
       "(15375, 6)"
      ]
     },
     "execution_count": 20,
     "metadata": {},
     "output_type": "execute_result"
    }
   ],
   "source": [
    "urls_media_sharing.shape"
   ]
  },
  {
   "cell_type": "markdown",
   "metadata": {},
   "source": [
    "* Social networking domains"
   ]
  },
  {
   "cell_type": "code",
   "execution_count": 21,
   "metadata": {
    "ExecuteTime": {
     "end_time": "2019-08-13T11:28:14.313916Z",
     "start_time": "2019-08-13T11:28:07.602310Z"
    }
   },
   "outputs": [
    {
     "data": {
      "text/html": [
       "<div>\n",
       "<style scoped>\n",
       "    .dataframe tbody tr th:only-of-type {\n",
       "        vertical-align: middle;\n",
       "    }\n",
       "\n",
       "    .dataframe tbody tr th {\n",
       "        vertical-align: top;\n",
       "    }\n",
       "\n",
       "    .dataframe thead th {\n",
       "        text-align: right;\n",
       "    }\n",
       "</style>\n",
       "<table border=\"1\" class=\"dataframe\">\n",
       "  <thead>\n",
       "    <tr style=\"text-align: right;\">\n",
       "      <th></th>\n",
       "      <th>id</th>\n",
       "      <th>url</th>\n",
       "      <th>domain</th>\n",
       "      <th>subdomain</th>\n",
       "      <th>category_names</th>\n",
       "      <th>sub_level_domain</th>\n",
       "    </tr>\n",
       "  </thead>\n",
       "  <tbody>\n",
       "    <tr>\n",
       "      <th>155910</th>\n",
       "      <td>1037177887</td>\n",
       "      <td>47583</td>\n",
       "      <td>google.com</td>\n",
       "      <td>plus.</td>\n",
       "      <td>(social-networking,)</td>\n",
       "      <td>plus.google.com</td>\n",
       "    </tr>\n",
       "    <tr>\n",
       "      <th>320918</th>\n",
       "      <td>1074926391</td>\n",
       "      <td>294048</td>\n",
       "      <td>google.com</td>\n",
       "      <td>plus.</td>\n",
       "      <td>(social-networking,)</td>\n",
       "      <td>plus.google.com</td>\n",
       "    </tr>\n",
       "    <tr>\n",
       "      <th>417045</th>\n",
       "      <td>1061936516</td>\n",
       "      <td>294048</td>\n",
       "      <td>google.com</td>\n",
       "      <td>plus.</td>\n",
       "      <td>(social-networking,)</td>\n",
       "      <td>plus.google.com</td>\n",
       "    </tr>\n",
       "    <tr>\n",
       "      <th>357595</th>\n",
       "      <td>1043541864</td>\n",
       "      <td>15102</td>\n",
       "      <td>google.com</td>\n",
       "      <td>plus.</td>\n",
       "      <td>(social-networking,)</td>\n",
       "      <td>plus.google.com</td>\n",
       "    </tr>\n",
       "    <tr>\n",
       "      <th>168243</th>\n",
       "      <td>1041417979</td>\n",
       "      <td>270266</td>\n",
       "      <td>google.com</td>\n",
       "      <td>plus.</td>\n",
       "      <td>(social-networking,)</td>\n",
       "      <td>plus.google.com</td>\n",
       "    </tr>\n",
       "  </tbody>\n",
       "</table>\n",
       "</div>"
      ],
      "text/plain": [
       "                id     url      domain subdomain        category_names  \\\n",
       "155910  1037177887   47583  google.com     plus.  (social-networking,)   \n",
       "320918  1074926391  294048  google.com     plus.  (social-networking,)   \n",
       "417045  1061936516  294048  google.com     plus.  (social-networking,)   \n",
       "357595  1043541864   15102  google.com     plus.  (social-networking,)   \n",
       "168243  1041417979  270266  google.com     plus.  (social-networking,)   \n",
       "\n",
       "       sub_level_domain  \n",
       "155910  plus.google.com  \n",
       "320918  plus.google.com  \n",
       "417045  plus.google.com  \n",
       "357595  plus.google.com  \n",
       "168243  plus.google.com  "
      ]
     },
     "execution_count": 21,
     "metadata": {},
     "output_type": "execute_result"
    }
   ],
   "source": [
    "urls_social_networking = pd.concat([\n",
    "    get_subdomains(subdomains, 'google.com', 'plus.'),\n",
    "    get_subdomains(subdomains, 'yahoo.com', 'drive.'),\n",
    "    get_subdomains(subdomains, 'vodafone.de', 'groups.'),\n",
    "],\n",
    "    sort=False \n",
    ") \\\n",
    "    .assign(\n",
    "        sub_level_domain=lambda df: df.subdomain + df.domain,\n",
    "        category_names=lambda df: df.category_names.apply(\n",
    "            lambda x: tuple(['social-networking']))\n",
    ").drop_duplicates(['id'])\n",
    "\n",
    "urls_social_networking.sample(5)"
   ]
  },
  {
   "cell_type": "code",
   "execution_count": 22,
   "metadata": {
    "ExecuteTime": {
     "end_time": "2019-08-13T11:28:14.732258Z",
     "start_time": "2019-08-13T11:28:14.724997Z"
    }
   },
   "outputs": [
    {
     "data": {
      "text/plain": [
       "(2285, 6)"
      ]
     },
     "execution_count": 22,
     "metadata": {},
     "output_type": "execute_result"
    }
   ],
   "source": [
    "urls_social_networking.shape"
   ]
  },
  {
   "cell_type": "markdown",
   "metadata": {},
   "source": [
    "* News domains"
   ]
  },
  {
   "cell_type": "code",
   "execution_count": 23,
   "metadata": {
    "ExecuteTime": {
     "end_time": "2019-08-13T11:28:23.189773Z",
     "start_time": "2019-08-13T11:28:15.201798Z"
    }
   },
   "outputs": [
    {
     "data": {
      "text/html": [
       "<div>\n",
       "<style scoped>\n",
       "    .dataframe tbody tr th:only-of-type {\n",
       "        vertical-align: middle;\n",
       "    }\n",
       "\n",
       "    .dataframe tbody tr th {\n",
       "        vertical-align: top;\n",
       "    }\n",
       "\n",
       "    .dataframe thead th {\n",
       "        text-align: right;\n",
       "    }\n",
       "</style>\n",
       "<table border=\"1\" class=\"dataframe\">\n",
       "  <thead>\n",
       "    <tr style=\"text-align: right;\">\n",
       "      <th></th>\n",
       "      <th>id</th>\n",
       "      <th>url</th>\n",
       "      <th>domain</th>\n",
       "      <th>subdomain</th>\n",
       "      <th>category_names</th>\n",
       "      <th>sub_level_domain</th>\n",
       "    </tr>\n",
       "  </thead>\n",
       "  <tbody>\n",
       "    <tr>\n",
       "      <th>565595</th>\n",
       "      <td>1094163704</td>\n",
       "      <td>2828095</td>\n",
       "      <td>google.com</td>\n",
       "      <td>news.</td>\n",
       "      <td>(news,)</td>\n",
       "      <td>news.google.com</td>\n",
       "    </tr>\n",
       "    <tr>\n",
       "      <th>483045</th>\n",
       "      <td>1071245947</td>\n",
       "      <td>25409</td>\n",
       "      <td>google.com</td>\n",
       "      <td>news.</td>\n",
       "      <td>(news,)</td>\n",
       "      <td>news.google.com</td>\n",
       "    </tr>\n",
       "    <tr>\n",
       "      <th>205976</th>\n",
       "      <td>1050720735</td>\n",
       "      <td>144882</td>\n",
       "      <td>google.com</td>\n",
       "      <td>news.</td>\n",
       "      <td>(news,)</td>\n",
       "      <td>news.google.com</td>\n",
       "    </tr>\n",
       "    <tr>\n",
       "      <th>361825</th>\n",
       "      <td>1044393412</td>\n",
       "      <td>25409</td>\n",
       "      <td>google.com</td>\n",
       "      <td>news.</td>\n",
       "      <td>(news,)</td>\n",
       "      <td>news.google.com</td>\n",
       "    </tr>\n",
       "    <tr>\n",
       "      <th>360492</th>\n",
       "      <td>1090280939</td>\n",
       "      <td>144856</td>\n",
       "      <td>google.com</td>\n",
       "      <td>news.</td>\n",
       "      <td>(news,)</td>\n",
       "      <td>news.google.com</td>\n",
       "    </tr>\n",
       "  </tbody>\n",
       "</table>\n",
       "</div>"
      ],
      "text/plain": [
       "                id      url      domain subdomain category_names  \\\n",
       "565595  1094163704  2828095  google.com     news.        (news,)   \n",
       "483045  1071245947    25409  google.com     news.        (news,)   \n",
       "205976  1050720735   144882  google.com     news.        (news,)   \n",
       "361825  1044393412    25409  google.com     news.        (news,)   \n",
       "360492  1090280939   144856  google.com     news.        (news,)   \n",
       "\n",
       "       sub_level_domain  \n",
       "565595  news.google.com  \n",
       "483045  news.google.com  \n",
       "205976  news.google.com  \n",
       "361825  news.google.com  \n",
       "360492  news.google.com  "
      ]
     },
     "execution_count": 23,
     "metadata": {},
     "output_type": "execute_result"
    }
   ],
   "source": [
    "urls_news = pd.concat([\n",
    "    get_subdomains(subdomains, 'google.com', 'news.'),\n",
    "    get_subdomains(subdomains, 'vodafone.de', 'magazin.'),\n",
    "    get_subdomains(subdomains, 'vodafone.de', 'x.enews.'),\n",
    "],\n",
    "    sort=False \n",
    ") \\\n",
    "    .assign(\n",
    "        sub_level_domain=lambda df: df.subdomain + df.domain,\n",
    "        category_names=lambda df: df.category_names.apply(\n",
    "            lambda x: tuple(['news']))\n",
    ").drop_duplicates(['id'])\n",
    "\n",
    "urls_news.sample(5)"
   ]
  },
  {
   "cell_type": "code",
   "execution_count": 24,
   "metadata": {
    "ExecuteTime": {
     "end_time": "2019-08-13T11:28:23.709964Z",
     "start_time": "2019-08-13T11:28:23.701979Z"
    }
   },
   "outputs": [
    {
     "data": {
      "text/plain": [
       "(6165, 6)"
      ]
     },
     "execution_count": 24,
     "metadata": {},
     "output_type": "execute_result"
    }
   ],
   "source": [
    "urls_news.shape"
   ]
  },
  {
   "cell_type": "markdown",
   "metadata": {},
   "source": [
    "* Translators domains"
   ]
  },
  {
   "cell_type": "code",
   "execution_count": 25,
   "metadata": {
    "ExecuteTime": {
     "end_time": "2019-08-13T11:28:26.113985Z",
     "start_time": "2019-08-13T11:28:24.168315Z"
    }
   },
   "outputs": [
    {
     "data": {
      "text/html": [
       "<div>\n",
       "<style scoped>\n",
       "    .dataframe tbody tr th:only-of-type {\n",
       "        vertical-align: middle;\n",
       "    }\n",
       "\n",
       "    .dataframe tbody tr th {\n",
       "        vertical-align: top;\n",
       "    }\n",
       "\n",
       "    .dataframe thead th {\n",
       "        text-align: right;\n",
       "    }\n",
       "</style>\n",
       "<table border=\"1\" class=\"dataframe\">\n",
       "  <thead>\n",
       "    <tr style=\"text-align: right;\">\n",
       "      <th></th>\n",
       "      <th>id</th>\n",
       "      <th>url</th>\n",
       "      <th>domain</th>\n",
       "      <th>subdomain</th>\n",
       "      <th>category_names</th>\n",
       "      <th>sub_level_domain</th>\n",
       "    </tr>\n",
       "  </thead>\n",
       "  <tbody>\n",
       "    <tr>\n",
       "      <th>498213</th>\n",
       "      <td>1081423856</td>\n",
       "      <td>25409</td>\n",
       "      <td>google.com</td>\n",
       "      <td>news.</td>\n",
       "      <td>(news,)</td>\n",
       "      <td>news.google.com</td>\n",
       "    </tr>\n",
       "    <tr>\n",
       "      <th>478829</th>\n",
       "      <td>1070053087</td>\n",
       "      <td>145185</td>\n",
       "      <td>google.com</td>\n",
       "      <td>news.</td>\n",
       "      <td>(news,)</td>\n",
       "      <td>news.google.com</td>\n",
       "    </tr>\n",
       "    <tr>\n",
       "      <th>389351</th>\n",
       "      <td>1049137140</td>\n",
       "      <td>1746908</td>\n",
       "      <td>google.com</td>\n",
       "      <td>news.</td>\n",
       "      <td>(news,)</td>\n",
       "      <td>news.google.com</td>\n",
       "    </tr>\n",
       "    <tr>\n",
       "      <th>457873</th>\n",
       "      <td>1072738836</td>\n",
       "      <td>145185</td>\n",
       "      <td>google.com</td>\n",
       "      <td>news.</td>\n",
       "      <td>(news,)</td>\n",
       "      <td>news.google.com</td>\n",
       "    </tr>\n",
       "    <tr>\n",
       "      <th>140745</th>\n",
       "      <td>1034888568</td>\n",
       "      <td>25409</td>\n",
       "      <td>google.com</td>\n",
       "      <td>news.</td>\n",
       "      <td>(news,)</td>\n",
       "      <td>news.google.com</td>\n",
       "    </tr>\n",
       "  </tbody>\n",
       "</table>\n",
       "</div>"
      ],
      "text/plain": [
       "                id      url      domain subdomain category_names  \\\n",
       "498213  1081423856    25409  google.com     news.        (news,)   \n",
       "478829  1070053087   145185  google.com     news.        (news,)   \n",
       "389351  1049137140  1746908  google.com     news.        (news,)   \n",
       "457873  1072738836   145185  google.com     news.        (news,)   \n",
       "140745  1034888568    25409  google.com     news.        (news,)   \n",
       "\n",
       "       sub_level_domain  \n",
       "498213  news.google.com  \n",
       "478829  news.google.com  \n",
       "389351  news.google.com  \n",
       "457873  news.google.com  \n",
       "140745  news.google.com  "
      ]
     },
     "execution_count": 25,
     "metadata": {},
     "output_type": "execute_result"
    }
   ],
   "source": [
    "urls_translators = pd.concat([\n",
    "    get_subdomains(subdomains, 'google.com', 'translate.'),\n",
    "],\n",
    "    sort=False \n",
    ") \\\n",
    "    .assign(\n",
    "        sub_level_domain=lambda df: df.subdomain + df.domain,\n",
    "        category_names=lambda df: df.category_names.apply(\n",
    "            lambda x: tuple(['translators']))\n",
    ").drop_duplicates(['id'])\n",
    "\n",
    "urls_news.sample(5)"
   ]
  },
  {
   "cell_type": "code",
   "execution_count": 26,
   "metadata": {
    "ExecuteTime": {
     "end_time": "2019-08-13T11:22:28.377589Z",
     "start_time": "2019-08-13T11:22:28.371255Z"
    }
   },
   "outputs": [
    {
     "data": {
      "text/plain": [
       "(28106, 6)"
      ]
     },
     "execution_count": 26,
     "metadata": {},
     "output_type": "execute_result"
    }
   ],
   "source": [
    "urls_translators.shape"
   ]
  },
  {
   "cell_type": "markdown",
   "metadata": {},
   "source": [
    "* Shopping domains"
   ]
  },
  {
   "cell_type": "code",
   "execution_count": 27,
   "metadata": {
    "ExecuteTime": {
     "end_time": "2019-08-13T11:28:28.259552Z",
     "start_time": "2019-08-13T11:28:26.397182Z"
    }
   },
   "outputs": [
    {
     "data": {
      "text/html": [
       "<div>\n",
       "<style scoped>\n",
       "    .dataframe tbody tr th:only-of-type {\n",
       "        vertical-align: middle;\n",
       "    }\n",
       "\n",
       "    .dataframe tbody tr th {\n",
       "        vertical-align: top;\n",
       "    }\n",
       "\n",
       "    .dataframe thead th {\n",
       "        text-align: right;\n",
       "    }\n",
       "</style>\n",
       "<table border=\"1\" class=\"dataframe\">\n",
       "  <thead>\n",
       "    <tr style=\"text-align: right;\">\n",
       "      <th></th>\n",
       "      <th>id</th>\n",
       "      <th>url</th>\n",
       "      <th>domain</th>\n",
       "      <th>subdomain</th>\n",
       "      <th>category_names</th>\n",
       "      <th>sub_level_domain</th>\n",
       "    </tr>\n",
       "  </thead>\n",
       "  <tbody>\n",
       "    <tr>\n",
       "      <th>147075</th>\n",
       "      <td>1037406100</td>\n",
       "      <td>97484</td>\n",
       "      <td>google.com</td>\n",
       "      <td>play.</td>\n",
       "      <td>(shopping,)</td>\n",
       "      <td>play.google.com</td>\n",
       "    </tr>\n",
       "    <tr>\n",
       "      <th>146057</th>\n",
       "      <td>1037062436</td>\n",
       "      <td>88344</td>\n",
       "      <td>google.com</td>\n",
       "      <td>play.</td>\n",
       "      <td>(shopping,)</td>\n",
       "      <td>play.google.com</td>\n",
       "    </tr>\n",
       "    <tr>\n",
       "      <th>332989</th>\n",
       "      <td>1076723507</td>\n",
       "      <td>1406284</td>\n",
       "      <td>google.com</td>\n",
       "      <td>play.</td>\n",
       "      <td>(shopping,)</td>\n",
       "      <td>play.google.com</td>\n",
       "    </tr>\n",
       "    <tr>\n",
       "      <th>389543</th>\n",
       "      <td>1049200112</td>\n",
       "      <td>1747514</td>\n",
       "      <td>google.com</td>\n",
       "      <td>play.</td>\n",
       "      <td>(shopping,)</td>\n",
       "      <td>play.google.com</td>\n",
       "    </tr>\n",
       "    <tr>\n",
       "      <th>389650</th>\n",
       "      <td>1049198428</td>\n",
       "      <td>1747700</td>\n",
       "      <td>google.com</td>\n",
       "      <td>play.</td>\n",
       "      <td>(shopping,)</td>\n",
       "      <td>play.google.com</td>\n",
       "    </tr>\n",
       "  </tbody>\n",
       "</table>\n",
       "</div>"
      ],
      "text/plain": [
       "                id      url      domain subdomain category_names  \\\n",
       "147075  1037406100    97484  google.com     play.    (shopping,)   \n",
       "146057  1037062436    88344  google.com     play.    (shopping,)   \n",
       "332989  1076723507  1406284  google.com     play.    (shopping,)   \n",
       "389543  1049200112  1747514  google.com     play.    (shopping,)   \n",
       "389650  1049198428  1747700  google.com     play.    (shopping,)   \n",
       "\n",
       "       sub_level_domain  \n",
       "147075  play.google.com  \n",
       "146057  play.google.com  \n",
       "332989  play.google.com  \n",
       "389543  play.google.com  \n",
       "389650  play.google.com  "
      ]
     },
     "execution_count": 27,
     "metadata": {},
     "output_type": "execute_result"
    }
   ],
   "source": [
    "urls_shopping = pd.concat([\n",
    "    get_subdomains(subdomains, 'google.com', 'play.'),\n",
    "],\n",
    "    sort=False \n",
    ") \\\n",
    "    .assign(\n",
    "        sub_level_domain=lambda df: df.subdomain + df.domain,\n",
    "        category_names=lambda df: df.category_names.apply(\n",
    "            lambda x: tuple(['shopping']))\n",
    ").drop_duplicates(['id'])\n",
    "\n",
    "urls_shopping.sample(5)"
   ]
  },
  {
   "cell_type": "code",
   "execution_count": 28,
   "metadata": {
    "ExecuteTime": {
     "end_time": "2019-08-13T11:22:30.618745Z",
     "start_time": "2019-08-13T11:22:30.611902Z"
    }
   },
   "outputs": [
    {
     "data": {
      "text/plain": [
       "(3206, 6)"
      ]
     },
     "execution_count": 28,
     "metadata": {},
     "output_type": "execute_result"
    }
   ],
   "source": [
    "urls_shopping.shape"
   ]
  },
  {
   "cell_type": "markdown",
   "metadata": {},
   "source": [
    "# Exporting data"
   ]
  },
  {
   "cell_type": "markdown",
   "metadata": {},
   "source": [
    "Creating a new browsing history file:"
   ]
  },
  {
   "cell_type": "code",
   "execution_count": 29,
   "metadata": {
    "ExecuteTime": {
     "end_time": "2019-08-13T12:08:52.875204Z",
     "start_time": "2019-08-13T12:08:32.937466Z"
    }
   },
   "outputs": [],
   "source": [
    "urls_with_categories = urls.merge(domain_categories, on='domain').rename(columns={'domain': 'top_level_domain'})"
   ]
  },
  {
   "cell_type": "code",
   "execution_count": 30,
   "metadata": {},
   "outputs": [
    {
     "data": {
      "text/html": [
       "<div>\n",
       "<style scoped>\n",
       "    .dataframe tbody tr th:only-of-type {\n",
       "        vertical-align: middle;\n",
       "    }\n",
       "\n",
       "    .dataframe tbody tr th {\n",
       "        vertical-align: top;\n",
       "    }\n",
       "\n",
       "    .dataframe thead th {\n",
       "        text-align: right;\n",
       "    }\n",
       "</style>\n",
       "<table border=\"1\" class=\"dataframe\">\n",
       "  <thead>\n",
       "    <tr style=\"text-align: right;\">\n",
       "      <th></th>\n",
       "      <th>web_visits_id</th>\n",
       "      <th>id</th>\n",
       "      <th>panelist_id</th>\n",
       "      <th>url</th>\n",
       "      <th>used_at</th>\n",
       "      <th>active_seconds</th>\n",
       "      <th>top_level_domain</th>\n",
       "      <th>subdomain</th>\n",
       "      <th>category</th>\n",
       "      <th>category_names</th>\n",
       "    </tr>\n",
       "  </thead>\n",
       "  <tbody>\n",
       "    <tr>\n",
       "      <th>0</th>\n",
       "      <td>111761051</td>\n",
       "      <td>1033436752</td>\n",
       "      <td>1421</td>\n",
       "      <td>0</td>\n",
       "      <td>2018-10-05 22:02:38</td>\n",
       "      <td>4</td>\n",
       "      <td>ebesucher.de</td>\n",
       "      <td>NaN</td>\n",
       "      <td>(business, education)</td>\n",
       "      <td>(business, education)</td>\n",
       "    </tr>\n",
       "    <tr>\n",
       "      <th>1</th>\n",
       "      <td>111761051</td>\n",
       "      <td>1033436580</td>\n",
       "      <td>1421</td>\n",
       "      <td>0</td>\n",
       "      <td>2018-10-05 21:41:22</td>\n",
       "      <td>10</td>\n",
       "      <td>ebesucher.de</td>\n",
       "      <td>NaN</td>\n",
       "      <td>(business, education)</td>\n",
       "      <td>(business, education)</td>\n",
       "    </tr>\n",
       "    <tr>\n",
       "      <th>2</th>\n",
       "      <td>111761051</td>\n",
       "      <td>1033436588</td>\n",
       "      <td>1421</td>\n",
       "      <td>0</td>\n",
       "      <td>2018-10-05 21:45:36</td>\n",
       "      <td>5</td>\n",
       "      <td>ebesucher.de</td>\n",
       "      <td>NaN</td>\n",
       "      <td>(business, education)</td>\n",
       "      <td>(business, education)</td>\n",
       "    </tr>\n",
       "    <tr>\n",
       "      <th>3</th>\n",
       "      <td>111761051</td>\n",
       "      <td>1033436584</td>\n",
       "      <td>1421</td>\n",
       "      <td>0</td>\n",
       "      <td>2018-10-05 21:42:22</td>\n",
       "      <td>181</td>\n",
       "      <td>ebesucher.de</td>\n",
       "      <td>NaN</td>\n",
       "      <td>(business, education)</td>\n",
       "      <td>(business, education)</td>\n",
       "    </tr>\n",
       "    <tr>\n",
       "      <th>4</th>\n",
       "      <td>111761159</td>\n",
       "      <td>1033437168</td>\n",
       "      <td>1421</td>\n",
       "      <td>0</td>\n",
       "      <td>2018-10-05 23:48:14</td>\n",
       "      <td>6</td>\n",
       "      <td>ebesucher.de</td>\n",
       "      <td>NaN</td>\n",
       "      <td>(business, education)</td>\n",
       "      <td>(business, education)</td>\n",
       "    </tr>\n",
       "  </tbody>\n",
       "</table>\n",
       "</div>"
      ],
      "text/plain": [
       "   web_visits_id          id  panelist_id  url             used_at  \\\n",
       "0      111761051  1033436752         1421    0 2018-10-05 22:02:38   \n",
       "1      111761051  1033436580         1421    0 2018-10-05 21:41:22   \n",
       "2      111761051  1033436588         1421    0 2018-10-05 21:45:36   \n",
       "3      111761051  1033436584         1421    0 2018-10-05 21:42:22   \n",
       "4      111761159  1033437168         1421    0 2018-10-05 23:48:14   \n",
       "\n",
       "   active_seconds top_level_domain subdomain               category  \\\n",
       "0               4     ebesucher.de       NaN  (business, education)   \n",
       "1              10     ebesucher.de       NaN  (business, education)   \n",
       "2               5     ebesucher.de       NaN  (business, education)   \n",
       "3             181     ebesucher.de       NaN  (business, education)   \n",
       "4               6     ebesucher.de       NaN  (business, education)   \n",
       "\n",
       "          category_names  \n",
       "0  (business, education)  \n",
       "1  (business, education)  \n",
       "2  (business, education)  \n",
       "3  (business, education)  \n",
       "4  (business, education)  "
      ]
     },
     "execution_count": 30,
     "metadata": {},
     "output_type": "execute_result"
    }
   ],
   "source": [
    "urls_with_categories.head()"
   ]
  },
  {
   "cell_type": "code",
   "execution_count": 31,
   "metadata": {
    "ExecuteTime": {
     "end_time": "2019-08-13T12:08:54.563385Z",
     "start_time": "2019-08-13T12:08:53.213168Z"
    }
   },
   "outputs": [
    {
     "data": {
      "text/plain": [
       "(1050415, 6)"
      ]
     },
     "execution_count": 31,
     "metadata": {},
     "output_type": "execute_result"
    }
   ],
   "source": [
    "urls_sublevel = pd.concat([\n",
    "    urls_email,\n",
    "    urls_productivity,\n",
    "    urls_media_sharing,\n",
    "    urls_social_networking,\n",
    "    urls_news,\n",
    "    urls_translators,\n",
    "    urls_shopping\n",
    "], sort=False).drop_duplicates(['id'])\n",
    "\n",
    "urls_sublevel.shape"
   ]
  },
  {
   "cell_type": "code",
   "execution_count": 32,
   "metadata": {},
   "outputs": [
    {
     "data": {
      "text/html": [
       "<div>\n",
       "<style scoped>\n",
       "    .dataframe tbody tr th:only-of-type {\n",
       "        vertical-align: middle;\n",
       "    }\n",
       "\n",
       "    .dataframe tbody tr th {\n",
       "        vertical-align: top;\n",
       "    }\n",
       "\n",
       "    .dataframe thead th {\n",
       "        text-align: right;\n",
       "    }\n",
       "</style>\n",
       "<table border=\"1\" class=\"dataframe\">\n",
       "  <thead>\n",
       "    <tr style=\"text-align: right;\">\n",
       "      <th></th>\n",
       "      <th>id</th>\n",
       "      <th>url</th>\n",
       "      <th>domain</th>\n",
       "      <th>subdomain</th>\n",
       "      <th>category_names</th>\n",
       "      <th>sub_level_domain</th>\n",
       "    </tr>\n",
       "  </thead>\n",
       "  <tbody>\n",
       "    <tr>\n",
       "      <th>0</th>\n",
       "      <td>1034500040</td>\n",
       "      <td>28061</td>\n",
       "      <td>live.com</td>\n",
       "      <td>bay174.mail.</td>\n",
       "      <td>(email,)</td>\n",
       "      <td>bay174.mail.live.com</td>\n",
       "    </tr>\n",
       "    <tr>\n",
       "      <th>1</th>\n",
       "      <td>1037376788</td>\n",
       "      <td>97009</td>\n",
       "      <td>live.com</td>\n",
       "      <td>dub125.mail.</td>\n",
       "      <td>(email,)</td>\n",
       "      <td>dub125.mail.live.com</td>\n",
       "    </tr>\n",
       "    <tr>\n",
       "      <th>2</th>\n",
       "      <td>1037377304</td>\n",
       "      <td>97009</td>\n",
       "      <td>live.com</td>\n",
       "      <td>dub125.mail.</td>\n",
       "      <td>(email,)</td>\n",
       "      <td>dub125.mail.live.com</td>\n",
       "    </tr>\n",
       "    <tr>\n",
       "      <th>3</th>\n",
       "      <td>1035452643</td>\n",
       "      <td>134272</td>\n",
       "      <td>live.com</td>\n",
       "      <td>dub118.mail.</td>\n",
       "      <td>(email,)</td>\n",
       "      <td>dub118.mail.live.com</td>\n",
       "    </tr>\n",
       "    <tr>\n",
       "      <th>4</th>\n",
       "      <td>1036819471</td>\n",
       "      <td>163690</td>\n",
       "      <td>live.com</td>\n",
       "      <td>dub129.mail.</td>\n",
       "      <td>(email,)</td>\n",
       "      <td>dub129.mail.live.com</td>\n",
       "    </tr>\n",
       "  </tbody>\n",
       "</table>\n",
       "</div>"
      ],
      "text/plain": [
       "           id     url    domain     subdomain category_names  \\\n",
       "0  1034500040   28061  live.com  bay174.mail.       (email,)   \n",
       "1  1037376788   97009  live.com  dub125.mail.       (email,)   \n",
       "2  1037377304   97009  live.com  dub125.mail.       (email,)   \n",
       "3  1035452643  134272  live.com  dub118.mail.       (email,)   \n",
       "4  1036819471  163690  live.com  dub129.mail.       (email,)   \n",
       "\n",
       "       sub_level_domain  \n",
       "0  bay174.mail.live.com  \n",
       "1  dub125.mail.live.com  \n",
       "2  dub125.mail.live.com  \n",
       "3  dub118.mail.live.com  \n",
       "4  dub129.mail.live.com  "
      ]
     },
     "execution_count": 32,
     "metadata": {},
     "output_type": "execute_result"
    }
   ],
   "source": [
    "urls_sublevel.head()"
   ]
  },
  {
   "cell_type": "code",
   "execution_count": 33,
   "metadata": {
    "ExecuteTime": {
     "end_time": "2019-08-13T12:09:18.276712Z",
     "start_time": "2019-08-13T12:08:54.914409Z"
    }
   },
   "outputs": [],
   "source": [
    "urls_with_subdomains = urls_with_categories.merge(\n",
    "    urls_sublevel[['id', 'sub_level_domain', 'category_names']],\n",
    "    on='id',\n",
    "    how='left',\n",
    "    suffixes=('_top', '_sub')\n",
    ")"
   ]
  },
  {
   "cell_type": "code",
   "execution_count": 34,
   "metadata": {
    "ExecuteTime": {
     "end_time": "2019-08-13T12:13:41.850176Z",
     "start_time": "2019-08-13T12:13:36.937436Z"
    }
   },
   "outputs": [],
   "source": [
    "urls_with_subdomains = urls_with_subdomains.assign(\n",
    "                domain = np.where(urls_with_subdomains.sub_level_domain.notnull(), \n",
    "                                  urls_with_subdomains.sub_level_domain, \n",
    "                                  urls_with_subdomains.top_level_domain),\n",
    "                category_names = np.where(urls_with_subdomains.category_names_sub.notnull(), \n",
    "                                          urls_with_subdomains.category_names_sub, \n",
    "                                          urls_with_subdomains.category_names_top))"
   ]
  },
  {
   "cell_type": "code",
   "execution_count": 35,
   "metadata": {
    "ExecuteTime": {
     "end_time": "2019-08-13T12:17:18.603040Z",
     "start_time": "2019-08-13T12:17:13.113018Z"
    },
    "run_control": {
     "frozen": true
    }
   },
   "outputs": [
    {
     "data": {
      "text/html": [
       "<div>\n",
       "<style scoped>\n",
       "    .dataframe tbody tr th:only-of-type {\n",
       "        vertical-align: middle;\n",
       "    }\n",
       "\n",
       "    .dataframe tbody tr th {\n",
       "        vertical-align: top;\n",
       "    }\n",
       "\n",
       "    .dataframe thead th {\n",
       "        text-align: right;\n",
       "    }\n",
       "</style>\n",
       "<table border=\"1\" class=\"dataframe\">\n",
       "  <thead>\n",
       "    <tr style=\"text-align: right;\">\n",
       "      <th></th>\n",
       "      <th>web_visits_id</th>\n",
       "      <th>id</th>\n",
       "      <th>panelist_id</th>\n",
       "      <th>url</th>\n",
       "      <th>used_at</th>\n",
       "      <th>active_seconds</th>\n",
       "      <th>top_level_domain</th>\n",
       "      <th>subdomain</th>\n",
       "      <th>category</th>\n",
       "      <th>category_names_top</th>\n",
       "      <th>sub_level_domain</th>\n",
       "      <th>category_names_sub</th>\n",
       "      <th>domain</th>\n",
       "      <th>category_names</th>\n",
       "    </tr>\n",
       "  </thead>\n",
       "  <tbody>\n",
       "    <tr>\n",
       "      <th>1135540</th>\n",
       "      <td>122531536</td>\n",
       "      <td>1086236912</td>\n",
       "      <td>1071</td>\n",
       "      <td>2585864</td>\n",
       "      <td>2018-10-26 09:19:54</td>\n",
       "      <td>4</td>\n",
       "      <td>google.de</td>\n",
       "      <td>NaN</td>\n",
       "      <td>(searchenginesandportals,)</td>\n",
       "      <td>(search-engines and portals,)</td>\n",
       "      <td>NaN</td>\n",
       "      <td>NaN</td>\n",
       "      <td>google.de</td>\n",
       "      <td>(search-engines and portals,)</td>\n",
       "    </tr>\n",
       "    <tr>\n",
       "      <th>7934863</th>\n",
       "      <td>114316088</td>\n",
       "      <td>1013780988</td>\n",
       "      <td>1410</td>\n",
       "      <td>449348</td>\n",
       "      <td>2018-10-01 17:28:01</td>\n",
       "      <td>4</td>\n",
       "      <td>tagoria.de</td>\n",
       "      <td>NaN</td>\n",
       "      <td>(games,)</td>\n",
       "      <td>(games,)</td>\n",
       "      <td>NaN</td>\n",
       "      <td>NaN</td>\n",
       "      <td>tagoria.de</td>\n",
       "      <td>(games,)</td>\n",
       "    </tr>\n",
       "    <tr>\n",
       "      <th>8019634</th>\n",
       "      <td>122874240</td>\n",
       "      <td>1089306732</td>\n",
       "      <td>2126</td>\n",
       "      <td>110265</td>\n",
       "      <td>2018-10-26 21:57:52</td>\n",
       "      <td>2</td>\n",
       "      <td>sonderspiele.net</td>\n",
       "      <td>NaN</td>\n",
       "      <td>(business, gambling, games)</td>\n",
       "      <td>(business, gambling, games)</td>\n",
       "      <td>NaN</td>\n",
       "      <td>NaN</td>\n",
       "      <td>sonderspiele.net</td>\n",
       "      <td>(business, gambling, games)</td>\n",
       "    </tr>\n",
       "    <tr>\n",
       "      <th>1150677</th>\n",
       "      <td>123254088</td>\n",
       "      <td>1092671256</td>\n",
       "      <td>1203</td>\n",
       "      <td>2706105</td>\n",
       "      <td>2018-10-27 10:53:06</td>\n",
       "      <td>2</td>\n",
       "      <td>google.de</td>\n",
       "      <td>NaN</td>\n",
       "      <td>(searchenginesandportals,)</td>\n",
       "      <td>(search-engines and portals,)</td>\n",
       "      <td>NaN</td>\n",
       "      <td>NaN</td>\n",
       "      <td>google.de</td>\n",
       "      <td>(search-engines and portals,)</td>\n",
       "    </tr>\n",
       "    <tr>\n",
       "      <th>3523777</th>\n",
       "      <td>117221548</td>\n",
       "      <td>1044548388</td>\n",
       "      <td>199</td>\n",
       "      <td>40137</td>\n",
       "      <td>2018-10-10 20:18:27</td>\n",
       "      <td>2</td>\n",
       "      <td>t-online.de</td>\n",
       "      <td>email.</td>\n",
       "      <td>(searchenginesandportals,)</td>\n",
       "      <td>(search-engines and portals,)</td>\n",
       "      <td>email.t-online.de</td>\n",
       "      <td>(email,)</td>\n",
       "      <td>email.t-online.de</td>\n",
       "      <td>(email,)</td>\n",
       "    </tr>\n",
       "  </tbody>\n",
       "</table>\n",
       "</div>"
      ],
      "text/plain": [
       "         web_visits_id          id  panelist_id      url             used_at  \\\n",
       "1135540      122531536  1086236912         1071  2585864 2018-10-26 09:19:54   \n",
       "7934863      114316088  1013780988         1410   449348 2018-10-01 17:28:01   \n",
       "8019634      122874240  1089306732         2126   110265 2018-10-26 21:57:52   \n",
       "1150677      123254088  1092671256         1203  2706105 2018-10-27 10:53:06   \n",
       "3523777      117221548  1044548388          199    40137 2018-10-10 20:18:27   \n",
       "\n",
       "         active_seconds  top_level_domain subdomain  \\\n",
       "1135540               4         google.de       NaN   \n",
       "7934863               4        tagoria.de       NaN   \n",
       "8019634               2  sonderspiele.net       NaN   \n",
       "1150677               2         google.de       NaN   \n",
       "3523777               2       t-online.de    email.   \n",
       "\n",
       "                            category             category_names_top  \\\n",
       "1135540   (searchenginesandportals,)  (search-engines and portals,)   \n",
       "7934863                     (games,)                       (games,)   \n",
       "8019634  (business, gambling, games)    (business, gambling, games)   \n",
       "1150677   (searchenginesandportals,)  (search-engines and portals,)   \n",
       "3523777   (searchenginesandportals,)  (search-engines and portals,)   \n",
       "\n",
       "          sub_level_domain category_names_sub             domain  \\\n",
       "1135540                NaN                NaN          google.de   \n",
       "7934863                NaN                NaN         tagoria.de   \n",
       "8019634                NaN                NaN   sonderspiele.net   \n",
       "1150677                NaN                NaN          google.de   \n",
       "3523777  email.t-online.de           (email,)  email.t-online.de   \n",
       "\n",
       "                        category_names  \n",
       "1135540  (search-engines and portals,)  \n",
       "7934863                       (games,)  \n",
       "8019634    (business, gambling, games)  \n",
       "1150677  (search-engines and portals,)  \n",
       "3523777                       (email,)  "
      ]
     },
     "execution_count": 35,
     "metadata": {},
     "output_type": "execute_result"
    }
   ],
   "source": [
    "urls_with_subdomains.sample(5)"
   ]
  },
  {
   "cell_type": "markdown",
   "metadata": {},
   "source": [
    "##### Constructing new Time Difference DataFrame of Consecutive Records per User"
   ]
  },
  {
   "cell_type": "code",
   "execution_count": 36,
   "metadata": {},
   "outputs": [],
   "source": [
    "def construct_consecutive_url_dataframe(df):\n",
    "    df = df.sort_values(['panelist_id', 'used_at'])\n",
    "    df = df.assign(\n",
    "            prev_id = df.id.shift().apply(lambda x: 0 if np.isnan(x) else int(x)) * (df.panelist_id == df.panelist_id.shift()),\n",
    "            left_at = df.used_at + df.active_seconds.apply(lambda x: pd.Timedelta(seconds=x)),\n",
    "        )\n",
    "    df = df.assign(\n",
    "            gap_seconds = (df.used_at - df.left_at.shift()).dt.total_seconds().apply(lambda x: 0 if np.isnan(x) else int(x)) * (df.panelist_id == df.panelist_id.shift())\n",
    "                )[['id', 'prev_id', 'panelist_id', 'used_at', 'left_at', 'active_seconds', 'gap_seconds', 'top_level_domain', 'category_names_top',\n",
    "        'sub_level_domain', 'subdomain', 'category_names_sub', 'domain',\n",
    "        'category_names']]\n",
    "    return df"
   ]
  },
  {
   "cell_type": "code",
   "execution_count": 37,
   "metadata": {
    "ExecuteTime": {
     "end_time": "2019-08-13T13:07:49.647533Z",
     "start_time": "2019-08-13T12:56:28.820916Z"
    }
   },
   "outputs": [],
   "source": [
    "urls_with_subdomains_gap = construct_consecutive_url_dataframe(urls_with_subdomains)"
   ]
  },
  {
   "cell_type": "code",
   "execution_count": 38,
   "metadata": {},
   "outputs": [
    {
     "data": {
      "text/plain": [
       "9151243"
      ]
     },
     "execution_count": 38,
     "metadata": {},
     "output_type": "execute_result"
    }
   ],
   "source": [
    "len(urls_with_subdomains_gap)"
   ]
  },
  {
   "cell_type": "code",
   "execution_count": 39,
   "metadata": {},
   "outputs": [
    {
     "data": {
      "text/html": [
       "<div>\n",
       "<style scoped>\n",
       "    .dataframe tbody tr th:only-of-type {\n",
       "        vertical-align: middle;\n",
       "    }\n",
       "\n",
       "    .dataframe tbody tr th {\n",
       "        vertical-align: top;\n",
       "    }\n",
       "\n",
       "    .dataframe thead th {\n",
       "        text-align: right;\n",
       "    }\n",
       "</style>\n",
       "<table border=\"1\" class=\"dataframe\">\n",
       "  <thead>\n",
       "    <tr style=\"text-align: right;\">\n",
       "      <th></th>\n",
       "      <th>id</th>\n",
       "      <th>prev_id</th>\n",
       "      <th>panelist_id</th>\n",
       "      <th>used_at</th>\n",
       "      <th>left_at</th>\n",
       "      <th>active_seconds</th>\n",
       "      <th>gap_seconds</th>\n",
       "      <th>top_level_domain</th>\n",
       "      <th>category_names_top</th>\n",
       "      <th>sub_level_domain</th>\n",
       "      <th>subdomain</th>\n",
       "      <th>category_names_sub</th>\n",
       "      <th>domain</th>\n",
       "      <th>category_names</th>\n",
       "    </tr>\n",
       "  </thead>\n",
       "  <tbody>\n",
       "    <tr>\n",
       "      <th>5032992</th>\n",
       "      <td>1097540212</td>\n",
       "      <td>1097540208</td>\n",
       "      <td>456</td>\n",
       "      <td>2018-10-29 22:55:31</td>\n",
       "      <td>2018-10-29 22:55:37</td>\n",
       "      <td>6</td>\n",
       "      <td>0</td>\n",
       "      <td>mydealz.de</td>\n",
       "      <td>(shopping,)</td>\n",
       "      <td>NaN</td>\n",
       "      <td>NaN</td>\n",
       "      <td>NaN</td>\n",
       "      <td>mydealz.de</td>\n",
       "      <td>(shopping,)</td>\n",
       "    </tr>\n",
       "    <tr>\n",
       "      <th>765325</th>\n",
       "      <td>1017545964</td>\n",
       "      <td>1017545960</td>\n",
       "      <td>399</td>\n",
       "      <td>2018-10-02 10:47:21</td>\n",
       "      <td>2018-10-02 10:48:48</td>\n",
       "      <td>87</td>\n",
       "      <td>0</td>\n",
       "      <td>paypal.com</td>\n",
       "      <td>(business, economy and finance)</td>\n",
       "      <td>NaN</td>\n",
       "      <td>NaN</td>\n",
       "      <td>NaN</td>\n",
       "      <td>paypal.com</td>\n",
       "      <td>(business, economy and finance)</td>\n",
       "    </tr>\n",
       "    <tr>\n",
       "      <th>7623645</th>\n",
       "      <td>1028141356</td>\n",
       "      <td>1028141352</td>\n",
       "      <td>533</td>\n",
       "      <td>2018-10-03 21:04:35</td>\n",
       "      <td>2018-10-03 21:04:51</td>\n",
       "      <td>16</td>\n",
       "      <td>0</td>\n",
       "      <td>vova.com</td>\n",
       "      <td>(business,)</td>\n",
       "      <td>NaN</td>\n",
       "      <td>NaN</td>\n",
       "      <td>NaN</td>\n",
       "      <td>vova.com</td>\n",
       "      <td>(business,)</td>\n",
       "    </tr>\n",
       "    <tr>\n",
       "      <th>9120573</th>\n",
       "      <td>1088864512</td>\n",
       "      <td>1088864508</td>\n",
       "      <td>1371</td>\n",
       "      <td>2018-10-26 12:08:54</td>\n",
       "      <td>2018-10-26 12:09:06</td>\n",
       "      <td>12</td>\n",
       "      <td>4</td>\n",
       "      <td>mailerlite.com</td>\n",
       "      <td>(business,)</td>\n",
       "      <td>NaN</td>\n",
       "      <td>app.</td>\n",
       "      <td>NaN</td>\n",
       "      <td>mailerlite.com</td>\n",
       "      <td>(business,)</td>\n",
       "    </tr>\n",
       "    <tr>\n",
       "      <th>3382121</th>\n",
       "      <td>1053024320</td>\n",
       "      <td>1053024316</td>\n",
       "      <td>1641</td>\n",
       "      <td>2018-10-14 08:29:51</td>\n",
       "      <td>2018-10-14 08:30:03</td>\n",
       "      <td>12</td>\n",
       "      <td>0</td>\n",
       "      <td>ebay-kleinanzeigen.de</td>\n",
       "      <td>(business, shopping)</td>\n",
       "      <td>NaN</td>\n",
       "      <td>NaN</td>\n",
       "      <td>NaN</td>\n",
       "      <td>ebay-kleinanzeigen.de</td>\n",
       "      <td>(business, shopping)</td>\n",
       "    </tr>\n",
       "    <tr>\n",
       "      <th>1575051</th>\n",
       "      <td>1089622735</td>\n",
       "      <td>1089622731</td>\n",
       "      <td>948</td>\n",
       "      <td>2018-10-30 21:55:53</td>\n",
       "      <td>2018-10-30 21:55:59</td>\n",
       "      <td>6</td>\n",
       "      <td>0</td>\n",
       "      <td>facebook.com</td>\n",
       "      <td>(social-networking,)</td>\n",
       "      <td>NaN</td>\n",
       "      <td>NaN</td>\n",
       "      <td>NaN</td>\n",
       "      <td>facebook.com</td>\n",
       "      <td>(social-networking,)</td>\n",
       "    </tr>\n",
       "    <tr>\n",
       "      <th>5653824</th>\n",
       "      <td>1083206767</td>\n",
       "      <td>1083206763</td>\n",
       "      <td>1551</td>\n",
       "      <td>2018-10-25 14:42:18</td>\n",
       "      <td>2018-10-25 14:42:20</td>\n",
       "      <td>2</td>\n",
       "      <td>0</td>\n",
       "      <td>euros-4-mails.de</td>\n",
       "      <td>(business,)</td>\n",
       "      <td>NaN</td>\n",
       "      <td>NaN</td>\n",
       "      <td>NaN</td>\n",
       "      <td>euros-4-mails.de</td>\n",
       "      <td>(business,)</td>\n",
       "    </tr>\n",
       "    <tr>\n",
       "      <th>2202541</th>\n",
       "      <td>1027126004</td>\n",
       "      <td>1027126000</td>\n",
       "      <td>2030</td>\n",
       "      <td>2018-10-03 02:28:38</td>\n",
       "      <td>2018-10-03 02:28:40</td>\n",
       "      <td>2</td>\n",
       "      <td>0</td>\n",
       "      <td>google.com</td>\n",
       "      <td>(search-engines and portals,)</td>\n",
       "      <td>NaN</td>\n",
       "      <td>NaN</td>\n",
       "      <td>NaN</td>\n",
       "      <td>google.com</td>\n",
       "      <td>(search-engines and portals,)</td>\n",
       "    </tr>\n",
       "    <tr>\n",
       "      <th>8550365</th>\n",
       "      <td>1068361172</td>\n",
       "      <td>1068361168</td>\n",
       "      <td>1165</td>\n",
       "      <td>2018-10-17 20:45:48</td>\n",
       "      <td>2018-10-17 20:45:50</td>\n",
       "      <td>2</td>\n",
       "      <td>0</td>\n",
       "      <td>telefon-treff.de</td>\n",
       "      <td>(business, education, information-tech)</td>\n",
       "      <td>NaN</td>\n",
       "      <td>NaN</td>\n",
       "      <td>NaN</td>\n",
       "      <td>telefon-treff.de</td>\n",
       "      <td>(business, education, information-tech)</td>\n",
       "    </tr>\n",
       "    <tr>\n",
       "      <th>293185</th>\n",
       "      <td>1083928279</td>\n",
       "      <td>1083928275</td>\n",
       "      <td>1616</td>\n",
       "      <td>2018-10-25 13:29:17</td>\n",
       "      <td>2018-10-25 13:29:51</td>\n",
       "      <td>34</td>\n",
       "      <td>0</td>\n",
       "      <td>amazon.de</td>\n",
       "      <td>(shopping,)</td>\n",
       "      <td>NaN</td>\n",
       "      <td>smile.</td>\n",
       "      <td>NaN</td>\n",
       "      <td>amazon.de</td>\n",
       "      <td>(shopping,)</td>\n",
       "    </tr>\n",
       "  </tbody>\n",
       "</table>\n",
       "</div>"
      ],
      "text/plain": [
       "                 id     prev_id  panelist_id             used_at  \\\n",
       "5032992  1097540212  1097540208          456 2018-10-29 22:55:31   \n",
       "765325   1017545964  1017545960          399 2018-10-02 10:47:21   \n",
       "7623645  1028141356  1028141352          533 2018-10-03 21:04:35   \n",
       "9120573  1088864512  1088864508         1371 2018-10-26 12:08:54   \n",
       "3382121  1053024320  1053024316         1641 2018-10-14 08:29:51   \n",
       "1575051  1089622735  1089622731          948 2018-10-30 21:55:53   \n",
       "5653824  1083206767  1083206763         1551 2018-10-25 14:42:18   \n",
       "2202541  1027126004  1027126000         2030 2018-10-03 02:28:38   \n",
       "8550365  1068361172  1068361168         1165 2018-10-17 20:45:48   \n",
       "293185   1083928279  1083928275         1616 2018-10-25 13:29:17   \n",
       "\n",
       "                    left_at  active_seconds  gap_seconds  \\\n",
       "5032992 2018-10-29 22:55:37               6            0   \n",
       "765325  2018-10-02 10:48:48              87            0   \n",
       "7623645 2018-10-03 21:04:51              16            0   \n",
       "9120573 2018-10-26 12:09:06              12            4   \n",
       "3382121 2018-10-14 08:30:03              12            0   \n",
       "1575051 2018-10-30 21:55:59               6            0   \n",
       "5653824 2018-10-25 14:42:20               2            0   \n",
       "2202541 2018-10-03 02:28:40               2            0   \n",
       "8550365 2018-10-17 20:45:50               2            0   \n",
       "293185  2018-10-25 13:29:51              34            0   \n",
       "\n",
       "              top_level_domain                       category_names_top  \\\n",
       "5032992             mydealz.de                              (shopping,)   \n",
       "765325              paypal.com          (business, economy and finance)   \n",
       "7623645               vova.com                              (business,)   \n",
       "9120573         mailerlite.com                              (business,)   \n",
       "3382121  ebay-kleinanzeigen.de                     (business, shopping)   \n",
       "1575051           facebook.com                     (social-networking,)   \n",
       "5653824       euros-4-mails.de                              (business,)   \n",
       "2202541             google.com            (search-engines and portals,)   \n",
       "8550365       telefon-treff.de  (business, education, information-tech)   \n",
       "293185               amazon.de                              (shopping,)   \n",
       "\n",
       "        sub_level_domain subdomain category_names_sub                 domain  \\\n",
       "5032992              NaN       NaN                NaN             mydealz.de   \n",
       "765325               NaN       NaN                NaN             paypal.com   \n",
       "7623645              NaN       NaN                NaN               vova.com   \n",
       "9120573              NaN      app.                NaN         mailerlite.com   \n",
       "3382121              NaN       NaN                NaN  ebay-kleinanzeigen.de   \n",
       "1575051              NaN       NaN                NaN           facebook.com   \n",
       "5653824              NaN       NaN                NaN       euros-4-mails.de   \n",
       "2202541              NaN       NaN                NaN             google.com   \n",
       "8550365              NaN       NaN                NaN       telefon-treff.de   \n",
       "293185               NaN    smile.                NaN              amazon.de   \n",
       "\n",
       "                                  category_names  \n",
       "5032992                              (shopping,)  \n",
       "765325           (business, economy and finance)  \n",
       "7623645                              (business,)  \n",
       "9120573                              (business,)  \n",
       "3382121                     (business, shopping)  \n",
       "1575051                     (social-networking,)  \n",
       "5653824                              (business,)  \n",
       "2202541            (search-engines and portals,)  \n",
       "8550365  (business, education, information-tech)  \n",
       "293185                               (shopping,)  "
      ]
     },
     "execution_count": 39,
     "metadata": {},
     "output_type": "execute_result"
    }
   ],
   "source": [
    "urls_with_subdomains_gap.sample(10)"
   ]
  },
  {
   "cell_type": "code",
   "execution_count": 40,
   "metadata": {
    "ExecuteTime": {
     "end_time": "2019-08-13T13:20:54.665424Z",
     "start_time": "2019-08-13T13:09:00.870346Z"
    }
   },
   "outputs": [],
   "source": [
    "urls_with_subdomains_gap.assign(\n",
    "    category_names_top = lambda df: df.category_names_top.apply(lambda t: None if pd.isnull(t) else ','.join(t)),\n",
    "    category_names_sub = lambda df: df.category_names_sub.apply(lambda t: None if pd.isnull(t) else ','.join(t)),\n",
    "    category_names     = lambda df: df.category_names.apply(lambda t: None if pd.isnull(t) else ','.join(t)),\n",
    "    ) \\\n",
    "    .to_csv(data_directory + \"/pre_processed/browsing_with_gap.csv\", index=False)"
   ]
  }
 ],
 "metadata": {
  "hide_input": false,
  "kernelspec": {
   "display_name": "Python 3",
   "language": "python",
   "name": "python3"
  },
  "language_info": {
   "codemirror_mode": {
    "name": "ipython",
    "version": 3
   },
   "file_extension": ".py",
   "mimetype": "text/x-python",
   "name": "python",
   "nbconvert_exporter": "python",
   "pygments_lexer": "ipython3",
   "version": "3.7.7"
  },
  "toc": {
   "base_numbering": 1,
   "nav_menu": {},
   "number_sections": true,
   "sideBar": true,
   "skip_h1_title": false,
   "title_cell": "Table of Contents",
   "title_sidebar": "Contents",
   "toc_cell": false,
   "toc_position": {
    "height": "calc(100% - 180px)",
    "left": "10px",
    "top": "150px",
    "width": "319.188px"
   },
   "toc_section_display": true,
   "toc_window_display": true
  },
  "varInspector": {
   "cols": {
    "lenName": 16,
    "lenType": 16,
    "lenVar": 40
   },
   "kernels_config": {
    "python": {
     "delete_cmd_postfix": "",
     "delete_cmd_prefix": "del ",
     "library": "var_list.py",
     "varRefreshCmd": "print(var_dic_list())"
    },
    "r": {
     "delete_cmd_postfix": ") ",
     "delete_cmd_prefix": "rm(",
     "library": "var_list.r",
     "varRefreshCmd": "cat(var_dic_list()) "
    }
   },
   "types_to_exclude": [
    "module",
    "function",
    "builtin_function_or_method",
    "instance",
    "_Feature"
   ],
   "window_display": false
  }
 },
 "nbformat": 4,
 "nbformat_minor": 2
}
