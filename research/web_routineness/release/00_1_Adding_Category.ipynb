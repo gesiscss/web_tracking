{
 "cells": [
  {
   "cell_type": "code",
   "execution_count": 1,
   "metadata": {
    "ExecuteTime": {
     "end_time": "2020-01-09T15:35:53.249828Z",
     "start_time": "2020-01-09T15:35:50.401266Z"
    }
   },
   "outputs": [],
   "source": [
    "import pandas as pd\n",
    "import multiprocessing as mp\n",
    "import glob\n",
    "from functools import partial, reduce\n",
    "from functional import seq\n",
    "import seaborn as sns"
   ]
  },
  {
   "cell_type": "code",
   "execution_count": 2,
   "metadata": {},
   "outputs": [],
   "source": [
    "import numpy as np"
   ]
  },
  {
   "cell_type": "markdown",
   "metadata": {},
   "source": [
    "# Load data\n",
    "\n",
    "\n",
    "<div class=\"alert alert-warning\">\n",
    "<b>Warning:</b> Update the data directory path before running. \n",
    "</div>\n",
    "\n",
    "We tested this code using the data available at https://zenodo.org/record/4383164."
   ]
  },
  {
   "cell_type": "code",
   "execution_count": 3,
   "metadata": {},
   "outputs": [],
   "source": [
    "data_directory = \"../../../../../../data/web_routineness_release_clean/\""
   ]
  },
  {
   "cell_type": "code",
   "execution_count": 4,
   "metadata": {},
   "outputs": [],
   "source": [
    "users = pd.read_csv(data_directory + '/raw/users.csv')"
   ]
  },
  {
   "cell_type": "code",
   "execution_count": 5,
   "metadata": {},
   "outputs": [],
   "source": [
    "urls = pd.read_csv(\n",
    "    data_directory + '/raw/browsing.csv', dtype={'id': int, 'web_visits_id': int}, parse_dates=['used_at'])"
   ]
  },
  {
   "cell_type": "code",
   "execution_count": 6,
   "metadata": {
    "ExecuteTime": {
     "end_time": "2019-09-27T11:42:25.653227Z",
     "start_time": "2019-09-27T11:42:25.420820Z"
    },
    "run_control": {
     "frozen": true
    }
   },
   "outputs": [],
   "source": [
    "domain_categories = pd.read_csv(\n",
    "    data_directory + '/raw/domain_categories.csv', converters={'category': lambda x: tuple(sorted(x.split(',')))})"
   ]
  },
  {
   "cell_type": "markdown",
   "metadata": {},
   "source": [
    "# Defining the category of a website"
   ]
  },
  {
   "cell_type": "markdown",
   "metadata": {},
   "source": [
    "Cleaning up the data:"
   ]
  },
  {
   "cell_type": "code",
   "execution_count": 7,
   "metadata": {
    "ExecuteTime": {
     "end_time": "2019-09-27T11:42:28.183805Z",
     "start_time": "2019-09-27T11:42:28.011466Z"
    },
    "run_control": {
     "frozen": true
    }
   },
   "outputs": [],
   "source": [
    "words_dashed = ['black', 'content', 'illegal', 'information', 'job', 'media', \n",
    "                'message', 'filter', 'real', 'search', 'social', 'streaming', 'virtual']\n",
    "\n",
    "def put_dash(words_dashed, text):\n",
    "    temp = list(filter(lambda w: text.startswith(w), words_dashed))\n",
    "    return text if len(temp) < 1 else text.replace(temp[0], f'{temp[0]}-')\n",
    "\n",
    "\n",
    "words_replaced = [('food', 'food and recipes'), ('filteravoidance', 'proxy and filter-avoidance'), \n",
    "                  ('translation', 'translators'), ('sport', 'sports')]\n",
    "\n",
    "def replace(words_replaced, text):\n",
    "    temp = list(filter(lambda p: p[0] in text, words_replaced))\n",
    "    return text if len(temp) < 1 else temp[0][1]\n",
    "    \n",
    "\n",
    "dash = partial(put_dash, words_dashed)\n",
    "words = partial(replace, words_replaced)\n",
    "\n",
    "categories = pd.DataFrame(list(seq(domain_categories.category).reduce(lambda acc, i: acc.union( set(i)), set())), columns=['raw']) \\\n",
    "                .sort_values('raw') \\\n",
    "                .assign(name=lambda df: df.raw.apply(lambda x: words(dash(x.replace('and', ' and '))))) \\\n",
    "                .assign(id=lambda df: (df.name != df.name.shift()).cumsum())"
   ]
  },
  {
   "cell_type": "markdown",
   "metadata": {
    "run_control": {
     "frozen": true
    }
   },
   "source": [
    "#### Add Category Manually"
   ]
  },
  {
   "cell_type": "markdown",
   "metadata": {},
   "source": [
    "We will add two new categories: email and productivity."
   ]
  },
  {
   "cell_type": "code",
   "execution_count": 8,
   "metadata": {
    "ExecuteTime": {
     "end_time": "2019-09-27T11:42:37.417388Z",
     "start_time": "2019-09-27T11:42:37.393236Z"
    },
    "run_control": {
     "frozen": true
    }
   },
   "outputs": [],
   "source": [
    "categories = categories.append(\n",
    "    pd.DataFrame([(None, 'email', 0), (None, 'productivity', 0)], \n",
    "                 columns=['raw', 'name', 'id'])).sort_values(['name', 'raw']).assign(\n",
    "    id=lambda df: (df.name != df.name.shift()).cumsum())"
   ]
  },
  {
   "cell_type": "markdown",
   "metadata": {},
   "source": [
    "Let's export this:"
   ]
  },
  {
   "cell_type": "code",
   "execution_count": 9,
   "metadata": {
    "ExecuteTime": {
     "end_time": "2019-09-27T11:42:40.706174Z",
     "start_time": "2019-09-27T11:42:40.698711Z"
    },
    "run_control": {
     "frozen": true
    }
   },
   "outputs": [],
   "source": [
    "categories.to_csv(data_directory + '/pre_processed/categories.csv', index=False)"
   ]
  },
  {
   "cell_type": "markdown",
   "metadata": {},
   "source": [
    "#### Rebuild Domain Categories\n",
    "\n",
    "- There was domain-category_ids match, now it's domain-category_names"
   ]
  },
  {
   "cell_type": "code",
   "execution_count": 10,
   "metadata": {
    "ExecuteTime": {
     "end_time": "2019-08-13T09:28:53.226975Z",
     "start_time": "2019-08-13T09:20:43.146965Z"
    },
    "run_control": {
     "frozen": true
    }
   },
   "outputs": [],
   "source": [
    "def find_category_names(categories, t):\n",
    "    return tuple(map(lambda c: categories.query(f\"raw == '{c}'\").iloc[0, 1], t))\n",
    "\n",
    "category = partial(find_category_names, categories)\n",
    "domain_categories = domain_categories.assign(category_names=domain_categories.category.apply(category))"
   ]
  },
  {
   "cell_type": "markdown",
   "metadata": {},
   "source": [
    "Exporting the data:"
   ]
  },
  {
   "cell_type": "code",
   "execution_count": 11,
   "metadata": {
    "ExecuteTime": {
     "end_time": "2019-08-13T09:30:19.450246Z",
     "start_time": "2019-08-13T09:30:19.170691Z"
    },
    "run_control": {
     "frozen": true
    }
   },
   "outputs": [],
   "source": [
    "domain_categories_processed = domain_categories[['domain', 'category_names']].assign(\n",
    "    category_names=lambda df: df.category_names.apply(lambda l: ','.join(l)))\n",
    "\n",
    "domain_categories_processed.to_csv(data_directory + '/pre_processed/processed_domain_categories.csv', index=False)"
   ]
  },
  {
   "cell_type": "markdown",
   "metadata": {},
   "source": [
    "# Adding category info related to the subdomains"
   ]
  },
  {
   "cell_type": "code",
   "execution_count": 12,
   "metadata": {},
   "outputs": [],
   "source": [
    "subdomains = urls[~urls.subdomain.isna()][[\"id\", \"url\", \"domain\", \"subdomain\"]].copy()\n",
    "subdomains = subdomains.merge(domain_categories_processed, on='domain')"
   ]
  },
  {
   "cell_type": "markdown",
   "metadata": {},
   "source": [
    "### Examining 'mail' subdomains\n",
    "\n",
    "1. Large companies which provide email services such as Google, Yahoo, T-Online, Vodafoen, GMX, Web.de.\n",
    "2. Universities in Germany provide email services.\n",
    "3. Other subdomains are seen in websites for the business purposes, i.e. subscription, login to buy, etc."
   ]
  },
  {
   "cell_type": "code",
   "execution_count": 13,
   "metadata": {
    "ExecuteTime": {
     "end_time": "2019-08-13T09:55:16.921780Z",
     "start_time": "2019-08-13T09:55:16.914631Z"
    }
   },
   "outputs": [],
   "source": [
    "def get_subdomains(df, main, sub): \n",
    "    return df[(df.domain == main) & (df.subdomain.str.contains(sub))]"
   ]
  },
  {
   "cell_type": "markdown",
   "metadata": {},
   "source": [
    "Let's see the ones that contains `mail`:"
   ]
  },
  {
   "cell_type": "code",
   "execution_count": 14,
   "metadata": {
    "ExecuteTime": {
     "end_time": "2019-08-06T09:00:51.089694Z",
     "start_time": "2019-08-06T09:00:49.285201Z"
    },
    "run_control": {
     "frozen": true
    }
   },
   "outputs": [],
   "source": [
    "mail_subdomains = subdomains[subdomains.subdomain.str.contains('mail')]\n",
    "top_mail_subdomains = mail_subdomains.groupby('domain', as_index=False).agg({'url': 'count'}).nlargest(400, 'url')\n",
    "top_mail_subdomains.to_csv(data_directory + '/pre_processed/domains_containing_mail_raw.csv', index=False)"
   ]
  },
  {
   "cell_type": "markdown",
   "metadata": {},
   "source": [
    "Next, we manually curated this .csv in order to generate a new file named `domains_contain_mail.csv`.\n",
    "\n",
    "The method: \n",
    "- Look at the top domains with subdomain that has _mail_ string.\n",
    "- If sample urls belong the domain seem meaningful urls, then check domain as email.\n",
    "- Totally, 400 domain were evaluated manually."
   ]
  },
  {
   "cell_type": "markdown",
   "metadata": {},
   "source": [
    "### Creating subdomains of different types"
   ]
  },
  {
   "cell_type": "markdown",
   "metadata": {
    "ExecuteTime": {
     "end_time": "2019-08-13T09:59:13.190907Z",
     "start_time": "2019-08-13T09:59:13.178462Z"
    }
   },
   "source": [
    "* Emails Domains"
   ]
  },
  {
   "cell_type": "code",
   "execution_count": 15,
   "metadata": {
    "ExecuteTime": {
     "end_time": "2019-08-13T11:27:34.481270Z",
     "start_time": "2019-08-13T11:27:09.480352Z"
    }
   },
   "outputs": [],
   "source": [
    "urls_email = pd.concat(\n",
    "    [\n",
    "        subdomains[(subdomains.subdomain.str.endswith('mail.'))]\n",
    "            .merge(pd.read_csv(data_directory + '/pre_processed/domains_containing_mail.csv', \n",
    "                               usecols=['domain', 'is_email']).query('is_email == 1'), on='domain')\n",
    "            .drop(columns=['is_email']),\n",
    "        get_subdomains(subdomains, 'google.com', 'accounts.'),\n",
    "        get_subdomains(subdomains, 'web.de', 'navigator.'),\n",
    "        get_subdomains(subdomains, 'yahoo.com', 'login.'),\n",
    "        get_subdomains(subdomains, 'live.com', 'outlook.'),\n",
    "        get_subdomains(subdomains, 'live.com', 'login.'),\n",
    "        get_subdomains(subdomains, 'live.com', 'account.'),\n",
    "        get_subdomains(subdomains, 'live.com', 'signup.'),\n",
    "        get_subdomains(subdomains, 'gmx.net', 'navigator.'),\n",
    "        get_subdomains(subdomains, 'aol.com', 'login.'),\n",
    "    ],\n",
    "    sort=False\n",
    ") \\\n",
    "    .assign(\n",
    "        sub_level_domain=lambda df: df.subdomain + df.domain,\n",
    "        category_names=lambda df: df.category_names.apply(\n",
    "            lambda x: tuple(['email']))\n",
    ").drop_duplicates(['id'])"
   ]
  },
  {
   "cell_type": "code",
   "execution_count": 16,
   "metadata": {
    "ExecuteTime": {
     "end_time": "2019-08-13T11:27:34.881569Z",
     "start_time": "2019-08-13T11:27:34.873799Z"
    }
   },
   "outputs": [
    {
     "data": {
      "text/plain": [
       "(970034, 6)"
      ]
     },
     "execution_count": 16,
     "metadata": {},
     "output_type": "execute_result"
    }
   ],
   "source": [
    "urls_email.shape"
   ]
  },
  {
   "cell_type": "markdown",
   "metadata": {},
   "source": [
    "* Productivity domains"
   ]
  },
  {
   "cell_type": "code",
   "execution_count": 17,
   "metadata": {
    "ExecuteTime": {
     "end_time": "2019-08-13T11:27:57.954456Z",
     "start_time": "2019-08-13T11:27:51.032210Z"
    }
   },
   "outputs": [
    {
     "data": {
      "text/html": [
       "<div>\n",
       "<style scoped>\n",
       "    .dataframe tbody tr th:only-of-type {\n",
       "        vertical-align: middle;\n",
       "    }\n",
       "\n",
       "    .dataframe tbody tr th {\n",
       "        vertical-align: top;\n",
       "    }\n",
       "\n",
       "    .dataframe thead th {\n",
       "        text-align: right;\n",
       "    }\n",
       "</style>\n",
       "<table border=\"1\" class=\"dataframe\">\n",
       "  <thead>\n",
       "    <tr style=\"text-align: right;\">\n",
       "      <th></th>\n",
       "      <th>id</th>\n",
       "      <th>url</th>\n",
       "      <th>domain</th>\n",
       "      <th>subdomain</th>\n",
       "      <th>category_names</th>\n",
       "      <th>sub_level_domain</th>\n",
       "    </tr>\n",
       "  </thead>\n",
       "  <tbody>\n",
       "    <tr>\n",
       "      <th>248323</th>\n",
       "      <td>1018878760</td>\n",
       "      <td>112544</td>\n",
       "      <td>google.com</td>\n",
       "      <td>docs.</td>\n",
       "      <td>(productivity,)</td>\n",
       "      <td>docs.google.com</td>\n",
       "    </tr>\n",
       "    <tr>\n",
       "      <th>486598</th>\n",
       "      <td>1072580243</td>\n",
       "      <td>1048409</td>\n",
       "      <td>google.com</td>\n",
       "      <td>docs.</td>\n",
       "      <td>(productivity,)</td>\n",
       "      <td>docs.google.com</td>\n",
       "    </tr>\n",
       "    <tr>\n",
       "      <th>198228</th>\n",
       "      <td>1049128607</td>\n",
       "      <td>112619</td>\n",
       "      <td>google.com</td>\n",
       "      <td>docs.</td>\n",
       "      <td>(productivity,)</td>\n",
       "      <td>docs.google.com</td>\n",
       "    </tr>\n",
       "    <tr>\n",
       "      <th>577621</th>\n",
       "      <td>1097814380</td>\n",
       "      <td>1692581</td>\n",
       "      <td>google.com</td>\n",
       "      <td>docs.</td>\n",
       "      <td>(productivity,)</td>\n",
       "      <td>docs.google.com</td>\n",
       "    </tr>\n",
       "    <tr>\n",
       "      <th>487674</th>\n",
       "      <td>1072865283</td>\n",
       "      <td>1249093</td>\n",
       "      <td>google.com</td>\n",
       "      <td>docs.</td>\n",
       "      <td>(productivity,)</td>\n",
       "      <td>docs.google.com</td>\n",
       "    </tr>\n",
       "  </tbody>\n",
       "</table>\n",
       "</div>"
      ],
      "text/plain": [
       "                id      url      domain subdomain   category_names  \\\n",
       "248323  1018878760   112544  google.com     docs.  (productivity,)   \n",
       "486598  1072580243  1048409  google.com     docs.  (productivity,)   \n",
       "198228  1049128607   112619  google.com     docs.  (productivity,)   \n",
       "577621  1097814380  1692581  google.com     docs.  (productivity,)   \n",
       "487674  1072865283  1249093  google.com     docs.  (productivity,)   \n",
       "\n",
       "       sub_level_domain  \n",
       "248323  docs.google.com  \n",
       "486598  docs.google.com  \n",
       "198228  docs.google.com  \n",
       "577621  docs.google.com  \n",
       "487674  docs.google.com  "
      ]
     },
     "execution_count": 17,
     "metadata": {},
     "output_type": "execute_result"
    }
   ],
   "source": [
    "urls_productivity = pd.concat([\n",
    "    get_subdomains(subdomains, 'google.com', 'docs.'),\n",
    "    get_subdomains(subdomains, 'google.com', 'calendar.'),\n",
    "    get_subdomains(subdomains, 'google.com', 'office.'),\n",
    "],\n",
    "    sort=False \n",
    ") \\\n",
    "    .assign(\n",
    "        sub_level_domain=lambda df: df.subdomain + df.domain,\n",
    "        category_names=lambda df: df.category_names.apply(\n",
    "            lambda x: tuple(['productivity']))\n",
    ").drop_duplicates(['id'])\n",
    "\n",
    "urls_productivity.sample(5)"
   ]
  },
  {
   "cell_type": "code",
   "execution_count": 18,
   "metadata": {
    "ExecuteTime": {
     "end_time": "2019-08-13T11:27:42.790204Z",
     "start_time": "2019-08-13T11:27:42.781566Z"
    }
   },
   "outputs": [
    {
     "data": {
      "text/plain": [
       "(25244, 6)"
      ]
     },
     "execution_count": 18,
     "metadata": {},
     "output_type": "execute_result"
    }
   ],
   "source": [
    "urls_productivity.shape"
   ]
  },
  {
   "cell_type": "markdown",
   "metadata": {},
   "source": [
    "* Media sharing domains"
   ]
  },
  {
   "cell_type": "code",
   "execution_count": 19,
   "metadata": {
    "ExecuteTime": {
     "end_time": "2019-08-13T11:28:06.848303Z",
     "start_time": "2019-08-13T11:27:58.294946Z"
    },
    "scrolled": true
   },
   "outputs": [
    {
     "data": {
      "text/html": [
       "<div>\n",
       "<style scoped>\n",
       "    .dataframe tbody tr th:only-of-type {\n",
       "        vertical-align: middle;\n",
       "    }\n",
       "\n",
       "    .dataframe tbody tr th {\n",
       "        vertical-align: top;\n",
       "    }\n",
       "\n",
       "    .dataframe thead th {\n",
       "        text-align: right;\n",
       "    }\n",
       "</style>\n",
       "<table border=\"1\" class=\"dataframe\">\n",
       "  <thead>\n",
       "    <tr style=\"text-align: right;\">\n",
       "      <th></th>\n",
       "      <th>id</th>\n",
       "      <th>url</th>\n",
       "      <th>domain</th>\n",
       "      <th>subdomain</th>\n",
       "      <th>category_names</th>\n",
       "      <th>sub_level_domain</th>\n",
       "    </tr>\n",
       "  </thead>\n",
       "  <tbody>\n",
       "    <tr>\n",
       "      <th>365015</th>\n",
       "      <td>1045037432</td>\n",
       "      <td>1621075</td>\n",
       "      <td>google.com</td>\n",
       "      <td>photos.</td>\n",
       "      <td>(media-sharing,)</td>\n",
       "      <td>photos.google.com</td>\n",
       "    </tr>\n",
       "    <tr>\n",
       "      <th>365026</th>\n",
       "      <td>1045037400</td>\n",
       "      <td>1621082</td>\n",
       "      <td>google.com</td>\n",
       "      <td>photos.</td>\n",
       "      <td>(media-sharing,)</td>\n",
       "      <td>photos.google.com</td>\n",
       "    </tr>\n",
       "    <tr>\n",
       "      <th>384013</th>\n",
       "      <td>1047637236</td>\n",
       "      <td>1718252</td>\n",
       "      <td>google.com</td>\n",
       "      <td>photos.</td>\n",
       "      <td>(media-sharing,)</td>\n",
       "      <td>photos.google.com</td>\n",
       "    </tr>\n",
       "    <tr>\n",
       "      <th>400618</th>\n",
       "      <td>1052449104</td>\n",
       "      <td>622010</td>\n",
       "      <td>google.com</td>\n",
       "      <td>photos.</td>\n",
       "      <td>(media-sharing,)</td>\n",
       "      <td>photos.google.com</td>\n",
       "    </tr>\n",
       "    <tr>\n",
       "      <th>139390</th>\n",
       "      <td>1034113684</td>\n",
       "      <td>17846</td>\n",
       "      <td>google.com</td>\n",
       "      <td>drive.</td>\n",
       "      <td>(media-sharing,)</td>\n",
       "      <td>drive.google.com</td>\n",
       "    </tr>\n",
       "  </tbody>\n",
       "</table>\n",
       "</div>"
      ],
      "text/plain": [
       "                id      url      domain subdomain    category_names  \\\n",
       "365015  1045037432  1621075  google.com   photos.  (media-sharing,)   \n",
       "365026  1045037400  1621082  google.com   photos.  (media-sharing,)   \n",
       "384013  1047637236  1718252  google.com   photos.  (media-sharing,)   \n",
       "400618  1052449104   622010  google.com   photos.  (media-sharing,)   \n",
       "139390  1034113684    17846  google.com    drive.  (media-sharing,)   \n",
       "\n",
       "         sub_level_domain  \n",
       "365015  photos.google.com  \n",
       "365026  photos.google.com  \n",
       "384013  photos.google.com  \n",
       "400618  photos.google.com  \n",
       "139390   drive.google.com  "
      ]
     },
     "execution_count": 19,
     "metadata": {},
     "output_type": "execute_result"
    }
   ],
   "source": [
    "urls_media_sharing = pd.concat([\n",
    "    get_subdomains(subdomains, 'google.com', 'photos.'),\n",
    "    get_subdomains(subdomains, 'google.com', 'drive.'),\n",
    "    get_subdomains(subdomains, 'live.com', 'onedrive.'),\n",
    "],\n",
    "    sort=False \n",
    ") \\\n",
    "    .assign(\n",
    "        sub_level_domain=lambda df: df.subdomain + df.domain,\n",
    "        category_names=lambda df: df.category_names.apply(\n",
    "            lambda x: tuple(['media-sharing']))\n",
    ").drop_duplicates(['id'])\n",
    "\n",
    "urls_media_sharing.sample(5)"
   ]
  },
  {
   "cell_type": "code",
   "execution_count": 20,
   "metadata": {
    "ExecuteTime": {
     "end_time": "2019-08-13T11:28:07.197961Z",
     "start_time": "2019-08-13T11:28:07.189108Z"
    }
   },
   "outputs": [
    {
     "data": {
      "text/plain": [
       "(15375, 6)"
      ]
     },
     "execution_count": 20,
     "metadata": {},
     "output_type": "execute_result"
    }
   ],
   "source": [
    "urls_media_sharing.shape"
   ]
  },
  {
   "cell_type": "markdown",
   "metadata": {},
   "source": [
    "* Social networking domains"
   ]
  },
  {
   "cell_type": "code",
   "execution_count": 21,
   "metadata": {
    "ExecuteTime": {
     "end_time": "2019-08-13T11:28:14.313916Z",
     "start_time": "2019-08-13T11:28:07.602310Z"
    }
   },
   "outputs": [
    {
     "data": {
      "text/html": [
       "<div>\n",
       "<style scoped>\n",
       "    .dataframe tbody tr th:only-of-type {\n",
       "        vertical-align: middle;\n",
       "    }\n",
       "\n",
       "    .dataframe tbody tr th {\n",
       "        vertical-align: top;\n",
       "    }\n",
       "\n",
       "    .dataframe thead th {\n",
       "        text-align: right;\n",
       "    }\n",
       "</style>\n",
       "<table border=\"1\" class=\"dataframe\">\n",
       "  <thead>\n",
       "    <tr style=\"text-align: right;\">\n",
       "      <th></th>\n",
       "      <th>id</th>\n",
       "      <th>url</th>\n",
       "      <th>domain</th>\n",
       "      <th>subdomain</th>\n",
       "      <th>category_names</th>\n",
       "      <th>sub_level_domain</th>\n",
       "    </tr>\n",
       "  </thead>\n",
       "  <tbody>\n",
       "    <tr>\n",
       "      <th>525434</th>\n",
       "      <td>1084774904</td>\n",
       "      <td>47583</td>\n",
       "      <td>google.com</td>\n",
       "      <td>plus.</td>\n",
       "      <td>(social-networking,)</td>\n",
       "      <td>plus.google.com</td>\n",
       "    </tr>\n",
       "    <tr>\n",
       "      <th>540533</th>\n",
       "      <td>1089643784</td>\n",
       "      <td>294048</td>\n",
       "      <td>google.com</td>\n",
       "      <td>plus.</td>\n",
       "      <td>(social-networking,)</td>\n",
       "      <td>plus.google.com</td>\n",
       "    </tr>\n",
       "    <tr>\n",
       "      <th>263439</th>\n",
       "      <td>1060448799</td>\n",
       "      <td>294048</td>\n",
       "      <td>google.com</td>\n",
       "      <td>plus.</td>\n",
       "      <td>(social-networking,)</td>\n",
       "      <td>plus.google.com</td>\n",
       "    </tr>\n",
       "    <tr>\n",
       "      <th>381973</th>\n",
       "      <td>1093216431</td>\n",
       "      <td>1702918</td>\n",
       "      <td>google.com</td>\n",
       "      <td>plus.</td>\n",
       "      <td>(social-networking,)</td>\n",
       "      <td>plus.google.com</td>\n",
       "    </tr>\n",
       "    <tr>\n",
       "      <th>292667</th>\n",
       "      <td>1065272095</td>\n",
       "      <td>294048</td>\n",
       "      <td>google.com</td>\n",
       "      <td>plus.</td>\n",
       "      <td>(social-networking,)</td>\n",
       "      <td>plus.google.com</td>\n",
       "    </tr>\n",
       "  </tbody>\n",
       "</table>\n",
       "</div>"
      ],
      "text/plain": [
       "                id      url      domain subdomain        category_names  \\\n",
       "525434  1084774904    47583  google.com     plus.  (social-networking,)   \n",
       "540533  1089643784   294048  google.com     plus.  (social-networking,)   \n",
       "263439  1060448799   294048  google.com     plus.  (social-networking,)   \n",
       "381973  1093216431  1702918  google.com     plus.  (social-networking,)   \n",
       "292667  1065272095   294048  google.com     plus.  (social-networking,)   \n",
       "\n",
       "       sub_level_domain  \n",
       "525434  plus.google.com  \n",
       "540533  plus.google.com  \n",
       "263439  plus.google.com  \n",
       "381973  plus.google.com  \n",
       "292667  plus.google.com  "
      ]
     },
     "execution_count": 21,
     "metadata": {},
     "output_type": "execute_result"
    }
   ],
   "source": [
    "urls_social_networking = pd.concat([\n",
    "    get_subdomains(subdomains, 'google.com', 'plus.'),\n",
    "    get_subdomains(subdomains, 'yahoo.com', 'drive.'),\n",
    "    get_subdomains(subdomains, 'vodafone.de', 'groups.'),\n",
    "],\n",
    "    sort=False \n",
    ") \\\n",
    "    .assign(\n",
    "        sub_level_domain=lambda df: df.subdomain + df.domain,\n",
    "        category_names=lambda df: df.category_names.apply(\n",
    "            lambda x: tuple(['social-networking']))\n",
    ").drop_duplicates(['id'])\n",
    "\n",
    "urls_social_networking.sample(5)"
   ]
  },
  {
   "cell_type": "code",
   "execution_count": 22,
   "metadata": {
    "ExecuteTime": {
     "end_time": "2019-08-13T11:28:14.732258Z",
     "start_time": "2019-08-13T11:28:14.724997Z"
    }
   },
   "outputs": [
    {
     "data": {
      "text/plain": [
       "(2285, 6)"
      ]
     },
     "execution_count": 22,
     "metadata": {},
     "output_type": "execute_result"
    }
   ],
   "source": [
    "urls_social_networking.shape"
   ]
  },
  {
   "cell_type": "markdown",
   "metadata": {},
   "source": [
    "* News domains"
   ]
  },
  {
   "cell_type": "code",
   "execution_count": 23,
   "metadata": {
    "ExecuteTime": {
     "end_time": "2019-08-13T11:28:23.189773Z",
     "start_time": "2019-08-13T11:28:15.201798Z"
    }
   },
   "outputs": [
    {
     "data": {
      "text/html": [
       "<div>\n",
       "<style scoped>\n",
       "    .dataframe tbody tr th:only-of-type {\n",
       "        vertical-align: middle;\n",
       "    }\n",
       "\n",
       "    .dataframe tbody tr th {\n",
       "        vertical-align: top;\n",
       "    }\n",
       "\n",
       "    .dataframe thead th {\n",
       "        text-align: right;\n",
       "    }\n",
       "</style>\n",
       "<table border=\"1\" class=\"dataframe\">\n",
       "  <thead>\n",
       "    <tr style=\"text-align: right;\">\n",
       "      <th></th>\n",
       "      <th>id</th>\n",
       "      <th>url</th>\n",
       "      <th>domain</th>\n",
       "      <th>subdomain</th>\n",
       "      <th>category_names</th>\n",
       "      <th>sub_level_domain</th>\n",
       "    </tr>\n",
       "  </thead>\n",
       "  <tbody>\n",
       "    <tr>\n",
       "      <th>154775</th>\n",
       "      <td>1036665747</td>\n",
       "      <td>56258</td>\n",
       "      <td>google.com</td>\n",
       "      <td>news.</td>\n",
       "      <td>(news,)</td>\n",
       "      <td>news.google.com</td>\n",
       "    </tr>\n",
       "    <tr>\n",
       "      <th>329441</th>\n",
       "      <td>1076231523</td>\n",
       "      <td>1383022</td>\n",
       "      <td>google.com</td>\n",
       "      <td>news.</td>\n",
       "      <td>(news,)</td>\n",
       "      <td>news.google.com</td>\n",
       "    </tr>\n",
       "    <tr>\n",
       "      <th>513875</th>\n",
       "      <td>1081026131</td>\n",
       "      <td>145170</td>\n",
       "      <td>google.com</td>\n",
       "      <td>news.</td>\n",
       "      <td>(news,)</td>\n",
       "      <td>news.google.com</td>\n",
       "    </tr>\n",
       "    <tr>\n",
       "      <th>544553</th>\n",
       "      <td>1090741324</td>\n",
       "      <td>2668880</td>\n",
       "      <td>google.com</td>\n",
       "      <td>news.</td>\n",
       "      <td>(news,)</td>\n",
       "      <td>news.google.com</td>\n",
       "    </tr>\n",
       "    <tr>\n",
       "      <th>181963</th>\n",
       "      <td>1045689731</td>\n",
       "      <td>25409</td>\n",
       "      <td>google.com</td>\n",
       "      <td>news.</td>\n",
       "      <td>(news,)</td>\n",
       "      <td>news.google.com</td>\n",
       "    </tr>\n",
       "  </tbody>\n",
       "</table>\n",
       "</div>"
      ],
      "text/plain": [
       "                id      url      domain subdomain category_names  \\\n",
       "154775  1036665747    56258  google.com     news.        (news,)   \n",
       "329441  1076231523  1383022  google.com     news.        (news,)   \n",
       "513875  1081026131   145170  google.com     news.        (news,)   \n",
       "544553  1090741324  2668880  google.com     news.        (news,)   \n",
       "181963  1045689731    25409  google.com     news.        (news,)   \n",
       "\n",
       "       sub_level_domain  \n",
       "154775  news.google.com  \n",
       "329441  news.google.com  \n",
       "513875  news.google.com  \n",
       "544553  news.google.com  \n",
       "181963  news.google.com  "
      ]
     },
     "execution_count": 23,
     "metadata": {},
     "output_type": "execute_result"
    }
   ],
   "source": [
    "urls_news = pd.concat([\n",
    "    get_subdomains(subdomains, 'google.com', 'news.'),\n",
    "    get_subdomains(subdomains, 'vodafone.de', 'magazin.'),\n",
    "    get_subdomains(subdomains, 'vodafone.de', 'x.enews.'),\n",
    "],\n",
    "    sort=False \n",
    ") \\\n",
    "    .assign(\n",
    "        sub_level_domain=lambda df: df.subdomain + df.domain,\n",
    "        category_names=lambda df: df.category_names.apply(\n",
    "            lambda x: tuple(['news']))\n",
    ").drop_duplicates(['id'])\n",
    "\n",
    "urls_news.sample(5)"
   ]
  },
  {
   "cell_type": "code",
   "execution_count": 24,
   "metadata": {
    "ExecuteTime": {
     "end_time": "2019-08-13T11:28:23.709964Z",
     "start_time": "2019-08-13T11:28:23.701979Z"
    }
   },
   "outputs": [
    {
     "data": {
      "text/plain": [
       "(6165, 6)"
      ]
     },
     "execution_count": 24,
     "metadata": {},
     "output_type": "execute_result"
    }
   ],
   "source": [
    "urls_news.shape"
   ]
  },
  {
   "cell_type": "markdown",
   "metadata": {},
   "source": [
    "* Translators domains"
   ]
  },
  {
   "cell_type": "code",
   "execution_count": 25,
   "metadata": {
    "ExecuteTime": {
     "end_time": "2019-08-13T11:28:26.113985Z",
     "start_time": "2019-08-13T11:28:24.168315Z"
    }
   },
   "outputs": [
    {
     "data": {
      "text/html": [
       "<div>\n",
       "<style scoped>\n",
       "    .dataframe tbody tr th:only-of-type {\n",
       "        vertical-align: middle;\n",
       "    }\n",
       "\n",
       "    .dataframe tbody tr th {\n",
       "        vertical-align: top;\n",
       "    }\n",
       "\n",
       "    .dataframe thead th {\n",
       "        text-align: right;\n",
       "    }\n",
       "</style>\n",
       "<table border=\"1\" class=\"dataframe\">\n",
       "  <thead>\n",
       "    <tr style=\"text-align: right;\">\n",
       "      <th></th>\n",
       "      <th>id</th>\n",
       "      <th>url</th>\n",
       "      <th>domain</th>\n",
       "      <th>subdomain</th>\n",
       "      <th>category_names</th>\n",
       "      <th>sub_level_domain</th>\n",
       "    </tr>\n",
       "  </thead>\n",
       "  <tbody>\n",
       "    <tr>\n",
       "      <th>230553</th>\n",
       "      <td>1015601324</td>\n",
       "      <td>30580</td>\n",
       "      <td>google.com</td>\n",
       "      <td>news.</td>\n",
       "      <td>(news,)</td>\n",
       "      <td>news.google.com</td>\n",
       "    </tr>\n",
       "    <tr>\n",
       "      <th>485233</th>\n",
       "      <td>1072065875</td>\n",
       "      <td>25409</td>\n",
       "      <td>google.com</td>\n",
       "      <td>news.</td>\n",
       "      <td>(news,)</td>\n",
       "      <td>news.google.com</td>\n",
       "    </tr>\n",
       "    <tr>\n",
       "      <th>437479</th>\n",
       "      <td>1066833920</td>\n",
       "      <td>25409</td>\n",
       "      <td>google.com</td>\n",
       "      <td>news.</td>\n",
       "      <td>(news,)</td>\n",
       "      <td>news.google.com</td>\n",
       "    </tr>\n",
       "    <tr>\n",
       "      <th>165971</th>\n",
       "      <td>1041049151</td>\n",
       "      <td>260270</td>\n",
       "      <td>google.com</td>\n",
       "      <td>news.</td>\n",
       "      <td>(news,)</td>\n",
       "      <td>news.google.com</td>\n",
       "    </tr>\n",
       "    <tr>\n",
       "      <th>333040</th>\n",
       "      <td>1076754771</td>\n",
       "      <td>1407742</td>\n",
       "      <td>google.com</td>\n",
       "      <td>news.</td>\n",
       "      <td>(news,)</td>\n",
       "      <td>news.google.com</td>\n",
       "    </tr>\n",
       "  </tbody>\n",
       "</table>\n",
       "</div>"
      ],
      "text/plain": [
       "                id      url      domain subdomain category_names  \\\n",
       "230553  1015601324    30580  google.com     news.        (news,)   \n",
       "485233  1072065875    25409  google.com     news.        (news,)   \n",
       "437479  1066833920    25409  google.com     news.        (news,)   \n",
       "165971  1041049151   260270  google.com     news.        (news,)   \n",
       "333040  1076754771  1407742  google.com     news.        (news,)   \n",
       "\n",
       "       sub_level_domain  \n",
       "230553  news.google.com  \n",
       "485233  news.google.com  \n",
       "437479  news.google.com  \n",
       "165971  news.google.com  \n",
       "333040  news.google.com  "
      ]
     },
     "execution_count": 25,
     "metadata": {},
     "output_type": "execute_result"
    }
   ],
   "source": [
    "urls_translators = pd.concat([\n",
    "    get_subdomains(subdomains, 'google.com', 'translate.'),\n",
    "],\n",
    "    sort=False \n",
    ") \\\n",
    "    .assign(\n",
    "        sub_level_domain=lambda df: df.subdomain + df.domain,\n",
    "        category_names=lambda df: df.category_names.apply(\n",
    "            lambda x: tuple(['translators']))\n",
    ").drop_duplicates(['id'])\n",
    "\n",
    "urls_news.sample(5)"
   ]
  },
  {
   "cell_type": "code",
   "execution_count": 26,
   "metadata": {
    "ExecuteTime": {
     "end_time": "2019-08-13T11:22:28.377589Z",
     "start_time": "2019-08-13T11:22:28.371255Z"
    }
   },
   "outputs": [
    {
     "data": {
      "text/plain": [
       "(28106, 6)"
      ]
     },
     "execution_count": 26,
     "metadata": {},
     "output_type": "execute_result"
    }
   ],
   "source": [
    "urls_translators.shape"
   ]
  },
  {
   "cell_type": "markdown",
   "metadata": {},
   "source": [
    "* Shopping domains"
   ]
  },
  {
   "cell_type": "code",
   "execution_count": 27,
   "metadata": {
    "ExecuteTime": {
     "end_time": "2019-08-13T11:28:28.259552Z",
     "start_time": "2019-08-13T11:28:26.397182Z"
    }
   },
   "outputs": [
    {
     "data": {
      "text/html": [
       "<div>\n",
       "<style scoped>\n",
       "    .dataframe tbody tr th:only-of-type {\n",
       "        vertical-align: middle;\n",
       "    }\n",
       "\n",
       "    .dataframe tbody tr th {\n",
       "        vertical-align: top;\n",
       "    }\n",
       "\n",
       "    .dataframe thead th {\n",
       "        text-align: right;\n",
       "    }\n",
       "</style>\n",
       "<table border=\"1\" class=\"dataframe\">\n",
       "  <thead>\n",
       "    <tr style=\"text-align: right;\">\n",
       "      <th></th>\n",
       "      <th>id</th>\n",
       "      <th>url</th>\n",
       "      <th>domain</th>\n",
       "      <th>subdomain</th>\n",
       "      <th>category_names</th>\n",
       "      <th>sub_level_domain</th>\n",
       "    </tr>\n",
       "  </thead>\n",
       "  <tbody>\n",
       "    <tr>\n",
       "      <th>579177</th>\n",
       "      <td>1098292344</td>\n",
       "      <td>2907104</td>\n",
       "      <td>google.com</td>\n",
       "      <td>play.</td>\n",
       "      <td>(shopping,)</td>\n",
       "      <td>play.google.com</td>\n",
       "    </tr>\n",
       "    <tr>\n",
       "      <th>146066</th>\n",
       "      <td>1037062600</td>\n",
       "      <td>6678</td>\n",
       "      <td>google.com</td>\n",
       "      <td>play.</td>\n",
       "      <td>(shopping,)</td>\n",
       "      <td>play.google.com</td>\n",
       "    </tr>\n",
       "    <tr>\n",
       "      <th>350628</th>\n",
       "      <td>1079277615</td>\n",
       "      <td>1516059</td>\n",
       "      <td>google.com</td>\n",
       "      <td>play.</td>\n",
       "      <td>(shopping,)</td>\n",
       "      <td>play.google.com</td>\n",
       "    </tr>\n",
       "    <tr>\n",
       "      <th>153685</th>\n",
       "      <td>1036534151</td>\n",
       "      <td>157189</td>\n",
       "      <td>google.com</td>\n",
       "      <td>play.</td>\n",
       "      <td>(shopping,)</td>\n",
       "      <td>play.google.com</td>\n",
       "    </tr>\n",
       "    <tr>\n",
       "      <th>216625</th>\n",
       "      <td>1052205683</td>\n",
       "      <td>33444</td>\n",
       "      <td>google.com</td>\n",
       "      <td>play.</td>\n",
       "      <td>(shopping,)</td>\n",
       "      <td>play.google.com</td>\n",
       "    </tr>\n",
       "  </tbody>\n",
       "</table>\n",
       "</div>"
      ],
      "text/plain": [
       "                id      url      domain subdomain category_names  \\\n",
       "579177  1098292344  2907104  google.com     play.    (shopping,)   \n",
       "146066  1037062600     6678  google.com     play.    (shopping,)   \n",
       "350628  1079277615  1516059  google.com     play.    (shopping,)   \n",
       "153685  1036534151   157189  google.com     play.    (shopping,)   \n",
       "216625  1052205683    33444  google.com     play.    (shopping,)   \n",
       "\n",
       "       sub_level_domain  \n",
       "579177  play.google.com  \n",
       "146066  play.google.com  \n",
       "350628  play.google.com  \n",
       "153685  play.google.com  \n",
       "216625  play.google.com  "
      ]
     },
     "execution_count": 27,
     "metadata": {},
     "output_type": "execute_result"
    }
   ],
   "source": [
    "urls_shopping = pd.concat([\n",
    "    get_subdomains(subdomains, 'google.com', 'play.'),\n",
    "],\n",
    "    sort=False \n",
    ") \\\n",
    "    .assign(\n",
    "        sub_level_domain=lambda df: df.subdomain + df.domain,\n",
    "        category_names=lambda df: df.category_names.apply(\n",
    "            lambda x: tuple(['shopping']))\n",
    ").drop_duplicates(['id'])\n",
    "\n",
    "urls_shopping.sample(5)"
   ]
  },
  {
   "cell_type": "code",
   "execution_count": 28,
   "metadata": {
    "ExecuteTime": {
     "end_time": "2019-08-13T11:22:30.618745Z",
     "start_time": "2019-08-13T11:22:30.611902Z"
    }
   },
   "outputs": [
    {
     "data": {
      "text/plain": [
       "(3206, 6)"
      ]
     },
     "execution_count": 28,
     "metadata": {},
     "output_type": "execute_result"
    }
   ],
   "source": [
    "urls_shopping.shape"
   ]
  },
  {
   "cell_type": "markdown",
   "metadata": {},
   "source": [
    "# Exporting data"
   ]
  },
  {
   "cell_type": "markdown",
   "metadata": {},
   "source": [
    "Creating a new browsing history file:"
   ]
  },
  {
   "cell_type": "code",
   "execution_count": 29,
   "metadata": {
    "ExecuteTime": {
     "end_time": "2019-08-13T12:08:52.875204Z",
     "start_time": "2019-08-13T12:08:32.937466Z"
    }
   },
   "outputs": [],
   "source": [
    "urls_with_categories = urls.merge(domain_categories, on='domain').rename(columns={'domain': 'top_level_domain'})"
   ]
  },
  {
   "cell_type": "code",
   "execution_count": 30,
   "metadata": {},
   "outputs": [
    {
     "data": {
      "text/html": [
       "<div>\n",
       "<style scoped>\n",
       "    .dataframe tbody tr th:only-of-type {\n",
       "        vertical-align: middle;\n",
       "    }\n",
       "\n",
       "    .dataframe tbody tr th {\n",
       "        vertical-align: top;\n",
       "    }\n",
       "\n",
       "    .dataframe thead th {\n",
       "        text-align: right;\n",
       "    }\n",
       "</style>\n",
       "<table border=\"1\" class=\"dataframe\">\n",
       "  <thead>\n",
       "    <tr style=\"text-align: right;\">\n",
       "      <th></th>\n",
       "      <th>web_visits_id</th>\n",
       "      <th>id</th>\n",
       "      <th>panelist_id</th>\n",
       "      <th>url</th>\n",
       "      <th>used_at</th>\n",
       "      <th>active_seconds</th>\n",
       "      <th>top_level_domain</th>\n",
       "      <th>subdomain</th>\n",
       "      <th>category</th>\n",
       "      <th>category_names</th>\n",
       "    </tr>\n",
       "  </thead>\n",
       "  <tbody>\n",
       "    <tr>\n",
       "      <th>0</th>\n",
       "      <td>111761051</td>\n",
       "      <td>1033436752</td>\n",
       "      <td>1421</td>\n",
       "      <td>0</td>\n",
       "      <td>2018-10-05 22:02:38</td>\n",
       "      <td>4</td>\n",
       "      <td>ebesucher.de</td>\n",
       "      <td>NaN</td>\n",
       "      <td>(business, education)</td>\n",
       "      <td>(business, education)</td>\n",
       "    </tr>\n",
       "    <tr>\n",
       "      <th>1</th>\n",
       "      <td>111761051</td>\n",
       "      <td>1033436580</td>\n",
       "      <td>1421</td>\n",
       "      <td>0</td>\n",
       "      <td>2018-10-05 21:41:22</td>\n",
       "      <td>10</td>\n",
       "      <td>ebesucher.de</td>\n",
       "      <td>NaN</td>\n",
       "      <td>(business, education)</td>\n",
       "      <td>(business, education)</td>\n",
       "    </tr>\n",
       "    <tr>\n",
       "      <th>2</th>\n",
       "      <td>111761051</td>\n",
       "      <td>1033436588</td>\n",
       "      <td>1421</td>\n",
       "      <td>0</td>\n",
       "      <td>2018-10-05 21:45:36</td>\n",
       "      <td>5</td>\n",
       "      <td>ebesucher.de</td>\n",
       "      <td>NaN</td>\n",
       "      <td>(business, education)</td>\n",
       "      <td>(business, education)</td>\n",
       "    </tr>\n",
       "    <tr>\n",
       "      <th>3</th>\n",
       "      <td>111761051</td>\n",
       "      <td>1033436584</td>\n",
       "      <td>1421</td>\n",
       "      <td>0</td>\n",
       "      <td>2018-10-05 21:42:22</td>\n",
       "      <td>181</td>\n",
       "      <td>ebesucher.de</td>\n",
       "      <td>NaN</td>\n",
       "      <td>(business, education)</td>\n",
       "      <td>(business, education)</td>\n",
       "    </tr>\n",
       "    <tr>\n",
       "      <th>4</th>\n",
       "      <td>111761159</td>\n",
       "      <td>1033437168</td>\n",
       "      <td>1421</td>\n",
       "      <td>0</td>\n",
       "      <td>2018-10-05 23:48:14</td>\n",
       "      <td>6</td>\n",
       "      <td>ebesucher.de</td>\n",
       "      <td>NaN</td>\n",
       "      <td>(business, education)</td>\n",
       "      <td>(business, education)</td>\n",
       "    </tr>\n",
       "  </tbody>\n",
       "</table>\n",
       "</div>"
      ],
      "text/plain": [
       "   web_visits_id          id  panelist_id  url             used_at  \\\n",
       "0      111761051  1033436752         1421    0 2018-10-05 22:02:38   \n",
       "1      111761051  1033436580         1421    0 2018-10-05 21:41:22   \n",
       "2      111761051  1033436588         1421    0 2018-10-05 21:45:36   \n",
       "3      111761051  1033436584         1421    0 2018-10-05 21:42:22   \n",
       "4      111761159  1033437168         1421    0 2018-10-05 23:48:14   \n",
       "\n",
       "   active_seconds top_level_domain subdomain               category  \\\n",
       "0               4     ebesucher.de       NaN  (business, education)   \n",
       "1              10     ebesucher.de       NaN  (business, education)   \n",
       "2               5     ebesucher.de       NaN  (business, education)   \n",
       "3             181     ebesucher.de       NaN  (business, education)   \n",
       "4               6     ebesucher.de       NaN  (business, education)   \n",
       "\n",
       "          category_names  \n",
       "0  (business, education)  \n",
       "1  (business, education)  \n",
       "2  (business, education)  \n",
       "3  (business, education)  \n",
       "4  (business, education)  "
      ]
     },
     "execution_count": 30,
     "metadata": {},
     "output_type": "execute_result"
    }
   ],
   "source": [
    "urls_with_categories.head()"
   ]
  },
  {
   "cell_type": "code",
   "execution_count": 31,
   "metadata": {
    "ExecuteTime": {
     "end_time": "2019-08-13T12:08:54.563385Z",
     "start_time": "2019-08-13T12:08:53.213168Z"
    }
   },
   "outputs": [
    {
     "data": {
      "text/plain": [
       "(1050415, 6)"
      ]
     },
     "execution_count": 31,
     "metadata": {},
     "output_type": "execute_result"
    }
   ],
   "source": [
    "urls_sublevel = pd.concat([\n",
    "    urls_email,\n",
    "    urls_productivity,\n",
    "    urls_media_sharing,\n",
    "    urls_social_networking,\n",
    "    urls_news,\n",
    "    urls_translators,\n",
    "    urls_shopping\n",
    "], sort=False).drop_duplicates(['id'])\n",
    "\n",
    "urls_sublevel.shape"
   ]
  },
  {
   "cell_type": "code",
   "execution_count": 32,
   "metadata": {},
   "outputs": [
    {
     "data": {
      "text/html": [
       "<div>\n",
       "<style scoped>\n",
       "    .dataframe tbody tr th:only-of-type {\n",
       "        vertical-align: middle;\n",
       "    }\n",
       "\n",
       "    .dataframe tbody tr th {\n",
       "        vertical-align: top;\n",
       "    }\n",
       "\n",
       "    .dataframe thead th {\n",
       "        text-align: right;\n",
       "    }\n",
       "</style>\n",
       "<table border=\"1\" class=\"dataframe\">\n",
       "  <thead>\n",
       "    <tr style=\"text-align: right;\">\n",
       "      <th></th>\n",
       "      <th>id</th>\n",
       "      <th>url</th>\n",
       "      <th>domain</th>\n",
       "      <th>subdomain</th>\n",
       "      <th>category_names</th>\n",
       "      <th>sub_level_domain</th>\n",
       "    </tr>\n",
       "  </thead>\n",
       "  <tbody>\n",
       "    <tr>\n",
       "      <th>0</th>\n",
       "      <td>1034500040</td>\n",
       "      <td>28061</td>\n",
       "      <td>live.com</td>\n",
       "      <td>bay174.mail.</td>\n",
       "      <td>(email,)</td>\n",
       "      <td>bay174.mail.live.com</td>\n",
       "    </tr>\n",
       "    <tr>\n",
       "      <th>1</th>\n",
       "      <td>1037376788</td>\n",
       "      <td>97009</td>\n",
       "      <td>live.com</td>\n",
       "      <td>dub125.mail.</td>\n",
       "      <td>(email,)</td>\n",
       "      <td>dub125.mail.live.com</td>\n",
       "    </tr>\n",
       "    <tr>\n",
       "      <th>2</th>\n",
       "      <td>1037377304</td>\n",
       "      <td>97009</td>\n",
       "      <td>live.com</td>\n",
       "      <td>dub125.mail.</td>\n",
       "      <td>(email,)</td>\n",
       "      <td>dub125.mail.live.com</td>\n",
       "    </tr>\n",
       "    <tr>\n",
       "      <th>3</th>\n",
       "      <td>1035452643</td>\n",
       "      <td>134272</td>\n",
       "      <td>live.com</td>\n",
       "      <td>dub118.mail.</td>\n",
       "      <td>(email,)</td>\n",
       "      <td>dub118.mail.live.com</td>\n",
       "    </tr>\n",
       "    <tr>\n",
       "      <th>4</th>\n",
       "      <td>1036819471</td>\n",
       "      <td>163690</td>\n",
       "      <td>live.com</td>\n",
       "      <td>dub129.mail.</td>\n",
       "      <td>(email,)</td>\n",
       "      <td>dub129.mail.live.com</td>\n",
       "    </tr>\n",
       "  </tbody>\n",
       "</table>\n",
       "</div>"
      ],
      "text/plain": [
       "           id     url    domain     subdomain category_names  \\\n",
       "0  1034500040   28061  live.com  bay174.mail.       (email,)   \n",
       "1  1037376788   97009  live.com  dub125.mail.       (email,)   \n",
       "2  1037377304   97009  live.com  dub125.mail.       (email,)   \n",
       "3  1035452643  134272  live.com  dub118.mail.       (email,)   \n",
       "4  1036819471  163690  live.com  dub129.mail.       (email,)   \n",
       "\n",
       "       sub_level_domain  \n",
       "0  bay174.mail.live.com  \n",
       "1  dub125.mail.live.com  \n",
       "2  dub125.mail.live.com  \n",
       "3  dub118.mail.live.com  \n",
       "4  dub129.mail.live.com  "
      ]
     },
     "execution_count": 32,
     "metadata": {},
     "output_type": "execute_result"
    }
   ],
   "source": [
    "urls_sublevel.head()"
   ]
  },
  {
   "cell_type": "code",
   "execution_count": 33,
   "metadata": {
    "ExecuteTime": {
     "end_time": "2019-08-13T12:09:18.276712Z",
     "start_time": "2019-08-13T12:08:54.914409Z"
    }
   },
   "outputs": [],
   "source": [
    "urls_with_subdomains = urls_with_categories.merge(\n",
    "    urls_sublevel[['id', 'sub_level_domain', 'category_names']],\n",
    "    on='id',\n",
    "    how='left',\n",
    "    suffixes=('_top', '_sub')\n",
    ")"
   ]
  },
  {
   "cell_type": "code",
   "execution_count": 34,
   "metadata": {
    "ExecuteTime": {
     "end_time": "2019-08-13T12:13:41.850176Z",
     "start_time": "2019-08-13T12:13:36.937436Z"
    }
   },
   "outputs": [],
   "source": [
    "urls_with_subdomains = urls_with_subdomains.assign(\n",
    "                domain = np.where(urls_with_subdomains.sub_level_domain.notnull(), \n",
    "                                  urls_with_subdomains.sub_level_domain, \n",
    "                                  urls_with_subdomains.top_level_domain),\n",
    "                category_names = np.where(urls_with_subdomains.category_names_sub.notnull(), \n",
    "                                          urls_with_subdomains.category_names_sub, \n",
    "                                          urls_with_subdomains.category_names_top))"
   ]
  },
  {
   "cell_type": "code",
   "execution_count": 35,
   "metadata": {
    "ExecuteTime": {
     "end_time": "2019-08-13T12:17:18.603040Z",
     "start_time": "2019-08-13T12:17:13.113018Z"
    },
    "run_control": {
     "frozen": true
    }
   },
   "outputs": [
    {
     "data": {
      "text/html": [
       "<div>\n",
       "<style scoped>\n",
       "    .dataframe tbody tr th:only-of-type {\n",
       "        vertical-align: middle;\n",
       "    }\n",
       "\n",
       "    .dataframe tbody tr th {\n",
       "        vertical-align: top;\n",
       "    }\n",
       "\n",
       "    .dataframe thead th {\n",
       "        text-align: right;\n",
       "    }\n",
       "</style>\n",
       "<table border=\"1\" class=\"dataframe\">\n",
       "  <thead>\n",
       "    <tr style=\"text-align: right;\">\n",
       "      <th></th>\n",
       "      <th>web_visits_id</th>\n",
       "      <th>id</th>\n",
       "      <th>panelist_id</th>\n",
       "      <th>url</th>\n",
       "      <th>used_at</th>\n",
       "      <th>active_seconds</th>\n",
       "      <th>top_level_domain</th>\n",
       "      <th>subdomain</th>\n",
       "      <th>category</th>\n",
       "      <th>category_names_top</th>\n",
       "      <th>sub_level_domain</th>\n",
       "      <th>category_names_sub</th>\n",
       "      <th>domain</th>\n",
       "      <th>category_names</th>\n",
       "    </tr>\n",
       "  </thead>\n",
       "  <tbody>\n",
       "    <tr>\n",
       "      <th>2060071</th>\n",
       "      <td>113816735</td>\n",
       "      <td>1048246831</td>\n",
       "      <td>2061</td>\n",
       "      <td>169</td>\n",
       "      <td>2018-10-09 21:44:39</td>\n",
       "      <td>2</td>\n",
       "      <td>google.com</td>\n",
       "      <td>mail.</td>\n",
       "      <td>(searchenginesandportals,)</td>\n",
       "      <td>(search-engines and portals,)</td>\n",
       "      <td>mail.google.com</td>\n",
       "      <td>(email,)</td>\n",
       "      <td>mail.google.com</td>\n",
       "      <td>(email,)</td>\n",
       "    </tr>\n",
       "    <tr>\n",
       "      <th>5918010</th>\n",
       "      <td>114665660</td>\n",
       "      <td>1016872964</td>\n",
       "      <td>1939</td>\n",
       "      <td>737530</td>\n",
       "      <td>2018-10-02 21:18:03</td>\n",
       "      <td>223</td>\n",
       "      <td>imdb.com</td>\n",
       "      <td>NaN</td>\n",
       "      <td>(entertainment,)</td>\n",
       "      <td>(entertainment,)</td>\n",
       "      <td>NaN</td>\n",
       "      <td>NaN</td>\n",
       "      <td>imdb.com</td>\n",
       "      <td>(entertainment,)</td>\n",
       "    </tr>\n",
       "    <tr>\n",
       "      <th>7537681</th>\n",
       "      <td>120086116</td>\n",
       "      <td>1074074912</td>\n",
       "      <td>1969</td>\n",
       "      <td>2153459</td>\n",
       "      <td>2018-10-20 13:29:14</td>\n",
       "      <td>4</td>\n",
       "      <td>flickr.com</td>\n",
       "      <td>NaN</td>\n",
       "      <td>(mediasharing,)</td>\n",
       "      <td>(media-sharing,)</td>\n",
       "      <td>NaN</td>\n",
       "      <td>NaN</td>\n",
       "      <td>flickr.com</td>\n",
       "      <td>(media-sharing,)</td>\n",
       "    </tr>\n",
       "    <tr>\n",
       "      <th>7190445</th>\n",
       "      <td>114128859</td>\n",
       "      <td>1051043651</td>\n",
       "      <td>1166</td>\n",
       "      <td>256245</td>\n",
       "      <td>2018-10-11 19:23:10</td>\n",
       "      <td>179</td>\n",
       "      <td>schoener-fernsehen.com</td>\n",
       "      <td>NaN</td>\n",
       "      <td>(entertainment,)</td>\n",
       "      <td>(entertainment,)</td>\n",
       "      <td>NaN</td>\n",
       "      <td>NaN</td>\n",
       "      <td>schoener-fernsehen.com</td>\n",
       "      <td>(entertainment,)</td>\n",
       "    </tr>\n",
       "    <tr>\n",
       "      <th>667973</th>\n",
       "      <td>115095699</td>\n",
       "      <td>1053965792</td>\n",
       "      <td>1812</td>\n",
       "      <td>18934</td>\n",
       "      <td>2018-10-14 12:37:59</td>\n",
       "      <td>2</td>\n",
       "      <td>live.com</td>\n",
       "      <td>outlook.</td>\n",
       "      <td>(chatandmessaging,)</td>\n",
       "      <td>(chat and messaging,)</td>\n",
       "      <td>outlook.live.com</td>\n",
       "      <td>(email,)</td>\n",
       "      <td>outlook.live.com</td>\n",
       "      <td>(email,)</td>\n",
       "    </tr>\n",
       "  </tbody>\n",
       "</table>\n",
       "</div>"
      ],
      "text/plain": [
       "         web_visits_id          id  panelist_id      url             used_at  \\\n",
       "2060071      113816735  1048246831         2061      169 2018-10-09 21:44:39   \n",
       "5918010      114665660  1016872964         1939   737530 2018-10-02 21:18:03   \n",
       "7537681      120086116  1074074912         1969  2153459 2018-10-20 13:29:14   \n",
       "7190445      114128859  1051043651         1166   256245 2018-10-11 19:23:10   \n",
       "667973       115095699  1053965792         1812    18934 2018-10-14 12:37:59   \n",
       "\n",
       "         active_seconds        top_level_domain subdomain  \\\n",
       "2060071               2              google.com     mail.   \n",
       "5918010             223                imdb.com       NaN   \n",
       "7537681               4              flickr.com       NaN   \n",
       "7190445             179  schoener-fernsehen.com       NaN   \n",
       "667973                2                live.com  outlook.   \n",
       "\n",
       "                           category             category_names_top  \\\n",
       "2060071  (searchenginesandportals,)  (search-engines and portals,)   \n",
       "5918010            (entertainment,)               (entertainment,)   \n",
       "7537681             (mediasharing,)               (media-sharing,)   \n",
       "7190445            (entertainment,)               (entertainment,)   \n",
       "667973          (chatandmessaging,)          (chat and messaging,)   \n",
       "\n",
       "         sub_level_domain category_names_sub                  domain  \\\n",
       "2060071   mail.google.com           (email,)         mail.google.com   \n",
       "5918010               NaN                NaN                imdb.com   \n",
       "7537681               NaN                NaN              flickr.com   \n",
       "7190445               NaN                NaN  schoener-fernsehen.com   \n",
       "667973   outlook.live.com           (email,)        outlook.live.com   \n",
       "\n",
       "           category_names  \n",
       "2060071          (email,)  \n",
       "5918010  (entertainment,)  \n",
       "7537681  (media-sharing,)  \n",
       "7190445  (entertainment,)  \n",
       "667973           (email,)  "
      ]
     },
     "execution_count": 35,
     "metadata": {},
     "output_type": "execute_result"
    }
   ],
   "source": [
    "urls_with_subdomains.sample(5)"
   ]
  },
  {
   "cell_type": "markdown",
   "metadata": {},
   "source": [
    "##### Constructing new Time Difference DataFrame of Consecutive Records per User"
   ]
  },
  {
   "cell_type": "code",
   "execution_count": 36,
   "metadata": {},
   "outputs": [],
   "source": [
    "def construct_consecutive_url_dataframe(df):\n",
    "    df = df.sort_values(['panelist_id', 'used_at'])\n",
    "    df = df.assign(\n",
    "            prev_id = df.id.shift().apply(lambda x: 0 if np.isnan(x) else int(x)) * (df.panelist_id == df.panelist_id.shift()),\n",
    "            left_at = df.used_at + df.active_seconds.apply(lambda x: pd.Timedelta(seconds=x)),\n",
    "        )\n",
    "    df = df.assign(\n",
    "            gap_seconds = (df.used_at - df.left_at.shift()).dt.total_seconds().apply(lambda x: 0 if np.isnan(x) else int(x)) * (df.panelist_id == df.panelist_id.shift())\n",
    "                )[['id', 'prev_id', 'panelist_id', 'used_at', 'left_at', 'active_seconds', 'gap_seconds', 'top_level_domain', 'category_names_top',\n",
    "        'sub_level_domain', 'subdomain', 'category_names_sub', 'domain',\n",
    "        'category_names']]\n",
    "    return df"
   ]
  },
  {
   "cell_type": "code",
   "execution_count": 37,
   "metadata": {
    "ExecuteTime": {
     "end_time": "2019-08-13T13:07:49.647533Z",
     "start_time": "2019-08-13T12:56:28.820916Z"
    }
   },
   "outputs": [],
   "source": [
    "urls_with_subdomains_gap = construct_consecutive_url_dataframe(urls_with_subdomains)"
   ]
  },
  {
   "cell_type": "code",
   "execution_count": 38,
   "metadata": {},
   "outputs": [
    {
     "data": {
      "text/plain": [
       "9151243"
      ]
     },
     "execution_count": 38,
     "metadata": {},
     "output_type": "execute_result"
    }
   ],
   "source": [
    "len(urls_with_subdomains_gap)"
   ]
  },
  {
   "cell_type": "code",
   "execution_count": 39,
   "metadata": {},
   "outputs": [
    {
     "data": {
      "text/html": [
       "<div>\n",
       "<style scoped>\n",
       "    .dataframe tbody tr th:only-of-type {\n",
       "        vertical-align: middle;\n",
       "    }\n",
       "\n",
       "    .dataframe tbody tr th {\n",
       "        vertical-align: top;\n",
       "    }\n",
       "\n",
       "    .dataframe thead th {\n",
       "        text-align: right;\n",
       "    }\n",
       "</style>\n",
       "<table border=\"1\" class=\"dataframe\">\n",
       "  <thead>\n",
       "    <tr style=\"text-align: right;\">\n",
       "      <th></th>\n",
       "      <th>id</th>\n",
       "      <th>prev_id</th>\n",
       "      <th>panelist_id</th>\n",
       "      <th>used_at</th>\n",
       "      <th>left_at</th>\n",
       "      <th>active_seconds</th>\n",
       "      <th>gap_seconds</th>\n",
       "      <th>top_level_domain</th>\n",
       "      <th>category_names_top</th>\n",
       "      <th>sub_level_domain</th>\n",
       "      <th>subdomain</th>\n",
       "      <th>category_names_sub</th>\n",
       "      <th>domain</th>\n",
       "      <th>category_names</th>\n",
       "    </tr>\n",
       "  </thead>\n",
       "  <tbody>\n",
       "    <tr>\n",
       "      <th>6147854</th>\n",
       "      <td>1071547243</td>\n",
       "      <td>1071547239</td>\n",
       "      <td>209</td>\n",
       "      <td>2018-10-22 22:08:50</td>\n",
       "      <td>2018-10-22 22:09:02</td>\n",
       "      <td>12</td>\n",
       "      <td>0</td>\n",
       "      <td>jappy.com</td>\n",
       "      <td>(business,)</td>\n",
       "      <td>NaN</td>\n",
       "      <td>NaN</td>\n",
       "      <td>NaN</td>\n",
       "      <td>jappy.com</td>\n",
       "      <td>(business,)</td>\n",
       "    </tr>\n",
       "    <tr>\n",
       "      <th>105779</th>\n",
       "      <td>1053479460</td>\n",
       "      <td>1053479456</td>\n",
       "      <td>122</td>\n",
       "      <td>2018-10-14 13:51:15</td>\n",
       "      <td>2018-10-14 13:51:21</td>\n",
       "      <td>6</td>\n",
       "      <td>0</td>\n",
       "      <td>amazon.de</td>\n",
       "      <td>(shopping,)</td>\n",
       "      <td>NaN</td>\n",
       "      <td>smile.</td>\n",
       "      <td>NaN</td>\n",
       "      <td>amazon.de</td>\n",
       "      <td>(shopping,)</td>\n",
       "    </tr>\n",
       "    <tr>\n",
       "      <th>8744028</th>\n",
       "      <td>1079779191</td>\n",
       "      <td>1079779187</td>\n",
       "      <td>573</td>\n",
       "      <td>2018-10-25 19:15:20</td>\n",
       "      <td>2018-10-25 19:15:28</td>\n",
       "      <td>8</td>\n",
       "      <td>0</td>\n",
       "      <td>trekkinn.com</td>\n",
       "      <td>(shopping,)</td>\n",
       "      <td>NaN</td>\n",
       "      <td>NaN</td>\n",
       "      <td>NaN</td>\n",
       "      <td>trekkinn.com</td>\n",
       "      <td>(shopping,)</td>\n",
       "    </tr>\n",
       "    <tr>\n",
       "      <th>1882029</th>\n",
       "      <td>1092399108</td>\n",
       "      <td>1092399104</td>\n",
       "      <td>391</td>\n",
       "      <td>2018-10-27 12:53:51</td>\n",
       "      <td>2018-10-27 12:58:51</td>\n",
       "      <td>300</td>\n",
       "      <td>0</td>\n",
       "      <td>facebook.com</td>\n",
       "      <td>(social-networking,)</td>\n",
       "      <td>NaN</td>\n",
       "      <td>apps.</td>\n",
       "      <td>NaN</td>\n",
       "      <td>facebook.com</td>\n",
       "      <td>(social-networking,)</td>\n",
       "    </tr>\n",
       "    <tr>\n",
       "      <th>9040138</th>\n",
       "      <td>1082262528</td>\n",
       "      <td>1082262524</td>\n",
       "      <td>1261</td>\n",
       "      <td>2018-10-23 12:41:43</td>\n",
       "      <td>2018-10-23 12:41:47</td>\n",
       "      <td>4</td>\n",
       "      <td>0</td>\n",
       "      <td>konsolosluk.gov.tr</td>\n",
       "      <td>(alcohol and tobacco, education, shopping)</td>\n",
       "      <td>NaN</td>\n",
       "      <td>NaN</td>\n",
       "      <td>NaN</td>\n",
       "      <td>konsolosluk.gov.tr</td>\n",
       "      <td>(alcohol and tobacco, education, shopping)</td>\n",
       "    </tr>\n",
       "    <tr>\n",
       "      <th>8332239</th>\n",
       "      <td>1079563004</td>\n",
       "      <td>1079563000</td>\n",
       "      <td>512</td>\n",
       "      <td>2018-10-21 22:25:45</td>\n",
       "      <td>2018-10-21 22:25:59</td>\n",
       "      <td>14</td>\n",
       "      <td>0</td>\n",
       "      <td>ancestry.de</td>\n",
       "      <td>(business, education)</td>\n",
       "      <td>NaN</td>\n",
       "      <td>search.</td>\n",
       "      <td>NaN</td>\n",
       "      <td>ancestry.de</td>\n",
       "      <td>(business, education)</td>\n",
       "    </tr>\n",
       "    <tr>\n",
       "      <th>4490825</th>\n",
       "      <td>1025450272</td>\n",
       "      <td>1025450268</td>\n",
       "      <td>245</td>\n",
       "      <td>2018-10-03 18:55:39</td>\n",
       "      <td>2018-10-03 18:55:42</td>\n",
       "      <td>3</td>\n",
       "      <td>0</td>\n",
       "      <td>netflix.com</td>\n",
       "      <td>(entertainment, streaming-media)</td>\n",
       "      <td>NaN</td>\n",
       "      <td>NaN</td>\n",
       "      <td>NaN</td>\n",
       "      <td>netflix.com</td>\n",
       "      <td>(entertainment, streaming-media)</td>\n",
       "    </tr>\n",
       "    <tr>\n",
       "      <th>3249734</th>\n",
       "      <td>1088727884</td>\n",
       "      <td>1088727880</td>\n",
       "      <td>1591</td>\n",
       "      <td>2018-10-26 17:25:01</td>\n",
       "      <td>2018-10-26 17:25:57</td>\n",
       "      <td>56</td>\n",
       "      <td>44</td>\n",
       "      <td>bs.to</td>\n",
       "      <td>(streaming-media,)</td>\n",
       "      <td>NaN</td>\n",
       "      <td>NaN</td>\n",
       "      <td>NaN</td>\n",
       "      <td>bs.to</td>\n",
       "      <td>(streaming-media,)</td>\n",
       "    </tr>\n",
       "    <tr>\n",
       "      <th>2215773</th>\n",
       "      <td>1028760220</td>\n",
       "      <td>1028760216</td>\n",
       "      <td>1458</td>\n",
       "      <td>2018-10-04 17:32:55</td>\n",
       "      <td>2018-10-04 17:32:59</td>\n",
       "      <td>4</td>\n",
       "      <td>0</td>\n",
       "      <td>google.com</td>\n",
       "      <td>(search-engines and portals,)</td>\n",
       "      <td>NaN</td>\n",
       "      <td>NaN</td>\n",
       "      <td>NaN</td>\n",
       "      <td>google.com</td>\n",
       "      <td>(search-engines and portals,)</td>\n",
       "    </tr>\n",
       "    <tr>\n",
       "      <th>2126825</th>\n",
       "      <td>1016684080</td>\n",
       "      <td>1016684076</td>\n",
       "      <td>1293</td>\n",
       "      <td>2018-10-02 18:37:45</td>\n",
       "      <td>2018-10-02 18:37:51</td>\n",
       "      <td>6</td>\n",
       "      <td>0</td>\n",
       "      <td>google.com</td>\n",
       "      <td>(search-engines and portals,)</td>\n",
       "      <td>NaN</td>\n",
       "      <td>NaN</td>\n",
       "      <td>NaN</td>\n",
       "      <td>google.com</td>\n",
       "      <td>(search-engines and portals,)</td>\n",
       "    </tr>\n",
       "  </tbody>\n",
       "</table>\n",
       "</div>"
      ],
      "text/plain": [
       "                 id     prev_id  panelist_id             used_at  \\\n",
       "6147854  1071547243  1071547239          209 2018-10-22 22:08:50   \n",
       "105779   1053479460  1053479456          122 2018-10-14 13:51:15   \n",
       "8744028  1079779191  1079779187          573 2018-10-25 19:15:20   \n",
       "1882029  1092399108  1092399104          391 2018-10-27 12:53:51   \n",
       "9040138  1082262528  1082262524         1261 2018-10-23 12:41:43   \n",
       "8332239  1079563004  1079563000          512 2018-10-21 22:25:45   \n",
       "4490825  1025450272  1025450268          245 2018-10-03 18:55:39   \n",
       "3249734  1088727884  1088727880         1591 2018-10-26 17:25:01   \n",
       "2215773  1028760220  1028760216         1458 2018-10-04 17:32:55   \n",
       "2126825  1016684080  1016684076         1293 2018-10-02 18:37:45   \n",
       "\n",
       "                    left_at  active_seconds  gap_seconds    top_level_domain  \\\n",
       "6147854 2018-10-22 22:09:02              12            0           jappy.com   \n",
       "105779  2018-10-14 13:51:21               6            0           amazon.de   \n",
       "8744028 2018-10-25 19:15:28               8            0        trekkinn.com   \n",
       "1882029 2018-10-27 12:58:51             300            0        facebook.com   \n",
       "9040138 2018-10-23 12:41:47               4            0  konsolosluk.gov.tr   \n",
       "8332239 2018-10-21 22:25:59              14            0         ancestry.de   \n",
       "4490825 2018-10-03 18:55:42               3            0         netflix.com   \n",
       "3249734 2018-10-26 17:25:57              56           44               bs.to   \n",
       "2215773 2018-10-04 17:32:59               4            0          google.com   \n",
       "2126825 2018-10-02 18:37:51               6            0          google.com   \n",
       "\n",
       "                                 category_names_top sub_level_domain  \\\n",
       "6147854                                 (business,)              NaN   \n",
       "105779                                  (shopping,)              NaN   \n",
       "8744028                                 (shopping,)              NaN   \n",
       "1882029                        (social-networking,)              NaN   \n",
       "9040138  (alcohol and tobacco, education, shopping)              NaN   \n",
       "8332239                       (business, education)              NaN   \n",
       "4490825            (entertainment, streaming-media)              NaN   \n",
       "3249734                          (streaming-media,)              NaN   \n",
       "2215773               (search-engines and portals,)              NaN   \n",
       "2126825               (search-engines and portals,)              NaN   \n",
       "\n",
       "        subdomain category_names_sub              domain  \\\n",
       "6147854       NaN                NaN           jappy.com   \n",
       "105779     smile.                NaN           amazon.de   \n",
       "8744028       NaN                NaN        trekkinn.com   \n",
       "1882029     apps.                NaN        facebook.com   \n",
       "9040138       NaN                NaN  konsolosluk.gov.tr   \n",
       "8332239   search.                NaN         ancestry.de   \n",
       "4490825       NaN                NaN         netflix.com   \n",
       "3249734       NaN                NaN               bs.to   \n",
       "2215773       NaN                NaN          google.com   \n",
       "2126825       NaN                NaN          google.com   \n",
       "\n",
       "                                     category_names  \n",
       "6147854                                 (business,)  \n",
       "105779                                  (shopping,)  \n",
       "8744028                                 (shopping,)  \n",
       "1882029                        (social-networking,)  \n",
       "9040138  (alcohol and tobacco, education, shopping)  \n",
       "8332239                       (business, education)  \n",
       "4490825            (entertainment, streaming-media)  \n",
       "3249734                          (streaming-media,)  \n",
       "2215773               (search-engines and portals,)  \n",
       "2126825               (search-engines and portals,)  "
      ]
     },
     "execution_count": 39,
     "metadata": {},
     "output_type": "execute_result"
    }
   ],
   "source": [
    "urls_with_subdomains_gap.sample(10)"
   ]
  },
  {
   "cell_type": "code",
   "execution_count": 40,
   "metadata": {
    "ExecuteTime": {
     "end_time": "2019-08-13T13:20:54.665424Z",
     "start_time": "2019-08-13T13:09:00.870346Z"
    }
   },
   "outputs": [],
   "source": [
    "urls_with_subdomains_gap.assign(\n",
    "    category_names_top = lambda df: df.category_names_top.apply(lambda t: None if pd.isnull(t) else ','.join(t)),\n",
    "    category_names_sub = lambda df: df.category_names_sub.apply(lambda t: None if pd.isnull(t) else ','.join(t)),\n",
    "    category_names     = lambda df: df.category_names.apply(lambda t: None if pd.isnull(t) else ','.join(t)),\n",
    "    ) \\\n",
    "    .to_csv(data_directory + \"/pre_processed/browsing_with_gap.csv\", index=False)"
   ]
  },
  {
   "cell_type": "code",
   "execution_count": null,
   "metadata": {},
   "outputs": [],
   "source": []
  }
 ],
 "metadata": {
  "hide_input": false,
  "kernelspec": {
   "display_name": "Python 3",
   "language": "python",
   "name": "python3"
  },
  "language_info": {
   "codemirror_mode": {
    "name": "ipython",
    "version": 3
   },
   "file_extension": ".py",
   "mimetype": "text/x-python",
   "name": "python",
   "nbconvert_exporter": "python",
   "pygments_lexer": "ipython3",
   "version": "3.7.4"
  },
  "toc": {
   "base_numbering": 1,
   "nav_menu": {},
   "number_sections": true,
   "sideBar": true,
   "skip_h1_title": false,
   "title_cell": "Table of Contents",
   "title_sidebar": "Contents",
   "toc_cell": false,
   "toc_position": {
    "height": "calc(100% - 180px)",
    "left": "10px",
    "top": "150px",
    "width": "165px"
   },
   "toc_section_display": true,
   "toc_window_display": true
  },
  "varInspector": {
   "cols": {
    "lenName": 16,
    "lenType": 16,
    "lenVar": 40
   },
   "kernels_config": {
    "python": {
     "delete_cmd_postfix": "",
     "delete_cmd_prefix": "del ",
     "library": "var_list.py",
     "varRefreshCmd": "print(var_dic_list())"
    },
    "r": {
     "delete_cmd_postfix": ") ",
     "delete_cmd_prefix": "rm(",
     "library": "var_list.r",
     "varRefreshCmd": "cat(var_dic_list()) "
    }
   },
   "types_to_exclude": [
    "module",
    "function",
    "builtin_function_or_method",
    "instance",
    "_Feature"
   ],
   "window_display": false
  }
 },
 "nbformat": 4,
 "nbformat_minor": 2
}
