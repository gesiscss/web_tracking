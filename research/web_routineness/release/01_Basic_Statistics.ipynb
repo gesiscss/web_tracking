{
 "cells": [
  {
   "cell_type": "code",
   "execution_count": 1,
   "metadata": {},
   "outputs": [],
   "source": [
    "%matplotlib inline\n",
    "%config InlineBackend.figure_format = 'retina'"
   ]
  },
  {
   "cell_type": "code",
   "execution_count": 2,
   "metadata": {},
   "outputs": [],
   "source": [
    "import pandas as pd"
   ]
  },
  {
   "cell_type": "code",
   "execution_count": 3,
   "metadata": {},
   "outputs": [],
   "source": [
    "from web_tracking.pre_processing.raw_data_processor import RawDataProcessor"
   ]
  },
  {
   "cell_type": "markdown",
   "metadata": {},
   "source": [
    "# Load data"
   ]
  },
  {
   "cell_type": "markdown",
   "metadata": {},
   "source": [
    "<div class=\"alert alert-warning\">\n",
    "<b>Warning:</b> Update the data directory path before running. \n",
    "</div>\n",
    "\n",
    "We tested this code using the data available at https://zenodo.org/record/4383164"
   ]
  },
  {
   "cell_type": "code",
   "execution_count": 4,
   "metadata": {},
   "outputs": [],
   "source": [
    "data_directory = \"../../../../../../data/web_routineness_release_clean/\""
   ]
  },
  {
   "cell_type": "markdown",
   "metadata": {},
   "source": [
    "Users"
   ]
  },
  {
   "cell_type": "code",
   "execution_count": 5,
   "metadata": {},
   "outputs": [],
   "source": [
    "users = pd.read_csv(data_directory + '/raw/users.csv', dtype={'panelist_id': int})"
   ]
  },
  {
   "cell_type": "markdown",
   "metadata": {},
   "source": [
    "Web browsing behavior"
   ]
  },
  {
   "cell_type": "code",
   "execution_count": 6,
   "metadata": {},
   "outputs": [],
   "source": [
    "processed = pd.read_csv(data_directory + \"/pre_processed/browsing_with_gap.csv\")"
   ]
  },
  {
   "cell_type": "markdown",
   "metadata": {},
   "source": [
    "List of users having enough data"
   ]
  },
  {
   "cell_type": "code",
   "execution_count": 7,
   "metadata": {},
   "outputs": [],
   "source": [
    "selected_users = pd.read_csv(data_directory + '/pre_processed/selected_users.csv')"
   ]
  },
  {
   "cell_type": "markdown",
   "metadata": {},
   "source": [
    "# Basic statistics"
   ]
  },
  {
   "cell_type": "markdown",
   "metadata": {},
   "source": [
    "Number of individuals"
   ]
  },
  {
   "cell_type": "code",
   "execution_count": 8,
   "metadata": {},
   "outputs": [
    {
     "data": {
      "text/plain": [
       "2148"
      ]
     },
     "execution_count": 8,
     "metadata": {},
     "output_type": "execute_result"
    }
   ],
   "source": [
    "len(users)"
   ]
  },
  {
   "cell_type": "code",
   "execution_count": 9,
   "metadata": {},
   "outputs": [
    {
     "data": {
      "text/plain": [
       "1455"
      ]
     },
     "execution_count": 9,
     "metadata": {},
     "output_type": "execute_result"
    }
   ],
   "source": [
    "len(selected_users)"
   ]
  },
  {
   "cell_type": "markdown",
   "metadata": {},
   "source": [
    "Number of total website visits"
   ]
  },
  {
   "cell_type": "code",
   "execution_count": 10,
   "metadata": {},
   "outputs": [
    {
     "data": {
      "text/plain": [
       "9151243"
      ]
     },
     "execution_count": 10,
     "metadata": {},
     "output_type": "execute_result"
    }
   ],
   "source": [
    "len(processed)"
   ]
  },
  {
   "cell_type": "code",
   "execution_count": 11,
   "metadata": {},
   "outputs": [
    {
     "data": {
      "text/plain": [
       "8910779"
      ]
     },
     "execution_count": 11,
     "metadata": {},
     "output_type": "execute_result"
    }
   ],
   "source": [
    "selected_users_visits = selected_users.merge(processed, left_on='user', right_on='panelist_id')\n",
    "len(selected_users_visits)"
   ]
  },
  {
   "cell_type": "markdown",
   "metadata": {},
   "source": [
    "Number of unique domains "
   ]
  },
  {
   "cell_type": "code",
   "execution_count": 12,
   "metadata": {},
   "outputs": [
    {
     "data": {
      "text/plain": [
       "49918"
      ]
     },
     "execution_count": 12,
     "metadata": {},
     "output_type": "execute_result"
    }
   ],
   "source": [
    "len(processed.top_level_domain.unique())"
   ]
  },
  {
   "cell_type": "code",
   "execution_count": 13,
   "metadata": {},
   "outputs": [
    {
     "data": {
      "text/html": [
       "<div>\n",
       "<style scoped>\n",
       "    .dataframe tbody tr th:only-of-type {\n",
       "        vertical-align: middle;\n",
       "    }\n",
       "\n",
       "    .dataframe tbody tr th {\n",
       "        vertical-align: top;\n",
       "    }\n",
       "\n",
       "    .dataframe thead th {\n",
       "        text-align: right;\n",
       "    }\n",
       "</style>\n",
       "<table border=\"1\" class=\"dataframe\">\n",
       "  <thead>\n",
       "    <tr style=\"text-align: right;\">\n",
       "      <th></th>\n",
       "      <th>id</th>\n",
       "      <th>prev_id</th>\n",
       "      <th>panelist_id</th>\n",
       "      <th>used_at</th>\n",
       "      <th>left_at</th>\n",
       "      <th>active_seconds</th>\n",
       "      <th>gap_seconds</th>\n",
       "      <th>top_level_domain</th>\n",
       "      <th>category_names_top</th>\n",
       "      <th>sub_level_domain</th>\n",
       "      <th>subdomain</th>\n",
       "      <th>category_names_sub</th>\n",
       "      <th>domain</th>\n",
       "      <th>category_names</th>\n",
       "    </tr>\n",
       "  </thead>\n",
       "  <tbody>\n",
       "    <tr>\n",
       "      <th>3193009</th>\n",
       "      <td>1010795924</td>\n",
       "      <td>1010795920</td>\n",
       "      <td>754</td>\n",
       "      <td>2018-10-01 08:58:20</td>\n",
       "      <td>2018-10-01 08:58:21</td>\n",
       "      <td>1</td>\n",
       "      <td>1</td>\n",
       "      <td>kurzurlaub.de</td>\n",
       "      <td>business</td>\n",
       "      <td>NaN</td>\n",
       "      <td>NaN</td>\n",
       "      <td>NaN</td>\n",
       "      <td>kurzurlaub.de</td>\n",
       "      <td>business</td>\n",
       "    </tr>\n",
       "  </tbody>\n",
       "</table>\n",
       "</div>"
      ],
      "text/plain": [
       "                 id     prev_id  panelist_id              used_at  \\\n",
       "3193009  1010795924  1010795920          754  2018-10-01 08:58:20   \n",
       "\n",
       "                     left_at  active_seconds  gap_seconds top_level_domain  \\\n",
       "3193009  2018-10-01 08:58:21               1            1    kurzurlaub.de   \n",
       "\n",
       "        category_names_top sub_level_domain subdomain category_names_sub  \\\n",
       "3193009           business              NaN       NaN                NaN   \n",
       "\n",
       "                domain category_names  \n",
       "3193009  kurzurlaub.de       business  "
      ]
     },
     "execution_count": 13,
     "metadata": {},
     "output_type": "execute_result"
    }
   ],
   "source": [
    "processed.sample()"
   ]
  },
  {
   "cell_type": "code",
   "execution_count": 14,
   "metadata": {},
   "outputs": [
    {
     "data": {
      "text/plain": [
       "48721"
      ]
     },
     "execution_count": 14,
     "metadata": {},
     "output_type": "execute_result"
    }
   ],
   "source": [
    "len(selected_users_visits.top_level_domain.unique())"
   ]
  },
  {
   "cell_type": "markdown",
   "metadata": {},
   "source": [
    "# Comparing the top domains in our sample with Alexa\n",
    "\n",
    "First, let's analyze our sample. How similar is the top domains in the sample with the top domains given by Alexa? \n",
    "\n",
    "- According to Alexa: \"A website has a Reach score of 5,000, this means that 5,000 people out of a sample of 1 million\"[¹](https://www.klipfolio.com/metrics/marketing/reach-per-million-users), and they calculate it by using `Count Unique(People who saw your content per Day per Million Users)`\n",
    "- So, we computed number of unique visitors per domain to compare our dataset with Alexa.\n",
    "- Section 4 in the article."
   ]
  },
  {
   "cell_type": "code",
   "execution_count": 15,
   "metadata": {},
   "outputs": [],
   "source": [
    "top_domains = processed.top_level_domain.value_counts(normalize=True).to_frame() \\\n",
    "                    .reset_index().rename(columns={'index': 'domain', 'top_level_domain': 'visits'}) \\\n",
    "                    .assign(rank = lambda df: range(1, len(df)+1))"
   ]
  },
  {
   "cell_type": "code",
   "execution_count": 16,
   "metadata": {},
   "outputs": [],
   "source": [
    "alexa_top_5K = pd.read_csv(data_directory + '/raw/alexa_GER_top5000.csv').drop(columns=['X1.nrow.file.Results.Result.Alexa.TopSites.Country.Sites.Site.'])"
   ]
  },
  {
   "cell_type": "markdown",
   "metadata": {},
   "source": [
    "Matching the domains "
   ]
  },
  {
   "cell_type": "code",
   "execution_count": 17,
   "metadata": {},
   "outputs": [
    {
     "data": {
      "text/plain": [
       "'3484 / 5000'"
      ]
     },
     "execution_count": 17,
     "metadata": {},
     "output_type": "execute_result"
    }
   ],
   "source": [
    "top_domains_5K  = top_domains.merge(alexa_top_5K, left_on='domain', right_on='url')\n",
    "\n",
    "f'{len(top_domains_5K)} / 5000'"
   ]
  },
  {
   "cell_type": "markdown",
   "metadata": {},
   "source": [
    "Pearson correlation:"
   ]
  },
  {
   "cell_type": "code",
   "execution_count": 18,
   "metadata": {},
   "outputs": [
    {
     "data": {
      "text/html": [
       "<div>\n",
       "<style scoped>\n",
       "    .dataframe tbody tr th:only-of-type {\n",
       "        vertical-align: middle;\n",
       "    }\n",
       "\n",
       "    .dataframe tbody tr th {\n",
       "        vertical-align: top;\n",
       "    }\n",
       "\n",
       "    .dataframe thead th {\n",
       "        text-align: right;\n",
       "    }\n",
       "</style>\n",
       "<table border=\"1\" class=\"dataframe\">\n",
       "  <thead>\n",
       "    <tr style=\"text-align: right;\">\n",
       "      <th></th>\n",
       "      <th>visits</th>\n",
       "      <th>PageViews.PerMillion</th>\n",
       "    </tr>\n",
       "  </thead>\n",
       "  <tbody>\n",
       "    <tr>\n",
       "      <th>visits</th>\n",
       "      <td>1.000000</td>\n",
       "      <td>0.780473</td>\n",
       "    </tr>\n",
       "    <tr>\n",
       "      <th>PageViews.PerMillion</th>\n",
       "      <td>0.780473</td>\n",
       "      <td>1.000000</td>\n",
       "    </tr>\n",
       "  </tbody>\n",
       "</table>\n",
       "</div>"
      ],
      "text/plain": [
       "                        visits  PageViews.PerMillion\n",
       "visits                1.000000              0.780473\n",
       "PageViews.PerMillion  0.780473              1.000000"
      ]
     },
     "execution_count": 18,
     "metadata": {},
     "output_type": "execute_result"
    }
   ],
   "source": [
    "top_domains_5K[['visits', 'PageViews.PerMillion']].corr(method='pearson')"
   ]
  },
  {
   "cell_type": "markdown",
   "metadata": {},
   "source": [
    "# Demographic statistics"
   ]
  },
  {
   "cell_type": "markdown",
   "metadata": {},
   "source": [
    "### Without filtering"
   ]
  },
  {
   "cell_type": "markdown",
   "metadata": {},
   "source": [
    "Gender distribution"
   ]
  },
  {
   "cell_type": "code",
   "execution_count": 19,
   "metadata": {},
   "outputs": [
    {
     "data": {
      "image/png": "[encoded data removed]",
      "text/plain": [
       "<Figure size 432x288 with 1 Axes>"
      ]
     },
     "metadata": {
      "image/png": {
       "height": 263,
       "width": 384
      },
      "needs_background": "light"
     },
     "output_type": "display_data"
    }
   ],
   "source": [
    "temp = users[~users.gender.isna()].gender.apply(lambda x: str(x).title()).value_counts(normalize=True).to_frame().applymap(lambda x: round(x * 100, 2))\n",
    "\n",
    "ax = temp.plot.bar(legend=False, title='Gender Distribution', ylim=(0, 55), xlim=(0, 100))\n",
    "ax.set_ylabel(\"%\")\n",
    "ax.tick_params(axis='x', labelrotation=0)\n",
    "ax.grid(color='lightgrey', linestyle='--', linewidth=.75, alpha=.3)\n",
    "ax.set_axisbelow(True)\n",
    "\n",
    "for p in ax.patches:\n",
    "    ax.annotate(f'{p.get_height():.2f}%', (p.get_x() + p.get_width() / 4., p.get_height() + .5))"
   ]
  },
  {
   "cell_type": "markdown",
   "metadata": {},
   "source": [
    "Age distribution"
   ]
  },
  {
   "cell_type": "code",
   "execution_count": 20,
   "metadata": {
    "scrolled": true
   },
   "outputs": [
    {
     "data": {
      "image/png": "[encoded data removed]",
      "text/plain": [
       "<Figure size 432x288 with 1 Axes>"
      ]
     },
     "metadata": {
      "image/png": {
       "height": 277,
       "width": 384
      },
      "needs_background": "light"
     },
     "output_type": "display_data"
    }
   ],
   "source": [
    "temp = users[~users.age_recode.isna()].age_recode.apply(str).value_counts(normalize=True).to_frame().applymap(lambda x: x * 100).rename(index={'(24,34]': '[25,34]', '(34,44]': '[35,44]', '(44,54]': '[45,54]', '(54,64]': '[55,64]', '(64,80]': '[65,80]', 'nan': 'n/a'}).sort_index()\n",
    "ax = temp.plot.bar(legend=False, title='Age  Distribution', color='darkturquoise', ylim=(0, 25))\n",
    "ax.set_ylabel(\"%\")\n",
    "ax.set_xlabel(\"Age Groups\")\n",
    "ax.grid(color='lightgrey', linestyle='--', linewidth=.75, alpha=.3)\n",
    "ax.set_axisbelow(True)\n",
    "ax.tick_params(axis='x', labelrotation=0)\n",
    "\n",
    "for p in ax.patches:\n",
    "    ax.annotate(f'{p.get_height():.2f}%', (p.get_x() + p.get_width() / 4., p.get_height() + .5))"
   ]
  },
  {
   "cell_type": "markdown",
   "metadata": {},
   "source": [
    "### With filtering"
   ]
  },
  {
   "cell_type": "code",
   "execution_count": 21,
   "metadata": {},
   "outputs": [],
   "source": [
    "users_filtered = users[users.panelist_id.isin(selected_users['user'].values)].copy()"
   ]
  },
  {
   "cell_type": "markdown",
   "metadata": {},
   "source": [
    "Number of users"
   ]
  },
  {
   "cell_type": "code",
   "execution_count": 22,
   "metadata": {},
   "outputs": [
    {
     "data": {
      "text/plain": [
       "1455"
      ]
     },
     "execution_count": 22,
     "metadata": {},
     "output_type": "execute_result"
    }
   ],
   "source": [
    "len(users_filtered)"
   ]
  },
  {
   "cell_type": "markdown",
   "metadata": {},
   "source": [
    "Gender distribution"
   ]
  },
  {
   "cell_type": "code",
   "execution_count": 23,
   "metadata": {},
   "outputs": [
    {
     "data": {
      "image/png": "[encoded data removed]",
      "text/plain": [
       "<Figure size 432x288 with 1 Axes>"
      ]
     },
     "metadata": {
      "image/png": {
       "height": 263,
       "width": 384
      },
      "needs_background": "light"
     },
     "output_type": "display_data"
    }
   ],
   "source": [
    "temp = users_filtered[~users_filtered.gender.isna()].gender.apply(lambda x: str(x).title()).value_counts(normalize=True).to_frame().applymap(lambda x: round(x * 100, 2))\n",
    "ax = temp.plot.bar(legend=False, title='Gender Distribution', ylim=(0, 55), xlim=(0, 100))\n",
    "ax.set_ylabel(\"%\")\n",
    "ax.tick_params(axis='x', labelrotation=0)\n",
    "ax.grid(color='lightgrey', linestyle='--', linewidth=.75, alpha=.3)\n",
    "ax.set_axisbelow(True)\n",
    "\n",
    "for p in ax.patches:\n",
    "    ax.annotate(f'{p.get_height():.2f}%', (p.get_x() + p.get_width() / 4., p.get_height() + .5))"
   ]
  },
  {
   "cell_type": "markdown",
   "metadata": {},
   "source": [
    "Age distribution"
   ]
  },
  {
   "cell_type": "code",
   "execution_count": 24,
   "metadata": {
    "scrolled": true
   },
   "outputs": [
    {
     "data": {
      "image/png": "[encoded data removed]",
      "text/plain": [
       "<Figure size 432x288 with 1 Axes>"
      ]
     },
     "metadata": {
      "image/png": {
       "height": 277,
       "width": 384
      },
      "needs_background": "light"
     },
     "output_type": "display_data"
    }
   ],
   "source": [
    "temp = users_filtered[~users_filtered.age_recode.isna()].age_recode.apply(str).value_counts(normalize=True).to_frame().applymap(lambda x: x * 100).rename(index={'(24,34]': '[25,34]', '(34,44]': '[35,44]', '(44,54]': '[45,54]', '(54,64]': '[55,64]', '(64,80]': '[65,80]', 'nan': 'n/a'}).sort_index()\n",
    "ax = temp.plot.bar(legend=False, title='Age  Distribution', color='darkturquoise', ylim=(0, 27))\n",
    "ax.set_ylabel(\"%\")\n",
    "ax.set_xlabel(\"Age Groups\")\n",
    "ax.grid(color='lightgrey', linestyle='--', linewidth=.75, alpha=.3)\n",
    "ax.set_axisbelow(True)\n",
    "ax.tick_params(axis='x', labelrotation=0)\n",
    "\n",
    "for p in ax.patches:\n",
    "    ax.annotate(f'{p.get_height():.2f}%', (p.get_x() + p.get_width() / 4., p.get_height() + .5))"
   ]
  },
  {
   "cell_type": "code",
   "execution_count": null,
   "metadata": {},
   "outputs": [],
   "source": []
  }
 ],
 "metadata": {
  "kernelspec": {
   "display_name": "Python 3",
   "language": "python",
   "name": "python3"
  },
  "language_info": {
   "codemirror_mode": {
    "name": "ipython",
    "version": 3
   },
   "file_extension": ".py",
   "mimetype": "text/x-python",
   "name": "python",
   "nbconvert_exporter": "python",
   "pygments_lexer": "ipython3",
   "version": "3.7.4"
  },
  "toc": {
   "base_numbering": 1,
   "nav_menu": {},
   "number_sections": true,
   "sideBar": true,
   "skip_h1_title": false,
   "title_cell": "Table of Contents",
   "title_sidebar": "Contents",
   "toc_cell": false,
   "toc_position": {},
   "toc_section_display": true,
   "toc_window_display": true
  }
 },
 "nbformat": 4,
 "nbformat_minor": 2
}
